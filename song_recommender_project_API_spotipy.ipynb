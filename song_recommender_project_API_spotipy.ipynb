{
 "cells": [
  {
   "cell_type": "markdown",
   "id": "8a3c75c4",
   "metadata": {},
   "source": [
    "# Song Recommender - SpotiPy"
   ]
  },
  {
   "cell_type": "markdown",
   "id": "9acc596f",
   "metadata": {},
   "source": [
    "Purpose = extending the 2 dataframes top_100 and not_hot with audio features from spotify\n",
    "function :\n",
    "1. input = artist and song title --> return the song id, then create a list to store all the songs id's (limit to 1)\n",
    "2. input = list of songs-ids and then the function must return the audio features for every song (with a dictionnary)\n",
    "3. add_audio_featu : pick dataframe -> extend the original dataframe with song - title - audio features"
   ]
  },
  {
   "cell_type": "code",
   "execution_count": 194,
   "id": "eda49eb5",
   "metadata": {},
   "outputs": [],
   "source": [
    "from config import *\n",
    "import spotipy\n",
    "import json\n",
    "from spotipy.oauth2 import SpotifyClientCredentials\n",
    "import pandas as pd\n",
    "import numpy as np"
   ]
  },
  {
   "cell_type": "code",
   "execution_count": 135,
   "id": "8d31b056",
   "metadata": {},
   "outputs": [
    {
     "data": {
      "text/plain": [
       "(3640, 3)"
      ]
     },
     "execution_count": 135,
     "metadata": {},
     "output_type": "execute_result"
    }
   ],
   "source": [
    "not_hot = pd.read_csv('not_hot.csv')\n",
    "not_hot.shape"
   ]
  },
  {
   "cell_type": "code",
   "execution_count": 197,
   "id": "87b77eba",
   "metadata": {},
   "outputs": [
    {
     "data": {
      "text/plain": [
       "(33, 4)"
      ]
     },
     "execution_count": 197,
     "metadata": {},
     "output_type": "execute_result"
    }
   ],
   "source": [
    "# Creating a subset of this dataframe to try the functions we create while avoiding being blocked :\n",
    "# (if it works on the subset, we will apply it on the whole dataframe)\n",
    "not_hot_subset = not_hot.loc[0:50]\n",
    "not_hot_subset.shape"
   ]
  },
  {
   "cell_type": "code",
   "execution_count": 196,
   "id": "f665f47d",
   "metadata": {},
   "outputs": [
    {
     "data": {
      "text/html": [
       "<div>\n",
       "<style scoped>\n",
       "    .dataframe tbody tr th:only-of-type {\n",
       "        vertical-align: middle;\n",
       "    }\n",
       "\n",
       "    .dataframe tbody tr th {\n",
       "        vertical-align: top;\n",
       "    }\n",
       "\n",
       "    .dataframe thead th {\n",
       "        text-align: right;\n",
       "    }\n",
       "</style>\n",
       "<table border=\"1\" class=\"dataframe\">\n",
       "  <thead>\n",
       "    <tr style=\"text-align: right;\">\n",
       "      <th></th>\n",
       "      <th>Unnamed: 0</th>\n",
       "      <th>title</th>\n",
       "      <th>artist</th>\n",
       "    </tr>\n",
       "  </thead>\n",
       "  <tbody>\n",
       "    <tr>\n",
       "      <th>0</th>\n",
       "      <td>0</td>\n",
       "      <td>As It Was</td>\n",
       "      <td>Harry Styles</td>\n",
       "    </tr>\n",
       "    <tr>\n",
       "      <th>1</th>\n",
       "      <td>1</td>\n",
       "      <td>First Class</td>\n",
       "      <td>Jack Harlow</td>\n",
       "    </tr>\n",
       "    <tr>\n",
       "      <th>2</th>\n",
       "      <td>2</td>\n",
       "      <td>Wait For U</td>\n",
       "      <td>Future Featuring Drake &amp; Tems</td>\n",
       "    </tr>\n",
       "    <tr>\n",
       "      <th>3</th>\n",
       "      <td>3</td>\n",
       "      <td>Late Night Talking</td>\n",
       "      <td>Harry Styles</td>\n",
       "    </tr>\n",
       "    <tr>\n",
       "      <th>4</th>\n",
       "      <td>4</td>\n",
       "      <td>About Damn Time</td>\n",
       "      <td>Lizzo</td>\n",
       "    </tr>\n",
       "  </tbody>\n",
       "</table>\n",
       "</div>"
      ],
      "text/plain": [
       "   Unnamed: 0               title                         artist\n",
       "0           0           As It Was                   Harry Styles\n",
       "1           1         First Class                    Jack Harlow\n",
       "2           2          Wait For U  Future Featuring Drake & Tems\n",
       "3           3  Late Night Talking                   Harry Styles\n",
       "4           4     About Damn Time                          Lizzo"
      ]
     },
     "execution_count": 196,
     "metadata": {},
     "output_type": "execute_result"
    }
   ],
   "source": [
    "top_100 = pd.read_csv('top_100.csv')\n",
    "top_100.shape\n",
    "top_100.head()"
   ]
  },
  {
   "cell_type": "code",
   "execution_count": 195,
   "id": "d5100f27",
   "metadata": {},
   "outputs": [],
   "source": [
    "sp = spotipy.Spotify(auth_manager=SpotifyClientCredentials(client_id= client_id,\n",
    "                                                           client_secret= client_secret))"
   ]
  },
  {
   "cell_type": "code",
   "execution_count": 4,
   "id": "8f0d1036",
   "metadata": {},
   "outputs": [
    {
     "name": "stderr",
     "output_type": "stream",
     "text": [
      "UsageError: Line magic function `%writefile` not found (But cell magic `%%writefile` exists, did you mean that instead?).\n"
     ]
    }
   ],
   "source": [
    "# Creating search_song() function \n",
    "\n",
    "%writefile -a functions.py\n",
    "\n",
    "def search_song(df) :\n",
    "    song_ids = []\n",
    "    for i in range(len(df)) :\n",
    "        results = sp.search(q=\"track:\"+df['title'][i],limit=1)\n",
    "        results_size = len(results[\"tracks\"][\"items\"])\n",
    "        if results_size == 0:\n",
    "            song_ids.append(np.nan)\n",
    "        else:\n",
    "            if (results[\"tracks\"][\"items\"][0]['artists'][0]['name'] in df['artist'][i]) or (df['artist'][i] in results[\"tracks\"][\"items\"][0]['artists'][0]['name']):\n",
    "                song_id = results[\"tracks\"][\"items\"][0][\"id\"]\n",
    "                song_ids.append(song_id)\n",
    "            else :\n",
    "                song_ids.append(np.nan)\n",
    "    return song_ids"
   ]
  },
  {
   "cell_type": "code",
   "execution_count": 142,
   "id": "2fa49bc4",
   "metadata": {},
   "outputs": [
    {
     "data": {
      "text/plain": [
       "100"
      ]
     },
     "execution_count": 142,
     "metadata": {},
     "output_type": "execute_result"
    }
   ],
   "source": [
    "song_ids_top_100 = search_song(top_100)\n",
    "len(song_ids_top_100)"
   ]
  },
  {
   "cell_type": "code",
   "execution_count": 143,
   "id": "1fe850fb",
   "metadata": {},
   "outputs": [
    {
     "data": {
      "text/plain": [
       "96"
      ]
     },
     "execution_count": 143,
     "metadata": {},
     "output_type": "execute_result"
    }
   ],
   "source": [
    "# checking if ID's are not repeated :\n",
    "len(np.unique(np.array(song_ids_top_100)))"
   ]
  },
  {
   "cell_type": "code",
   "execution_count": 144,
   "id": "12cd02d3",
   "metadata": {},
   "outputs": [
    {
     "data": {
      "text/plain": [
       "51"
      ]
     },
     "execution_count": 144,
     "metadata": {},
     "output_type": "execute_result"
    }
   ],
   "source": [
    "# apply the function to the subset first\n",
    "song_ids_not_hot_subset = search_song(not_hot_subset)\n",
    "len(song_ids_not_hot_subset)"
   ]
  },
  {
   "cell_type": "code",
   "execution_count": 145,
   "id": "d8052520",
   "metadata": {},
   "outputs": [
    {
     "data": {
      "text/plain": [
       "34"
      ]
     },
     "execution_count": 145,
     "metadata": {},
     "output_type": "execute_result"
    }
   ],
   "source": [
    "len(np.unique(np.array(song_ids_not_hot_subset)))"
   ]
  },
  {
   "cell_type": "code",
   "execution_count": 164,
   "id": "54006813",
   "metadata": {},
   "outputs": [
    {
     "data": {
      "text/plain": [
       "3640"
      ]
     },
     "execution_count": 164,
     "metadata": {},
     "output_type": "execute_result"
    }
   ],
   "source": [
    "# apply the function to the whole dataframe :\n",
    "song_ids_not_hot = search_song(not_hot)\n",
    "len(song_ids_not_hot)"
   ]
  },
  {
   "cell_type": "code",
   "execution_count": 146,
   "id": "ba41dc3e",
   "metadata": {},
   "outputs": [
    {
     "data": {
      "text/html": [
       "<div>\n",
       "<style scoped>\n",
       "    .dataframe tbody tr th:only-of-type {\n",
       "        vertical-align: middle;\n",
       "    }\n",
       "\n",
       "    .dataframe tbody tr th {\n",
       "        vertical-align: top;\n",
       "    }\n",
       "\n",
       "    .dataframe thead th {\n",
       "        text-align: right;\n",
       "    }\n",
       "</style>\n",
       "<table border=\"1\" class=\"dataframe\">\n",
       "  <thead>\n",
       "    <tr style=\"text-align: right;\">\n",
       "      <th></th>\n",
       "      <th>Unnamed: 0</th>\n",
       "      <th>title</th>\n",
       "      <th>artist</th>\n",
       "      <th>id</th>\n",
       "    </tr>\n",
       "  </thead>\n",
       "  <tbody>\n",
       "    <tr>\n",
       "      <th>0</th>\n",
       "      <td>0</td>\n",
       "      <td>As It Was</td>\n",
       "      <td>Harry Styles</td>\n",
       "      <td>4LRPiXqCikLlN15c3yImP7</td>\n",
       "    </tr>\n",
       "    <tr>\n",
       "      <th>1</th>\n",
       "      <td>1</td>\n",
       "      <td>First Class</td>\n",
       "      <td>Jack Harlow</td>\n",
       "      <td>1rDQ4oMwGJI7B4tovsBOxc</td>\n",
       "    </tr>\n",
       "    <tr>\n",
       "      <th>2</th>\n",
       "      <td>2</td>\n",
       "      <td>Wait For U</td>\n",
       "      <td>Future Featuring Drake &amp; Tems</td>\n",
       "      <td>59nOXPmaKlBfGMDeOVGrIK</td>\n",
       "    </tr>\n",
       "    <tr>\n",
       "      <th>3</th>\n",
       "      <td>3</td>\n",
       "      <td>Late Night Talking</td>\n",
       "      <td>Harry Styles</td>\n",
       "      <td>1qEmFfgcLObUfQm0j1W2CK</td>\n",
       "    </tr>\n",
       "    <tr>\n",
       "      <th>4</th>\n",
       "      <td>4</td>\n",
       "      <td>About Damn Time</td>\n",
       "      <td>Lizzo</td>\n",
       "      <td>1PckUlxKqWQs3RlWXVBLw3</td>\n",
       "    </tr>\n",
       "  </tbody>\n",
       "</table>\n",
       "</div>"
      ],
      "text/plain": [
       "   Unnamed: 0               title                         artist  \\\n",
       "0           0           As It Was                   Harry Styles   \n",
       "1           1         First Class                    Jack Harlow   \n",
       "2           2          Wait For U  Future Featuring Drake & Tems   \n",
       "3           3  Late Night Talking                   Harry Styles   \n",
       "4           4     About Damn Time                          Lizzo   \n",
       "\n",
       "                       id  \n",
       "0  4LRPiXqCikLlN15c3yImP7  \n",
       "1  1rDQ4oMwGJI7B4tovsBOxc  \n",
       "2  59nOXPmaKlBfGMDeOVGrIK  \n",
       "3  1qEmFfgcLObUfQm0j1W2CK  \n",
       "4  1PckUlxKqWQs3RlWXVBLw3  "
      ]
     },
     "execution_count": 146,
     "metadata": {},
     "output_type": "execute_result"
    }
   ],
   "source": [
    "# Then add ID's to my original dataframes :\n",
    "top_100['id'] = song_ids_top_100\n",
    "top_100.head()"
   ]
  },
  {
   "cell_type": "code",
   "execution_count": 148,
   "id": "c6f290be",
   "metadata": {},
   "outputs": [
    {
     "name": "stderr",
     "output_type": "stream",
     "text": [
      "/var/folders/tk/75w8q4_s16n1_zv4jdmdlwhh0000gn/T/ipykernel_10923/402743033.py:2: SettingWithCopyWarning: \n",
      "A value is trying to be set on a copy of a slice from a DataFrame.\n",
      "Try using .loc[row_indexer,col_indexer] = value instead\n",
      "\n",
      "See the caveats in the documentation: https://pandas.pydata.org/pandas-docs/stable/user_guide/indexing.html#returning-a-view-versus-a-copy\n",
      "  not_hot_subset['id'] = song_ids_not_hot_subset\n"
     ]
    },
    {
     "data": {
      "text/html": [
       "<div>\n",
       "<style scoped>\n",
       "    .dataframe tbody tr th:only-of-type {\n",
       "        vertical-align: middle;\n",
       "    }\n",
       "\n",
       "    .dataframe tbody tr th {\n",
       "        vertical-align: top;\n",
       "    }\n",
       "\n",
       "    .dataframe thead th {\n",
       "        text-align: right;\n",
       "    }\n",
       "</style>\n",
       "<table border=\"1\" class=\"dataframe\">\n",
       "  <thead>\n",
       "    <tr style=\"text-align: right;\">\n",
       "      <th></th>\n",
       "      <th>Unnamed: 0</th>\n",
       "      <th>title</th>\n",
       "      <th>artist</th>\n",
       "      <th>id</th>\n",
       "    </tr>\n",
       "  </thead>\n",
       "  <tbody>\n",
       "    <tr>\n",
       "      <th>0</th>\n",
       "      <td>0</td>\n",
       "      <td>Oops!...I Did It Again</td>\n",
       "      <td>Britney Spears</td>\n",
       "      <td>6naxalmIoLFWR0siv8dnQQ</td>\n",
       "    </tr>\n",
       "    <tr>\n",
       "      <th>1</th>\n",
       "      <td>1</td>\n",
       "      <td>All The Small Things</td>\n",
       "      <td>blink-182</td>\n",
       "      <td>2m1hi0nfMR9vdGC8UcrnwU</td>\n",
       "    </tr>\n",
       "    <tr>\n",
       "      <th>2</th>\n",
       "      <td>2</td>\n",
       "      <td>Breathe</td>\n",
       "      <td>Faith Hill</td>\n",
       "      <td>NaN</td>\n",
       "    </tr>\n",
       "    <tr>\n",
       "      <th>3</th>\n",
       "      <td>3</td>\n",
       "      <td>It's My Life</td>\n",
       "      <td>Bon Jovi</td>\n",
       "      <td>0v1XpBHnsbkCn7iJ9Ucr1l</td>\n",
       "    </tr>\n",
       "    <tr>\n",
       "      <th>4</th>\n",
       "      <td>4</td>\n",
       "      <td>Bye Bye Bye</td>\n",
       "      <td>*NSYNC</td>\n",
       "      <td>62bOmKYxYg7dhrC6gH9vFn</td>\n",
       "    </tr>\n",
       "  </tbody>\n",
       "</table>\n",
       "</div>"
      ],
      "text/plain": [
       "   Unnamed: 0                   title          artist                      id\n",
       "0           0  Oops!...I Did It Again  Britney Spears  6naxalmIoLFWR0siv8dnQQ\n",
       "1           1    All The Small Things       blink-182  2m1hi0nfMR9vdGC8UcrnwU\n",
       "2           2                 Breathe      Faith Hill                     NaN\n",
       "3           3            It's My Life        Bon Jovi  0v1XpBHnsbkCn7iJ9Ucr1l\n",
       "4           4             Bye Bye Bye          *NSYNC  62bOmKYxYg7dhrC6gH9vFn"
      ]
     },
     "execution_count": 148,
     "metadata": {},
     "output_type": "execute_result"
    }
   ],
   "source": [
    "# Same with subset :\n",
    "not_hot_subset['id'] = song_ids_not_hot_subset\n",
    "not_hot_subset.head()"
   ]
  },
  {
   "cell_type": "code",
   "execution_count": 165,
   "id": "930e02b0",
   "metadata": {},
   "outputs": [
    {
     "data": {
      "text/html": [
       "<div>\n",
       "<style scoped>\n",
       "    .dataframe tbody tr th:only-of-type {\n",
       "        vertical-align: middle;\n",
       "    }\n",
       "\n",
       "    .dataframe tbody tr th {\n",
       "        vertical-align: top;\n",
       "    }\n",
       "\n",
       "    .dataframe thead th {\n",
       "        text-align: right;\n",
       "    }\n",
       "</style>\n",
       "<table border=\"1\" class=\"dataframe\">\n",
       "  <thead>\n",
       "    <tr style=\"text-align: right;\">\n",
       "      <th></th>\n",
       "      <th>Unnamed: 0</th>\n",
       "      <th>title</th>\n",
       "      <th>artist</th>\n",
       "      <th>id</th>\n",
       "    </tr>\n",
       "  </thead>\n",
       "  <tbody>\n",
       "    <tr>\n",
       "      <th>0</th>\n",
       "      <td>0</td>\n",
       "      <td>Oops!...I Did It Again</td>\n",
       "      <td>Britney Spears</td>\n",
       "      <td>6naxalmIoLFWR0siv8dnQQ</td>\n",
       "    </tr>\n",
       "    <tr>\n",
       "      <th>1</th>\n",
       "      <td>1</td>\n",
       "      <td>All The Small Things</td>\n",
       "      <td>blink-182</td>\n",
       "      <td>2m1hi0nfMR9vdGC8UcrnwU</td>\n",
       "    </tr>\n",
       "    <tr>\n",
       "      <th>2</th>\n",
       "      <td>2</td>\n",
       "      <td>Breathe</td>\n",
       "      <td>Faith Hill</td>\n",
       "      <td>NaN</td>\n",
       "    </tr>\n",
       "    <tr>\n",
       "      <th>3</th>\n",
       "      <td>3</td>\n",
       "      <td>It's My Life</td>\n",
       "      <td>Bon Jovi</td>\n",
       "      <td>0v1XpBHnsbkCn7iJ9Ucr1l</td>\n",
       "    </tr>\n",
       "    <tr>\n",
       "      <th>4</th>\n",
       "      <td>4</td>\n",
       "      <td>Bye Bye Bye</td>\n",
       "      <td>*NSYNC</td>\n",
       "      <td>62bOmKYxYg7dhrC6gH9vFn</td>\n",
       "    </tr>\n",
       "  </tbody>\n",
       "</table>\n",
       "</div>"
      ],
      "text/plain": [
       "   Unnamed: 0                   title          artist                      id\n",
       "0           0  Oops!...I Did It Again  Britney Spears  6naxalmIoLFWR0siv8dnQQ\n",
       "1           1    All The Small Things       blink-182  2m1hi0nfMR9vdGC8UcrnwU\n",
       "2           2                 Breathe      Faith Hill                     NaN\n",
       "3           3            It's My Life        Bon Jovi  0v1XpBHnsbkCn7iJ9Ucr1l\n",
       "4           4             Bye Bye Bye          *NSYNC  62bOmKYxYg7dhrC6gH9vFn"
      ]
     },
     "execution_count": 165,
     "metadata": {},
     "output_type": "execute_result"
    }
   ],
   "source": [
    "# And finally with the full dataframe :\n",
    "not_hot['id'] = song_ids_not_hot\n",
    "not_hot.head()"
   ]
  },
  {
   "cell_type": "code",
   "execution_count": 150,
   "id": "bbec97a6",
   "metadata": {},
   "outputs": [
    {
     "data": {
      "text/plain": [
       "Unnamed: 0    0\n",
       "title         0\n",
       "artist        0\n",
       "id            5\n",
       "dtype: int64"
      ]
     },
     "execution_count": 150,
     "metadata": {},
     "output_type": "execute_result"
    }
   ],
   "source": [
    "# Now I need to drop NaN's to be able to continue with audio features :\n",
    "# for top_100 :\n",
    "top_100.isna().sum()"
   ]
  },
  {
   "cell_type": "code",
   "execution_count": 151,
   "id": "9698e9b2",
   "metadata": {},
   "outputs": [
    {
     "data": {
      "text/plain": [
       "Unnamed: 0    0\n",
       "title         0\n",
       "artist        0\n",
       "id            0\n",
       "dtype: int64"
      ]
     },
     "execution_count": 151,
     "metadata": {},
     "output_type": "execute_result"
    }
   ],
   "source": [
    "top_100 = top_100[top_100['id'].isna()==False]\n",
    "top_100.isna().sum()"
   ]
  },
  {
   "cell_type": "code",
   "execution_count": 152,
   "id": "c0fa2d0b",
   "metadata": {},
   "outputs": [
    {
     "data": {
      "text/plain": [
       "Unnamed: 0     0\n",
       "title          0\n",
       "artist         0\n",
       "id            18\n",
       "dtype: int64"
      ]
     },
     "execution_count": 152,
     "metadata": {},
     "output_type": "execute_result"
    }
   ],
   "source": [
    "# for subset :\n",
    "not_hot_subset.isna().sum()"
   ]
  },
  {
   "cell_type": "code",
   "execution_count": 153,
   "id": "2b443e2f",
   "metadata": {},
   "outputs": [
    {
     "data": {
      "text/plain": [
       "Unnamed: 0    0\n",
       "title         0\n",
       "artist        0\n",
       "id            0\n",
       "dtype: int64"
      ]
     },
     "execution_count": 153,
     "metadata": {},
     "output_type": "execute_result"
    }
   ],
   "source": [
    "not_hot_subset = not_hot_subset[not_hot_subset['id'].isna()==False]\n",
    "not_hot_subset.isna().sum()"
   ]
  },
  {
   "cell_type": "code",
   "execution_count": 166,
   "id": "122b8054",
   "metadata": {},
   "outputs": [
    {
     "data": {
      "text/plain": [
       "Unnamed: 0       0\n",
       "title            0\n",
       "artist           0\n",
       "id            1084\n",
       "dtype: int64"
      ]
     },
     "execution_count": 166,
     "metadata": {},
     "output_type": "execute_result"
    }
   ],
   "source": [
    "# for not_hot :\n",
    "not_hot.isna().sum()"
   ]
  },
  {
   "cell_type": "code",
   "execution_count": 167,
   "id": "77fc824b",
   "metadata": {},
   "outputs": [
    {
     "data": {
      "text/plain": [
       "Unnamed: 0    0\n",
       "title         0\n",
       "artist        0\n",
       "id            0\n",
       "dtype: int64"
      ]
     },
     "execution_count": 167,
     "metadata": {},
     "output_type": "execute_result"
    }
   ],
   "source": [
    "not_hot = not_hot[not_hot['id'].isna()==False]\n",
    "not_hot.isna().sum()"
   ]
  },
  {
   "cell_type": "code",
   "execution_count": 118,
   "id": "b4de7a0b",
   "metadata": {},
   "outputs": [
    {
     "data": {
      "text/plain": [
       "{'danceability': [0.751, 2],\n",
       " 'energy': [0.834, 2],\n",
       " 'key': [1, 2],\n",
       " 'loudness': [-5.444, 2],\n",
       " 'mode': [0, 2],\n",
       " 'speechiness': [0.0437, 2],\n",
       " 'acousticness': [0.3, 2],\n",
       " 'instrumentalness': [1.77e-05, 2],\n",
       " 'liveness': [0.355, 2],\n",
       " 'valence': [0.894, 2],\n",
       " 'tempo': [95.053, 2],\n",
       " 'type': ['audio_features', 2],\n",
       " 'id': ['6naxalmIoLFWR0siv8dnQQ', 2],\n",
       " 'uri': ['spotify:track:6naxalmIoLFWR0siv8dnQQ', 2],\n",
       " 'track_href': ['https://api.spotify.com/v1/tracks/6naxalmIoLFWR0siv8dnQQ', 2],\n",
       " 'analysis_url': ['https://api.spotify.com/v1/audio-analysis/6naxalmIoLFWR0siv8dnQQ',\n",
       "  2],\n",
       " 'duration_ms': [211160, 2],\n",
       " 'time_signature': [4, 2]}"
      ]
     },
     "execution_count": 118,
     "metadata": {},
     "output_type": "execute_result"
    }
   ],
   "source": [
    "# trying with one row:\n",
    "\n",
    "#mydict = sp.audio_features(song_ids_not_hot_subset)[0]\n",
    "#mydict\n",
    "#new_dict = {key : [mydict[key]] for key in list(mydict.keys())}\n",
    "#for key in new_dict :\n",
    "    #new_dict[key].append(2)\n",
    "    \n",
    "#new_dict\n",
    "#new_dict['danceability'].append(2)\n",
    "#new_dict['danceability'][0]\n",
    "\n",
    "#pd.DataFrame(new_dict)\n",
    "\n"
   ]
  },
  {
   "cell_type": "code",
   "execution_count": 198,
   "id": "206f4cf5",
   "metadata": {},
   "outputs": [],
   "source": [
    "# Creating the get_audio_features(list_of_songs) function and concatenating the dataframes :\n",
    "\n",
    "from time import sleep\n",
    "from random import randint\n",
    "\n",
    "def get_audio_features(df_input) : \n",
    "    list_of_songs = df_input['id']\n",
    "    empty_dict = {'danceability': [],'energy': [],'key': [],'loudness': [],'mode': [],'speechiness': [],'acousticness': [],\n",
    "                  'instrumentalness': [],'liveness': [],'valence': [],'tempo': [],'type': [],'id': [],'uri': [],'track_href': [],\n",
    "                  'analysis_url': [],'duration_ms': [],'time_signature': []}\n",
    "    for i in range(len(list_of_songs)) :\n",
    "        audio_features_dict = sp.audio_features(list_of_songs)[i]\n",
    "        audio_features_final = {key : [audio_features_dict[key]] for key in list(audio_features_dict.keys())}\n",
    "        for key in empty_dict :\n",
    "            empty_dict[key].append(audio_features_final[key][0])\n",
    "        wait_time = randint(3,6)\n",
    "        sleep(wait_time)\n",
    "        \n",
    "    audio_features_df = pd.DataFrame(empty_dict)\n",
    "    return pd.concat([df_input.reset_index(drop = True), audio_features_df.reset_index(drop = True)], axis=1)"
   ]
  },
  {
   "cell_type": "code",
   "execution_count": 160,
   "id": "a3f15bd6",
   "metadata": {},
   "outputs": [
    {
     "data": {
      "text/html": [
       "<div>\n",
       "<style scoped>\n",
       "    .dataframe tbody tr th:only-of-type {\n",
       "        vertical-align: middle;\n",
       "    }\n",
       "\n",
       "    .dataframe tbody tr th {\n",
       "        vertical-align: top;\n",
       "    }\n",
       "\n",
       "    .dataframe thead th {\n",
       "        text-align: right;\n",
       "    }\n",
       "</style>\n",
       "<table border=\"1\" class=\"dataframe\">\n",
       "  <thead>\n",
       "    <tr style=\"text-align: right;\">\n",
       "      <th></th>\n",
       "      <th>Unnamed: 0</th>\n",
       "      <th>title</th>\n",
       "      <th>artist</th>\n",
       "      <th>id</th>\n",
       "      <th>danceability</th>\n",
       "      <th>energy</th>\n",
       "      <th>key</th>\n",
       "      <th>loudness</th>\n",
       "      <th>mode</th>\n",
       "      <th>speechiness</th>\n",
       "      <th>...</th>\n",
       "      <th>liveness</th>\n",
       "      <th>valence</th>\n",
       "      <th>tempo</th>\n",
       "      <th>type</th>\n",
       "      <th>id</th>\n",
       "      <th>uri</th>\n",
       "      <th>track_href</th>\n",
       "      <th>analysis_url</th>\n",
       "      <th>duration_ms</th>\n",
       "      <th>time_signature</th>\n",
       "    </tr>\n",
       "  </thead>\n",
       "  <tbody>\n",
       "    <tr>\n",
       "      <th>90</th>\n",
       "      <td>95</td>\n",
       "      <td>Otro Atardecer</td>\n",
       "      <td>Bad Bunny &amp; The Marias</td>\n",
       "      <td>0E0DRHf5PfMeor0ZCwB3oT</td>\n",
       "      <td>0.777</td>\n",
       "      <td>0.595</td>\n",
       "      <td>2</td>\n",
       "      <td>-6.790</td>\n",
       "      <td>1</td>\n",
       "      <td>0.0375</td>\n",
       "      <td>...</td>\n",
       "      <td>0.0669</td>\n",
       "      <td>0.546</td>\n",
       "      <td>108.020</td>\n",
       "      <td>audio_features</td>\n",
       "      <td>0E0DRHf5PfMeor0ZCwB3oT</td>\n",
       "      <td>spotify:track:0E0DRHf5PfMeor0ZCwB3oT</td>\n",
       "      <td>https://api.spotify.com/v1/tracks/0E0DRHf5PfMe...</td>\n",
       "      <td>https://api.spotify.com/v1/audio-analysis/0E0D...</td>\n",
       "      <td>244444</td>\n",
       "      <td>4</td>\n",
       "    </tr>\n",
       "    <tr>\n",
       "      <th>91</th>\n",
       "      <td>96</td>\n",
       "      <td>We Cry Together</td>\n",
       "      <td>Kendrick Lamar &amp; Taylour Paige</td>\n",
       "      <td>67XC51nlZncNpHmZ8rOU9a</td>\n",
       "      <td>0.648</td>\n",
       "      <td>0.680</td>\n",
       "      <td>11</td>\n",
       "      <td>-7.276</td>\n",
       "      <td>1</td>\n",
       "      <td>0.3450</td>\n",
       "      <td>...</td>\n",
       "      <td>0.0808</td>\n",
       "      <td>0.504</td>\n",
       "      <td>106.890</td>\n",
       "      <td>audio_features</td>\n",
       "      <td>67XC51nlZncNpHmZ8rOU9a</td>\n",
       "      <td>spotify:track:67XC51nlZncNpHmZ8rOU9a</td>\n",
       "      <td>https://api.spotify.com/v1/tracks/67XC51nlZncN...</td>\n",
       "      <td>https://api.spotify.com/v1/audio-analysis/67XC...</td>\n",
       "      <td>341307</td>\n",
       "      <td>3</td>\n",
       "    </tr>\n",
       "    <tr>\n",
       "      <th>92</th>\n",
       "      <td>97</td>\n",
       "      <td>Dos Mil 16</td>\n",
       "      <td>Bad Bunny</td>\n",
       "      <td>4d4ZXH4dr5bYfgErHiZCX2</td>\n",
       "      <td>0.817</td>\n",
       "      <td>0.670</td>\n",
       "      <td>1</td>\n",
       "      <td>-6.534</td>\n",
       "      <td>1</td>\n",
       "      <td>0.0506</td>\n",
       "      <td>...</td>\n",
       "      <td>0.1280</td>\n",
       "      <td>0.495</td>\n",
       "      <td>130.058</td>\n",
       "      <td>audio_features</td>\n",
       "      <td>4d4ZXH4dr5bYfgErHiZCX2</td>\n",
       "      <td>spotify:track:4d4ZXH4dr5bYfgErHiZCX2</td>\n",
       "      <td>https://api.spotify.com/v1/tracks/4d4ZXH4dr5bY...</td>\n",
       "      <td>https://api.spotify.com/v1/audio-analysis/4d4Z...</td>\n",
       "      <td>208615</td>\n",
       "      <td>3</td>\n",
       "    </tr>\n",
       "    <tr>\n",
       "      <th>93</th>\n",
       "      <td>98</td>\n",
       "      <td>DFMU</td>\n",
       "      <td>Ella Mai</td>\n",
       "      <td>1bdm32mVmoGcek5bVKxQKd</td>\n",
       "      <td>0.708</td>\n",
       "      <td>0.673</td>\n",
       "      <td>6</td>\n",
       "      <td>-4.163</td>\n",
       "      <td>1</td>\n",
       "      <td>0.0585</td>\n",
       "      <td>...</td>\n",
       "      <td>0.1030</td>\n",
       "      <td>0.311</td>\n",
       "      <td>136.969</td>\n",
       "      <td>audio_features</td>\n",
       "      <td>1bdm32mVmoGcek5bVKxQKd</td>\n",
       "      <td>spotify:track:1bdm32mVmoGcek5bVKxQKd</td>\n",
       "      <td>https://api.spotify.com/v1/tracks/1bdm32mVmoGc...</td>\n",
       "      <td>https://api.spotify.com/v1/audio-analysis/1bdm...</td>\n",
       "      <td>197520</td>\n",
       "      <td>4</td>\n",
       "    </tr>\n",
       "    <tr>\n",
       "      <th>94</th>\n",
       "      <td>99</td>\n",
       "      <td>Hate Our Love</td>\n",
       "      <td>Queen Naija &amp; Big Sean</td>\n",
       "      <td>3pEINn37iH5fx8TpXYNGIO</td>\n",
       "      <td>0.662</td>\n",
       "      <td>0.655</td>\n",
       "      <td>2</td>\n",
       "      <td>-5.440</td>\n",
       "      <td>1</td>\n",
       "      <td>0.2600</td>\n",
       "      <td>...</td>\n",
       "      <td>0.1240</td>\n",
       "      <td>0.356</td>\n",
       "      <td>82.079</td>\n",
       "      <td>audio_features</td>\n",
       "      <td>3pEINn37iH5fx8TpXYNGIO</td>\n",
       "      <td>spotify:track:3pEINn37iH5fx8TpXYNGIO</td>\n",
       "      <td>https://api.spotify.com/v1/tracks/3pEINn37iH5f...</td>\n",
       "      <td>https://api.spotify.com/v1/audio-analysis/3pEI...</td>\n",
       "      <td>226374</td>\n",
       "      <td>4</td>\n",
       "    </tr>\n",
       "  </tbody>\n",
       "</table>\n",
       "<p>5 rows × 22 columns</p>\n",
       "</div>"
      ],
      "text/plain": [
       "    Unnamed: 0            title                          artist  \\\n",
       "90          95   Otro Atardecer          Bad Bunny & The Marias   \n",
       "91          96  We Cry Together  Kendrick Lamar & Taylour Paige   \n",
       "92          97       Dos Mil 16                       Bad Bunny   \n",
       "93          98             DFMU                        Ella Mai   \n",
       "94          99    Hate Our Love          Queen Naija & Big Sean   \n",
       "\n",
       "                        id  danceability  energy  key  loudness  mode  \\\n",
       "90  0E0DRHf5PfMeor0ZCwB3oT         0.777   0.595    2    -6.790     1   \n",
       "91  67XC51nlZncNpHmZ8rOU9a         0.648   0.680   11    -7.276     1   \n",
       "92  4d4ZXH4dr5bYfgErHiZCX2         0.817   0.670    1    -6.534     1   \n",
       "93  1bdm32mVmoGcek5bVKxQKd         0.708   0.673    6    -4.163     1   \n",
       "94  3pEINn37iH5fx8TpXYNGIO         0.662   0.655    2    -5.440     1   \n",
       "\n",
       "    speechiness  ...  liveness  valence    tempo            type  \\\n",
       "90       0.0375  ...    0.0669    0.546  108.020  audio_features   \n",
       "91       0.3450  ...    0.0808    0.504  106.890  audio_features   \n",
       "92       0.0506  ...    0.1280    0.495  130.058  audio_features   \n",
       "93       0.0585  ...    0.1030    0.311  136.969  audio_features   \n",
       "94       0.2600  ...    0.1240    0.356   82.079  audio_features   \n",
       "\n",
       "                        id                                   uri  \\\n",
       "90  0E0DRHf5PfMeor0ZCwB3oT  spotify:track:0E0DRHf5PfMeor0ZCwB3oT   \n",
       "91  67XC51nlZncNpHmZ8rOU9a  spotify:track:67XC51nlZncNpHmZ8rOU9a   \n",
       "92  4d4ZXH4dr5bYfgErHiZCX2  spotify:track:4d4ZXH4dr5bYfgErHiZCX2   \n",
       "93  1bdm32mVmoGcek5bVKxQKd  spotify:track:1bdm32mVmoGcek5bVKxQKd   \n",
       "94  3pEINn37iH5fx8TpXYNGIO  spotify:track:3pEINn37iH5fx8TpXYNGIO   \n",
       "\n",
       "                                           track_href  \\\n",
       "90  https://api.spotify.com/v1/tracks/0E0DRHf5PfMe...   \n",
       "91  https://api.spotify.com/v1/tracks/67XC51nlZncN...   \n",
       "92  https://api.spotify.com/v1/tracks/4d4ZXH4dr5bY...   \n",
       "93  https://api.spotify.com/v1/tracks/1bdm32mVmoGc...   \n",
       "94  https://api.spotify.com/v1/tracks/3pEINn37iH5f...   \n",
       "\n",
       "                                         analysis_url duration_ms  \\\n",
       "90  https://api.spotify.com/v1/audio-analysis/0E0D...      244444   \n",
       "91  https://api.spotify.com/v1/audio-analysis/67XC...      341307   \n",
       "92  https://api.spotify.com/v1/audio-analysis/4d4Z...      208615   \n",
       "93  https://api.spotify.com/v1/audio-analysis/1bdm...      197520   \n",
       "94  https://api.spotify.com/v1/audio-analysis/3pEI...      226374   \n",
       "\n",
       "   time_signature  \n",
       "90              4  \n",
       "91              3  \n",
       "92              3  \n",
       "93              4  \n",
       "94              4  \n",
       "\n",
       "[5 rows x 22 columns]"
      ]
     },
     "execution_count": 160,
     "metadata": {},
     "output_type": "execute_result"
    }
   ],
   "source": [
    "# Let's first try with the top_100 df \n",
    "\n",
    "top_100_audio_feat = get_audio_features(top_100)\n",
    "top_100_audio_feat.tail()"
   ]
  },
  {
   "cell_type": "code",
   "execution_count": 161,
   "id": "005c45d5",
   "metadata": {},
   "outputs": [
    {
     "data": {
      "text/html": [
       "<div>\n",
       "<style scoped>\n",
       "    .dataframe tbody tr th:only-of-type {\n",
       "        vertical-align: middle;\n",
       "    }\n",
       "\n",
       "    .dataframe tbody tr th {\n",
       "        vertical-align: top;\n",
       "    }\n",
       "\n",
       "    .dataframe thead th {\n",
       "        text-align: right;\n",
       "    }\n",
       "</style>\n",
       "<table border=\"1\" class=\"dataframe\">\n",
       "  <thead>\n",
       "    <tr style=\"text-align: right;\">\n",
       "      <th></th>\n",
       "      <th>Unnamed: 0</th>\n",
       "      <th>title</th>\n",
       "      <th>artist</th>\n",
       "      <th>id</th>\n",
       "      <th>danceability</th>\n",
       "      <th>energy</th>\n",
       "      <th>key</th>\n",
       "      <th>loudness</th>\n",
       "      <th>mode</th>\n",
       "      <th>speechiness</th>\n",
       "      <th>...</th>\n",
       "      <th>liveness</th>\n",
       "      <th>valence</th>\n",
       "      <th>tempo</th>\n",
       "      <th>type</th>\n",
       "      <th>id</th>\n",
       "      <th>uri</th>\n",
       "      <th>track_href</th>\n",
       "      <th>analysis_url</th>\n",
       "      <th>duration_ms</th>\n",
       "      <th>time_signature</th>\n",
       "    </tr>\n",
       "  </thead>\n",
       "  <tbody>\n",
       "    <tr>\n",
       "      <th>0</th>\n",
       "      <td>0</td>\n",
       "      <td>Oops!...I Did It Again</td>\n",
       "      <td>Britney Spears</td>\n",
       "      <td>6naxalmIoLFWR0siv8dnQQ</td>\n",
       "      <td>0.751</td>\n",
       "      <td>0.834</td>\n",
       "      <td>1</td>\n",
       "      <td>-5.444</td>\n",
       "      <td>0</td>\n",
       "      <td>0.0437</td>\n",
       "      <td>...</td>\n",
       "      <td>0.3550</td>\n",
       "      <td>0.894</td>\n",
       "      <td>95.053</td>\n",
       "      <td>audio_features</td>\n",
       "      <td>6naxalmIoLFWR0siv8dnQQ</td>\n",
       "      <td>spotify:track:6naxalmIoLFWR0siv8dnQQ</td>\n",
       "      <td>https://api.spotify.com/v1/tracks/6naxalmIoLFW...</td>\n",
       "      <td>https://api.spotify.com/v1/audio-analysis/6nax...</td>\n",
       "      <td>211160</td>\n",
       "      <td>4</td>\n",
       "    </tr>\n",
       "    <tr>\n",
       "      <th>1</th>\n",
       "      <td>1</td>\n",
       "      <td>All The Small Things</td>\n",
       "      <td>blink-182</td>\n",
       "      <td>2m1hi0nfMR9vdGC8UcrnwU</td>\n",
       "      <td>0.434</td>\n",
       "      <td>0.897</td>\n",
       "      <td>0</td>\n",
       "      <td>-4.918</td>\n",
       "      <td>1</td>\n",
       "      <td>0.0488</td>\n",
       "      <td>...</td>\n",
       "      <td>0.6120</td>\n",
       "      <td>0.684</td>\n",
       "      <td>148.726</td>\n",
       "      <td>audio_features</td>\n",
       "      <td>2m1hi0nfMR9vdGC8UcrnwU</td>\n",
       "      <td>spotify:track:2m1hi0nfMR9vdGC8UcrnwU</td>\n",
       "      <td>https://api.spotify.com/v1/tracks/2m1hi0nfMR9v...</td>\n",
       "      <td>https://api.spotify.com/v1/audio-analysis/2m1h...</td>\n",
       "      <td>167067</td>\n",
       "      <td>4</td>\n",
       "    </tr>\n",
       "    <tr>\n",
       "      <th>2</th>\n",
       "      <td>3</td>\n",
       "      <td>It's My Life</td>\n",
       "      <td>Bon Jovi</td>\n",
       "      <td>0v1XpBHnsbkCn7iJ9Ucr1l</td>\n",
       "      <td>0.551</td>\n",
       "      <td>0.913</td>\n",
       "      <td>0</td>\n",
       "      <td>-4.063</td>\n",
       "      <td>0</td>\n",
       "      <td>0.0466</td>\n",
       "      <td>...</td>\n",
       "      <td>0.3470</td>\n",
       "      <td>0.544</td>\n",
       "      <td>119.992</td>\n",
       "      <td>audio_features</td>\n",
       "      <td>0v1XpBHnsbkCn7iJ9Ucr1l</td>\n",
       "      <td>spotify:track:0v1XpBHnsbkCn7iJ9Ucr1l</td>\n",
       "      <td>https://api.spotify.com/v1/tracks/0v1XpBHnsbkC...</td>\n",
       "      <td>https://api.spotify.com/v1/audio-analysis/0v1X...</td>\n",
       "      <td>224493</td>\n",
       "      <td>4</td>\n",
       "    </tr>\n",
       "    <tr>\n",
       "      <th>3</th>\n",
       "      <td>4</td>\n",
       "      <td>Bye Bye Bye</td>\n",
       "      <td>*NSYNC</td>\n",
       "      <td>62bOmKYxYg7dhrC6gH9vFn</td>\n",
       "      <td>0.610</td>\n",
       "      <td>0.926</td>\n",
       "      <td>8</td>\n",
       "      <td>-4.843</td>\n",
       "      <td>0</td>\n",
       "      <td>0.0479</td>\n",
       "      <td>...</td>\n",
       "      <td>0.0821</td>\n",
       "      <td>0.861</td>\n",
       "      <td>172.638</td>\n",
       "      <td>audio_features</td>\n",
       "      <td>62bOmKYxYg7dhrC6gH9vFn</td>\n",
       "      <td>spotify:track:62bOmKYxYg7dhrC6gH9vFn</td>\n",
       "      <td>https://api.spotify.com/v1/tracks/62bOmKYxYg7d...</td>\n",
       "      <td>https://api.spotify.com/v1/audio-analysis/62bO...</td>\n",
       "      <td>200400</td>\n",
       "      <td>4</td>\n",
       "    </tr>\n",
       "    <tr>\n",
       "      <th>4</th>\n",
       "      <td>5</td>\n",
       "      <td>Thong Song</td>\n",
       "      <td>Sisqo</td>\n",
       "      <td>5Mmk2ii6laakqfeCT7OnVD</td>\n",
       "      <td>0.706</td>\n",
       "      <td>0.888</td>\n",
       "      <td>2</td>\n",
       "      <td>-6.959</td>\n",
       "      <td>1</td>\n",
       "      <td>0.0654</td>\n",
       "      <td>...</td>\n",
       "      <td>0.0700</td>\n",
       "      <td>0.714</td>\n",
       "      <td>121.549</td>\n",
       "      <td>audio_features</td>\n",
       "      <td>5Mmk2ii6laakqfeCT7OnVD</td>\n",
       "      <td>spotify:track:5Mmk2ii6laakqfeCT7OnVD</td>\n",
       "      <td>https://api.spotify.com/v1/tracks/5Mmk2ii6laak...</td>\n",
       "      <td>https://api.spotify.com/v1/audio-analysis/5Mmk...</td>\n",
       "      <td>253733</td>\n",
       "      <td>4</td>\n",
       "    </tr>\n",
       "  </tbody>\n",
       "</table>\n",
       "<p>5 rows × 22 columns</p>\n",
       "</div>"
      ],
      "text/plain": [
       "   Unnamed: 0                   title          artist                      id  \\\n",
       "0           0  Oops!...I Did It Again  Britney Spears  6naxalmIoLFWR0siv8dnQQ   \n",
       "1           1    All The Small Things       blink-182  2m1hi0nfMR9vdGC8UcrnwU   \n",
       "2           3            It's My Life        Bon Jovi  0v1XpBHnsbkCn7iJ9Ucr1l   \n",
       "3           4             Bye Bye Bye          *NSYNC  62bOmKYxYg7dhrC6gH9vFn   \n",
       "4           5              Thong Song           Sisqo  5Mmk2ii6laakqfeCT7OnVD   \n",
       "\n",
       "   danceability  energy  key  loudness  mode  speechiness  ...  liveness  \\\n",
       "0         0.751   0.834    1    -5.444     0       0.0437  ...    0.3550   \n",
       "1         0.434   0.897    0    -4.918     1       0.0488  ...    0.6120   \n",
       "2         0.551   0.913    0    -4.063     0       0.0466  ...    0.3470   \n",
       "3         0.610   0.926    8    -4.843     0       0.0479  ...    0.0821   \n",
       "4         0.706   0.888    2    -6.959     1       0.0654  ...    0.0700   \n",
       "\n",
       "   valence    tempo            type                      id  \\\n",
       "0    0.894   95.053  audio_features  6naxalmIoLFWR0siv8dnQQ   \n",
       "1    0.684  148.726  audio_features  2m1hi0nfMR9vdGC8UcrnwU   \n",
       "2    0.544  119.992  audio_features  0v1XpBHnsbkCn7iJ9Ucr1l   \n",
       "3    0.861  172.638  audio_features  62bOmKYxYg7dhrC6gH9vFn   \n",
       "4    0.714  121.549  audio_features  5Mmk2ii6laakqfeCT7OnVD   \n",
       "\n",
       "                                    uri  \\\n",
       "0  spotify:track:6naxalmIoLFWR0siv8dnQQ   \n",
       "1  spotify:track:2m1hi0nfMR9vdGC8UcrnwU   \n",
       "2  spotify:track:0v1XpBHnsbkCn7iJ9Ucr1l   \n",
       "3  spotify:track:62bOmKYxYg7dhrC6gH9vFn   \n",
       "4  spotify:track:5Mmk2ii6laakqfeCT7OnVD   \n",
       "\n",
       "                                          track_href  \\\n",
       "0  https://api.spotify.com/v1/tracks/6naxalmIoLFW...   \n",
       "1  https://api.spotify.com/v1/tracks/2m1hi0nfMR9v...   \n",
       "2  https://api.spotify.com/v1/tracks/0v1XpBHnsbkC...   \n",
       "3  https://api.spotify.com/v1/tracks/62bOmKYxYg7d...   \n",
       "4  https://api.spotify.com/v1/tracks/5Mmk2ii6laak...   \n",
       "\n",
       "                                        analysis_url duration_ms  \\\n",
       "0  https://api.spotify.com/v1/audio-analysis/6nax...      211160   \n",
       "1  https://api.spotify.com/v1/audio-analysis/2m1h...      167067   \n",
       "2  https://api.spotify.com/v1/audio-analysis/0v1X...      224493   \n",
       "3  https://api.spotify.com/v1/audio-analysis/62bO...      200400   \n",
       "4  https://api.spotify.com/v1/audio-analysis/5Mmk...      253733   \n",
       "\n",
       "  time_signature  \n",
       "0              4  \n",
       "1              4  \n",
       "2              4  \n",
       "3              4  \n",
       "4              4  \n",
       "\n",
       "[5 rows x 22 columns]"
      ]
     },
     "execution_count": 161,
     "metadata": {},
     "output_type": "execute_result"
    }
   ],
   "source": [
    "# With the subset :\n",
    "not_hot_subset_audio_feat = get_audio_features(not_hot_subset)\n",
    "not_hot_subset_audio_feat.head()"
   ]
  },
  {
   "cell_type": "code",
   "execution_count": 192,
   "id": "b9e98c89",
   "metadata": {},
   "outputs": [],
   "source": [
    "# With not_hot df : I need to slice it because it's too long to run, I get an error !\n",
    "#not_hot.shape # 2556 rows\n",
    "not_hot1 = not_hot.loc[:1000] # 662 rows\n",
    "not_hot2 = not_hot.loc[1001:2000] # 776 rows\n",
    "not_hot3 = not_hot.loc[2001:3001] # 653 rows\n",
    "not_hot4 = not_hot.loc[3001:3700]"
   ]
  },
  {
   "cell_type": "code",
   "execution_count": 200,
   "id": "d25c1983",
   "metadata": {},
   "outputs": [
    {
     "name": "stderr",
     "output_type": "stream",
     "text": [
      "Max Retries reached\n"
     ]
    },
    {
     "ename": "SpotifyException",
     "evalue": "http status: 429, code:-1 - /v1/audio-features/?ids=6naxalmIoLFWR0siv8dnQQ,2m1hi0nfMR9vdGC8UcrnwU,0v1XpBHnsbkCn7iJ9Ucr1l,62bOmKYxYg7dhrC6gH9vFn,5Mmk2ii6laakqfeCT7OnVD,3yfqSUWxFvZELEM4PmlwIR,7H6ev70Weq6DdpZyyTmUXk,49X0LAl6faAusYq02PRAY6,3cqZlRpC4lOnxUE7HE3N5k,2xaFtNhCw5Q4hn1EKsrkLv,79EAVfOpzgfHx3IE2BVFQv,0pMUR7Uvp6vxlbG0qBFvgM,4LwU4Vp6od3Sb08CsP99GC,60a0Rd6pjrkxjPbaKzXjfq,7GHKA8GIMcND6c5nN1sFnD,4Y8q64VnhD0vFYy9g2WFpi,2avKuMN2QXkaG9vvHa2JLt,6Sy9BUbgFse0n0LPA5lwy5,0LWkaEyQRkF0XAms8Bg1fC,4l1MNtoCiTxBwf6yxD7kFd,0AcLrSfAEBQcUnHOTm5pXg,0JcgDliDqDac8iOFFRm7tZ,7m97yKVzPpXV9Z4ezEziOD,5S0cvScXb33JVpjTiY9Ivi,7f1Dmr246cJ9uQYdbplTbh,5jZfGxZDayFA1HzYmyOG3a,7iXF2W9vKmDoGAhlHdpyIa,7mYvtEeBdMqRSyj1Qpv6my,3BsaRV5QIulYz2lV9WWa8T,1rj0XawWJNisX7SGYexowJ,1ak0S3NhwWrUgNlQhJ1412,7JKEA8xYDoFp4q0QBW2PGg,1NNDZc9BHaWe9JqIsPRlNV,1uPrIHgYztXSkkcts9jet8,3w8Mw9GHYepoTWOSdiyosj,0s46SltT4On0Z6kglK1I5c,1RS3LStQYhju50eBdD9Uul,1H5tvpoApNDxvxDexoaAUo,5PMKzsUsTpZZGsCcJBuhP2,0HNXnhNZZtRZFLhP4hfyCP,0Ac0Ge47UpkVceZyPin7IP,0UzsDmdpw0Q14KU4hieQss,4Do68W4FWO2hRAJCzG1lus,64BbK9SFKH2jk86U3dGj2P,0gPQTLaqHDgdupKEok7J2x,3XKIUb7HzIF1Vu9usunMzc,6iiaDMXr1eqnSEH9W4DLYC,1vlTMKVV0FxG6CxGTmSY3t,5s4catxeZsaWFnOrvrXZHf,6ZOBP3NvffbU4SZcrnt1k6,1jRzdY7oUBOhrylNtiMtBD,1sjrDQXqAa9V07FjKIlAQ4,2uZwyxrg6VPvlVsvclIfel,2oncAh9o85pq1aswacLqAz,69XUpOpjzDKcfdxqZebGiI,2AW37v0bDyuOzGP3XnmFuA,7BgUcOjSOlKJXASLgJ6bx1,2dwhMQsFeHr2S787WxqAqW,35o9a4iAfLl5jRmqMX9c1D,0eKyHwckh9vQb8ncZ2DXCs,5OQGeJ1ceykovrykZsGhqL,25FTMokYEbEWHEdss5JLZS,7A0apkTSTvMbSI7yplcmlh,3wMUvT6eIw2L5cZFG1yH9j,3WkibOpDF7cQ5xntM1epyf,3UmaczJpikHgJFyBTAJVoz,7GQqj9jRtDkMp8zByehXQI,2lnzGkdtDj5mtlcOW2yRtG,2hKdd3qO7cWr2Jo0Bcs0MA,4zYTZvtcww7OWKie7fxA9E,0jG92AlXau21qgCQRxGLic,3aw9iWUQ3VrPQltgwvN9Xu,7reoZz80hQYuWtEn0Lsd0p,3IV4swNduIRunHREK80owz,0OSAJEA0ekX6pr2nuiPzX7,769geiA8btidGHda4BBDOJ,1Lhwn4PqeGpM4LTVUowW76,3RmKpob8xzv1pzHEQrMJah,0gmbgwZ8iqyMPmXefof8Yf,0I3q5fE6wg7LIfHGngUTnV,7MLPGQfmCkHpqfAib42qby,7FWuzwapuKHTEyDJIcQOw3,0UrWr7Jnu1heq1o99ZwUd0,6zsk6uF3MxfIeHPlubKBvR,45cVyfWuMAg8RNxmkcpmy9,0oHLi9gb4Gd97OuN6ckMk8,7yMiX7n9SBvadzox8T5jzT,7nWsh14AHpnTzq1Xejz90U,1fgvJXlcZ7uIddMpqsqw0L,2SLZ2rX5773RS16mcqBxG7,595JwfRS0iFbdZyhlBxokI,6j8nh1kHwezw8pkC2eU87F,5z6xHjCZr7a7AIcy8sPBKy,6IFOw9Ck9mWHRQgw6QrPYx,5IweeQZdY5XEzStLzUJG5t,3qzcM6SmbzBnGXSJe6hYdy,5mNV8Mz59bzyuQ53gTw0c0,0rRboI6IRuGx56Dq3UdYY4,4UfupbARPxljVkBmuZlJnY,0tWdRXWDUd1gWLthXgk6Dp,6FLwmdmW77N1Pxb1aWsZmO,61fUmn6wYvU7qS62wNvQFN,41nT1Sp6ChR65FbsdLlFHW,2B1jt2a6zdN4qLiugoEJry,0xikWgPgYN9BEes0ieZ8Co,747tpec1a0Hfqvj2za1pBs,1Jlt67b4oOhCoFW9GQwL9T,16MJqq0vEuW6GRX6faetTm,4Mnw05kNd0j1XDHwtfzofp,5S9810AEDRnVQovixcU2h4,4cNhx6OO1XpvwT6xZnb83B,3Gf5nttwcX9aaSQXRWidEZ,4h5KBcltGefua73AUPYps7,0HKD13PLq2WicViBBhSrOl,1Sm3U3B5XoidYQEZQZrh3i,25CMmGsl22APKhfuj4Tp7j,5zn1hpm9N0ylKB7kOtpCw2,0Uyh92tLyb9JawG8lmWCzJ,0wqOReZDnrefefEsrIGeR4,0ARK753YaiJbpLUk7z5yIM,7lQ8MOhq6IN2w8EYcFNSUk,5xEM5hIgJ1jjgcEBfpkt2F,4w1lzcaoZ1IC2K5TwjalRP,5QpaGzWp0hwB5faV8dkbAz,15f8Cv8RXUlOOCIf2oaceN,6fR6Z0Vc1K6yQWNUIKjAIR,36jSIOSE72neBbKntCthqw,0YImOCkIJ2PWhCXaURCZnY,4xkOaSrkexMciUUogZKVTS,6Wt5QBzHp9vdSLAFlvdnDQ,0IspqeDVLIw46spUMhOKRL,7DUpuAzGUyJaJB3p9BC3Ms,6UEfyhyfhYQsyipxOd95Ie,0qvlhVNm7L5IWabWF5hlEL,779ooI3rBd0CLqCiiJmtVo,5p0KCAuu5nrHpTuAIhHdLw,3GhuNU58hVUuzKY7LHmFRB,0pLmfgIANOX9FB9uZDU43x,4SnTf4ixVZCfQtxHNhky0T,5fkDD7aQLUmMy1EwzNm0ZB,2zhGnnDewN4kBsVzbqjBtX,0WgLpgUdThEpA5L5K0SKq7,1Q9b6CeMcDuO0uq5OJCrqu,5r29mFrurlVBbqJzjr2XW6,5Y0E3dOeynKuLDAXu0t0Bg,04KTF78FFg8sOHC1BADqbY,59ZTxQo8rBycIXPLUIKvE2,2mKouqwAIdQnMP43zxR89r,6AfLmKXzhEZjwiVPs5jhdV,3oXNIpoUMdk8qGkwCeXqGv,3SCVtAJq8li6HlKfM4M08u,21iEEekDSvQjVARSQ4dpXY,7lVNTXkI3cHFvcXiI8damb,14PbhGTCaHCXDvZzfTWumU,1F1XjwRzMh8KT2BvH6ISkG,6XK173kEu52iupeIqOnp41,2iWyrSHvs6qhFzfpiLAK0z,02jcEwywffn3Tsb48fXmlW,1NRorokmYEtr1koWybvaE4,3jagJCUbdqhDSPuxP8cAqF,563vSy3HB5NHxel1VGQCW6,2VSbEXqs6NbNiZSTcHlIDR,4hrae8atte6cRlSC9a7VCO,6zMUIb4uce1CzpbjR3vMdN,00Mb3DuaIH1kjrwOku9CGU,4gdQ8QShlC3toP9Mkc8DwB,1f2V8U1BiWaC9aJWmpOARe,4rr0gWiMrF4sOIefs3IEvZ,1QhSB9L9M5eZQhW4RNOhXK,2LVxvGhl2U5p2ql2ujc6vZ,5PCJldueshnwqQVjS16543,0eFklulxFnNCypNSrywzSB,4KqTGPPmXowMPEoShSVOta,16DhvbuyvJob4Q9GHNYu2n,4SyadrABZJIjeND1HPJS31,4IEOKcFZGMiKp5NXYjH001,5dpAN1mjFPL38kh9kWsCiw,0kr6d8wHDQPlzuET33NVn6,6lSr3iZTC144PKhvbPFzMp,074v54tSEWLbq3Hu5wf6uh,4RY96Asd9IefaL3X4LOLZ8,5Z01UMMf7V1o0MzF86s6WJ,5IVuqXILoxVWvWEPm82Jxr,4O4dhPrjcw7GSLNafNydmb,0xmjwnQ3FNE6HuWCt2nHdZ,4ZOyH6KjomjlqCz3oFqglr,4bJygwUKrRgq1stlNXcgMg,1n7omixiROWs5q6xpWiQuL,6dK1HEHZcQlh24bSU7pTaZ,3stnrhzN0lzZFskbaZ5sEw,5ljCWsDlSyJ41kwqym2ORw,2D1hlMwWWXpkc3CZJ5U351,4Yf5bqU3NK4kNOypcrLYwU,4O9ICXbrUTAVR5kkx6xANJ,0COqiPhxzoWICwFCS4eZcp,2icpXUdhbKPNXRJD7lPmXX,23ehR4jpFQFMfDADgFdXR7,0M955bMOoilikPXwKLYpoi,0r2Bul2NuCViraT2zX1l5j,6FTJuZtQZvmPPRFmrcno9J,7mS8RbJji2UZAaguRGsOCH,1AWQoqb9bSvzTjaLralEkT,3dPQuX8Gs42Y7b454ybpMR,5TpaWJKnuyA4MjzAbFXSTQ,4WY3HyGXsWqjFRCVD6gnTe,0aULRU35N9kTj6O1xMULRR,7qPiLAs9I8cqUv1BCnmlHN,1AEYT6VxrxXPMoQUxsY0E4,1AjQE5MtP5jHQMyDepbvLI,25Mn17RDbdJHiKL5SEhLnL,1lKS7SZQ7r5vOChLwJurmm,2jGUAB6hKlzK0pZmZpQ02g,0RilVXCOQf4AD6a4uTTs7d,6rpNe6gSkmiYW6BfSFATi5,0iFOG4Ki9aDmJUYUFHQlPG,0l3GEbH3CviUytD6iX4wzg,2BeoIEbdG1kOWYKQhNl4dX,3CZlTOyNnKVMb021IYEY6r,3Gamc2D6VSlXpUcmhPUFYt,41bIQPBE1lFN0mmw6Lmssz,7kAFSrTIOiVZ0gnHBuAH3l,75DjPjiIp2fvJDjtt41Jfs,71NJqORRmwlcZSLk0VsFjU,2fE4MbwX3QGMzNaMjGVhtw,5ojJNnX5ND2gMGojPd3NiO,2VHfyWLlvCvbkIqtS5tqt3,0O5oSZuSSQhLanMLMmQrRd,3OUApyz3jDB3syGUNGqB1d,7Lf7oSEVdzZqTA0kEDSlS5,6pWzCKTrKrwbUPzY8RLCoP,4jacsL77ZYnpInmTtUBaJW,3YuaBvuZqcwN3CEAyyoaei,3OQu3z3okKVmWxSXTTHak5,3kgutGd839IOYRl6ekeq6V,3adnLFXKO5rC1lhUNSeg3N,6HxweNytuEQdmGeVtZPZz3,0FmCLEHfINGqwlyzvklNqy,2iclfHORMqpR3TxuhwVRhD,6Bm6qUCSatPAqkQllFL7oA,5z7mYFfhw6N6f23VwrokJD,0yHConG49418wPs8UfAt44,2md2i5QvelRFnafpnd6LOg,2g2a5kDeZexbUTD8abcvm6,5dWfl2PBpKHpBVdz95wxK1,57Xjny5yNzAcsxnusKmAfA,5rb9QrpfcKFHM1EUbSIurX,2PpruBYCo4H7WOBJ7Q2EwM,3xl7PsO7Hzuig6To9FgDm6,228BxWXUYQPJrJYHDLOHkj,4hfIVhq0F0zFUcrbecsYmo,4nnHlGaBwJHb1rBetqj0Yl,2Ozc0me9PV5vlt8cokwdvI,7bZsx7Zif6FIhrcZrh0LVm,3sckKKIx96cjPXtiqPHCTB,0YGQ3hZcRLC5YX7o0hdmHg,0YUrjFy4qFKOO5NhM9tYdV,4XHQyvbrBsQaaBUW1VvmsL,2yr2HnFYl7XvqJk4fXoQBt,4dvQg9sD8k9y4qiEURuj8v,1xNcBAoUw8Hz6LqK2jt4Ff,3dFwpxh2yH7C7p9BGEKLVB,7uSsHbBFFAnkRQR1rDwP3L,2ndnVdR8si7CW9T8vJRHyW,4MeDnO5yA2Zi6IMlVApRci,3IrkbGQCoEPAkzJ0Tkv8nm,2EM9zpAc7PVeoAydmbfVIL,0cZDC7uxNK8lqQ3GgyvCnD,4Kd0FzFpOgIGxlBl4HXuFn,5NJhMbvK53XATYf7qHEqZL,6n8TMVyFKoUmDc4apxceRD,4L55p6txv9vuCWhpNnY6eY,6cR1U61DMpYbS2TtNTlSvo,0qcjuYtMWhBjXg0Xwt5SzS,2NBQmPrOEEjA8VbeWOQGxO,2o7V26rsF1ukcRI005S0LL,3CcvahnsiArpTHYQEWV2Au,3XTaaGGAL2gVVaAbu0yxQX,2tOZtdbkAMQASWokLvSlzj,4Vqd7MuPVrciqRS3EzhKWb,20I8RduZC2PWMWTDCZuuAN,0jSMveIWvnhDIvzqN74Uc7,1dHJETCn2X1R1YwVlMvSza,4s0o8TJHfX9LLHa0umnOzT,5g1vtHqi9uV7xtYeCcFOBx,4UzVcXufOhGUwF56HT7b8M,3vZfy3cXEYojq7BvSt87Of,3A4cpTBPaIQdtPFb5JxtaX,6nTiIhLmQ3FWhvrGafw2zj,5dxHF4lrDimKqnI3GaZUmC,4mmkhcEm1Ljy1U9nwtsxUo,2T8hXV9LUZMDBKR5RALGEa,6sqNctd7MlJoKDOxPVCAvU,1p5kC161fWMA2QlwV3Vi4W,3NLrRZoMF0Lx6zTlYqeIo4,5SkRLpaGtvYPhw02vZhQQ9,5y8WWi1BaKHXfuln0XoIZs,3rQjc4GGMcrtXwis7vBzaQ,312A8WfROSLvZbMDHBUPDp,6CN3e26iQSj1N5lomh0mfO,3JOVTQ5h8HGFnDdp4VT3MP,7yXibbAYi4to5oQTeO738f,6LGwYMXXgURfaequXipzHx,3LmvfNUQtglbTrydsdIqFU,1PS1QMdUqOal0ai3Gt7sDQ,4TsmezEQVSZNNPv5RJ65Ov,5D2mYZuzcgjpchVY1pmTPh,5GorCbAP4aL0EJ16frG2hd,1bqZ94bPrrHyIpYux7rVj7,3850dYVgOFIXJh5U4BFEWH,4nva9EpKntUTs6CRSGBCn9,4gXdMZkBN1neE9nX6yRALa,4kOTDj4SiZPkW1p96WMDNv,4bz7uB4edifWKJXSDxwHcs,6ndmKwWqMozN2tcZqzCX4K,69bHJ9qs5FrUJbKP8xU8uZ,7xYnUQigPoIDAMPVK79NEq,19JdbdEwQI7bCxefMokZO8,7i7UIbm5E0DD7aSOYvwp2v,7BKi4ZcyMBXeAvJ1OPxhdV,6EfyEbyk4XjCisJz90V8Ki,0rLzyBecRbTpnBWvMtPVFR,5sNESr6pQfIhL3krM8CtZn,2wGSgTmgSF3xjRrHkTc25R,0d28khcov6AiegSCpG5TuT,0reKGVcWLVvl1FzjZ6TACy,2nCmCt4B5vkabS0zeOuc1Z,0Ss50OU9tCozI7JIywkv14,561jH07mF1jHuk7KlaeF0s,5BSclXJTa9B0iURhUjZo50,4Hff1IjRbLGeLgFgxvHflk,07u02f6biDHx5VexfAs41b,2ajhenDRiiAnCHHjsIOHhJ,0UaMYEvWZi0ZqiDOoHU3YI,4faFAhOflLzhfJECveRwva,3B7i9OKRRmIsSBHEbJz58Y,34KUIBsIUiPV7oCIzSdDAU,3zdDxhDo5SycC7XSAPfdjv,4FTOpNYcGxnQdGNWSxIcio,0LzrhCZFXW94Y8nwtTuRlw,0lP4HYLmvowOKdsQ7CVkuq,7jLbTp3qZzah9kMIdW8e5M,470UOQDSTMTBEgkBaeqVN6,41PWz0hAiU9FqsmjR9Wh62,5Y78yINSOCW6xbOfGWNBg4,3jEqrIfwKO0M8ALu3TGilF,7IdfMBufDn3yf2JhS3a5w0,0AKAxdNkwq9ZxRdW1DN9zW,5qrzhg9Fmu8Amg2uMhHfe5,29EkMZmUNz1WsuzaMtVo1i,10NH6nFIKbx8Yee8cQ1gDn,1oNToERLIN71YCPLbRIQGQ,3fMoeGj4mDusrmYOOF60aC,6uYAPqxP69zfpCbsTHXgiz,4NjR63Up0uMkQBlKvlZd1l,7clUVcSOtkNWa58Gw5RfD4,5p9XWUdvbUzmPCukOmwoU3,3xrn9i8zhNZsTtcoWgQEAd,6fzcnVO0X2cpYjsHk19GJo,5lDriBxJd22IhOH9zTcFrV,7G6l2FtQyRhQgYgut2I6i8,3ZFTkvIE7kyPt6Nu3PEa7V,0k2GOhqsrxDTAbFFSdNJjT,0O45fw2L5vsWpdsOdXwNAR,6RX5iL93VZ5fKmyvNXvF1r,4wH4dJgrsxONID6KS2tDQM,0Qn0i8df7Q76ej3RAXAtI2,6yuvC80FcnVJNvC0DbXN9e,6btyEL6NwUa97Nex9cZFvo,2gam98EZKrF9XuOkU13ApN,6WoC2b3CCpyrDQJKkBQZn1,6k8uthjEbttfWXcGaNTQGD,3BxWKCI06eQ5Od8TY2JBeA,3rKCDtV8UcF0RytSiXxypc,0fGh0trRN1xz3s41r7V5ce,3lPr8ghNDBLc2uZovNyLs9,53ETzLQQKFCzykRbqWb1ph,7g7M96UGiA7OR79H86gV4m,6o3s08kk2fQI37vxGZDrJ1,4GIsskMpViPkt0uzPJTJSp,05Sgj1Hx03ZXc57gsV1kfX,4NeOWqHmlrGRuBvsLJC9rL,4Gd9PUEuOTOJtbgd4YxLXM,3YQjgTpUVNWvpYeb2mtTF7,7jRoWfRlLnGYEIEn4t4kbq,0JbZk8LQm3hCecAykIwAPn,423EcxblW9F4nnQkqcqMlK,1Ab6RxeKl3e07zP7Get7CX,0Eu5SrReZzaJX0NLKI8tQS,7M13FwBAKWNa2jqcZeUhL6,5loIRrZU3ez3r102qFzJI2,6Y3WvyUG9iE5bQYg38SPtQ,5YTSbfnyJRqul0H8kmamg3,13xxBnXOuiBxVxJI458B0i,2dxjKgT0li4qBI3QwuN9Ih,7cVmKBwzPsh4Fmb6SplfEm,663Karu2rvKLdnY0eo1n3M,5hF2LnbkpnXCkksMSeWcxZ,2JpUkUR0OsOlUUfm6iS8ic,1bPqAXwNiVcM6zjJU1Z4Cd,0tYPj0NYa7vjlJaqlRSnJb,2Fs18NaCDuluPG1DHGw1XG,2RWxrpsFshOBFwRBRstUlQ,4T4NLIMypdmyUwK54jECk4,0k6HUzaRHpQ3eEWr1C7Esh,0DMRKqrpd0QO4RWiEdMib0,4bVuIlGQBMWS7vIhcx8Ae4,10Nmj3JCNoMeBQ87uw5j8k,13pyGLYmBjYgvOMIEivX2K,6brl7bwOHmGFkNw3MBqssT,40LQiUUUKXVGyNs09lHVjW,4xlEKYv7HmC8zXoJIbpZKM,3ItzRpwvKtkDSNdRSjXu7Z,4bPQs0PHn4xbipzdPfn6du,6gxycjJNMgmAyfzUXBN80P,0qAMjeQFyd1qD0LDiV8gWp,3U5JVgI2x4rDyHGObzJfNf,28euH5Ny1JXxZAt2KjWp62,5fVZC9GiM4e8vu99W0Xf6J,4mnTMsp8Cgf9TNiQMhH11L,5wQnmLuC1W7ATsArWACrgW,7DFnq8FYhHMCylykf6ZCxA,2hns6Dv29Yrg68AVTJiAyA,7wZUrN8oemZfsEd1CGkbXE,2yPoXCs7BSIUrucMdK5PzV,6ic8OlLUNEATToEFU3xmaH,4AniPkv5vgdE1n6VKreiyI,6kopmMZiyLmw7h66uXcXR7,4RCWB3V8V0dignt99LZ8vH,3pD0f7hSJg2XdQ6udw5Tey,66ZcOcouenzZEnzTJvoFmH,2bLqfJjuC5syrsgDsZfGmn,2aI21FnmY7TJVKeMaoQZ0t,4LjfIjS8iweFCPdKxLnEoV,5TmFTHZp7HjBXjjsFvCY6h,2kQuhkFX7uSVepCD3h29g5,36Hwcla06Q5BCr59CL0sBp,06Vw2ZOhalTwEw4PhoGRSX,6WoC2b3CCpyrDQJKkBQZn1,0j2T0R9dR9qdJYsB7ciXhf,2HWWNoWEEEECwZhAiLg7ib,6ajyEEzWZbw8ycDcJAN099,0CXVjQI9wsqaGeIARkkpYc,66TRwr5uJwPt15mfFkzhbi,4JPCdSaqs9dJd7RatFSHww,1iOJQhxKSJ7dg3Dk03yPnl,4Tn2llBm1g0UlWctmgPL8Z,2a03afRiyAbNAleOByVju4,18lR4BzEs7e3qzc0KVkTpU,3wKKkGVn7cVSfgPeYYIiXG,1IYaMVfidzSfvCUZYXhsU1,28IEbk5a7twNTbUEvWslUb,0YkJU6TjjwzsVXUPRIO0DB,4eAwB5pnKFTmsgc3zWoYO0,5rTIpPWeO0IL4HWlGWrz5G,4KTtYhxFtFL7mBwnjkKfLm,0UFDKFqW2oGspYeYqo9wjA,7j31rVgGX9Q2blT92VBEA0,6x2xqg5fQNu9dNCXu83ezE,6CFPFnS9EcLs2I0nWqtWci,234RqTZmnDTnxWlVciXHLD,6PBAPjshd2JfEiWpdf3C2a,6BqWhxll86CGGE6WxgdRqG,1RGIjMFMgJxkZHMDXVYzOJ,68Zq7PMcPIQE8ol1x3gAqw,1D066zixBwqFYqBhKgdPzp,5qhlC4Rzals34zxovrPzKp,1zyqZONW985Cs4osz9wlsu,3Zwu2K0Qa5sT6teCCHPShP,5iyE2d4U3Vc5cqY9mPTlpy,0JJP0IS4w0fJx01EcrfkDe,30FURVTCpbKyykjSEQzGkH,0JfAMd3xTqm7ZYhBmQjYzt,5Yaw45Q7W0irDbTVN5LOVs,53SqGkNJAYLss9AgbduTqQ,1lHXlGlve5Zx8tXLhyjDwM,1oagRT7LfpVlNJN6FSZDGp,6SpLc7EXZIPpy0sVko0aoU,6DbqCKweKwVkHgRv1CI53D,7x8dCjCr0x6x2lXKujYD34,1JwIBogbuZ4Yfb6nssXWa2,3LGeYNY9aWQuBJovOOowqm,3RGyFugqjQjlL8XX0NW8dZ,4wzjNqjKAKDU82e8uMhzmr,7dzUZec5MnWMyQnk5klnKR,5lUTzPuiloBHm1qEaJcJfF,1hGy2eLcmC8eKx7qr1tOqx,1BV0m40U0M4t1SLIsDnwZl,0ZUo4YjG4saFnEJhdWp9Bt,0td1GfBHNxlGephozVmL9k,1tkMs9wDPknQ3ZHcKDw1ES,2elA6JLRaQ6iB7hxiuTKN4,6SmPPtaMnfxgz5duA6t9Cu,37pFLuNVnAJQL9ysRoKTdy,4liGjmhCupa7RP9JaQELYx,56Tl3UgyZTqfZtvFNS31wm,48yZwqAxCZk0t2ssDw2hzH,2aibwv5hGXSgw7Yru8IYTO,3QnEp4rluCxUwgpXT43jmC,0CAfXk7DXMnon4gLudAp7J,005lwxGU1tms6HGELIcUv9,3goSVuTt3fDYDP6kRnFwuL,26NX1wPt1TRCH536yocd6i,2VOomzT6VavJOGBeySqaMc,3aQz0z86zrKjd1mcZlonxE,52K4Nl7eVNqUpUeJeWJlwT,4P7VFiaZb3xrXoqGwZXC3J,5Nr1ZcH9PGTiQdGl9HCCS1,5TRPicyLGbAF2LGBFbHGvO,1oHClQEgDmmbcEx12Kc5nZ,1y4eb6hmAvsqlDOl3fx9kk,1wva1IlWLDNLgwipUWcmjy,1ARJhjuI6TNYZCxYygFQ4F,4fixebDZAVToLbUCuEloa2,0F2BxpbxH8Yc3pLub48hrb,3jlbL2OTD5YmIunYzgQTAN,6ScJMrlpiLfZUGtWp4QIVt,3MldzywZOH4Uci6bq9noyJ,2PTvik6EqPAIYOclAB3SU8,3XCezj8BPm1xGH3qS6SruW,6pTg4H8juKV9iSzrcVUbM3,0aeWFHCKwVoavQdpduyB1Q,3LN41NUdHkyNqQhi9gExMm,3tSuRiNgJmMqmYR23dCqnR,6AdLyvisRKHLAwARaZMGr6,1uigwk5hNV84zRd5YQQRTk,4iz9lGMjU1lXS51oPmUmTe,22UDw8rSfLbUsaAGTXQ4Z8,3pxCXv0NACYfYnLjFcQW5D,6tC2iHfUlzB2W4ntXXL2BH,4yHFxB8kzzeuNvoouR8N0N,0JiY190vktuhSGN6aqJdrt,1kxeWHF9PrCVZHvVskv8lg,3RDcUlLGp3SLp2AmUbUbls,1ixbwbeBi5ufN4noUKmW5a,0uybt73QFXaLCoxuVf6fhm,2aEuXA1KswHlCGPOuPmCOW,1C6eViOmSvwrXz9JTHYaOV,5Hv1QAbRWrUSUHaT0CmnMS,3wkNK8tJZ2stygNJm8RCRD,5liQj4sVRmEEESvvcb64o8,5j0McHPthKpOXRr3fBq8M0,45upEMiYeArj06RERttNFx,2xUjNGHjJOBcpTf7dYx4EY,1gt1fWqUZOUgT2kTArAw4E,0exb0K7vsjf5bXWLJJhAuF,0tp2cUnCAcsR6xL5kw9HKu,1IAzD1muglOxOcPbUHs70R,48s0QHJgmiNsth3WEO6U4M,33vzOPcd9FRirYGlCu32x4,5o4W6yWSJD9e9Ea8YC9WjF,1mea3bSkSGXuIRvnydlB5b,0ntQJM78wzOLVeCUAW7Y45,4ZPdLEztrlZqbJkgHNw54L,3nJjIYchBNkYm7B8XfJf5N,1ZqHjApl3pfzwjweTfMi0g,72by3Re4C3eVEBXvsUo0zV,2VEsmoek0sol9MnJFyoG9e,7dltD9eEX7X1zk8JJ9BS0e,56pHllZT7QOacB0bP56ofx,2iXBZ32Fz5VDCLeE0JIdX5,50xeLNGKmskmYUSINhqvfa,2H1047e0oMSj10dgp7p2VG,5R8dQOPq8haW94K7mgERlO,0uXO2GrNiIb1xHT9LUdxZE,3GpbwCm3YxiWDvy29Uo3vP,1vrd6UOGamcKNGnSHJQlSt,6Rb0ptOEjBjPPQUlQtQGbL,7jk7gqyEonmVVYahZN5zhW,0TcJ7QWpggdSg8t0fHThHm,2UREu1Y8CO4jXkbvqAtP7g,6wOYnPq1hPihRepcDClPUw,4EWCNWgDS8707fNSZ1oaA5,5FEXPoPnzueFJQCPRIrC3c,2x7MyWybabEz6Y6wvHuwGE,2hdy9Wt9qp7M7d0U3ossu2,13plQdOoWSSXPRUSZc5FuM,3IcIIZMMS7UArJJPtEHXG8,3opVsyWVYEAFK9bJAG8Opa,7Hqig8kp32q2Ire3ECQvWM,2igwFfvr1OAGX9SKDCPBwO,5XRHGXut00SrJUFmcn2lQF,4NpDZPwSXmL0cCTaJuVrCw,360ZhWvMnyXKYFG9Mqsm89,6Wx88Mv6b9ofjKMKkdwOJd,6TrNRd98WksT9Kkmx9uj6R,7LR85XLWw2yXqKBSI5brbG,0SiywuOBRcynK0uKGWdCnn,6ddQ5KCkvCggk3j6KdA0zL,7xdmTEHRbgQuLR8KpRLLnn,6ATrsVaZT7XjkCynxM8cTS,3R6dN42VdwivkZTMz03Rci,77FULy278MulVvGWS8BfK7,6WdV6QM8t87dPidhPzdRJW,2q4rjDy9WhaN3o9MvDbO21,4dK00wCxlqWEeN8BoM1BHT,5xeSDlt3eCxPsWKBhfUJTR,426vBhxw4upEf11BqBBgs0,5jzX4dWVQeBTtfBaXnMRt5,7Kpqjspw4Y7HrvItIRcBiW,0JYRNrTwUmeySRX37azvnH,1YaVmBh7EAeR54FIjuFcb5,0KlahhzNb98zyN83Vwae0l,6c0GmyBsE7mQtrVvxJaWc3,67T6l4q3zVjC5nZZPXByU8,7IhsLJMqdxoo7YAZjaSMru,2oENJa1T33GJ0w8dC167G4,5r5cp9IpziiIsR6b93vcnQ,7kMfu3KUydmrFVGEAhjtyl,4QJLKU75Rg4558f4LbDBRi,3kMrazSvILsgcwtidZd1Qd,4VqPOruhp5EdPBeR92t6lQ,06T10fEzN8ZCcqzQZYA184,2ZBNclC5wm4GtiWaeh0DMx,3RBGG1be9aBaSvjnw6ABkh,1NhPKVLsHhFUHIOZ32QnS2,4KAzYqfcijCSZa2P3etHoM,3QLjDkgLh9AOEHlhQtDuhs,5Q0Nhxo0l2bP3pNjpGJwV1,1Nme6K1PYAh7p7uygyuRdf,64yrDBpcdwEdNY9loyEGbX,58FUwmyGUqkt53YPUcm7cJ,3GCL1PydwsLodcpv0Ll1ch,0CwYG1UnRmOx8Q1EzElCIL,1akgiRM3mN2nxu2AX6ACCW,6fvxos1qSHrIgOkKw4dhWS,4Dm32oO01YpIubCHaAtKkN,6JnufVNLIO5F5Lk4sEVLeI,4IoYz8XqqdowINzfRrFnhi,7BqBn9nzAq8spo5e7cZ0dJ,15JINEqzVMv3SvJTAXAKED,2GYHyAoLWpkxLVa4oYTVko,0HPD5WQqrq7wPWR7P7Dw1i,4dTaAiV9xFFCxnPur9c9yL,2ENexcMEMsYk0rVJigVD3i,6KOEK6SeCEZOQkLj5M1PxH,0WCiI0ddWiu5F2kSHgfw5S,5ojIL91nfnWExoXSCkvJ9E,4DvhkX2ic4zWkQeWMwQ2qf,6FbGlkHKGkYqpSCuBgurn3,2DHc2e5bBn4UzY0ENVFrUl,2qugfmw9Hi27DyIo2gite4,1AguHaKOuggrVTebp7cZEI,0oJMv049q8hEkes9w0L1J4,7Ie9W94M7OjPoZVV216Xus,60jzFy6Nn4M0iD1d94oteF,2Q99zPXVqCPN5RaZawvJWZ,1hBM2D1ULT3aeKuddSwPsK,7vWFaMq63AwkFDhS2OAg5u,41KPpw0EZCytxNkmEMJVgr,6wN4nT2qy3MQc098yL3Eu9,4356Typ82hUiFAynbLYbPn,5vlEg2fT4cFWAqU5QptIpQ,6ebkx7Q5tTxrCxKq4GYj0Y,45O0tUN9Bh6LH4eNxQ07AT,03tqyYWC9Um2ZqU0ZN849H,61HQWI1Woxup7CnGwVUsdI,161DnLWsx1i3u1JT05lzqU,2V4bv1fNWfTcyRJKmej6Sj,2rDwdvBma1O1eLzo29p2cr,4AYX69oFP3UOS1CFmV9UfO,360UM2DaiHZPRu0EsrOvMp,7tSO7DrrYpiMXX3zM4b3oM:\n Max Retries, reason: too many 502 error responses",
     "output_type": "error",
     "traceback": [
      "\u001b[0;31m---------------------------------------------------------------------------\u001b[0m",
      "\u001b[0;31mMaxRetryError\u001b[0m                             Traceback (most recent call last)",
      "\u001b[0;32m/opt/anaconda3/lib/python3.9/site-packages/requests/adapters.py\u001b[0m in \u001b[0;36msend\u001b[0;34m(self, request, stream, timeout, verify, cert, proxies)\u001b[0m\n\u001b[1;32m    438\u001b[0m             \u001b[0;32mif\u001b[0m \u001b[0;32mnot\u001b[0m \u001b[0mchunked\u001b[0m\u001b[0;34m:\u001b[0m\u001b[0;34m\u001b[0m\u001b[0;34m\u001b[0m\u001b[0m\n\u001b[0;32m--> 439\u001b[0;31m                 resp = conn.urlopen(\n\u001b[0m\u001b[1;32m    440\u001b[0m                     \u001b[0mmethod\u001b[0m\u001b[0;34m=\u001b[0m\u001b[0mrequest\u001b[0m\u001b[0;34m.\u001b[0m\u001b[0mmethod\u001b[0m\u001b[0;34m,\u001b[0m\u001b[0;34m\u001b[0m\u001b[0;34m\u001b[0m\u001b[0m\n",
      "\u001b[0;32m/opt/anaconda3/lib/python3.9/site-packages/urllib3/connectionpool.py\u001b[0m in \u001b[0;36murlopen\u001b[0;34m(self, method, url, body, headers, retries, redirect, assert_same_host, timeout, pool_timeout, release_conn, chunked, body_pos, **response_kw)\u001b[0m\n\u001b[1;32m    845\u001b[0m             \u001b[0mlog\u001b[0m\u001b[0;34m.\u001b[0m\u001b[0mdebug\u001b[0m\u001b[0;34m(\u001b[0m\u001b[0;34m\"Retry: %s\"\u001b[0m\u001b[0;34m,\u001b[0m \u001b[0murl\u001b[0m\u001b[0;34m)\u001b[0m\u001b[0;34m\u001b[0m\u001b[0;34m\u001b[0m\u001b[0m\n\u001b[0;32m--> 846\u001b[0;31m             return self.urlopen(\n\u001b[0m\u001b[1;32m    847\u001b[0m                 \u001b[0mmethod\u001b[0m\u001b[0;34m,\u001b[0m\u001b[0;34m\u001b[0m\u001b[0;34m\u001b[0m\u001b[0m\n",
      "\u001b[0;32m/opt/anaconda3/lib/python3.9/site-packages/urllib3/connectionpool.py\u001b[0m in \u001b[0;36murlopen\u001b[0;34m(self, method, url, body, headers, retries, redirect, assert_same_host, timeout, pool_timeout, release_conn, chunked, body_pos, **response_kw)\u001b[0m\n\u001b[1;32m    845\u001b[0m             \u001b[0mlog\u001b[0m\u001b[0;34m.\u001b[0m\u001b[0mdebug\u001b[0m\u001b[0;34m(\u001b[0m\u001b[0;34m\"Retry: %s\"\u001b[0m\u001b[0;34m,\u001b[0m \u001b[0murl\u001b[0m\u001b[0;34m)\u001b[0m\u001b[0;34m\u001b[0m\u001b[0;34m\u001b[0m\u001b[0m\n\u001b[0;32m--> 846\u001b[0;31m             return self.urlopen(\n\u001b[0m\u001b[1;32m    847\u001b[0m                 \u001b[0mmethod\u001b[0m\u001b[0;34m,\u001b[0m\u001b[0;34m\u001b[0m\u001b[0;34m\u001b[0m\u001b[0m\n",
      "\u001b[0;32m/opt/anaconda3/lib/python3.9/site-packages/urllib3/connectionpool.py\u001b[0m in \u001b[0;36murlopen\u001b[0;34m(self, method, url, body, headers, retries, redirect, assert_same_host, timeout, pool_timeout, release_conn, chunked, body_pos, **response_kw)\u001b[0m\n\u001b[1;32m    845\u001b[0m             \u001b[0mlog\u001b[0m\u001b[0;34m.\u001b[0m\u001b[0mdebug\u001b[0m\u001b[0;34m(\u001b[0m\u001b[0;34m\"Retry: %s\"\u001b[0m\u001b[0;34m,\u001b[0m \u001b[0murl\u001b[0m\u001b[0;34m)\u001b[0m\u001b[0;34m\u001b[0m\u001b[0;34m\u001b[0m\u001b[0m\n\u001b[0;32m--> 846\u001b[0;31m             return self.urlopen(\n\u001b[0m\u001b[1;32m    847\u001b[0m                 \u001b[0mmethod\u001b[0m\u001b[0;34m,\u001b[0m\u001b[0;34m\u001b[0m\u001b[0;34m\u001b[0m\u001b[0m\n",
      "\u001b[0;32m/opt/anaconda3/lib/python3.9/site-packages/urllib3/connectionpool.py\u001b[0m in \u001b[0;36murlopen\u001b[0;34m(self, method, url, body, headers, retries, redirect, assert_same_host, timeout, pool_timeout, release_conn, chunked, body_pos, **response_kw)\u001b[0m\n\u001b[1;32m    835\u001b[0m             \u001b[0;32mtry\u001b[0m\u001b[0;34m:\u001b[0m\u001b[0;34m\u001b[0m\u001b[0;34m\u001b[0m\u001b[0m\n\u001b[0;32m--> 836\u001b[0;31m                 \u001b[0mretries\u001b[0m \u001b[0;34m=\u001b[0m \u001b[0mretries\u001b[0m\u001b[0;34m.\u001b[0m\u001b[0mincrement\u001b[0m\u001b[0;34m(\u001b[0m\u001b[0mmethod\u001b[0m\u001b[0;34m,\u001b[0m \u001b[0murl\u001b[0m\u001b[0;34m,\u001b[0m \u001b[0mresponse\u001b[0m\u001b[0;34m=\u001b[0m\u001b[0mresponse\u001b[0m\u001b[0;34m,\u001b[0m \u001b[0m_pool\u001b[0m\u001b[0;34m=\u001b[0m\u001b[0mself\u001b[0m\u001b[0;34m)\u001b[0m\u001b[0;34m\u001b[0m\u001b[0;34m\u001b[0m\u001b[0m\n\u001b[0m\u001b[1;32m    837\u001b[0m             \u001b[0;32mexcept\u001b[0m \u001b[0mMaxRetryError\u001b[0m\u001b[0;34m:\u001b[0m\u001b[0;34m\u001b[0m\u001b[0;34m\u001b[0m\u001b[0m\n",
      "\u001b[0;32m/opt/anaconda3/lib/python3.9/site-packages/urllib3/util/retry.py\u001b[0m in \u001b[0;36mincrement\u001b[0;34m(self, method, url, response, error, _pool, _stacktrace)\u001b[0m\n\u001b[1;32m    573\u001b[0m         \u001b[0;32mif\u001b[0m \u001b[0mnew_retry\u001b[0m\u001b[0;34m.\u001b[0m\u001b[0mis_exhausted\u001b[0m\u001b[0;34m(\u001b[0m\u001b[0;34m)\u001b[0m\u001b[0;34m:\u001b[0m\u001b[0;34m\u001b[0m\u001b[0;34m\u001b[0m\u001b[0m\n\u001b[0;32m--> 574\u001b[0;31m             \u001b[0;32mraise\u001b[0m \u001b[0mMaxRetryError\u001b[0m\u001b[0;34m(\u001b[0m\u001b[0m_pool\u001b[0m\u001b[0;34m,\u001b[0m \u001b[0murl\u001b[0m\u001b[0;34m,\u001b[0m \u001b[0merror\u001b[0m \u001b[0;32mor\u001b[0m \u001b[0mResponseError\u001b[0m\u001b[0;34m(\u001b[0m\u001b[0mcause\u001b[0m\u001b[0;34m)\u001b[0m\u001b[0;34m)\u001b[0m\u001b[0;34m\u001b[0m\u001b[0;34m\u001b[0m\u001b[0m\n\u001b[0m\u001b[1;32m    575\u001b[0m \u001b[0;34m\u001b[0m\u001b[0m\n",
      "\u001b[0;31mMaxRetryError\u001b[0m: HTTPSConnectionPool(host='api.spotify.com', port=443): Max retries exceeded with url: /v1/audio-features/?ids=6naxalmIoLFWR0siv8dnQQ,2m1hi0nfMR9vdGC8UcrnwU,0v1XpBHnsbkCn7iJ9Ucr1l,62bOmKYxYg7dhrC6gH9vFn,5Mmk2ii6laakqfeCT7OnVD,3yfqSUWxFvZELEM4PmlwIR,7H6ev70Weq6DdpZyyTmUXk,49X0LAl6faAusYq02PRAY6,3cqZlRpC4lOnxUE7HE3N5k,2xaFtNhCw5Q4hn1EKsrkLv,79EAVfOpzgfHx3IE2BVFQv,0pMUR7Uvp6vxlbG0qBFvgM,4LwU4Vp6od3Sb08CsP99GC,60a0Rd6pjrkxjPbaKzXjfq,7GHKA8GIMcND6c5nN1sFnD,4Y8q64VnhD0vFYy9g2WFpi,2avKuMN2QXkaG9vvHa2JLt,6Sy9BUbgFse0n0LPA5lwy5,0LWkaEyQRkF0XAms8Bg1fC,4l1MNtoCiTxBwf6yxD7kFd,0AcLrSfAEBQcUnHOTm5pXg,0JcgDliDqDac8iOFFRm7tZ,7m97yKVzPpXV9Z4ezEziOD,5S0cvScXb33JVpjTiY9Ivi,7f1Dmr246cJ9uQYdbplTbh,5jZfGxZDayFA1HzYmyOG3a,7iXF2W9vKmDoGAhlHdpyIa,7mYvtEeBdMqRSyj1Qpv6my,3BsaRV5QIulYz2lV9WWa8T,1rj0XawWJNisX7SGYexowJ,1ak0S3NhwWrUgNlQhJ1412,7JKEA8xYDoFp4q0QBW2PGg,1NNDZc9BHaWe9JqIsPRlNV,1uPrIHgYztXSkkcts9jet8,3w8Mw9GHYepoTWOSdiyosj,0s46SltT4On0Z6kglK1I5c,1RS3LStQYhju50eBdD9Uul,1H5tvpoApNDxvxDexoaAUo,5PMKzsUsTpZZGsCcJBuhP2,0HNXnhNZZtRZFLhP4hfyCP,0Ac0Ge47UpkVceZyPin7IP,0UzsDmdpw0Q14KU4hieQss,4Do68W4FWO2hRAJCzG1lus,64BbK9SFKH2jk86U3dGj2P,0gPQTLaqHDgdupKEok7J2x,3XKIUb7HzIF1Vu9usunMzc,6iiaDMXr1eqnSEH9W4DLYC,1vlTMKVV0FxG6CxGTmSY3t,5s4catxeZsaWFnOrvrXZHf,6ZOBP3NvffbU4SZcrnt1k6,1jRzdY7oUBOhrylNtiMtBD,1sjrDQXqAa9V07FjKIlAQ4,2uZwyxrg6VPvlVsvclIfel,2oncAh9o85pq1aswacLqAz,69XUpOpjzDKcfdxqZebGiI,2AW37v0bDyuOzGP3XnmFuA,7BgUcOjSOlKJXASLgJ6bx1,2dwhMQsFeHr2S787WxqAqW,35o9a4iAfLl5jRmqMX9c1D,0eKyHwckh9vQb8ncZ2DXCs,5OQGeJ1ceykovrykZsGhqL,25FTMokYEbEWHEdss5JLZS,7A0apkTSTvMbSI7yplcmlh,3wMUvT6eIw2L5cZFG1yH9j,3WkibOpDF7cQ5xntM1epyf,3UmaczJpikHgJFyBTAJVoz,7GQqj9jRtDkMp8zByehXQI,2lnzGkdtDj5mtlcOW2yRtG,2hKdd3qO7cWr2Jo0Bcs0MA,4zYTZvtcww7OWKie7fxA9E,0jG92AlXau21qgCQRxGLic,3aw9iWUQ3VrPQltgwvN9Xu,7reoZz80hQYuWtEn0Lsd0p,3IV4swNduIRunHREK80owz,0OSAJEA0ekX6pr2nuiPzX7,769geiA8btidGHda4BBDOJ,1Lhwn4PqeGpM4LTVUowW76,3RmKpob8xzv1pzHEQrMJah,0gmbgwZ8iqyMPmXefof8Yf,0I3q5fE6wg7LIfHGngUTnV,7MLPGQfmCkHpqfAib42qby,7FWuzwapuKHTEyDJIcQOw3,0UrWr7Jnu1heq1o99ZwUd0,6zsk6uF3MxfIeHPlubKBvR,45cVyfWuMAg8RNxmkcpmy9,0oHLi9gb4Gd97OuN6ckMk8,7yMiX7n9SBvadzox8T5jzT,7nWsh14AHpnTzq1Xejz90U,1fgvJXlcZ7uIddMpqsqw0L,2SLZ2rX5773RS16mcqBxG7,595JwfRS0iFbdZyhlBxokI,6j8nh1kHwezw8pkC2eU87F,5z6xHjCZr7a7AIcy8sPBKy,6IFOw9Ck9mWHRQgw6QrPYx,5IweeQZdY5XEzStLzUJG5t,3qzcM6SmbzBnGXSJe6hYdy,5mNV8Mz59bzyuQ53gTw0c0,0rRboI6IRuGx56Dq3UdYY4,4UfupbARPxljVkBmuZlJnY,0tWdRXWDUd1gWLthXgk6Dp,6FLwmdmW77N1Pxb1aWsZmO,61fUmn6wYvU7qS62wNvQFN,41nT1Sp6ChR65FbsdLlFHW,2B1jt2a6zdN4qLiugoEJry,0xikWgPgYN9BEes0ieZ8Co,747tpec1a0Hfqvj2za1pBs,1Jlt67b4oOhCoFW9GQwL9T,16MJqq0vEuW6GRX6faetTm,4Mnw05kNd0j1XDHwtfzofp,5S9810AEDRnVQovixcU2h4,4cNhx6OO1XpvwT6xZnb83B,3Gf5nttwcX9aaSQXRWidEZ,4h5KBcltGefua73AUPYps7,0HKD13PLq2WicViBBhSrOl,1Sm3U3B5XoidYQEZQZrh3i,25CMmGsl22APKhfuj4Tp7j,5zn1hpm9N0ylKB7kOtpCw2,0Uyh92tLyb9JawG8lmWCzJ,0wqOReZDnrefefEsrIGeR4,0ARK753YaiJbpLUk7z5yIM,7lQ8MOhq6IN2w8EYcFNSUk,5xEM5hIgJ1jjgcEBfpkt2F,4w1lzcaoZ1IC2K5TwjalRP,5QpaGzWp0hwB5faV8dkbAz,15f8Cv8RXUlOOCIf2oaceN,6fR6Z0Vc1K6yQWNUIKjAIR,36jSIOSE72neBbKntCthqw,0YImOCkIJ2PWhCXaURCZnY,4xkOaSrkexMciUUogZKVTS,6Wt5QBzHp9vdSLAFlvdnDQ,0IspqeDVLIw46spUMhOKRL,7DUpuAzGUyJaJB3p9BC3Ms,6UEfyhyfhYQsyipxOd95Ie,0qvlhVNm7L5IWabWF5hlEL,779ooI3rBd0CLqCiiJmtVo,5p0KCAuu5nrHpTuAIhHdLw,3GhuNU58hVUuzKY7LHmFRB,0pLmfgIANOX9FB9uZDU43x,4SnTf4ixVZCfQtxHNhky0T,5fkDD7aQLUmMy1EwzNm0ZB,2zhGnnDewN4kBsVzbqjBtX,0WgLpgUdThEpA5L5K0SKq7,1Q9b6CeMcDuO0uq5OJCrqu,5r29mFrurlVBbqJzjr2XW6,5Y0E3dOeynKuLDAXu0t0Bg,04KTF78FFg8sOHC1BADqbY,59ZTxQo8rBycIXPLUIKvE2,2mKouqwAIdQnMP43zxR89r,6AfLmKXzhEZjwiVPs5jhdV,3oXNIpoUMdk8qGkwCeXqGv,3SCVtAJq8li6HlKfM4M08u,21iEEekDSvQjVARSQ4dpXY,7lVNTXkI3cHFvcXiI8damb,14PbhGTCaHCXDvZzfTWumU,1F1XjwRzMh8KT2BvH6ISkG,6XK173kEu52iupeIqOnp41,2iWyrSHvs6qhFzfpiLAK0z,02jcEwywffn3Tsb48fXmlW,1NRorokmYEtr1koWybvaE4,3jagJCUbdqhDSPuxP8cAqF,563vSy3HB5NHxel1VGQCW6,2VSbEXqs6NbNiZSTcHlIDR,4hrae8atte6cRlSC9a7VCO,6zMUIb4uce1CzpbjR3vMdN,00Mb3DuaIH1kjrwOku9CGU,4gdQ8QShlC3toP9Mkc8DwB,1f2V8U1BiWaC9aJWmpOARe,4rr0gWiMrF4sOIefs3IEvZ,1QhSB9L9M5eZQhW4RNOhXK,2LVxvGhl2U5p2ql2ujc6vZ,5PCJldueshnwqQVjS16543,0eFklulxFnNCypNSrywzSB,4KqTGPPmXowMPEoShSVOta,16DhvbuyvJob4Q9GHNYu2n,4SyadrABZJIjeND1HPJS31,4IEOKcFZGMiKp5NXYjH001,5dpAN1mjFPL38kh9kWsCiw,0kr6d8wHDQPlzuET33NVn6,6lSr3iZTC144PKhvbPFzMp,074v54tSEWLbq3Hu5wf6uh,4RY96Asd9IefaL3X4LOLZ8,5Z01UMMf7V1o0MzF86s6WJ,5IVuqXILoxVWvWEPm82Jxr,4O4dhPrjcw7GSLNafNydmb,0xmjwnQ3FNE6HuWCt2nHdZ,4ZOyH6KjomjlqCz3oFqglr,4bJygwUKrRgq1stlNXcgMg,1n7omixiROWs5q6xpWiQuL,6dK1HEHZcQlh24bSU7pTaZ,3stnrhzN0lzZFskbaZ5sEw,5ljCWsDlSyJ41kwqym2ORw,2D1hlMwWWXpkc3CZJ5U351,4Yf5bqU3NK4kNOypcrLYwU,4O9ICXbrUTAVR5kkx6xANJ,0COqiPhxzoWICwFCS4eZcp,2icpXUdhbKPNXRJD7lPmXX,23ehR4jpFQFMfDADgFdXR7,0M955bMOoilikPXwKLYpoi,0r2Bul2NuCViraT2zX1l5j,6FTJuZtQZvmPPRFmrcno9J,7mS8RbJji2UZAaguRGsOCH,1AWQoqb9bSvzTjaLralEkT,3dPQuX8Gs42Y7b454ybpMR,5TpaWJKnuyA4MjzAbFXSTQ,4WY3HyGXsWqjFRCVD6gnTe,0aULRU35N9kTj6O1xMULRR,7qPiLAs9I8cqUv1BCnmlHN,1AEYT6VxrxXPMoQUxsY0E4,1AjQE5MtP5jHQMyDepbvLI,25Mn17RDbdJHiKL5SEhLnL,1lKS7SZQ7r5vOChLwJurmm,2jGUAB6hKlzK0pZmZpQ02g,0RilVXCOQf4AD6a4uTTs7d,6rpNe6gSkmiYW6BfSFATi5,0iFOG4Ki9aDmJUYUFHQlPG,0l3GEbH3CviUytD6iX4wzg,2BeoIEbdG1kOWYKQhNl4dX,3CZlTOyNnKVMb021IYEY6r,3Gamc2D6VSlXpUcmhPUFYt,41bIQPBE1lFN0mmw6Lmssz,7kAFSrTIOiVZ0gnHBuAH3l,75DjPjiIp2fvJDjtt41Jfs,71NJqORRmwlcZSLk0VsFjU,2fE4MbwX3QGMzNaMjGVhtw,5ojJNnX5ND2gMGojPd3NiO,2VHfyWLlvCvbkIqtS5tqt3,0O5oSZuSSQhLanMLMmQrRd,3OUApyz3jDB3syGUNGqB1d,7Lf7oSEVdzZqTA0kEDSlS5,6pWzCKTrKrwbUPzY8RLCoP,4jacsL77ZYnpInmTtUBaJW,3YuaBvuZqcwN3CEAyyoaei,3OQu3z3okKVmWxSXTTHak5,3kgutGd839IOYRl6ekeq6V,3adnLFXKO5rC1lhUNSeg3N,6HxweNytuEQdmGeVtZPZz3,0FmCLEHfINGqwlyzvklNqy,2iclfHORMqpR3TxuhwVRhD,6Bm6qUCSatPAqkQllFL7oA,5z7mYFfhw6N6f23VwrokJD,0yHConG49418wPs8UfAt44,2md2i5QvelRFnafpnd6LOg,2g2a5kDeZexbUTD8abcvm6,5dWfl2PBpKHpBVdz95wxK1,57Xjny5yNzAcsxnusKmAfA,5rb9QrpfcKFHM1EUbSIurX,2PpruBYCo4H7WOBJ7Q2EwM,3xl7PsO7Hzuig6To9FgDm6,228BxWXUYQPJrJYHDLOHkj,4hfIVhq0F0zFUcrbecsYmo,4nnHlGaBwJHb1rBetqj0Yl,2Ozc0me9PV5vlt8cokwdvI,7bZsx7Zif6FIhrcZrh0LVm,3sckKKIx96cjPXtiqPHCTB,0YGQ3hZcRLC5YX7o0hdmHg,0YUrjFy4qFKOO5NhM9tYdV,4XHQyvbrBsQaaBUW1VvmsL,2yr2HnFYl7XvqJk4fXoQBt,4dvQg9sD8k9y4qiEURuj8v,1xNcBAoUw8Hz6LqK2jt4Ff,3dFwpxh2yH7C7p9BGEKLVB,7uSsHbBFFAnkRQR1rDwP3L,2ndnVdR8si7CW9T8vJRHyW,4MeDnO5yA2Zi6IMlVApRci,3IrkbGQCoEPAkzJ0Tkv8nm,2EM9zpAc7PVeoAydmbfVIL,0cZDC7uxNK8lqQ3GgyvCnD,4Kd0FzFpOgIGxlBl4HXuFn,5NJhMbvK53XATYf7qHEqZL,6n8TMVyFKoUmDc4apxceRD,4L55p6txv9vuCWhpNnY6eY,6cR1U61DMpYbS2TtNTlSvo,0qcjuYtMWhBjXg0Xwt5SzS,2NBQmPrOEEjA8VbeWOQGxO,2o7V26rsF1ukcRI005S0LL,3CcvahnsiArpTHYQEWV2Au,3XTaaGGAL2gVVaAbu0yxQX,2tOZtdbkAMQASWokLvSlzj,4Vqd7MuPVrciqRS3EzhKWb,20I8RduZC2PWMWTDCZuuAN,0jSMveIWvnhDIvzqN74Uc7,1dHJETCn2X1R1YwVlMvSza,4s0o8TJHfX9LLHa0umnOzT,5g1vtHqi9uV7xtYeCcFOBx,4UzVcXufOhGUwF56HT7b8M,3vZfy3cXEYojq7BvSt87Of,3A4cpTBPaIQdtPFb5JxtaX,6nTiIhLmQ3FWhvrGafw2zj,5dxHF4lrDimKqnI3GaZUmC,4mmkhcEm1Ljy1U9nwtsxUo,2T8hXV9LUZMDBKR5RALGEa,6sqNctd7MlJoKDOxPVCAvU,1p5kC161fWMA2QlwV3Vi4W,3NLrRZoMF0Lx6zTlYqeIo4,5SkRLpaGtvYPhw02vZhQQ9,5y8WWi1BaKHXfuln0XoIZs,3rQjc4GGMcrtXwis7vBzaQ,312A8WfROSLvZbMDHBUPDp,6CN3e26iQSj1N5lomh0mfO,3JOVTQ5h8HGFnDdp4VT3MP,7yXibbAYi4to5oQTeO738f,6LGwYMXXgURfaequXipzHx,3LmvfNUQtglbTrydsdIqFU,1PS1QMdUqOal0ai3Gt7sDQ,4TsmezEQVSZNNPv5RJ65Ov,5D2mYZuzcgjpchVY1pmTPh,5GorCbAP4aL0EJ16frG2hd,1bqZ94bPrrHyIpYux7rVj7,3850dYVgOFIXJh5U4BFEWH,4nva9EpKntUTs6CRSGBCn9,4gXdMZkBN1neE9nX6yRALa,4kOTDj4SiZPkW1p96WMDNv,4bz7uB4edifWKJXSDxwHcs,6ndmKwWqMozN2tcZqzCX4K,69bHJ9qs5FrUJbKP8xU8uZ,7xYnUQigPoIDAMPVK79NEq,19JdbdEwQI7bCxefMokZO8,7i7UIbm5E0DD7aSOYvwp2v,7BKi4ZcyMBXeAvJ1OPxhdV,6EfyEbyk4XjCisJz90V8Ki,0rLzyBecRbTpnBWvMtPVFR,5sNESr6pQfIhL3krM8CtZn,2wGSgTmgSF3xjRrHkTc25R,0d28khcov6AiegSCpG5TuT,0reKGVcWLVvl1FzjZ6TACy,2nCmCt4B5vkabS0zeOuc1Z,0Ss50OU9tCozI7JIywkv14,561jH07mF1jHuk7KlaeF0s,5BSclXJTa9B0iURhUjZo50,4Hff1IjRbLGeLgFgxvHflk,07u02f6biDHx5VexfAs41b,2ajhenDRiiAnCHHjsIOHhJ,0UaMYEvWZi0ZqiDOoHU3YI,4faFAhOflLzhfJECveRwva,3B7i9OKRRmIsSBHEbJz58Y,34KUIBsIUiPV7oCIzSdDAU,3zdDxhDo5SycC7XSAPfdjv,4FTOpNYcGxnQdGNWSxIcio,0LzrhCZFXW94Y8nwtTuRlw,0lP4HYLmvowOKdsQ7CVkuq,7jLbTp3qZzah9kMIdW8e5M,470UOQDSTMTBEgkBaeqVN6,41PWz0hAiU9FqsmjR9Wh62,5Y78yINSOCW6xbOfGWNBg4,3jEqrIfwKO0M8ALu3TGilF,7IdfMBufDn3yf2JhS3a5w0,0AKAxdNkwq9ZxRdW1DN9zW,5qrzhg9Fmu8Amg2uMhHfe5,29EkMZmUNz1WsuzaMtVo1i,10NH6nFIKbx8Yee8cQ1gDn,1oNToERLIN71YCPLbRIQGQ,3fMoeGj4mDusrmYOOF60aC,6uYAPqxP69zfpCbsTHXgiz,4NjR63Up0uMkQBlKvlZd1l,7clUVcSOtkNWa58Gw5RfD4,5p9XWUdvbUzmPCukOmwoU3,3xrn9i8zhNZsTtcoWgQEAd,6fzcnVO0X2cpYjsHk19GJo,5lDriBxJd22IhOH9zTcFrV,7G6l2FtQyRhQgYgut2I6i8,3ZFTkvIE7kyPt6Nu3PEa7V,0k2GOhqsrxDTAbFFSdNJjT,0O45fw2L5vsWpdsOdXwNAR,6RX5iL93VZ5fKmyvNXvF1r,4wH4dJgrsxONID6KS2tDQM,0Qn0i8df7Q76ej3RAXAtI2,6yuvC80FcnVJNvC0DbXN9e,6btyEL6NwUa97Nex9cZFvo,2gam98EZKrF9XuOkU13ApN,6WoC2b3CCpyrDQJKkBQZn1,6k8uthjEbttfWXcGaNTQGD,3BxWKCI06eQ5Od8TY2JBeA,3rKCDtV8UcF0RytSiXxypc,0fGh0trRN1xz3s41r7V5ce,3lPr8ghNDBLc2uZovNyLs9,53ETzLQQKFCzykRbqWb1ph,7g7M96UGiA7OR79H86gV4m,6o3s08kk2fQI37vxGZDrJ1,4GIsskMpViPkt0uzPJTJSp,05Sgj1Hx03ZXc57gsV1kfX,4NeOWqHmlrGRuBvsLJC9rL,4Gd9PUEuOTOJtbgd4YxLXM,3YQjgTpUVNWvpYeb2mtTF7,7jRoWfRlLnGYEIEn4t4kbq,0JbZk8LQm3hCecAykIwAPn,423EcxblW9F4nnQkqcqMlK,1Ab6RxeKl3e07zP7Get7CX,0Eu5SrReZzaJX0NLKI8tQS,7M13FwBAKWNa2jqcZeUhL6,5loIRrZU3ez3r102qFzJI2,6Y3WvyUG9iE5bQYg38SPtQ,5YTSbfnyJRqul0H8kmamg3,13xxBnXOuiBxVxJI458B0i,2dxjKgT0li4qBI3QwuN9Ih,7cVmKBwzPsh4Fmb6SplfEm,663Karu2rvKLdnY0eo1n3M,5hF2LnbkpnXCkksMSeWcxZ,2JpUkUR0OsOlUUfm6iS8ic,1bPqAXwNiVcM6zjJU1Z4Cd,0tYPj0NYa7vjlJaqlRSnJb,2Fs18NaCDuluPG1DHGw1XG,2RWxrpsFshOBFwRBRstUlQ,4T4NLIMypdmyUwK54jECk4,0k6HUzaRHpQ3eEWr1C7Esh,0DMRKqrpd0QO4RWiEdMib0,4bVuIlGQBMWS7vIhcx8Ae4,10Nmj3JCNoMeBQ87uw5j8k,13pyGLYmBjYgvOMIEivX2K,6brl7bwOHmGFkNw3MBqssT,40LQiUUUKXVGyNs09lHVjW,4xlEKYv7HmC8zXoJIbpZKM,3ItzRpwvKtkDSNdRSjXu7Z,4bPQs0PHn4xbipzdPfn6du,6gxycjJNMgmAyfzUXBN80P,0qAMjeQFyd1qD0LDiV8gWp,3U5JVgI2x4rDyHGObzJfNf,28euH5Ny1JXxZAt2KjWp62,5fVZC9GiM4e8vu99W0Xf6J,4mnTMsp8Cgf9TNiQMhH11L,5wQnmLuC1W7ATsArWACrgW,7DFnq8FYhHMCylykf6ZCxA,2hns6Dv29Yrg68AVTJiAyA,7wZUrN8oemZfsEd1CGkbXE,2yPoXCs7BSIUrucMdK5PzV,6ic8OlLUNEATToEFU3xmaH,4AniPkv5vgdE1n6VKreiyI,6kopmMZiyLmw7h66uXcXR7,4RCWB3V8V0dignt99LZ8vH,3pD0f7hSJg2XdQ6udw5Tey,66ZcOcouenzZEnzTJvoFmH,2bLqfJjuC5syrsgDsZfGmn,2aI21FnmY7TJVKeMaoQZ0t,4LjfIjS8iweFCPdKxLnEoV,5TmFTHZp7HjBXjjsFvCY6h,2kQuhkFX7uSVepCD3h29g5,36Hwcla06Q5BCr59CL0sBp,06Vw2ZOhalTwEw4PhoGRSX,6WoC2b3CCpyrDQJKkBQZn1,0j2T0R9dR9qdJYsB7ciXhf,2HWWNoWEEEECwZhAiLg7ib,6ajyEEzWZbw8ycDcJAN099,0CXVjQI9wsqaGeIARkkpYc,66TRwr5uJwPt15mfFkzhbi,4JPCdSaqs9dJd7RatFSHww,1iOJQhxKSJ7dg3Dk03yPnl,4Tn2llBm1g0UlWctmgPL8Z,2a03afRiyAbNAleOByVju4,18lR4BzEs7e3qzc0KVkTpU,3wKKkGVn7cVSfgPeYYIiXG,1IYaMVfidzSfvCUZYXhsU1,28IEbk5a7twNTbUEvWslUb,0YkJU6TjjwzsVXUPRIO0DB,4eAwB5pnKFTmsgc3zWoYO0,5rTIpPWeO0IL4HWlGWrz5G,4KTtYhxFtFL7mBwnjkKfLm,0UFDKFqW2oGspYeYqo9wjA,7j31rVgGX9Q2blT92VBEA0,6x2xqg5fQNu9dNCXu83ezE,6CFPFnS9EcLs2I0nWqtWci,234RqTZmnDTnxWlVciXHLD,6PBAPjshd2JfEiWpdf3C2a,6BqWhxll86CGGE6WxgdRqG,1RGIjMFMgJxkZHMDXVYzOJ,68Zq7PMcPIQE8ol1x3gAqw,1D066zixBwqFYqBhKgdPzp,5qhlC4Rzals34zxovrPzKp,1zyqZONW985Cs4osz9wlsu,3Zwu2K0Qa5sT6teCCHPShP,5iyE2d4U3Vc5cqY9mPTlpy,0JJP0IS4w0fJx01EcrfkDe,30FURVTCpbKyykjSEQzGkH,0JfAMd3xTqm7ZYhBmQjYzt,5Yaw45Q7W0irDbTVN5LOVs,53SqGkNJAYLss9AgbduTqQ,1lHXlGlve5Zx8tXLhyjDwM,1oagRT7LfpVlNJN6FSZDGp,6SpLc7EXZIPpy0sVko0aoU,6DbqCKweKwVkHgRv1CI53D,7x8dCjCr0x6x2lXKujYD34,1JwIBogbuZ4Yfb6nssXWa2,3LGeYNY9aWQuBJovOOowqm,3RGyFugqjQjlL8XX0NW8dZ,4wzjNqjKAKDU82e8uMhzmr,7dzUZec5MnWMyQnk5klnKR,5lUTzPuiloBHm1qEaJcJfF,1hGy2eLcmC8eKx7qr1tOqx,1BV0m40U0M4t1SLIsDnwZl,0ZUo4YjG4saFnEJhdWp9Bt,0td1GfBHNxlGephozVmL9k,1tkMs9wDPknQ3ZHcKDw1ES,2elA6JLRaQ6iB7hxiuTKN4,6SmPPtaMnfxgz5duA6t9Cu,37pFLuNVnAJQL9ysRoKTdy,4liGjmhCupa7RP9JaQELYx,56Tl3UgyZTqfZtvFNS31wm,48yZwqAxCZk0t2ssDw2hzH,2aibwv5hGXSgw7Yru8IYTO,3QnEp4rluCxUwgpXT43jmC,0CAfXk7DXMnon4gLudAp7J,005lwxGU1tms6HGELIcUv9,3goSVuTt3fDYDP6kRnFwuL,26NX1wPt1TRCH536yocd6i,2VOomzT6VavJOGBeySqaMc,3aQz0z86zrKjd1mcZlonxE,52K4Nl7eVNqUpUeJeWJlwT,4P7VFiaZb3xrXoqGwZXC3J,5Nr1ZcH9PGTiQdGl9HCCS1,5TRPicyLGbAF2LGBFbHGvO,1oHClQEgDmmbcEx12Kc5nZ,1y4eb6hmAvsqlDOl3fx9kk,1wva1IlWLDNLgwipUWcmjy,1ARJhjuI6TNYZCxYygFQ4F,4fixebDZAVToLbUCuEloa2,0F2BxpbxH8Yc3pLub48hrb,3jlbL2OTD5YmIunYzgQTAN,6ScJMrlpiLfZUGtWp4QIVt,3MldzywZOH4Uci6bq9noyJ,2PTvik6EqPAIYOclAB3SU8,3XCezj8BPm1xGH3qS6SruW,6pTg4H8juKV9iSzrcVUbM3,0aeWFHCKwVoavQdpduyB1Q,3LN41NUdHkyNqQhi9gExMm,3tSuRiNgJmMqmYR23dCqnR,6AdLyvisRKHLAwARaZMGr6,1uigwk5hNV84zRd5YQQRTk,4iz9lGMjU1lXS51oPmUmTe,22UDw8rSfLbUsaAGTXQ4Z8,3pxCXv0NACYfYnLjFcQW5D,6tC2iHfUlzB2W4ntXXL2BH,4yHFxB8kzzeuNvoouR8N0N,0JiY190vktuhSGN6aqJdrt,1kxeWHF9PrCVZHvVskv8lg,3RDcUlLGp3SLp2AmUbUbls,1ixbwbeBi5ufN4noUKmW5a,0uybt73QFXaLCoxuVf6fhm,2aEuXA1KswHlCGPOuPmCOW,1C6eViOmSvwrXz9JTHYaOV,5Hv1QAbRWrUSUHaT0CmnMS,3wkNK8tJZ2stygNJm8RCRD,5liQj4sVRmEEESvvcb64o8,5j0McHPthKpOXRr3fBq8M0,45upEMiYeArj06RERttNFx,2xUjNGHjJOBcpTf7dYx4EY,1gt1fWqUZOUgT2kTArAw4E,0exb0K7vsjf5bXWLJJhAuF,0tp2cUnCAcsR6xL5kw9HKu,1IAzD1muglOxOcPbUHs70R,48s0QHJgmiNsth3WEO6U4M,33vzOPcd9FRirYGlCu32x4,5o4W6yWSJD9e9Ea8YC9WjF,1mea3bSkSGXuIRvnydlB5b,0ntQJM78wzOLVeCUAW7Y45,4ZPdLEztrlZqbJkgHNw54L,3nJjIYchBNkYm7B8XfJf5N,1ZqHjApl3pfzwjweTfMi0g,72by3Re4C3eVEBXvsUo0zV,2VEsmoek0sol9MnJFyoG9e,7dltD9eEX7X1zk8JJ9BS0e,56pHllZT7QOacB0bP56ofx,2iXBZ32Fz5VDCLeE0JIdX5,50xeLNGKmskmYUSINhqvfa,2H1047e0oMSj10dgp7p2VG,5R8dQOPq8haW94K7mgERlO,0uXO2GrNiIb1xHT9LUdxZE,3GpbwCm3YxiWDvy29Uo3vP,1vrd6UOGamcKNGnSHJQlSt,6Rb0ptOEjBjPPQUlQtQGbL,7jk7gqyEonmVVYahZN5zhW,0TcJ7QWpggdSg8t0fHThHm,2UREu1Y8CO4jXkbvqAtP7g,6wOYnPq1hPihRepcDClPUw,4EWCNWgDS8707fNSZ1oaA5,5FEXPoPnzueFJQCPRIrC3c,2x7MyWybabEz6Y6wvHuwGE,2hdy9Wt9qp7M7d0U3ossu2,13plQdOoWSSXPRUSZc5FuM,3IcIIZMMS7UArJJPtEHXG8,3opVsyWVYEAFK9bJAG8Opa,7Hqig8kp32q2Ire3ECQvWM,2igwFfvr1OAGX9SKDCPBwO,5XRHGXut00SrJUFmcn2lQF,4NpDZPwSXmL0cCTaJuVrCw,360ZhWvMnyXKYFG9Mqsm89,6Wx88Mv6b9ofjKMKkdwOJd,6TrNRd98WksT9Kkmx9uj6R,7LR85XLWw2yXqKBSI5brbG,0SiywuOBRcynK0uKGWdCnn,6ddQ5KCkvCggk3j6KdA0zL,7xdmTEHRbgQuLR8KpRLLnn,6ATrsVaZT7XjkCynxM8cTS,3R6dN42VdwivkZTMz03Rci,77FULy278MulVvGWS8BfK7,6WdV6QM8t87dPidhPzdRJW,2q4rjDy9WhaN3o9MvDbO21,4dK00wCxlqWEeN8BoM1BHT,5xeSDlt3eCxPsWKBhfUJTR,426vBhxw4upEf11BqBBgs0,5jzX4dWVQeBTtfBaXnMRt5,7Kpqjspw4Y7HrvItIRcBiW,0JYRNrTwUmeySRX37azvnH,1YaVmBh7EAeR54FIjuFcb5,0KlahhzNb98zyN83Vwae0l,6c0GmyBsE7mQtrVvxJaWc3,67T6l4q3zVjC5nZZPXByU8,7IhsLJMqdxoo7YAZjaSMru,2oENJa1T33GJ0w8dC167G4,5r5cp9IpziiIsR6b93vcnQ,7kMfu3KUydmrFVGEAhjtyl,4QJLKU75Rg4558f4LbDBRi,3kMrazSvILsgcwtidZd1Qd,4VqPOruhp5EdPBeR92t6lQ,06T10fEzN8ZCcqzQZYA184,2ZBNclC5wm4GtiWaeh0DMx,3RBGG1be9aBaSvjnw6ABkh,1NhPKVLsHhFUHIOZ32QnS2,4KAzYqfcijCSZa2P3etHoM,3QLjDkgLh9AOEHlhQtDuhs,5Q0Nhxo0l2bP3pNjpGJwV1,1Nme6K1PYAh7p7uygyuRdf,64yrDBpcdwEdNY9loyEGbX,58FUwmyGUqkt53YPUcm7cJ,3GCL1PydwsLodcpv0Ll1ch,0CwYG1UnRmOx8Q1EzElCIL,1akgiRM3mN2nxu2AX6ACCW,6fvxos1qSHrIgOkKw4dhWS,4Dm32oO01YpIubCHaAtKkN,6JnufVNLIO5F5Lk4sEVLeI,4IoYz8XqqdowINzfRrFnhi,7BqBn9nzAq8spo5e7cZ0dJ,15JINEqzVMv3SvJTAXAKED,2GYHyAoLWpkxLVa4oYTVko,0HPD5WQqrq7wPWR7P7Dw1i,4dTaAiV9xFFCxnPur9c9yL,2ENexcMEMsYk0rVJigVD3i,6KOEK6SeCEZOQkLj5M1PxH,0WCiI0ddWiu5F2kSHgfw5S,5ojIL91nfnWExoXSCkvJ9E,4DvhkX2ic4zWkQeWMwQ2qf,6FbGlkHKGkYqpSCuBgurn3,2DHc2e5bBn4UzY0ENVFrUl,2qugfmw9Hi27DyIo2gite4,1AguHaKOuggrVTebp7cZEI,0oJMv049q8hEkes9w0L1J4,7Ie9W94M7OjPoZVV216Xus,60jzFy6Nn4M0iD1d94oteF,2Q99zPXVqCPN5RaZawvJWZ,1hBM2D1ULT3aeKuddSwPsK,7vWFaMq63AwkFDhS2OAg5u,41KPpw0EZCytxNkmEMJVgr,6wN4nT2qy3MQc098yL3Eu9,4356Typ82hUiFAynbLYbPn,5vlEg2fT4cFWAqU5QptIpQ,6ebkx7Q5tTxrCxKq4GYj0Y,45O0tUN9Bh6LH4eNxQ07AT,03tqyYWC9Um2ZqU0ZN849H,61HQWI1Woxup7CnGwVUsdI,161DnLWsx1i3u1JT05lzqU,2V4bv1fNWfTcyRJKmej6Sj,2rDwdvBma1O1eLzo29p2cr,4AYX69oFP3UOS1CFmV9UfO,360UM2DaiHZPRu0EsrOvMp,7tSO7DrrYpiMXX3zM4b3oM (Caused by ResponseError('too many 502 error responses'))",
      "\nDuring handling of the above exception, another exception occurred:\n",
      "\u001b[0;31mRetryError\u001b[0m                                Traceback (most recent call last)",
      "\u001b[0;32m/opt/anaconda3/lib/python3.9/site-packages/spotipy/client.py\u001b[0m in \u001b[0;36m_internal_call\u001b[0;34m(self, method, url, payload, params)\u001b[0m\n\u001b[1;32m    239\u001b[0m         \u001b[0;32mtry\u001b[0m\u001b[0;34m:\u001b[0m\u001b[0;34m\u001b[0m\u001b[0;34m\u001b[0m\u001b[0m\n\u001b[0;32m--> 240\u001b[0;31m             response = self._session.request(\n\u001b[0m\u001b[1;32m    241\u001b[0m                 \u001b[0mmethod\u001b[0m\u001b[0;34m,\u001b[0m \u001b[0murl\u001b[0m\u001b[0;34m,\u001b[0m \u001b[0mheaders\u001b[0m\u001b[0;34m=\u001b[0m\u001b[0mheaders\u001b[0m\u001b[0;34m,\u001b[0m \u001b[0mproxies\u001b[0m\u001b[0;34m=\u001b[0m\u001b[0mself\u001b[0m\u001b[0;34m.\u001b[0m\u001b[0mproxies\u001b[0m\u001b[0;34m,\u001b[0m\u001b[0;34m\u001b[0m\u001b[0;34m\u001b[0m\u001b[0m\n",
      "\u001b[0;32m/opt/anaconda3/lib/python3.9/site-packages/requests/sessions.py\u001b[0m in \u001b[0;36mrequest\u001b[0;34m(self, method, url, params, data, headers, cookies, files, auth, timeout, allow_redirects, proxies, hooks, stream, verify, cert, json)\u001b[0m\n\u001b[1;32m    541\u001b[0m         \u001b[0msend_kwargs\u001b[0m\u001b[0;34m.\u001b[0m\u001b[0mupdate\u001b[0m\u001b[0;34m(\u001b[0m\u001b[0msettings\u001b[0m\u001b[0;34m)\u001b[0m\u001b[0;34m\u001b[0m\u001b[0;34m\u001b[0m\u001b[0m\n\u001b[0;32m--> 542\u001b[0;31m         \u001b[0mresp\u001b[0m \u001b[0;34m=\u001b[0m \u001b[0mself\u001b[0m\u001b[0;34m.\u001b[0m\u001b[0msend\u001b[0m\u001b[0;34m(\u001b[0m\u001b[0mprep\u001b[0m\u001b[0;34m,\u001b[0m \u001b[0;34m**\u001b[0m\u001b[0msend_kwargs\u001b[0m\u001b[0;34m)\u001b[0m\u001b[0;34m\u001b[0m\u001b[0;34m\u001b[0m\u001b[0m\n\u001b[0m\u001b[1;32m    543\u001b[0m \u001b[0;34m\u001b[0m\u001b[0m\n",
      "\u001b[0;32m/opt/anaconda3/lib/python3.9/site-packages/requests/sessions.py\u001b[0m in \u001b[0;36msend\u001b[0;34m(self, request, **kwargs)\u001b[0m\n\u001b[1;32m    654\u001b[0m         \u001b[0;31m# Send the request\u001b[0m\u001b[0;34m\u001b[0m\u001b[0;34m\u001b[0m\u001b[0m\n\u001b[0;32m--> 655\u001b[0;31m         \u001b[0mr\u001b[0m \u001b[0;34m=\u001b[0m \u001b[0madapter\u001b[0m\u001b[0;34m.\u001b[0m\u001b[0msend\u001b[0m\u001b[0;34m(\u001b[0m\u001b[0mrequest\u001b[0m\u001b[0;34m,\u001b[0m \u001b[0;34m**\u001b[0m\u001b[0mkwargs\u001b[0m\u001b[0;34m)\u001b[0m\u001b[0;34m\u001b[0m\u001b[0;34m\u001b[0m\u001b[0m\n\u001b[0m\u001b[1;32m    656\u001b[0m \u001b[0;34m\u001b[0m\u001b[0m\n",
      "\u001b[0;32m/opt/anaconda3/lib/python3.9/site-packages/requests/adapters.py\u001b[0m in \u001b[0;36msend\u001b[0;34m(self, request, stream, timeout, verify, cert, proxies)\u001b[0m\n\u001b[1;32m    506\u001b[0m             \u001b[0;32mif\u001b[0m \u001b[0misinstance\u001b[0m\u001b[0;34m(\u001b[0m\u001b[0me\u001b[0m\u001b[0;34m.\u001b[0m\u001b[0mreason\u001b[0m\u001b[0;34m,\u001b[0m \u001b[0mResponseError\u001b[0m\u001b[0;34m)\u001b[0m\u001b[0;34m:\u001b[0m\u001b[0;34m\u001b[0m\u001b[0;34m\u001b[0m\u001b[0m\n\u001b[0;32m--> 507\u001b[0;31m                 \u001b[0;32mraise\u001b[0m \u001b[0mRetryError\u001b[0m\u001b[0;34m(\u001b[0m\u001b[0me\u001b[0m\u001b[0;34m,\u001b[0m \u001b[0mrequest\u001b[0m\u001b[0;34m=\u001b[0m\u001b[0mrequest\u001b[0m\u001b[0;34m)\u001b[0m\u001b[0;34m\u001b[0m\u001b[0;34m\u001b[0m\u001b[0m\n\u001b[0m\u001b[1;32m    508\u001b[0m \u001b[0;34m\u001b[0m\u001b[0m\n",
      "\u001b[0;31mRetryError\u001b[0m: HTTPSConnectionPool(host='api.spotify.com', port=443): Max retries exceeded with url: /v1/audio-features/?ids=6naxalmIoLFWR0siv8dnQQ,2m1hi0nfMR9vdGC8UcrnwU,0v1XpBHnsbkCn7iJ9Ucr1l,62bOmKYxYg7dhrC6gH9vFn,5Mmk2ii6laakqfeCT7OnVD,3yfqSUWxFvZELEM4PmlwIR,7H6ev70Weq6DdpZyyTmUXk,49X0LAl6faAusYq02PRAY6,3cqZlRpC4lOnxUE7HE3N5k,2xaFtNhCw5Q4hn1EKsrkLv,79EAVfOpzgfHx3IE2BVFQv,0pMUR7Uvp6vxlbG0qBFvgM,4LwU4Vp6od3Sb08CsP99GC,60a0Rd6pjrkxjPbaKzXjfq,7GHKA8GIMcND6c5nN1sFnD,4Y8q64VnhD0vFYy9g2WFpi,2avKuMN2QXkaG9vvHa2JLt,6Sy9BUbgFse0n0LPA5lwy5,0LWkaEyQRkF0XAms8Bg1fC,4l1MNtoCiTxBwf6yxD7kFd,0AcLrSfAEBQcUnHOTm5pXg,0JcgDliDqDac8iOFFRm7tZ,7m97yKVzPpXV9Z4ezEziOD,5S0cvScXb33JVpjTiY9Ivi,7f1Dmr246cJ9uQYdbplTbh,5jZfGxZDayFA1HzYmyOG3a,7iXF2W9vKmDoGAhlHdpyIa,7mYvtEeBdMqRSyj1Qpv6my,3BsaRV5QIulYz2lV9WWa8T,1rj0XawWJNisX7SGYexowJ,1ak0S3NhwWrUgNlQhJ1412,7JKEA8xYDoFp4q0QBW2PGg,1NNDZc9BHaWe9JqIsPRlNV,1uPrIHgYztXSkkcts9jet8,3w8Mw9GHYepoTWOSdiyosj,0s46SltT4On0Z6kglK1I5c,1RS3LStQYhju50eBdD9Uul,1H5tvpoApNDxvxDexoaAUo,5PMKzsUsTpZZGsCcJBuhP2,0HNXnhNZZtRZFLhP4hfyCP,0Ac0Ge47UpkVceZyPin7IP,0UzsDmdpw0Q14KU4hieQss,4Do68W4FWO2hRAJCzG1lus,64BbK9SFKH2jk86U3dGj2P,0gPQTLaqHDgdupKEok7J2x,3XKIUb7HzIF1Vu9usunMzc,6iiaDMXr1eqnSEH9W4DLYC,1vlTMKVV0FxG6CxGTmSY3t,5s4catxeZsaWFnOrvrXZHf,6ZOBP3NvffbU4SZcrnt1k6,1jRzdY7oUBOhrylNtiMtBD,1sjrDQXqAa9V07FjKIlAQ4,2uZwyxrg6VPvlVsvclIfel,2oncAh9o85pq1aswacLqAz,69XUpOpjzDKcfdxqZebGiI,2AW37v0bDyuOzGP3XnmFuA,7BgUcOjSOlKJXASLgJ6bx1,2dwhMQsFeHr2S787WxqAqW,35o9a4iAfLl5jRmqMX9c1D,0eKyHwckh9vQb8ncZ2DXCs,5OQGeJ1ceykovrykZsGhqL,25FTMokYEbEWHEdss5JLZS,7A0apkTSTvMbSI7yplcmlh,3wMUvT6eIw2L5cZFG1yH9j,3WkibOpDF7cQ5xntM1epyf,3UmaczJpikHgJFyBTAJVoz,7GQqj9jRtDkMp8zByehXQI,2lnzGkdtDj5mtlcOW2yRtG,2hKdd3qO7cWr2Jo0Bcs0MA,4zYTZvtcww7OWKie7fxA9E,0jG92AlXau21qgCQRxGLic,3aw9iWUQ3VrPQltgwvN9Xu,7reoZz80hQYuWtEn0Lsd0p,3IV4swNduIRunHREK80owz,0OSAJEA0ekX6pr2nuiPzX7,769geiA8btidGHda4BBDOJ,1Lhwn4PqeGpM4LTVUowW76,3RmKpob8xzv1pzHEQrMJah,0gmbgwZ8iqyMPmXefof8Yf,0I3q5fE6wg7LIfHGngUTnV,7MLPGQfmCkHpqfAib42qby,7FWuzwapuKHTEyDJIcQOw3,0UrWr7Jnu1heq1o99ZwUd0,6zsk6uF3MxfIeHPlubKBvR,45cVyfWuMAg8RNxmkcpmy9,0oHLi9gb4Gd97OuN6ckMk8,7yMiX7n9SBvadzox8T5jzT,7nWsh14AHpnTzq1Xejz90U,1fgvJXlcZ7uIddMpqsqw0L,2SLZ2rX5773RS16mcqBxG7,595JwfRS0iFbdZyhlBxokI,6j8nh1kHwezw8pkC2eU87F,5z6xHjCZr7a7AIcy8sPBKy,6IFOw9Ck9mWHRQgw6QrPYx,5IweeQZdY5XEzStLzUJG5t,3qzcM6SmbzBnGXSJe6hYdy,5mNV8Mz59bzyuQ53gTw0c0,0rRboI6IRuGx56Dq3UdYY4,4UfupbARPxljVkBmuZlJnY,0tWdRXWDUd1gWLthXgk6Dp,6FLwmdmW77N1Pxb1aWsZmO,61fUmn6wYvU7qS62wNvQFN,41nT1Sp6ChR65FbsdLlFHW,2B1jt2a6zdN4qLiugoEJry,0xikWgPgYN9BEes0ieZ8Co,747tpec1a0Hfqvj2za1pBs,1Jlt67b4oOhCoFW9GQwL9T,16MJqq0vEuW6GRX6faetTm,4Mnw05kNd0j1XDHwtfzofp,5S9810AEDRnVQovixcU2h4,4cNhx6OO1XpvwT6xZnb83B,3Gf5nttwcX9aaSQXRWidEZ,4h5KBcltGefua73AUPYps7,0HKD13PLq2WicViBBhSrOl,1Sm3U3B5XoidYQEZQZrh3i,25CMmGsl22APKhfuj4Tp7j,5zn1hpm9N0ylKB7kOtpCw2,0Uyh92tLyb9JawG8lmWCzJ,0wqOReZDnrefefEsrIGeR4,0ARK753YaiJbpLUk7z5yIM,7lQ8MOhq6IN2w8EYcFNSUk,5xEM5hIgJ1jjgcEBfpkt2F,4w1lzcaoZ1IC2K5TwjalRP,5QpaGzWp0hwB5faV8dkbAz,15f8Cv8RXUlOOCIf2oaceN,6fR6Z0Vc1K6yQWNUIKjAIR,36jSIOSE72neBbKntCthqw,0YImOCkIJ2PWhCXaURCZnY,4xkOaSrkexMciUUogZKVTS,6Wt5QBzHp9vdSLAFlvdnDQ,0IspqeDVLIw46spUMhOKRL,7DUpuAzGUyJaJB3p9BC3Ms,6UEfyhyfhYQsyipxOd95Ie,0qvlhVNm7L5IWabWF5hlEL,779ooI3rBd0CLqCiiJmtVo,5p0KCAuu5nrHpTuAIhHdLw,3GhuNU58hVUuzKY7LHmFRB,0pLmfgIANOX9FB9uZDU43x,4SnTf4ixVZCfQtxHNhky0T,5fkDD7aQLUmMy1EwzNm0ZB,2zhGnnDewN4kBsVzbqjBtX,0WgLpgUdThEpA5L5K0SKq7,1Q9b6CeMcDuO0uq5OJCrqu,5r29mFrurlVBbqJzjr2XW6,5Y0E3dOeynKuLDAXu0t0Bg,04KTF78FFg8sOHC1BADqbY,59ZTxQo8rBycIXPLUIKvE2,2mKouqwAIdQnMP43zxR89r,6AfLmKXzhEZjwiVPs5jhdV,3oXNIpoUMdk8qGkwCeXqGv,3SCVtAJq8li6HlKfM4M08u,21iEEekDSvQjVARSQ4dpXY,7lVNTXkI3cHFvcXiI8damb,14PbhGTCaHCXDvZzfTWumU,1F1XjwRzMh8KT2BvH6ISkG,6XK173kEu52iupeIqOnp41,2iWyrSHvs6qhFzfpiLAK0z,02jcEwywffn3Tsb48fXmlW,1NRorokmYEtr1koWybvaE4,3jagJCUbdqhDSPuxP8cAqF,563vSy3HB5NHxel1VGQCW6,2VSbEXqs6NbNiZSTcHlIDR,4hrae8atte6cRlSC9a7VCO,6zMUIb4uce1CzpbjR3vMdN,00Mb3DuaIH1kjrwOku9CGU,4gdQ8QShlC3toP9Mkc8DwB,1f2V8U1BiWaC9aJWmpOARe,4rr0gWiMrF4sOIefs3IEvZ,1QhSB9L9M5eZQhW4RNOhXK,2LVxvGhl2U5p2ql2ujc6vZ,5PCJldueshnwqQVjS16543,0eFklulxFnNCypNSrywzSB,4KqTGPPmXowMPEoShSVOta,16DhvbuyvJob4Q9GHNYu2n,4SyadrABZJIjeND1HPJS31,4IEOKcFZGMiKp5NXYjH001,5dpAN1mjFPL38kh9kWsCiw,0kr6d8wHDQPlzuET33NVn6,6lSr3iZTC144PKhvbPFzMp,074v54tSEWLbq3Hu5wf6uh,4RY96Asd9IefaL3X4LOLZ8,5Z01UMMf7V1o0MzF86s6WJ,5IVuqXILoxVWvWEPm82Jxr,4O4dhPrjcw7GSLNafNydmb,0xmjwnQ3FNE6HuWCt2nHdZ,4ZOyH6KjomjlqCz3oFqglr,4bJygwUKrRgq1stlNXcgMg,1n7omixiROWs5q6xpWiQuL,6dK1HEHZcQlh24bSU7pTaZ,3stnrhzN0lzZFskbaZ5sEw,5ljCWsDlSyJ41kwqym2ORw,2D1hlMwWWXpkc3CZJ5U351,4Yf5bqU3NK4kNOypcrLYwU,4O9ICXbrUTAVR5kkx6xANJ,0COqiPhxzoWICwFCS4eZcp,2icpXUdhbKPNXRJD7lPmXX,23ehR4jpFQFMfDADgFdXR7,0M955bMOoilikPXwKLYpoi,0r2Bul2NuCViraT2zX1l5j,6FTJuZtQZvmPPRFmrcno9J,7mS8RbJji2UZAaguRGsOCH,1AWQoqb9bSvzTjaLralEkT,3dPQuX8Gs42Y7b454ybpMR,5TpaWJKnuyA4MjzAbFXSTQ,4WY3HyGXsWqjFRCVD6gnTe,0aULRU35N9kTj6O1xMULRR,7qPiLAs9I8cqUv1BCnmlHN,1AEYT6VxrxXPMoQUxsY0E4,1AjQE5MtP5jHQMyDepbvLI,25Mn17RDbdJHiKL5SEhLnL,1lKS7SZQ7r5vOChLwJurmm,2jGUAB6hKlzK0pZmZpQ02g,0RilVXCOQf4AD6a4uTTs7d,6rpNe6gSkmiYW6BfSFATi5,0iFOG4Ki9aDmJUYUFHQlPG,0l3GEbH3CviUytD6iX4wzg,2BeoIEbdG1kOWYKQhNl4dX,3CZlTOyNnKVMb021IYEY6r,3Gamc2D6VSlXpUcmhPUFYt,41bIQPBE1lFN0mmw6Lmssz,7kAFSrTIOiVZ0gnHBuAH3l,75DjPjiIp2fvJDjtt41Jfs,71NJqORRmwlcZSLk0VsFjU,2fE4MbwX3QGMzNaMjGVhtw,5ojJNnX5ND2gMGojPd3NiO,2VHfyWLlvCvbkIqtS5tqt3,0O5oSZuSSQhLanMLMmQrRd,3OUApyz3jDB3syGUNGqB1d,7Lf7oSEVdzZqTA0kEDSlS5,6pWzCKTrKrwbUPzY8RLCoP,4jacsL77ZYnpInmTtUBaJW,3YuaBvuZqcwN3CEAyyoaei,3OQu3z3okKVmWxSXTTHak5,3kgutGd839IOYRl6ekeq6V,3adnLFXKO5rC1lhUNSeg3N,6HxweNytuEQdmGeVtZPZz3,0FmCLEHfINGqwlyzvklNqy,2iclfHORMqpR3TxuhwVRhD,6Bm6qUCSatPAqkQllFL7oA,5z7mYFfhw6N6f23VwrokJD,0yHConG49418wPs8UfAt44,2md2i5QvelRFnafpnd6LOg,2g2a5kDeZexbUTD8abcvm6,5dWfl2PBpKHpBVdz95wxK1,57Xjny5yNzAcsxnusKmAfA,5rb9QrpfcKFHM1EUbSIurX,2PpruBYCo4H7WOBJ7Q2EwM,3xl7PsO7Hzuig6To9FgDm6,228BxWXUYQPJrJYHDLOHkj,4hfIVhq0F0zFUcrbecsYmo,4nnHlGaBwJHb1rBetqj0Yl,2Ozc0me9PV5vlt8cokwdvI,7bZsx7Zif6FIhrcZrh0LVm,3sckKKIx96cjPXtiqPHCTB,0YGQ3hZcRLC5YX7o0hdmHg,0YUrjFy4qFKOO5NhM9tYdV,4XHQyvbrBsQaaBUW1VvmsL,2yr2HnFYl7XvqJk4fXoQBt,4dvQg9sD8k9y4qiEURuj8v,1xNcBAoUw8Hz6LqK2jt4Ff,3dFwpxh2yH7C7p9BGEKLVB,7uSsHbBFFAnkRQR1rDwP3L,2ndnVdR8si7CW9T8vJRHyW,4MeDnO5yA2Zi6IMlVApRci,3IrkbGQCoEPAkzJ0Tkv8nm,2EM9zpAc7PVeoAydmbfVIL,0cZDC7uxNK8lqQ3GgyvCnD,4Kd0FzFpOgIGxlBl4HXuFn,5NJhMbvK53XATYf7qHEqZL,6n8TMVyFKoUmDc4apxceRD,4L55p6txv9vuCWhpNnY6eY,6cR1U61DMpYbS2TtNTlSvo,0qcjuYtMWhBjXg0Xwt5SzS,2NBQmPrOEEjA8VbeWOQGxO,2o7V26rsF1ukcRI005S0LL,3CcvahnsiArpTHYQEWV2Au,3XTaaGGAL2gVVaAbu0yxQX,2tOZtdbkAMQASWokLvSlzj,4Vqd7MuPVrciqRS3EzhKWb,20I8RduZC2PWMWTDCZuuAN,0jSMveIWvnhDIvzqN74Uc7,1dHJETCn2X1R1YwVlMvSza,4s0o8TJHfX9LLHa0umnOzT,5g1vtHqi9uV7xtYeCcFOBx,4UzVcXufOhGUwF56HT7b8M,3vZfy3cXEYojq7BvSt87Of,3A4cpTBPaIQdtPFb5JxtaX,6nTiIhLmQ3FWhvrGafw2zj,5dxHF4lrDimKqnI3GaZUmC,4mmkhcEm1Ljy1U9nwtsxUo,2T8hXV9LUZMDBKR5RALGEa,6sqNctd7MlJoKDOxPVCAvU,1p5kC161fWMA2QlwV3Vi4W,3NLrRZoMF0Lx6zTlYqeIo4,5SkRLpaGtvYPhw02vZhQQ9,5y8WWi1BaKHXfuln0XoIZs,3rQjc4GGMcrtXwis7vBzaQ,312A8WfROSLvZbMDHBUPDp,6CN3e26iQSj1N5lomh0mfO,3JOVTQ5h8HGFnDdp4VT3MP,7yXibbAYi4to5oQTeO738f,6LGwYMXXgURfaequXipzHx,3LmvfNUQtglbTrydsdIqFU,1PS1QMdUqOal0ai3Gt7sDQ,4TsmezEQVSZNNPv5RJ65Ov,5D2mYZuzcgjpchVY1pmTPh,5GorCbAP4aL0EJ16frG2hd,1bqZ94bPrrHyIpYux7rVj7,3850dYVgOFIXJh5U4BFEWH,4nva9EpKntUTs6CRSGBCn9,4gXdMZkBN1neE9nX6yRALa,4kOTDj4SiZPkW1p96WMDNv,4bz7uB4edifWKJXSDxwHcs,6ndmKwWqMozN2tcZqzCX4K,69bHJ9qs5FrUJbKP8xU8uZ,7xYnUQigPoIDAMPVK79NEq,19JdbdEwQI7bCxefMokZO8,7i7UIbm5E0DD7aSOYvwp2v,7BKi4ZcyMBXeAvJ1OPxhdV,6EfyEbyk4XjCisJz90V8Ki,0rLzyBecRbTpnBWvMtPVFR,5sNESr6pQfIhL3krM8CtZn,2wGSgTmgSF3xjRrHkTc25R,0d28khcov6AiegSCpG5TuT,0reKGVcWLVvl1FzjZ6TACy,2nCmCt4B5vkabS0zeOuc1Z,0Ss50OU9tCozI7JIywkv14,561jH07mF1jHuk7KlaeF0s,5BSclXJTa9B0iURhUjZo50,4Hff1IjRbLGeLgFgxvHflk,07u02f6biDHx5VexfAs41b,2ajhenDRiiAnCHHjsIOHhJ,0UaMYEvWZi0ZqiDOoHU3YI,4faFAhOflLzhfJECveRwva,3B7i9OKRRmIsSBHEbJz58Y,34KUIBsIUiPV7oCIzSdDAU,3zdDxhDo5SycC7XSAPfdjv,4FTOpNYcGxnQdGNWSxIcio,0LzrhCZFXW94Y8nwtTuRlw,0lP4HYLmvowOKdsQ7CVkuq,7jLbTp3qZzah9kMIdW8e5M,470UOQDSTMTBEgkBaeqVN6,41PWz0hAiU9FqsmjR9Wh62,5Y78yINSOCW6xbOfGWNBg4,3jEqrIfwKO0M8ALu3TGilF,7IdfMBufDn3yf2JhS3a5w0,0AKAxdNkwq9ZxRdW1DN9zW,5qrzhg9Fmu8Amg2uMhHfe5,29EkMZmUNz1WsuzaMtVo1i,10NH6nFIKbx8Yee8cQ1gDn,1oNToERLIN71YCPLbRIQGQ,3fMoeGj4mDusrmYOOF60aC,6uYAPqxP69zfpCbsTHXgiz,4NjR63Up0uMkQBlKvlZd1l,7clUVcSOtkNWa58Gw5RfD4,5p9XWUdvbUzmPCukOmwoU3,3xrn9i8zhNZsTtcoWgQEAd,6fzcnVO0X2cpYjsHk19GJo,5lDriBxJd22IhOH9zTcFrV,7G6l2FtQyRhQgYgut2I6i8,3ZFTkvIE7kyPt6Nu3PEa7V,0k2GOhqsrxDTAbFFSdNJjT,0O45fw2L5vsWpdsOdXwNAR,6RX5iL93VZ5fKmyvNXvF1r,4wH4dJgrsxONID6KS2tDQM,0Qn0i8df7Q76ej3RAXAtI2,6yuvC80FcnVJNvC0DbXN9e,6btyEL6NwUa97Nex9cZFvo,2gam98EZKrF9XuOkU13ApN,6WoC2b3CCpyrDQJKkBQZn1,6k8uthjEbttfWXcGaNTQGD,3BxWKCI06eQ5Od8TY2JBeA,3rKCDtV8UcF0RytSiXxypc,0fGh0trRN1xz3s41r7V5ce,3lPr8ghNDBLc2uZovNyLs9,53ETzLQQKFCzykRbqWb1ph,7g7M96UGiA7OR79H86gV4m,6o3s08kk2fQI37vxGZDrJ1,4GIsskMpViPkt0uzPJTJSp,05Sgj1Hx03ZXc57gsV1kfX,4NeOWqHmlrGRuBvsLJC9rL,4Gd9PUEuOTOJtbgd4YxLXM,3YQjgTpUVNWvpYeb2mtTF7,7jRoWfRlLnGYEIEn4t4kbq,0JbZk8LQm3hCecAykIwAPn,423EcxblW9F4nnQkqcqMlK,1Ab6RxeKl3e07zP7Get7CX,0Eu5SrReZzaJX0NLKI8tQS,7M13FwBAKWNa2jqcZeUhL6,5loIRrZU3ez3r102qFzJI2,6Y3WvyUG9iE5bQYg38SPtQ,5YTSbfnyJRqul0H8kmamg3,13xxBnXOuiBxVxJI458B0i,2dxjKgT0li4qBI3QwuN9Ih,7cVmKBwzPsh4Fmb6SplfEm,663Karu2rvKLdnY0eo1n3M,5hF2LnbkpnXCkksMSeWcxZ,2JpUkUR0OsOlUUfm6iS8ic,1bPqAXwNiVcM6zjJU1Z4Cd,0tYPj0NYa7vjlJaqlRSnJb,2Fs18NaCDuluPG1DHGw1XG,2RWxrpsFshOBFwRBRstUlQ,4T4NLIMypdmyUwK54jECk4,0k6HUzaRHpQ3eEWr1C7Esh,0DMRKqrpd0QO4RWiEdMib0,4bVuIlGQBMWS7vIhcx8Ae4,10Nmj3JCNoMeBQ87uw5j8k,13pyGLYmBjYgvOMIEivX2K,6brl7bwOHmGFkNw3MBqssT,40LQiUUUKXVGyNs09lHVjW,4xlEKYv7HmC8zXoJIbpZKM,3ItzRpwvKtkDSNdRSjXu7Z,4bPQs0PHn4xbipzdPfn6du,6gxycjJNMgmAyfzUXBN80P,0qAMjeQFyd1qD0LDiV8gWp,3U5JVgI2x4rDyHGObzJfNf,28euH5Ny1JXxZAt2KjWp62,5fVZC9GiM4e8vu99W0Xf6J,4mnTMsp8Cgf9TNiQMhH11L,5wQnmLuC1W7ATsArWACrgW,7DFnq8FYhHMCylykf6ZCxA,2hns6Dv29Yrg68AVTJiAyA,7wZUrN8oemZfsEd1CGkbXE,2yPoXCs7BSIUrucMdK5PzV,6ic8OlLUNEATToEFU3xmaH,4AniPkv5vgdE1n6VKreiyI,6kopmMZiyLmw7h66uXcXR7,4RCWB3V8V0dignt99LZ8vH,3pD0f7hSJg2XdQ6udw5Tey,66ZcOcouenzZEnzTJvoFmH,2bLqfJjuC5syrsgDsZfGmn,2aI21FnmY7TJVKeMaoQZ0t,4LjfIjS8iweFCPdKxLnEoV,5TmFTHZp7HjBXjjsFvCY6h,2kQuhkFX7uSVepCD3h29g5,36Hwcla06Q5BCr59CL0sBp,06Vw2ZOhalTwEw4PhoGRSX,6WoC2b3CCpyrDQJKkBQZn1,0j2T0R9dR9qdJYsB7ciXhf,2HWWNoWEEEECwZhAiLg7ib,6ajyEEzWZbw8ycDcJAN099,0CXVjQI9wsqaGeIARkkpYc,66TRwr5uJwPt15mfFkzhbi,4JPCdSaqs9dJd7RatFSHww,1iOJQhxKSJ7dg3Dk03yPnl,4Tn2llBm1g0UlWctmgPL8Z,2a03afRiyAbNAleOByVju4,18lR4BzEs7e3qzc0KVkTpU,3wKKkGVn7cVSfgPeYYIiXG,1IYaMVfidzSfvCUZYXhsU1,28IEbk5a7twNTbUEvWslUb,0YkJU6TjjwzsVXUPRIO0DB,4eAwB5pnKFTmsgc3zWoYO0,5rTIpPWeO0IL4HWlGWrz5G,4KTtYhxFtFL7mBwnjkKfLm,0UFDKFqW2oGspYeYqo9wjA,7j31rVgGX9Q2blT92VBEA0,6x2xqg5fQNu9dNCXu83ezE,6CFPFnS9EcLs2I0nWqtWci,234RqTZmnDTnxWlVciXHLD,6PBAPjshd2JfEiWpdf3C2a,6BqWhxll86CGGE6WxgdRqG,1RGIjMFMgJxkZHMDXVYzOJ,68Zq7PMcPIQE8ol1x3gAqw,1D066zixBwqFYqBhKgdPzp,5qhlC4Rzals34zxovrPzKp,1zyqZONW985Cs4osz9wlsu,3Zwu2K0Qa5sT6teCCHPShP,5iyE2d4U3Vc5cqY9mPTlpy,0JJP0IS4w0fJx01EcrfkDe,30FURVTCpbKyykjSEQzGkH,0JfAMd3xTqm7ZYhBmQjYzt,5Yaw45Q7W0irDbTVN5LOVs,53SqGkNJAYLss9AgbduTqQ,1lHXlGlve5Zx8tXLhyjDwM,1oagRT7LfpVlNJN6FSZDGp,6SpLc7EXZIPpy0sVko0aoU,6DbqCKweKwVkHgRv1CI53D,7x8dCjCr0x6x2lXKujYD34,1JwIBogbuZ4Yfb6nssXWa2,3LGeYNY9aWQuBJovOOowqm,3RGyFugqjQjlL8XX0NW8dZ,4wzjNqjKAKDU82e8uMhzmr,7dzUZec5MnWMyQnk5klnKR,5lUTzPuiloBHm1qEaJcJfF,1hGy2eLcmC8eKx7qr1tOqx,1BV0m40U0M4t1SLIsDnwZl,0ZUo4YjG4saFnEJhdWp9Bt,0td1GfBHNxlGephozVmL9k,1tkMs9wDPknQ3ZHcKDw1ES,2elA6JLRaQ6iB7hxiuTKN4,6SmPPtaMnfxgz5duA6t9Cu,37pFLuNVnAJQL9ysRoKTdy,4liGjmhCupa7RP9JaQELYx,56Tl3UgyZTqfZtvFNS31wm,48yZwqAxCZk0t2ssDw2hzH,2aibwv5hGXSgw7Yru8IYTO,3QnEp4rluCxUwgpXT43jmC,0CAfXk7DXMnon4gLudAp7J,005lwxGU1tms6HGELIcUv9,3goSVuTt3fDYDP6kRnFwuL,26NX1wPt1TRCH536yocd6i,2VOomzT6VavJOGBeySqaMc,3aQz0z86zrKjd1mcZlonxE,52K4Nl7eVNqUpUeJeWJlwT,4P7VFiaZb3xrXoqGwZXC3J,5Nr1ZcH9PGTiQdGl9HCCS1,5TRPicyLGbAF2LGBFbHGvO,1oHClQEgDmmbcEx12Kc5nZ,1y4eb6hmAvsqlDOl3fx9kk,1wva1IlWLDNLgwipUWcmjy,1ARJhjuI6TNYZCxYygFQ4F,4fixebDZAVToLbUCuEloa2,0F2BxpbxH8Yc3pLub48hrb,3jlbL2OTD5YmIunYzgQTAN,6ScJMrlpiLfZUGtWp4QIVt,3MldzywZOH4Uci6bq9noyJ,2PTvik6EqPAIYOclAB3SU8,3XCezj8BPm1xGH3qS6SruW,6pTg4H8juKV9iSzrcVUbM3,0aeWFHCKwVoavQdpduyB1Q,3LN41NUdHkyNqQhi9gExMm,3tSuRiNgJmMqmYR23dCqnR,6AdLyvisRKHLAwARaZMGr6,1uigwk5hNV84zRd5YQQRTk,4iz9lGMjU1lXS51oPmUmTe,22UDw8rSfLbUsaAGTXQ4Z8,3pxCXv0NACYfYnLjFcQW5D,6tC2iHfUlzB2W4ntXXL2BH,4yHFxB8kzzeuNvoouR8N0N,0JiY190vktuhSGN6aqJdrt,1kxeWHF9PrCVZHvVskv8lg,3RDcUlLGp3SLp2AmUbUbls,1ixbwbeBi5ufN4noUKmW5a,0uybt73QFXaLCoxuVf6fhm,2aEuXA1KswHlCGPOuPmCOW,1C6eViOmSvwrXz9JTHYaOV,5Hv1QAbRWrUSUHaT0CmnMS,3wkNK8tJZ2stygNJm8RCRD,5liQj4sVRmEEESvvcb64o8,5j0McHPthKpOXRr3fBq8M0,45upEMiYeArj06RERttNFx,2xUjNGHjJOBcpTf7dYx4EY,1gt1fWqUZOUgT2kTArAw4E,0exb0K7vsjf5bXWLJJhAuF,0tp2cUnCAcsR6xL5kw9HKu,1IAzD1muglOxOcPbUHs70R,48s0QHJgmiNsth3WEO6U4M,33vzOPcd9FRirYGlCu32x4,5o4W6yWSJD9e9Ea8YC9WjF,1mea3bSkSGXuIRvnydlB5b,0ntQJM78wzOLVeCUAW7Y45,4ZPdLEztrlZqbJkgHNw54L,3nJjIYchBNkYm7B8XfJf5N,1ZqHjApl3pfzwjweTfMi0g,72by3Re4C3eVEBXvsUo0zV,2VEsmoek0sol9MnJFyoG9e,7dltD9eEX7X1zk8JJ9BS0e,56pHllZT7QOacB0bP56ofx,2iXBZ32Fz5VDCLeE0JIdX5,50xeLNGKmskmYUSINhqvfa,2H1047e0oMSj10dgp7p2VG,5R8dQOPq8haW94K7mgERlO,0uXO2GrNiIb1xHT9LUdxZE,3GpbwCm3YxiWDvy29Uo3vP,1vrd6UOGamcKNGnSHJQlSt,6Rb0ptOEjBjPPQUlQtQGbL,7jk7gqyEonmVVYahZN5zhW,0TcJ7QWpggdSg8t0fHThHm,2UREu1Y8CO4jXkbvqAtP7g,6wOYnPq1hPihRepcDClPUw,4EWCNWgDS8707fNSZ1oaA5,5FEXPoPnzueFJQCPRIrC3c,2x7MyWybabEz6Y6wvHuwGE,2hdy9Wt9qp7M7d0U3ossu2,13plQdOoWSSXPRUSZc5FuM,3IcIIZMMS7UArJJPtEHXG8,3opVsyWVYEAFK9bJAG8Opa,7Hqig8kp32q2Ire3ECQvWM,2igwFfvr1OAGX9SKDCPBwO,5XRHGXut00SrJUFmcn2lQF,4NpDZPwSXmL0cCTaJuVrCw,360ZhWvMnyXKYFG9Mqsm89,6Wx88Mv6b9ofjKMKkdwOJd,6TrNRd98WksT9Kkmx9uj6R,7LR85XLWw2yXqKBSI5brbG,0SiywuOBRcynK0uKGWdCnn,6ddQ5KCkvCggk3j6KdA0zL,7xdmTEHRbgQuLR8KpRLLnn,6ATrsVaZT7XjkCynxM8cTS,3R6dN42VdwivkZTMz03Rci,77FULy278MulVvGWS8BfK7,6WdV6QM8t87dPidhPzdRJW,2q4rjDy9WhaN3o9MvDbO21,4dK00wCxlqWEeN8BoM1BHT,5xeSDlt3eCxPsWKBhfUJTR,426vBhxw4upEf11BqBBgs0,5jzX4dWVQeBTtfBaXnMRt5,7Kpqjspw4Y7HrvItIRcBiW,0JYRNrTwUmeySRX37azvnH,1YaVmBh7EAeR54FIjuFcb5,0KlahhzNb98zyN83Vwae0l,6c0GmyBsE7mQtrVvxJaWc3,67T6l4q3zVjC5nZZPXByU8,7IhsLJMqdxoo7YAZjaSMru,2oENJa1T33GJ0w8dC167G4,5r5cp9IpziiIsR6b93vcnQ,7kMfu3KUydmrFVGEAhjtyl,4QJLKU75Rg4558f4LbDBRi,3kMrazSvILsgcwtidZd1Qd,4VqPOruhp5EdPBeR92t6lQ,06T10fEzN8ZCcqzQZYA184,2ZBNclC5wm4GtiWaeh0DMx,3RBGG1be9aBaSvjnw6ABkh,1NhPKVLsHhFUHIOZ32QnS2,4KAzYqfcijCSZa2P3etHoM,3QLjDkgLh9AOEHlhQtDuhs,5Q0Nhxo0l2bP3pNjpGJwV1,1Nme6K1PYAh7p7uygyuRdf,64yrDBpcdwEdNY9loyEGbX,58FUwmyGUqkt53YPUcm7cJ,3GCL1PydwsLodcpv0Ll1ch,0CwYG1UnRmOx8Q1EzElCIL,1akgiRM3mN2nxu2AX6ACCW,6fvxos1qSHrIgOkKw4dhWS,4Dm32oO01YpIubCHaAtKkN,6JnufVNLIO5F5Lk4sEVLeI,4IoYz8XqqdowINzfRrFnhi,7BqBn9nzAq8spo5e7cZ0dJ,15JINEqzVMv3SvJTAXAKED,2GYHyAoLWpkxLVa4oYTVko,0HPD5WQqrq7wPWR7P7Dw1i,4dTaAiV9xFFCxnPur9c9yL,2ENexcMEMsYk0rVJigVD3i,6KOEK6SeCEZOQkLj5M1PxH,0WCiI0ddWiu5F2kSHgfw5S,5ojIL91nfnWExoXSCkvJ9E,4DvhkX2ic4zWkQeWMwQ2qf,6FbGlkHKGkYqpSCuBgurn3,2DHc2e5bBn4UzY0ENVFrUl,2qugfmw9Hi27DyIo2gite4,1AguHaKOuggrVTebp7cZEI,0oJMv049q8hEkes9w0L1J4,7Ie9W94M7OjPoZVV216Xus,60jzFy6Nn4M0iD1d94oteF,2Q99zPXVqCPN5RaZawvJWZ,1hBM2D1ULT3aeKuddSwPsK,7vWFaMq63AwkFDhS2OAg5u,41KPpw0EZCytxNkmEMJVgr,6wN4nT2qy3MQc098yL3Eu9,4356Typ82hUiFAynbLYbPn,5vlEg2fT4cFWAqU5QptIpQ,6ebkx7Q5tTxrCxKq4GYj0Y,45O0tUN9Bh6LH4eNxQ07AT,03tqyYWC9Um2ZqU0ZN849H,61HQWI1Woxup7CnGwVUsdI,161DnLWsx1i3u1JT05lzqU,2V4bv1fNWfTcyRJKmej6Sj,2rDwdvBma1O1eLzo29p2cr,4AYX69oFP3UOS1CFmV9UfO,360UM2DaiHZPRu0EsrOvMp,7tSO7DrrYpiMXX3zM4b3oM (Caused by ResponseError('too many 502 error responses'))",
      "\nDuring handling of the above exception, another exception occurred:\n",
      "\u001b[0;31mSpotifyException\u001b[0m                          Traceback (most recent call last)",
      "\u001b[0;32m/var/folders/tk/75w8q4_s16n1_zv4jdmdlwhh0000gn/T/ipykernel_10923/3552049149.py\u001b[0m in \u001b[0;36m<module>\u001b[0;34m\u001b[0m\n\u001b[0;32m----> 1\u001b[0;31m \u001b[0mnot_hot1_audio_feat\u001b[0m \u001b[0;34m=\u001b[0m \u001b[0mget_audio_features\u001b[0m\u001b[0;34m(\u001b[0m\u001b[0mnot_hot1\u001b[0m\u001b[0;34m)\u001b[0m\u001b[0;34m\u001b[0m\u001b[0;34m\u001b[0m\u001b[0m\n\u001b[0m\u001b[1;32m      2\u001b[0m \u001b[0mnot_hot1_audio_feat\u001b[0m\u001b[0;34m.\u001b[0m\u001b[0mhead\u001b[0m\u001b[0;34m(\u001b[0m\u001b[0;34m)\u001b[0m\u001b[0;34m\u001b[0m\u001b[0;34m\u001b[0m\u001b[0m\n",
      "\u001b[0;32m/var/folders/tk/75w8q4_s16n1_zv4jdmdlwhh0000gn/T/ipykernel_10923/635639810.py\u001b[0m in \u001b[0;36mget_audio_features\u001b[0;34m(df_input)\u001b[0m\n\u001b[1;32m     10\u001b[0m                   'analysis_url': [],'duration_ms': [],'time_signature': []}\n\u001b[1;32m     11\u001b[0m     \u001b[0;32mfor\u001b[0m \u001b[0mi\u001b[0m \u001b[0;32min\u001b[0m \u001b[0mrange\u001b[0m\u001b[0;34m(\u001b[0m\u001b[0mlen\u001b[0m\u001b[0;34m(\u001b[0m\u001b[0mlist_of_songs\u001b[0m\u001b[0;34m)\u001b[0m\u001b[0;34m)\u001b[0m \u001b[0;34m:\u001b[0m\u001b[0;34m\u001b[0m\u001b[0;34m\u001b[0m\u001b[0m\n\u001b[0;32m---> 12\u001b[0;31m         \u001b[0maudio_features_dict\u001b[0m \u001b[0;34m=\u001b[0m \u001b[0msp\u001b[0m\u001b[0;34m.\u001b[0m\u001b[0maudio_features\u001b[0m\u001b[0;34m(\u001b[0m\u001b[0mlist_of_songs\u001b[0m\u001b[0;34m)\u001b[0m\u001b[0;34m[\u001b[0m\u001b[0mi\u001b[0m\u001b[0;34m]\u001b[0m\u001b[0;34m\u001b[0m\u001b[0;34m\u001b[0m\u001b[0m\n\u001b[0m\u001b[1;32m     13\u001b[0m         \u001b[0maudio_features_final\u001b[0m \u001b[0;34m=\u001b[0m \u001b[0;34m{\u001b[0m\u001b[0mkey\u001b[0m \u001b[0;34m:\u001b[0m \u001b[0;34m[\u001b[0m\u001b[0maudio_features_dict\u001b[0m\u001b[0;34m[\u001b[0m\u001b[0mkey\u001b[0m\u001b[0;34m]\u001b[0m\u001b[0;34m]\u001b[0m \u001b[0;32mfor\u001b[0m \u001b[0mkey\u001b[0m \u001b[0;32min\u001b[0m \u001b[0mlist\u001b[0m\u001b[0;34m(\u001b[0m\u001b[0maudio_features_dict\u001b[0m\u001b[0;34m.\u001b[0m\u001b[0mkeys\u001b[0m\u001b[0;34m(\u001b[0m\u001b[0;34m)\u001b[0m\u001b[0;34m)\u001b[0m\u001b[0;34m}\u001b[0m\u001b[0;34m\u001b[0m\u001b[0;34m\u001b[0m\u001b[0m\n\u001b[1;32m     14\u001b[0m         \u001b[0;32mfor\u001b[0m \u001b[0mkey\u001b[0m \u001b[0;32min\u001b[0m \u001b[0mempty_dict\u001b[0m \u001b[0;34m:\u001b[0m\u001b[0;34m\u001b[0m\u001b[0;34m\u001b[0m\u001b[0m\n",
      "\u001b[0;32m/opt/anaconda3/lib/python3.9/site-packages/spotipy/client.py\u001b[0m in \u001b[0;36maudio_features\u001b[0;34m(self, tracks)\u001b[0m\n\u001b[1;32m   1681\u001b[0m         \u001b[0;32melse\u001b[0m\u001b[0;34m:\u001b[0m\u001b[0;34m\u001b[0m\u001b[0;34m\u001b[0m\u001b[0m\n\u001b[1;32m   1682\u001b[0m             \u001b[0mtlist\u001b[0m \u001b[0;34m=\u001b[0m \u001b[0;34m[\u001b[0m\u001b[0mself\u001b[0m\u001b[0;34m.\u001b[0m\u001b[0m_get_id\u001b[0m\u001b[0;34m(\u001b[0m\u001b[0;34m\"track\"\u001b[0m\u001b[0;34m,\u001b[0m \u001b[0mt\u001b[0m\u001b[0;34m)\u001b[0m \u001b[0;32mfor\u001b[0m \u001b[0mt\u001b[0m \u001b[0;32min\u001b[0m \u001b[0mtracks\u001b[0m\u001b[0;34m]\u001b[0m\u001b[0;34m\u001b[0m\u001b[0;34m\u001b[0m\u001b[0m\n\u001b[0;32m-> 1683\u001b[0;31m             \u001b[0mresults\u001b[0m \u001b[0;34m=\u001b[0m \u001b[0mself\u001b[0m\u001b[0;34m.\u001b[0m\u001b[0m_get\u001b[0m\u001b[0;34m(\u001b[0m\u001b[0;34m\"audio-features/?ids=\"\u001b[0m \u001b[0;34m+\u001b[0m \u001b[0;34m\",\"\u001b[0m\u001b[0;34m.\u001b[0m\u001b[0mjoin\u001b[0m\u001b[0;34m(\u001b[0m\u001b[0mtlist\u001b[0m\u001b[0;34m)\u001b[0m\u001b[0;34m)\u001b[0m\u001b[0;34m\u001b[0m\u001b[0;34m\u001b[0m\u001b[0m\n\u001b[0m\u001b[1;32m   1684\u001b[0m         \u001b[0;31m# the response has changed, look for the new style first, and if\u001b[0m\u001b[0;34m\u001b[0m\u001b[0;34m\u001b[0m\u001b[0m\n\u001b[1;32m   1685\u001b[0m         \u001b[0;31m# its not there, fallback on the old style\u001b[0m\u001b[0;34m\u001b[0m\u001b[0;34m\u001b[0m\u001b[0m\n",
      "\u001b[0;32m/opt/anaconda3/lib/python3.9/site-packages/spotipy/client.py\u001b[0m in \u001b[0;36m_get\u001b[0;34m(self, url, args, payload, **kwargs)\u001b[0m\n\u001b[1;32m    295\u001b[0m             \u001b[0mkwargs\u001b[0m\u001b[0;34m.\u001b[0m\u001b[0mupdate\u001b[0m\u001b[0;34m(\u001b[0m\u001b[0margs\u001b[0m\u001b[0;34m)\u001b[0m\u001b[0;34m\u001b[0m\u001b[0;34m\u001b[0m\u001b[0m\n\u001b[1;32m    296\u001b[0m \u001b[0;34m\u001b[0m\u001b[0m\n\u001b[0;32m--> 297\u001b[0;31m         \u001b[0;32mreturn\u001b[0m \u001b[0mself\u001b[0m\u001b[0;34m.\u001b[0m\u001b[0m_internal_call\u001b[0m\u001b[0;34m(\u001b[0m\u001b[0;34m\"GET\"\u001b[0m\u001b[0;34m,\u001b[0m \u001b[0murl\u001b[0m\u001b[0;34m,\u001b[0m \u001b[0mpayload\u001b[0m\u001b[0;34m,\u001b[0m \u001b[0mkwargs\u001b[0m\u001b[0;34m)\u001b[0m\u001b[0;34m\u001b[0m\u001b[0;34m\u001b[0m\u001b[0m\n\u001b[0m\u001b[1;32m    298\u001b[0m \u001b[0;34m\u001b[0m\u001b[0m\n\u001b[1;32m    299\u001b[0m     \u001b[0;32mdef\u001b[0m \u001b[0m_post\u001b[0m\u001b[0;34m(\u001b[0m\u001b[0mself\u001b[0m\u001b[0;34m,\u001b[0m \u001b[0murl\u001b[0m\u001b[0;34m,\u001b[0m \u001b[0margs\u001b[0m\u001b[0;34m=\u001b[0m\u001b[0;32mNone\u001b[0m\u001b[0;34m,\u001b[0m \u001b[0mpayload\u001b[0m\u001b[0;34m=\u001b[0m\u001b[0;32mNone\u001b[0m\u001b[0;34m,\u001b[0m \u001b[0;34m**\u001b[0m\u001b[0mkwargs\u001b[0m\u001b[0;34m)\u001b[0m\u001b[0;34m:\u001b[0m\u001b[0;34m\u001b[0m\u001b[0;34m\u001b[0m\u001b[0m\n",
      "\u001b[0;32m/opt/anaconda3/lib/python3.9/site-packages/spotipy/client.py\u001b[0m in \u001b[0;36m_internal_call\u001b[0;34m(self, method, url, payload, params)\u001b[0m\n\u001b[1;32m    279\u001b[0m             \u001b[0;32mexcept\u001b[0m \u001b[0;34m(\u001b[0m\u001b[0mIndexError\u001b[0m\u001b[0;34m,\u001b[0m \u001b[0mAttributeError\u001b[0m\u001b[0;34m)\u001b[0m\u001b[0;34m:\u001b[0m\u001b[0;34m\u001b[0m\u001b[0;34m\u001b[0m\u001b[0m\n\u001b[1;32m    280\u001b[0m                 \u001b[0mreason\u001b[0m \u001b[0;34m=\u001b[0m \u001b[0;32mNone\u001b[0m\u001b[0;34m\u001b[0m\u001b[0;34m\u001b[0m\u001b[0m\n\u001b[0;32m--> 281\u001b[0;31m             raise SpotifyException(\n\u001b[0m\u001b[1;32m    282\u001b[0m                 \u001b[0;36m429\u001b[0m\u001b[0;34m,\u001b[0m\u001b[0;34m\u001b[0m\u001b[0;34m\u001b[0m\u001b[0m\n\u001b[1;32m    283\u001b[0m                 \u001b[0;34m-\u001b[0m\u001b[0;36m1\u001b[0m\u001b[0;34m,\u001b[0m\u001b[0;34m\u001b[0m\u001b[0;34m\u001b[0m\u001b[0m\n",
      "\u001b[0;31mSpotifyException\u001b[0m: http status: 429, code:-1 - /v1/audio-features/?ids=6naxalmIoLFWR0siv8dnQQ,2m1hi0nfMR9vdGC8UcrnwU,0v1XpBHnsbkCn7iJ9Ucr1l,62bOmKYxYg7dhrC6gH9vFn,5Mmk2ii6laakqfeCT7OnVD,3yfqSUWxFvZELEM4PmlwIR,7H6ev70Weq6DdpZyyTmUXk,49X0LAl6faAusYq02PRAY6,3cqZlRpC4lOnxUE7HE3N5k,2xaFtNhCw5Q4hn1EKsrkLv,79EAVfOpzgfHx3IE2BVFQv,0pMUR7Uvp6vxlbG0qBFvgM,4LwU4Vp6od3Sb08CsP99GC,60a0Rd6pjrkxjPbaKzXjfq,7GHKA8GIMcND6c5nN1sFnD,4Y8q64VnhD0vFYy9g2WFpi,2avKuMN2QXkaG9vvHa2JLt,6Sy9BUbgFse0n0LPA5lwy5,0LWkaEyQRkF0XAms8Bg1fC,4l1MNtoCiTxBwf6yxD7kFd,0AcLrSfAEBQcUnHOTm5pXg,0JcgDliDqDac8iOFFRm7tZ,7m97yKVzPpXV9Z4ezEziOD,5S0cvScXb33JVpjTiY9Ivi,7f1Dmr246cJ9uQYdbplTbh,5jZfGxZDayFA1HzYmyOG3a,7iXF2W9vKmDoGAhlHdpyIa,7mYvtEeBdMqRSyj1Qpv6my,3BsaRV5QIulYz2lV9WWa8T,1rj0XawWJNisX7SGYexowJ,1ak0S3NhwWrUgNlQhJ1412,7JKEA8xYDoFp4q0QBW2PGg,1NNDZc9BHaWe9JqIsPRlNV,1uPrIHgYztXSkkcts9jet8,3w8Mw9GHYepoTWOSdiyosj,0s46SltT4On0Z6kglK1I5c,1RS3LStQYhju50eBdD9Uul,1H5tvpoApNDxvxDexoaAUo,5PMKzsUsTpZZGsCcJBuhP2,0HNXnhNZZtRZFLhP4hfyCP,0Ac0Ge47UpkVceZyPin7IP,0UzsDmdpw0Q14KU4hieQss,4Do68W4FWO2hRAJCzG1lus,64BbK9SFKH2jk86U3dGj2P,0gPQTLaqHDgdupKEok7J2x,3XKIUb7HzIF1Vu9usunMzc,6iiaDMXr1eqnSEH9W4DLYC,1vlTMKVV0FxG6CxGTmSY3t,5s4catxeZsaWFnOrvrXZHf,6ZOBP3NvffbU4SZcrnt1k6,1jRzdY7oUBOhrylNtiMtBD,1sjrDQXqAa9V07FjKIlAQ4,2uZwyxrg6VPvlVsvclIfel,2oncAh9o85pq1aswacLqAz,69XUpOpjzDKcfdxqZebGiI,2AW37v0bDyuOzGP3XnmFuA,7BgUcOjSOlKJXASLgJ6bx1,2dwhMQsFeHr2S787WxqAqW,35o9a4iAfLl5jRmqMX9c1D,0eKyHwckh9vQb8ncZ2DXCs,5OQGeJ1ceykovrykZsGhqL,25FTMokYEbEWHEdss5JLZS,7A0apkTSTvMbSI7yplcmlh,3wMUvT6eIw2L5cZFG1yH9j,3WkibOpDF7cQ5xntM1epyf,3UmaczJpikHgJFyBTAJVoz,7GQqj9jRtDkMp8zByehXQI,2lnzGkdtDj5mtlcOW2yRtG,2hKdd3qO7cWr2Jo0Bcs0MA,4zYTZvtcww7OWKie7fxA9E,0jG92AlXau21qgCQRxGLic,3aw9iWUQ3VrPQltgwvN9Xu,7reoZz80hQYuWtEn0Lsd0p,3IV4swNduIRunHREK80owz,0OSAJEA0ekX6pr2nuiPzX7,769geiA8btidGHda4BBDOJ,1Lhwn4PqeGpM4LTVUowW76,3RmKpob8xzv1pzHEQrMJah,0gmbgwZ8iqyMPmXefof8Yf,0I3q5fE6wg7LIfHGngUTnV,7MLPGQfmCkHpqfAib42qby,7FWuzwapuKHTEyDJIcQOw3,0UrWr7Jnu1heq1o99ZwUd0,6zsk6uF3MxfIeHPlubKBvR,45cVyfWuMAg8RNxmkcpmy9,0oHLi9gb4Gd97OuN6ckMk8,7yMiX7n9SBvadzox8T5jzT,7nWsh14AHpnTzq1Xejz90U,1fgvJXlcZ7uIddMpqsqw0L,2SLZ2rX5773RS16mcqBxG7,595JwfRS0iFbdZyhlBxokI,6j8nh1kHwezw8pkC2eU87F,5z6xHjCZr7a7AIcy8sPBKy,6IFOw9Ck9mWHRQgw6QrPYx,5IweeQZdY5XEzStLzUJG5t,3qzcM6SmbzBnGXSJe6hYdy,5mNV8Mz59bzyuQ53gTw0c0,0rRboI6IRuGx56Dq3UdYY4,4UfupbARPxljVkBmuZlJnY,0tWdRXWDUd1gWLthXgk6Dp,6FLwmdmW77N1Pxb1aWsZmO,61fUmn6wYvU7qS62wNvQFN,41nT1Sp6ChR65FbsdLlFHW,2B1jt2a6zdN4qLiugoEJry,0xikWgPgYN9BEes0ieZ8Co,747tpec1a0Hfqvj2za1pBs,1Jlt67b4oOhCoFW9GQwL9T,16MJqq0vEuW6GRX6faetTm,4Mnw05kNd0j1XDHwtfzofp,5S9810AEDRnVQovixcU2h4,4cNhx6OO1XpvwT6xZnb83B,3Gf5nttwcX9aaSQXRWidEZ,4h5KBcltGefua73AUPYps7,0HKD13PLq2WicViBBhSrOl,1Sm3U3B5XoidYQEZQZrh3i,25CMmGsl22APKhfuj4Tp7j,5zn1hpm9N0ylKB7kOtpCw2,0Uyh92tLyb9JawG8lmWCzJ,0wqOReZDnrefefEsrIGeR4,0ARK753YaiJbpLUk7z5yIM,7lQ8MOhq6IN2w8EYcFNSUk,5xEM5hIgJ1jjgcEBfpkt2F,4w1lzcaoZ1IC2K5TwjalRP,5QpaGzWp0hwB5faV8dkbAz,15f8Cv8RXUlOOCIf2oaceN,6fR6Z0Vc1K6yQWNUIKjAIR,36jSIOSE72neBbKntCthqw,0YImOCkIJ2PWhCXaURCZnY,4xkOaSrkexMciUUogZKVTS,6Wt5QBzHp9vdSLAFlvdnDQ,0IspqeDVLIw46spUMhOKRL,7DUpuAzGUyJaJB3p9BC3Ms,6UEfyhyfhYQsyipxOd95Ie,0qvlhVNm7L5IWabWF5hlEL,779ooI3rBd0CLqCiiJmtVo,5p0KCAuu5nrHpTuAIhHdLw,3GhuNU58hVUuzKY7LHmFRB,0pLmfgIANOX9FB9uZDU43x,4SnTf4ixVZCfQtxHNhky0T,5fkDD7aQLUmMy1EwzNm0ZB,2zhGnnDewN4kBsVzbqjBtX,0WgLpgUdThEpA5L5K0SKq7,1Q9b6CeMcDuO0uq5OJCrqu,5r29mFrurlVBbqJzjr2XW6,5Y0E3dOeynKuLDAXu0t0Bg,04KTF78FFg8sOHC1BADqbY,59ZTxQo8rBycIXPLUIKvE2,2mKouqwAIdQnMP43zxR89r,6AfLmKXzhEZjwiVPs5jhdV,3oXNIpoUMdk8qGkwCeXqGv,3SCVtAJq8li6HlKfM4M08u,21iEEekDSvQjVARSQ4dpXY,7lVNTXkI3cHFvcXiI8damb,14PbhGTCaHCXDvZzfTWumU,1F1XjwRzMh8KT2BvH6ISkG,6XK173kEu52iupeIqOnp41,2iWyrSHvs6qhFzfpiLAK0z,02jcEwywffn3Tsb48fXmlW,1NRorokmYEtr1koWybvaE4,3jagJCUbdqhDSPuxP8cAqF,563vSy3HB5NHxel1VGQCW6,2VSbEXqs6NbNiZSTcHlIDR,4hrae8atte6cRlSC9a7VCO,6zMUIb4uce1CzpbjR3vMdN,00Mb3DuaIH1kjrwOku9CGU,4gdQ8QShlC3toP9Mkc8DwB,1f2V8U1BiWaC9aJWmpOARe,4rr0gWiMrF4sOIefs3IEvZ,1QhSB9L9M5eZQhW4RNOhXK,2LVxvGhl2U5p2ql2ujc6vZ,5PCJldueshnwqQVjS16543,0eFklulxFnNCypNSrywzSB,4KqTGPPmXowMPEoShSVOta,16DhvbuyvJob4Q9GHNYu2n,4SyadrABZJIjeND1HPJS31,4IEOKcFZGMiKp5NXYjH001,5dpAN1mjFPL38kh9kWsCiw,0kr6d8wHDQPlzuET33NVn6,6lSr3iZTC144PKhvbPFzMp,074v54tSEWLbq3Hu5wf6uh,4RY96Asd9IefaL3X4LOLZ8,5Z01UMMf7V1o0MzF86s6WJ,5IVuqXILoxVWvWEPm82Jxr,4O4dhPrjcw7GSLNafNydmb,0xmjwnQ3FNE6HuWCt2nHdZ,4ZOyH6KjomjlqCz3oFqglr,4bJygwUKrRgq1stlNXcgMg,1n7omixiROWs5q6xpWiQuL,6dK1HEHZcQlh24bSU7pTaZ,3stnrhzN0lzZFskbaZ5sEw,5ljCWsDlSyJ41kwqym2ORw,2D1hlMwWWXpkc3CZJ5U351,4Yf5bqU3NK4kNOypcrLYwU,4O9ICXbrUTAVR5kkx6xANJ,0COqiPhxzoWICwFCS4eZcp,2icpXUdhbKPNXRJD7lPmXX,23ehR4jpFQFMfDADgFdXR7,0M955bMOoilikPXwKLYpoi,0r2Bul2NuCViraT2zX1l5j,6FTJuZtQZvmPPRFmrcno9J,7mS8RbJji2UZAaguRGsOCH,1AWQoqb9bSvzTjaLralEkT,3dPQuX8Gs42Y7b454ybpMR,5TpaWJKnuyA4MjzAbFXSTQ,4WY3HyGXsWqjFRCVD6gnTe,0aULRU35N9kTj6O1xMULRR,7qPiLAs9I8cqUv1BCnmlHN,1AEYT6VxrxXPMoQUxsY0E4,1AjQE5MtP5jHQMyDepbvLI,25Mn17RDbdJHiKL5SEhLnL,1lKS7SZQ7r5vOChLwJurmm,2jGUAB6hKlzK0pZmZpQ02g,0RilVXCOQf4AD6a4uTTs7d,6rpNe6gSkmiYW6BfSFATi5,0iFOG4Ki9aDmJUYUFHQlPG,0l3GEbH3CviUytD6iX4wzg,2BeoIEbdG1kOWYKQhNl4dX,3CZlTOyNnKVMb021IYEY6r,3Gamc2D6VSlXpUcmhPUFYt,41bIQPBE1lFN0mmw6Lmssz,7kAFSrTIOiVZ0gnHBuAH3l,75DjPjiIp2fvJDjtt41Jfs,71NJqORRmwlcZSLk0VsFjU,2fE4MbwX3QGMzNaMjGVhtw,5ojJNnX5ND2gMGojPd3NiO,2VHfyWLlvCvbkIqtS5tqt3,0O5oSZuSSQhLanMLMmQrRd,3OUApyz3jDB3syGUNGqB1d,7Lf7oSEVdzZqTA0kEDSlS5,6pWzCKTrKrwbUPzY8RLCoP,4jacsL77ZYnpInmTtUBaJW,3YuaBvuZqcwN3CEAyyoaei,3OQu3z3okKVmWxSXTTHak5,3kgutGd839IOYRl6ekeq6V,3adnLFXKO5rC1lhUNSeg3N,6HxweNytuEQdmGeVtZPZz3,0FmCLEHfINGqwlyzvklNqy,2iclfHORMqpR3TxuhwVRhD,6Bm6qUCSatPAqkQllFL7oA,5z7mYFfhw6N6f23VwrokJD,0yHConG49418wPs8UfAt44,2md2i5QvelRFnafpnd6LOg,2g2a5kDeZexbUTD8abcvm6,5dWfl2PBpKHpBVdz95wxK1,57Xjny5yNzAcsxnusKmAfA,5rb9QrpfcKFHM1EUbSIurX,2PpruBYCo4H7WOBJ7Q2EwM,3xl7PsO7Hzuig6To9FgDm6,228BxWXUYQPJrJYHDLOHkj,4hfIVhq0F0zFUcrbecsYmo,4nnHlGaBwJHb1rBetqj0Yl,2Ozc0me9PV5vlt8cokwdvI,7bZsx7Zif6FIhrcZrh0LVm,3sckKKIx96cjPXtiqPHCTB,0YGQ3hZcRLC5YX7o0hdmHg,0YUrjFy4qFKOO5NhM9tYdV,4XHQyvbrBsQaaBUW1VvmsL,2yr2HnFYl7XvqJk4fXoQBt,4dvQg9sD8k9y4qiEURuj8v,1xNcBAoUw8Hz6LqK2jt4Ff,3dFwpxh2yH7C7p9BGEKLVB,7uSsHbBFFAnkRQR1rDwP3L,2ndnVdR8si7CW9T8vJRHyW,4MeDnO5yA2Zi6IMlVApRci,3IrkbGQCoEPAkzJ0Tkv8nm,2EM9zpAc7PVeoAydmbfVIL,0cZDC7uxNK8lqQ3GgyvCnD,4Kd0FzFpOgIGxlBl4HXuFn,5NJhMbvK53XATYf7qHEqZL,6n8TMVyFKoUmDc4apxceRD,4L55p6txv9vuCWhpNnY6eY,6cR1U61DMpYbS2TtNTlSvo,0qcjuYtMWhBjXg0Xwt5SzS,2NBQmPrOEEjA8VbeWOQGxO,2o7V26rsF1ukcRI005S0LL,3CcvahnsiArpTHYQEWV2Au,3XTaaGGAL2gVVaAbu0yxQX,2tOZtdbkAMQASWokLvSlzj,4Vqd7MuPVrciqRS3EzhKWb,20I8RduZC2PWMWTDCZuuAN,0jSMveIWvnhDIvzqN74Uc7,1dHJETCn2X1R1YwVlMvSza,4s0o8TJHfX9LLHa0umnOzT,5g1vtHqi9uV7xtYeCcFOBx,4UzVcXufOhGUwF56HT7b8M,3vZfy3cXEYojq7BvSt87Of,3A4cpTBPaIQdtPFb5JxtaX,6nTiIhLmQ3FWhvrGafw2zj,5dxHF4lrDimKqnI3GaZUmC,4mmkhcEm1Ljy1U9nwtsxUo,2T8hXV9LUZMDBKR5RALGEa,6sqNctd7MlJoKDOxPVCAvU,1p5kC161fWMA2QlwV3Vi4W,3NLrRZoMF0Lx6zTlYqeIo4,5SkRLpaGtvYPhw02vZhQQ9,5y8WWi1BaKHXfuln0XoIZs,3rQjc4GGMcrtXwis7vBzaQ,312A8WfROSLvZbMDHBUPDp,6CN3e26iQSj1N5lomh0mfO,3JOVTQ5h8HGFnDdp4VT3MP,7yXibbAYi4to5oQTeO738f,6LGwYMXXgURfaequXipzHx,3LmvfNUQtglbTrydsdIqFU,1PS1QMdUqOal0ai3Gt7sDQ,4TsmezEQVSZNNPv5RJ65Ov,5D2mYZuzcgjpchVY1pmTPh,5GorCbAP4aL0EJ16frG2hd,1bqZ94bPrrHyIpYux7rVj7,3850dYVgOFIXJh5U4BFEWH,4nva9EpKntUTs6CRSGBCn9,4gXdMZkBN1neE9nX6yRALa,4kOTDj4SiZPkW1p96WMDNv,4bz7uB4edifWKJXSDxwHcs,6ndmKwWqMozN2tcZqzCX4K,69bHJ9qs5FrUJbKP8xU8uZ,7xYnUQigPoIDAMPVK79NEq,19JdbdEwQI7bCxefMokZO8,7i7UIbm5E0DD7aSOYvwp2v,7BKi4ZcyMBXeAvJ1OPxhdV,6EfyEbyk4XjCisJz90V8Ki,0rLzyBecRbTpnBWvMtPVFR,5sNESr6pQfIhL3krM8CtZn,2wGSgTmgSF3xjRrHkTc25R,0d28khcov6AiegSCpG5TuT,0reKGVcWLVvl1FzjZ6TACy,2nCmCt4B5vkabS0zeOuc1Z,0Ss50OU9tCozI7JIywkv14,561jH07mF1jHuk7KlaeF0s,5BSclXJTa9B0iURhUjZo50,4Hff1IjRbLGeLgFgxvHflk,07u02f6biDHx5VexfAs41b,2ajhenDRiiAnCHHjsIOHhJ,0UaMYEvWZi0ZqiDOoHU3YI,4faFAhOflLzhfJECveRwva,3B7i9OKRRmIsSBHEbJz58Y,34KUIBsIUiPV7oCIzSdDAU,3zdDxhDo5SycC7XSAPfdjv,4FTOpNYcGxnQdGNWSxIcio,0LzrhCZFXW94Y8nwtTuRlw,0lP4HYLmvowOKdsQ7CVkuq,7jLbTp3qZzah9kMIdW8e5M,470UOQDSTMTBEgkBaeqVN6,41PWz0hAiU9FqsmjR9Wh62,5Y78yINSOCW6xbOfGWNBg4,3jEqrIfwKO0M8ALu3TGilF,7IdfMBufDn3yf2JhS3a5w0,0AKAxdNkwq9ZxRdW1DN9zW,5qrzhg9Fmu8Amg2uMhHfe5,29EkMZmUNz1WsuzaMtVo1i,10NH6nFIKbx8Yee8cQ1gDn,1oNToERLIN71YCPLbRIQGQ,3fMoeGj4mDusrmYOOF60aC,6uYAPqxP69zfpCbsTHXgiz,4NjR63Up0uMkQBlKvlZd1l,7clUVcSOtkNWa58Gw5RfD4,5p9XWUdvbUzmPCukOmwoU3,3xrn9i8zhNZsTtcoWgQEAd,6fzcnVO0X2cpYjsHk19GJo,5lDriBxJd22IhOH9zTcFrV,7G6l2FtQyRhQgYgut2I6i8,3ZFTkvIE7kyPt6Nu3PEa7V,0k2GOhqsrxDTAbFFSdNJjT,0O45fw2L5vsWpdsOdXwNAR,6RX5iL93VZ5fKmyvNXvF1r,4wH4dJgrsxONID6KS2tDQM,0Qn0i8df7Q76ej3RAXAtI2,6yuvC80FcnVJNvC0DbXN9e,6btyEL6NwUa97Nex9cZFvo,2gam98EZKrF9XuOkU13ApN,6WoC2b3CCpyrDQJKkBQZn1,6k8uthjEbttfWXcGaNTQGD,3BxWKCI06eQ5Od8TY2JBeA,3rKCDtV8UcF0RytSiXxypc,0fGh0trRN1xz3s41r7V5ce,3lPr8ghNDBLc2uZovNyLs9,53ETzLQQKFCzykRbqWb1ph,7g7M96UGiA7OR79H86gV4m,6o3s08kk2fQI37vxGZDrJ1,4GIsskMpViPkt0uzPJTJSp,05Sgj1Hx03ZXc57gsV1kfX,4NeOWqHmlrGRuBvsLJC9rL,4Gd9PUEuOTOJtbgd4YxLXM,3YQjgTpUVNWvpYeb2mtTF7,7jRoWfRlLnGYEIEn4t4kbq,0JbZk8LQm3hCecAykIwAPn,423EcxblW9F4nnQkqcqMlK,1Ab6RxeKl3e07zP7Get7CX,0Eu5SrReZzaJX0NLKI8tQS,7M13FwBAKWNa2jqcZeUhL6,5loIRrZU3ez3r102qFzJI2,6Y3WvyUG9iE5bQYg38SPtQ,5YTSbfnyJRqul0H8kmamg3,13xxBnXOuiBxVxJI458B0i,2dxjKgT0li4qBI3QwuN9Ih,7cVmKBwzPsh4Fmb6SplfEm,663Karu2rvKLdnY0eo1n3M,5hF2LnbkpnXCkksMSeWcxZ,2JpUkUR0OsOlUUfm6iS8ic,1bPqAXwNiVcM6zjJU1Z4Cd,0tYPj0NYa7vjlJaqlRSnJb,2Fs18NaCDuluPG1DHGw1XG,2RWxrpsFshOBFwRBRstUlQ,4T4NLIMypdmyUwK54jECk4,0k6HUzaRHpQ3eEWr1C7Esh,0DMRKqrpd0QO4RWiEdMib0,4bVuIlGQBMWS7vIhcx8Ae4,10Nmj3JCNoMeBQ87uw5j8k,13pyGLYmBjYgvOMIEivX2K,6brl7bwOHmGFkNw3MBqssT,40LQiUUUKXVGyNs09lHVjW,4xlEKYv7HmC8zXoJIbpZKM,3ItzRpwvKtkDSNdRSjXu7Z,4bPQs0PHn4xbipzdPfn6du,6gxycjJNMgmAyfzUXBN80P,0qAMjeQFyd1qD0LDiV8gWp,3U5JVgI2x4rDyHGObzJfNf,28euH5Ny1JXxZAt2KjWp62,5fVZC9GiM4e8vu99W0Xf6J,4mnTMsp8Cgf9TNiQMhH11L,5wQnmLuC1W7ATsArWACrgW,7DFnq8FYhHMCylykf6ZCxA,2hns6Dv29Yrg68AVTJiAyA,7wZUrN8oemZfsEd1CGkbXE,2yPoXCs7BSIUrucMdK5PzV,6ic8OlLUNEATToEFU3xmaH,4AniPkv5vgdE1n6VKreiyI,6kopmMZiyLmw7h66uXcXR7,4RCWB3V8V0dignt99LZ8vH,3pD0f7hSJg2XdQ6udw5Tey,66ZcOcouenzZEnzTJvoFmH,2bLqfJjuC5syrsgDsZfGmn,2aI21FnmY7TJVKeMaoQZ0t,4LjfIjS8iweFCPdKxLnEoV,5TmFTHZp7HjBXjjsFvCY6h,2kQuhkFX7uSVepCD3h29g5,36Hwcla06Q5BCr59CL0sBp,06Vw2ZOhalTwEw4PhoGRSX,6WoC2b3CCpyrDQJKkBQZn1,0j2T0R9dR9qdJYsB7ciXhf,2HWWNoWEEEECwZhAiLg7ib,6ajyEEzWZbw8ycDcJAN099,0CXVjQI9wsqaGeIARkkpYc,66TRwr5uJwPt15mfFkzhbi,4JPCdSaqs9dJd7RatFSHww,1iOJQhxKSJ7dg3Dk03yPnl,4Tn2llBm1g0UlWctmgPL8Z,2a03afRiyAbNAleOByVju4,18lR4BzEs7e3qzc0KVkTpU,3wKKkGVn7cVSfgPeYYIiXG,1IYaMVfidzSfvCUZYXhsU1,28IEbk5a7twNTbUEvWslUb,0YkJU6TjjwzsVXUPRIO0DB,4eAwB5pnKFTmsgc3zWoYO0,5rTIpPWeO0IL4HWlGWrz5G,4KTtYhxFtFL7mBwnjkKfLm,0UFDKFqW2oGspYeYqo9wjA,7j31rVgGX9Q2blT92VBEA0,6x2xqg5fQNu9dNCXu83ezE,6CFPFnS9EcLs2I0nWqtWci,234RqTZmnDTnxWlVciXHLD,6PBAPjshd2JfEiWpdf3C2a,6BqWhxll86CGGE6WxgdRqG,1RGIjMFMgJxkZHMDXVYzOJ,68Zq7PMcPIQE8ol1x3gAqw,1D066zixBwqFYqBhKgdPzp,5qhlC4Rzals34zxovrPzKp,1zyqZONW985Cs4osz9wlsu,3Zwu2K0Qa5sT6teCCHPShP,5iyE2d4U3Vc5cqY9mPTlpy,0JJP0IS4w0fJx01EcrfkDe,30FURVTCpbKyykjSEQzGkH,0JfAMd3xTqm7ZYhBmQjYzt,5Yaw45Q7W0irDbTVN5LOVs,53SqGkNJAYLss9AgbduTqQ,1lHXlGlve5Zx8tXLhyjDwM,1oagRT7LfpVlNJN6FSZDGp,6SpLc7EXZIPpy0sVko0aoU,6DbqCKweKwVkHgRv1CI53D,7x8dCjCr0x6x2lXKujYD34,1JwIBogbuZ4Yfb6nssXWa2,3LGeYNY9aWQuBJovOOowqm,3RGyFugqjQjlL8XX0NW8dZ,4wzjNqjKAKDU82e8uMhzmr,7dzUZec5MnWMyQnk5klnKR,5lUTzPuiloBHm1qEaJcJfF,1hGy2eLcmC8eKx7qr1tOqx,1BV0m40U0M4t1SLIsDnwZl,0ZUo4YjG4saFnEJhdWp9Bt,0td1GfBHNxlGephozVmL9k,1tkMs9wDPknQ3ZHcKDw1ES,2elA6JLRaQ6iB7hxiuTKN4,6SmPPtaMnfxgz5duA6t9Cu,37pFLuNVnAJQL9ysRoKTdy,4liGjmhCupa7RP9JaQELYx,56Tl3UgyZTqfZtvFNS31wm,48yZwqAxCZk0t2ssDw2hzH,2aibwv5hGXSgw7Yru8IYTO,3QnEp4rluCxUwgpXT43jmC,0CAfXk7DXMnon4gLudAp7J,005lwxGU1tms6HGELIcUv9,3goSVuTt3fDYDP6kRnFwuL,26NX1wPt1TRCH536yocd6i,2VOomzT6VavJOGBeySqaMc,3aQz0z86zrKjd1mcZlonxE,52K4Nl7eVNqUpUeJeWJlwT,4P7VFiaZb3xrXoqGwZXC3J,5Nr1ZcH9PGTiQdGl9HCCS1,5TRPicyLGbAF2LGBFbHGvO,1oHClQEgDmmbcEx12Kc5nZ,1y4eb6hmAvsqlDOl3fx9kk,1wva1IlWLDNLgwipUWcmjy,1ARJhjuI6TNYZCxYygFQ4F,4fixebDZAVToLbUCuEloa2,0F2BxpbxH8Yc3pLub48hrb,3jlbL2OTD5YmIunYzgQTAN,6ScJMrlpiLfZUGtWp4QIVt,3MldzywZOH4Uci6bq9noyJ,2PTvik6EqPAIYOclAB3SU8,3XCezj8BPm1xGH3qS6SruW,6pTg4H8juKV9iSzrcVUbM3,0aeWFHCKwVoavQdpduyB1Q,3LN41NUdHkyNqQhi9gExMm,3tSuRiNgJmMqmYR23dCqnR,6AdLyvisRKHLAwARaZMGr6,1uigwk5hNV84zRd5YQQRTk,4iz9lGMjU1lXS51oPmUmTe,22UDw8rSfLbUsaAGTXQ4Z8,3pxCXv0NACYfYnLjFcQW5D,6tC2iHfUlzB2W4ntXXL2BH,4yHFxB8kzzeuNvoouR8N0N,0JiY190vktuhSGN6aqJdrt,1kxeWHF9PrCVZHvVskv8lg,3RDcUlLGp3SLp2AmUbUbls,1ixbwbeBi5ufN4noUKmW5a,0uybt73QFXaLCoxuVf6fhm,2aEuXA1KswHlCGPOuPmCOW,1C6eViOmSvwrXz9JTHYaOV,5Hv1QAbRWrUSUHaT0CmnMS,3wkNK8tJZ2stygNJm8RCRD,5liQj4sVRmEEESvvcb64o8,5j0McHPthKpOXRr3fBq8M0,45upEMiYeArj06RERttNFx,2xUjNGHjJOBcpTf7dYx4EY,1gt1fWqUZOUgT2kTArAw4E,0exb0K7vsjf5bXWLJJhAuF,0tp2cUnCAcsR6xL5kw9HKu,1IAzD1muglOxOcPbUHs70R,48s0QHJgmiNsth3WEO6U4M,33vzOPcd9FRirYGlCu32x4,5o4W6yWSJD9e9Ea8YC9WjF,1mea3bSkSGXuIRvnydlB5b,0ntQJM78wzOLVeCUAW7Y45,4ZPdLEztrlZqbJkgHNw54L,3nJjIYchBNkYm7B8XfJf5N,1ZqHjApl3pfzwjweTfMi0g,72by3Re4C3eVEBXvsUo0zV,2VEsmoek0sol9MnJFyoG9e,7dltD9eEX7X1zk8JJ9BS0e,56pHllZT7QOacB0bP56ofx,2iXBZ32Fz5VDCLeE0JIdX5,50xeLNGKmskmYUSINhqvfa,2H1047e0oMSj10dgp7p2VG,5R8dQOPq8haW94K7mgERlO,0uXO2GrNiIb1xHT9LUdxZE,3GpbwCm3YxiWDvy29Uo3vP,1vrd6UOGamcKNGnSHJQlSt,6Rb0ptOEjBjPPQUlQtQGbL,7jk7gqyEonmVVYahZN5zhW,0TcJ7QWpggdSg8t0fHThHm,2UREu1Y8CO4jXkbvqAtP7g,6wOYnPq1hPihRepcDClPUw,4EWCNWgDS8707fNSZ1oaA5,5FEXPoPnzueFJQCPRIrC3c,2x7MyWybabEz6Y6wvHuwGE,2hdy9Wt9qp7M7d0U3ossu2,13plQdOoWSSXPRUSZc5FuM,3IcIIZMMS7UArJJPtEHXG8,3opVsyWVYEAFK9bJAG8Opa,7Hqig8kp32q2Ire3ECQvWM,2igwFfvr1OAGX9SKDCPBwO,5XRHGXut00SrJUFmcn2lQF,4NpDZPwSXmL0cCTaJuVrCw,360ZhWvMnyXKYFG9Mqsm89,6Wx88Mv6b9ofjKMKkdwOJd,6TrNRd98WksT9Kkmx9uj6R,7LR85XLWw2yXqKBSI5brbG,0SiywuOBRcynK0uKGWdCnn,6ddQ5KCkvCggk3j6KdA0zL,7xdmTEHRbgQuLR8KpRLLnn,6ATrsVaZT7XjkCynxM8cTS,3R6dN42VdwivkZTMz03Rci,77FULy278MulVvGWS8BfK7,6WdV6QM8t87dPidhPzdRJW,2q4rjDy9WhaN3o9MvDbO21,4dK00wCxlqWEeN8BoM1BHT,5xeSDlt3eCxPsWKBhfUJTR,426vBhxw4upEf11BqBBgs0,5jzX4dWVQeBTtfBaXnMRt5,7Kpqjspw4Y7HrvItIRcBiW,0JYRNrTwUmeySRX37azvnH,1YaVmBh7EAeR54FIjuFcb5,0KlahhzNb98zyN83Vwae0l,6c0GmyBsE7mQtrVvxJaWc3,67T6l4q3zVjC5nZZPXByU8,7IhsLJMqdxoo7YAZjaSMru,2oENJa1T33GJ0w8dC167G4,5r5cp9IpziiIsR6b93vcnQ,7kMfu3KUydmrFVGEAhjtyl,4QJLKU75Rg4558f4LbDBRi,3kMrazSvILsgcwtidZd1Qd,4VqPOruhp5EdPBeR92t6lQ,06T10fEzN8ZCcqzQZYA184,2ZBNclC5wm4GtiWaeh0DMx,3RBGG1be9aBaSvjnw6ABkh,1NhPKVLsHhFUHIOZ32QnS2,4KAzYqfcijCSZa2P3etHoM,3QLjDkgLh9AOEHlhQtDuhs,5Q0Nhxo0l2bP3pNjpGJwV1,1Nme6K1PYAh7p7uygyuRdf,64yrDBpcdwEdNY9loyEGbX,58FUwmyGUqkt53YPUcm7cJ,3GCL1PydwsLodcpv0Ll1ch,0CwYG1UnRmOx8Q1EzElCIL,1akgiRM3mN2nxu2AX6ACCW,6fvxos1qSHrIgOkKw4dhWS,4Dm32oO01YpIubCHaAtKkN,6JnufVNLIO5F5Lk4sEVLeI,4IoYz8XqqdowINzfRrFnhi,7BqBn9nzAq8spo5e7cZ0dJ,15JINEqzVMv3SvJTAXAKED,2GYHyAoLWpkxLVa4oYTVko,0HPD5WQqrq7wPWR7P7Dw1i,4dTaAiV9xFFCxnPur9c9yL,2ENexcMEMsYk0rVJigVD3i,6KOEK6SeCEZOQkLj5M1PxH,0WCiI0ddWiu5F2kSHgfw5S,5ojIL91nfnWExoXSCkvJ9E,4DvhkX2ic4zWkQeWMwQ2qf,6FbGlkHKGkYqpSCuBgurn3,2DHc2e5bBn4UzY0ENVFrUl,2qugfmw9Hi27DyIo2gite4,1AguHaKOuggrVTebp7cZEI,0oJMv049q8hEkes9w0L1J4,7Ie9W94M7OjPoZVV216Xus,60jzFy6Nn4M0iD1d94oteF,2Q99zPXVqCPN5RaZawvJWZ,1hBM2D1ULT3aeKuddSwPsK,7vWFaMq63AwkFDhS2OAg5u,41KPpw0EZCytxNkmEMJVgr,6wN4nT2qy3MQc098yL3Eu9,4356Typ82hUiFAynbLYbPn,5vlEg2fT4cFWAqU5QptIpQ,6ebkx7Q5tTxrCxKq4GYj0Y,45O0tUN9Bh6LH4eNxQ07AT,03tqyYWC9Um2ZqU0ZN849H,61HQWI1Woxup7CnGwVUsdI,161DnLWsx1i3u1JT05lzqU,2V4bv1fNWfTcyRJKmej6Sj,2rDwdvBma1O1eLzo29p2cr,4AYX69oFP3UOS1CFmV9UfO,360UM2DaiHZPRu0EsrOvMp,7tSO7DrrYpiMXX3zM4b3oM:\n Max Retries, reason: too many 502 error responses"
     ]
    }
   ],
   "source": [
    "not_hot1_audio_feat = get_audio_features(not_hot1)\n",
    "not_hot1_audio_feat.head()"
   ]
  },
  {
   "cell_type": "code",
   "execution_count": null,
   "id": "e8bc74fd",
   "metadata": {},
   "outputs": [],
   "source": [
    "not_hot2_audio_feat = get_audio_features(not_hot2)\n",
    "not_hot2_audio_feat.head()"
   ]
  },
  {
   "cell_type": "code",
   "execution_count": null,
   "id": "eebe23ce",
   "metadata": {},
   "outputs": [],
   "source": [
    "not_hot3_audio_feat = get_audio_features(not_hot3)\n",
    "not_hot3_audio_feat.head()"
   ]
  },
  {
   "cell_type": "code",
   "execution_count": null,
   "id": "4fc1e39b",
   "metadata": {},
   "outputs": [],
   "source": [
    "not_hot4_audio_feat = get_audio_features(not_hot4)\n",
    "not_hot4_audio_feat.head()"
   ]
  },
  {
   "cell_type": "code",
   "execution_count": null,
   "id": "5fcc2037",
   "metadata": {
    "collapsed": true
   },
   "outputs": [],
   "source": [
    "not_hot_audio_feat = pd.concat([not_hot1_audio_feat.reset_index(drop = True), not_hot2_audio_feat.reset_index(drop = True), not_hot3_audio_feat.reset_index(drop = True), not_hot4_audio_feat.reset_index(drop = True)], axis=1)\n",
    "not_hot_audio_feat.shape"
   ]
  },
  {
   "cell_type": "code",
   "execution_count": 162,
   "id": "1d330801",
   "metadata": {},
   "outputs": [],
   "source": [
    "# Exporting these dataframes as csv :\n",
    "top_100_audio_feat.to_csv('top_100_audio_feat.csv')\n",
    "not_hot_subset_audio_feat.to_csv('not_hot_subset_audio_feat.csv')"
   ]
  },
  {
   "cell_type": "code",
   "execution_count": null,
   "id": "e05c2972",
   "metadata": {},
   "outputs": [],
   "source": [
    "not_hot_audio_feat.to_csv('not_hot_audio_feat.csv')"
   ]
  }
 ],
 "metadata": {
  "kernelspec": {
   "display_name": "Python 3 (ipykernel)",
   "language": "python",
   "name": "python3"
  },
  "language_info": {
   "codemirror_mode": {
    "name": "ipython",
    "version": 3
   },
   "file_extension": ".py",
   "mimetype": "text/x-python",
   "name": "python",
   "nbconvert_exporter": "python",
   "pygments_lexer": "ipython3",
   "version": "3.9.7"
  }
 },
 "nbformat": 4,
 "nbformat_minor": 5
}
