{
 "cells": [
  {
   "cell_type": "markdown",
   "id": "c6ebea9b",
   "metadata": {},
   "source": [
    "Lab | Working with Spotify's API\n",
    "\n",
    "Extending the internal databases with audio features\n",
    "Create a function to search a given song in the Spotify API: search_song(). Take into account that sometimes Spotify's API will return several matches for the same song title (different artists, a different album of the same artist, version of the song,...etc). Then it will be nice to display a list of outputs to the user and let him/her select which is the right match. Once the desired song is located, the function should return the href/id/uri of the song to the code (not to the user).\n",
    "Create a function \"get_audio_features(list_of_songs)\" to obtain the audio features of a given list of songs (the content of list_of_songs can be the href/id/uri). Then, use this function to create a Pandas Dataframe with the audio features of the list of songs. Hint: create a dictionary with the song's audio features as keys and an empty list as values. Then fill in the lists with the corresponding audio features of each song. Finally, create your data frame from the dictionary. Bear in mind the following: This API has a restriction on the number of requests per minute, therefore, consider launching the search using smaller groups of songs.\n",
    "Once the previous function has been created, create another function \"add_audio_features(df, audio_features_df)\" to concat a given data frame with the data frame containing the audio features alongside any other desired info, and return the extended data frame.\n",
    "Replace the old internal files of songs (hot and not hot) with the extended data frames with the audio features and save them into separate files on the disk."
   ]
  },
  {
   "cell_type": "code",
   "execution_count": 1,
   "id": "000f394d",
   "metadata": {},
   "outputs": [],
   "source": [
    "#Create a function to search a given song in the Spotify API: search_song(). "
   ]
  },
  {
   "cell_type": "code",
   "execution_count": 2,
   "id": "6747f2aa",
   "metadata": {},
   "outputs": [],
   "source": [
    "import pandas as pd\n",
    "import spotipy\n",
    "import json\n",
    "import numpy as np\n",
    "from spotipy.oauth2 import SpotifyClientCredentials"
   ]
  },
  {
   "cell_type": "code",
   "execution_count": 3,
   "id": "d21a60b0",
   "metadata": {},
   "outputs": [
    {
     "data": {
      "text/plain": [
       "(100, 3)"
      ]
     },
     "execution_count": 3,
     "metadata": {},
     "output_type": "execute_result"
    }
   ],
   "source": [
    "top_100 = pd.read_csv('top_100.csv')\n",
    "top_100.shape"
   ]
  },
  {
   "cell_type": "code",
   "execution_count": 4,
   "id": "2169b65d",
   "metadata": {},
   "outputs": [],
   "source": [
    "# Creating a subset of this dataframe to try the functions we create while avoiding being blocked :\n",
    "# (if it works on the subset, we will apply it on the whole dataframe)\n",
    "#not_hot_subset = not_hot.loc[0:50]\n",
    "#not_hot_subset.shape"
   ]
  },
  {
   "cell_type": "code",
   "execution_count": 5,
   "id": "72662e2d",
   "metadata": {},
   "outputs": [
    {
     "data": {
      "text/plain": [
       "(3640, 3)"
      ]
     },
     "execution_count": 5,
     "metadata": {},
     "output_type": "execute_result"
    }
   ],
   "source": [
    "not_hot = pd.read_csv('not_hot.csv')\n",
    "not_hot.shape"
   ]
  },
  {
   "cell_type": "code",
   "execution_count": 6,
   "id": "c48a0a8f",
   "metadata": {},
   "outputs": [],
   "source": [
    "from config import *"
   ]
  },
  {
   "cell_type": "code",
   "execution_count": 7,
   "id": "95f0bed5",
   "metadata": {},
   "outputs": [],
   "source": [
    "#Initialize SpotiPy with user credentias\n",
    "sp = spotipy.Spotify(auth_manager=SpotifyClientCredentials(client_id= client_id,client_secret= client_secret))"
   ]
  },
  {
   "cell_type": "code",
   "execution_count": 8,
   "id": "7bcae60f",
   "metadata": {},
   "outputs": [],
   "source": [
    "# define song_ids"
   ]
  },
  {
   "cell_type": "code",
   "execution_count": 9,
   "id": "8f75e837",
   "metadata": {},
   "outputs": [],
   "source": [
    "#creating search song function"
   ]
  },
  {
   "cell_type": "code",
   "execution_count": 10,
   "id": "bdee2028",
   "metadata": {},
   "outputs": [],
   "source": [
    "def search_song(df) :\n",
    "    song_ids = []\n",
    "    for i in range(len(df)) :\n",
    "        results = sp.search(q=\"track:\"+df['title'][i],limit=1)\n",
    "        results_size = len(results[\"tracks\"][\"items\"])\n",
    "        if results_size == 0:\n",
    "            song_ids.append(np.nan)\n",
    "        else:\n",
    "            if (results[\"tracks\"][\"items\"][0]['artists'][0]['name'] in df['artist'][i]) or (df['artist'][i] in results[\"tracks\"][\"items\"][0]['artists'][0]['name']):\n",
    "                song_id = results[\"tracks\"][\"items\"][0][\"id\"]\n",
    "                song_ids.append(song_id)\n",
    "            else :\n",
    "                song_ids.append(np.nan)\n",
    "    return song_ids"
   ]
  },
  {
   "cell_type": "code",
   "execution_count": 11,
   "id": "35cb3be4",
   "metadata": {},
   "outputs": [
    {
     "data": {
      "text/plain": [
       "100"
      ]
     },
     "execution_count": 11,
     "metadata": {},
     "output_type": "execute_result"
    }
   ],
   "source": [
    "song_ids_top_100 = search_song(top_100)\n",
    "len(song_ids_top_100)"
   ]
  },
  {
   "cell_type": "code",
   "execution_count": 12,
   "id": "a3eb366c",
   "metadata": {},
   "outputs": [],
   "source": [
    "# checking if ID's are not repeated :"
   ]
  },
  {
   "cell_type": "code",
   "execution_count": 13,
   "id": "f120bc93",
   "metadata": {},
   "outputs": [
    {
     "data": {
      "text/plain": [
       "96"
      ]
     },
     "execution_count": 13,
     "metadata": {},
     "output_type": "execute_result"
    }
   ],
   "source": [
    "len(np.unique(np.array(song_ids_top_100)))"
   ]
  },
  {
   "cell_type": "code",
   "execution_count": 14,
   "id": "1639c890",
   "metadata": {},
   "outputs": [],
   "source": [
    "# apply the function to the subset first"
   ]
  },
  {
   "cell_type": "code",
   "execution_count": 15,
   "id": "79c83ca8",
   "metadata": {},
   "outputs": [],
   "source": [
    "# apply the function to the subset first\n",
    "#song_ids_not_hot_subset = search_song(not_hot_subset)\n",
    "#len(song_ids_not_hot_subset)"
   ]
  },
  {
   "cell_type": "code",
   "execution_count": 17,
   "id": "c981be2f",
   "metadata": {},
   "outputs": [],
   "source": [
    "#len(np.unique(np.array(song_ids_not_hot_subset)))"
   ]
  },
  {
   "cell_type": "code",
   "execution_count": 18,
   "id": "6bc6bff6",
   "metadata": {},
   "outputs": [],
   "source": [
    "# apply the function to the whole dataframe :"
   ]
  },
  {
   "cell_type": "code",
   "execution_count": 19,
   "id": "6dff5431",
   "metadata": {},
   "outputs": [
    {
     "data": {
      "text/plain": [
       "3640"
      ]
     },
     "execution_count": 19,
     "metadata": {},
     "output_type": "execute_result"
    }
   ],
   "source": [
    "song_ids_not_hot = search_song(not_hot)\n",
    "len(song_ids_not_hot)"
   ]
  },
  {
   "cell_type": "code",
   "execution_count": 20,
   "id": "491f9920",
   "metadata": {},
   "outputs": [],
   "source": [
    "# Then add ID's to my original dataframes :"
   ]
  },
  {
   "cell_type": "code",
   "execution_count": 23,
   "id": "07eee868",
   "metadata": {},
   "outputs": [],
   "source": [
    "#top_100['id'] = song_ids_top_100\n",
    "#top_100.head()"
   ]
  },
  {
   "cell_type": "code",
   "execution_count": 24,
   "id": "a4c2fca4",
   "metadata": {},
   "outputs": [],
   "source": [
    "# Same with subset :\n",
    "#not_hot_subset['id'] = song_ids_not_hot_subset\n",
    "#not_hot_subset.head()"
   ]
  },
  {
   "cell_type": "code",
   "execution_count": 25,
   "id": "599148fb",
   "metadata": {},
   "outputs": [
    {
     "data": {
      "text/html": [
       "<div>\n",
       "<style scoped>\n",
       "    .dataframe tbody tr th:only-of-type {\n",
       "        vertical-align: middle;\n",
       "    }\n",
       "\n",
       "    .dataframe tbody tr th {\n",
       "        vertical-align: top;\n",
       "    }\n",
       "\n",
       "    .dataframe thead th {\n",
       "        text-align: right;\n",
       "    }\n",
       "</style>\n",
       "<table border=\"1\" class=\"dataframe\">\n",
       "  <thead>\n",
       "    <tr style=\"text-align: right;\">\n",
       "      <th></th>\n",
       "      <th>Unnamed: 0</th>\n",
       "      <th>title</th>\n",
       "      <th>artist</th>\n",
       "      <th>id</th>\n",
       "    </tr>\n",
       "  </thead>\n",
       "  <tbody>\n",
       "    <tr>\n",
       "      <th>0</th>\n",
       "      <td>0</td>\n",
       "      <td>Oops!...I Did It Again</td>\n",
       "      <td>Britney Spears</td>\n",
       "      <td>6naxalmIoLFWR0siv8dnQQ</td>\n",
       "    </tr>\n",
       "    <tr>\n",
       "      <th>1</th>\n",
       "      <td>1</td>\n",
       "      <td>All The Small Things</td>\n",
       "      <td>blink-182</td>\n",
       "      <td>2m1hi0nfMR9vdGC8UcrnwU</td>\n",
       "    </tr>\n",
       "    <tr>\n",
       "      <th>2</th>\n",
       "      <td>2</td>\n",
       "      <td>Breathe</td>\n",
       "      <td>Faith Hill</td>\n",
       "      <td>NaN</td>\n",
       "    </tr>\n",
       "    <tr>\n",
       "      <th>3</th>\n",
       "      <td>3</td>\n",
       "      <td>It's My Life</td>\n",
       "      <td>Bon Jovi</td>\n",
       "      <td>0v1XpBHnsbkCn7iJ9Ucr1l</td>\n",
       "    </tr>\n",
       "    <tr>\n",
       "      <th>4</th>\n",
       "      <td>4</td>\n",
       "      <td>Bye Bye Bye</td>\n",
       "      <td>*NSYNC</td>\n",
       "      <td>62bOmKYxYg7dhrC6gH9vFn</td>\n",
       "    </tr>\n",
       "  </tbody>\n",
       "</table>\n",
       "</div>"
      ],
      "text/plain": [
       "   Unnamed: 0                   title          artist                      id\n",
       "0           0  Oops!...I Did It Again  Britney Spears  6naxalmIoLFWR0siv8dnQQ\n",
       "1           1    All The Small Things       blink-182  2m1hi0nfMR9vdGC8UcrnwU\n",
       "2           2                 Breathe      Faith Hill                     NaN\n",
       "3           3            It's My Life        Bon Jovi  0v1XpBHnsbkCn7iJ9Ucr1l\n",
       "4           4             Bye Bye Bye          *NSYNC  62bOmKYxYg7dhrC6gH9vFn"
      ]
     },
     "execution_count": 25,
     "metadata": {},
     "output_type": "execute_result"
    }
   ],
   "source": [
    "# And finally with the full dataframe :\n",
    "not_hot['id'] = song_ids_not_hot\n",
    "not_hot.head()"
   ]
  },
  {
   "cell_type": "code",
   "execution_count": 26,
   "id": "15ff4fc2",
   "metadata": {},
   "outputs": [],
   "source": [
    "# Now I need to drop NaN's to be able to continue with audio features :"
   ]
  },
  {
   "cell_type": "code",
   "execution_count": 27,
   "id": "ab189f6b",
   "metadata": {},
   "outputs": [],
   "source": [
    "# for top_100 :\n",
    "#top_100.isna().sum()"
   ]
  },
  {
   "cell_type": "code",
   "execution_count": 28,
   "id": "6352fbb0",
   "metadata": {},
   "outputs": [],
   "source": [
    "#top_100 = top_100[top_100['id'].isna()==False]\n",
    "#top_100.isna().sum()"
   ]
  },
  {
   "cell_type": "code",
   "execution_count": 29,
   "id": "14890dc5",
   "metadata": {},
   "outputs": [],
   "source": [
    "# for subset :\n",
    "#not_hot_subset.isna().sum()"
   ]
  },
  {
   "cell_type": "code",
   "execution_count": 30,
   "id": "ba4b4faa",
   "metadata": {},
   "outputs": [],
   "source": [
    "#not_hot_subset = not_hot_subset[not_hot_subset['id'].isna()==False]\n",
    "#not_hot_subset.isna().sum()"
   ]
  },
  {
   "cell_type": "code",
   "execution_count": 31,
   "id": "14b0e8fe",
   "metadata": {},
   "outputs": [],
   "source": [
    "# for not_hot :"
   ]
  },
  {
   "cell_type": "code",
   "execution_count": 32,
   "id": "dab2a560",
   "metadata": {},
   "outputs": [
    {
     "data": {
      "text/plain": [
       "Unnamed: 0       0\n",
       "title            0\n",
       "artist           0\n",
       "id            1084\n",
       "dtype: int64"
      ]
     },
     "execution_count": 32,
     "metadata": {},
     "output_type": "execute_result"
    }
   ],
   "source": [
    "not_hot.isna().sum()"
   ]
  },
  {
   "cell_type": "code",
   "execution_count": 33,
   "id": "e8d903a5",
   "metadata": {},
   "outputs": [
    {
     "data": {
      "text/plain": [
       "Unnamed: 0    0\n",
       "title         0\n",
       "artist        0\n",
       "id            0\n",
       "dtype: int64"
      ]
     },
     "execution_count": 33,
     "metadata": {},
     "output_type": "execute_result"
    }
   ],
   "source": [
    "not_hot = not_hot[not_hot['id'].isna()==False]\n",
    "not_hot.isna().sum()"
   ]
  },
  {
   "cell_type": "code",
   "execution_count": 34,
   "id": "6abfb574",
   "metadata": {},
   "outputs": [],
   "source": [
    "# trying with one row:\n",
    "\n",
    "#mydict = sp.audio_features(song_ids_not_hot_subset)[0]\n",
    "#mydict\n",
    "#new_dict = {key : [mydict[key]] for key in list(mydict.keys())}\n",
    "#for key in new_dict :\n",
    "    #new_dict[key].append(2)\n",
    "    \n",
    "#new_dict\n",
    "#new_dict['danceability'].append(2)\n",
    "#new_dict['danceability'][0]\n",
    "\n",
    "#pd.DataFrame(new_dict)"
   ]
  },
  {
   "cell_type": "code",
   "execution_count": 35,
   "id": "ae66a67b",
   "metadata": {},
   "outputs": [],
   "source": [
    "# Creating the get_audio_features(list_of_songs) function and concatenating the dataframes :\n",
    "\n",
    "from time import sleep\n",
    "from random import randint\n",
    "\n",
    "def get_audio_features(df_input) : \n",
    "    list_of_songs = df_input['id']\n",
    "    empty_dict = {'danceability': [],'energy': [],'key': [],'loudness': [],'mode': [],'speechiness': [],'acousticness': [],\n",
    "                  'instrumentalness': [],'liveness': [],'valence': [],'tempo': [],'type': [],'id': [],'uri': [],'track_href': [],\n",
    "                  'analysis_url': [],'duration_ms': [],'time_signature': []}\n",
    "    for i in range(len(list_of_songs)) :\n",
    "        audio_features_dict = sp.audio_features(list_of_songs)[i]\n",
    "        audio_features_final = {key : [audio_features_dict[key]] for key in list(audio_features_dict.keys())}\n",
    "        for key in empty_dict :\n",
    "            empty_dict[key].append(audio_features_final[key][0])\n",
    "        wait_time = randint(3,6)\n",
    "        sleep(wait_time)\n",
    "        \n",
    "    audio_features_df = pd.DataFrame(empty_dict)\n",
    "    return pd.concat([df_input.reset_index(drop = True), audio_features_df.reset_index(drop = True)], axis=1)"
   ]
  },
  {
   "cell_type": "code",
   "execution_count": 36,
   "id": "dd7eba65",
   "metadata": {},
   "outputs": [],
   "source": [
    "# Let's first try with the top_100 df \n",
    "#audio_features_not_hot_subset = get_audio_features(song_ids_not_hot_subset)\n",
    "#audio_features_not_hot_subset\n",
    "\n",
    "#top_100_audio_feat = get_audio_features(top_100)\n",
    "#top_100_audio_feat.tail()"
   ]
  },
  {
   "cell_type": "code",
   "execution_count": 37,
   "id": "5212494d",
   "metadata": {},
   "outputs": [],
   "source": [
    "# With the subset :\n",
    "#not_hot_subset_audio_feat = get_audio_features(not_hot_subset)\n",
    "#not_hot_subset_audio_feat.head()"
   ]
  },
  {
   "cell_type": "code",
   "execution_count": 38,
   "id": "a2094eae",
   "metadata": {},
   "outputs": [],
   "source": [
    "# With not_hot df : I need to slice it because it's too long to run, I get an error !\n",
    "#not_hot.shape # 2556 rows\n",
    "not_hot1 = not_hot.loc[:1000] # 662 rows\n",
    "not_hot2 = not_hot.loc[1001:2000] # 776 rows\n",
    "not_hot3 = not_hot.loc[2001:3001] # 653 rows\n",
    "not_hot4 = not_hot.loc[3001:3700]"
   ]
  },
  {
   "cell_type": "code",
   "execution_count": 39,
   "id": "5b112279",
   "metadata": {},
   "outputs": [
    {
     "name": "stderr",
     "output_type": "stream",
     "text": [
      "Max Retries reached\n"
     ]
    },
    {
     "ename": "SpotifyException",
     "evalue": "http status: 429, code:-1 - /v1/audio-features/?ids=6naxalmIoLFWR0siv8dnQQ,2m1hi0nfMR9vdGC8UcrnwU,0v1XpBHnsbkCn7iJ9Ucr1l,62bOmKYxYg7dhrC6gH9vFn,5Mmk2ii6laakqfeCT7OnVD,3yfqSUWxFvZELEM4PmlwIR,7H6ev70Weq6DdpZyyTmUXk,49X0LAl6faAusYq02PRAY6,3cqZlRpC4lOnxUE7HE3N5k,2xaFtNhCw5Q4hn1EKsrkLv,79EAVfOpzgfHx3IE2BVFQv,0pMUR7Uvp6vxlbG0qBFvgM,4LwU4Vp6od3Sb08CsP99GC,60a0Rd6pjrkxjPbaKzXjfq,7GHKA8GIMcND6c5nN1sFnD,4Y8q64VnhD0vFYy9g2WFpi,2avKuMN2QXkaG9vvHa2JLt,6Sy9BUbgFse0n0LPA5lwy5,0LWkaEyQRkF0XAms8Bg1fC,4l1MNtoCiTxBwf6yxD7kFd,0AcLrSfAEBQcUnHOTm5pXg,0JcgDliDqDac8iOFFRm7tZ,7m97yKVzPpXV9Z4ezEziOD,5S0cvScXb33JVpjTiY9Ivi,7f1Dmr246cJ9uQYdbplTbh,5jZfGxZDayFA1HzYmyOG3a,7iXF2W9vKmDoGAhlHdpyIa,7mYvtEeBdMqRSyj1Qpv6my,3BsaRV5QIulYz2lV9WWa8T,1rj0XawWJNisX7SGYexowJ,1ak0S3NhwWrUgNlQhJ1412,7JKEA8xYDoFp4q0QBW2PGg,1NNDZc9BHaWe9JqIsPRlNV,1uPrIHgYztXSkkcts9jet8,3w8Mw9GHYepoTWOSdiyosj,0s46SltT4On0Z6kglK1I5c,1RS3LStQYhju50eBdD9Uul,1H5tvpoApNDxvxDexoaAUo,5PMKzsUsTpZZGsCcJBuhP2,0HNXnhNZZtRZFLhP4hfyCP,0Ac0Ge47UpkVceZyPin7IP,0UzsDmdpw0Q14KU4hieQss,4Do68W4FWO2hRAJCzG1lus,64BbK9SFKH2jk86U3dGj2P,0gPQTLaqHDgdupKEok7J2x,3XKIUb7HzIF1Vu9usunMzc,6iiaDMXr1eqnSEH9W4DLYC,1vlTMKVV0FxG6CxGTmSY3t,5s4catxeZsaWFnOrvrXZHf,6ZOBP3NvffbU4SZcrnt1k6,1jRzdY7oUBOhrylNtiMtBD,1sjrDQXqAa9V07FjKIlAQ4,2uZwyxrg6VPvlVsvclIfel,2oncAh9o85pq1aswacLqAz,69XUpOpjzDKcfdxqZebGiI,2AW37v0bDyuOzGP3XnmFuA,7BgUcOjSOlKJXASLgJ6bx1,2dwhMQsFeHr2S787WxqAqW,35o9a4iAfLl5jRmqMX9c1D,0eKyHwckh9vQb8ncZ2DXCs,5OQGeJ1ceykovrykZsGhqL,25FTMokYEbEWHEdss5JLZS,7A0apkTSTvMbSI7yplcmlh,3wMUvT6eIw2L5cZFG1yH9j,3WkibOpDF7cQ5xntM1epyf,3UmaczJpikHgJFyBTAJVoz,7GQqj9jRtDkMp8zByehXQI,2lnzGkdtDj5mtlcOW2yRtG,2hKdd3qO7cWr2Jo0Bcs0MA,4zYTZvtcww7OWKie7fxA9E,0jG92AlXau21qgCQRxGLic,3aw9iWUQ3VrPQltgwvN9Xu,7reoZz80hQYuWtEn0Lsd0p,3IV4swNduIRunHREK80owz,0OSAJEA0ekX6pr2nuiPzX7,769geiA8btidGHda4BBDOJ,1Lhwn4PqeGpM4LTVUowW76,3RmKpob8xzv1pzHEQrMJah,0gmbgwZ8iqyMPmXefof8Yf,0I3q5fE6wg7LIfHGngUTnV,7MLPGQfmCkHpqfAib42qby,7FWuzwapuKHTEyDJIcQOw3,0UrWr7Jnu1heq1o99ZwUd0,6zsk6uF3MxfIeHPlubKBvR,45cVyfWuMAg8RNxmkcpmy9,0oHLi9gb4Gd97OuN6ckMk8,7yMiX7n9SBvadzox8T5jzT,7nWsh14AHpnTzq1Xejz90U,1fgvJXlcZ7uIddMpqsqw0L,2SLZ2rX5773RS16mcqBxG7,595JwfRS0iFbdZyhlBxokI,6j8nh1kHwezw8pkC2eU87F,5z6xHjCZr7a7AIcy8sPBKy,6IFOw9Ck9mWHRQgw6QrPYx,5IweeQZdY5XEzStLzUJG5t,3qzcM6SmbzBnGXSJe6hYdy,5mNV8Mz59bzyuQ53gTw0c0,0rRboI6IRuGx56Dq3UdYY4,4UfupbARPxljVkBmuZlJnY,0tWdRXWDUd1gWLthXgk6Dp,6FLwmdmW77N1Pxb1aWsZmO,61fUmn6wYvU7qS62wNvQFN,41nT1Sp6ChR65FbsdLlFHW,2B1jt2a6zdN4qLiugoEJry,0xikWgPgYN9BEes0ieZ8Co,747tpec1a0Hfqvj2za1pBs,1Jlt67b4oOhCoFW9GQwL9T,16MJqq0vEuW6GRX6faetTm,4Mnw05kNd0j1XDHwtfzofp,5S9810AEDRnVQovixcU2h4,4cNhx6OO1XpvwT6xZnb83B,3Gf5nttwcX9aaSQXRWidEZ,4h5KBcltGefua73AUPYps7,0HKD13PLq2WicViBBhSrOl,1Sm3U3B5XoidYQEZQZrh3i,25CMmGsl22APKhfuj4Tp7j,5zn1hpm9N0ylKB7kOtpCw2,0Uyh92tLyb9JawG8lmWCzJ,0wqOReZDnrefefEsrIGeR4,0ARK753YaiJbpLUk7z5yIM,7lQ8MOhq6IN2w8EYcFNSUk,5xEM5hIgJ1jjgcEBfpkt2F,4w1lzcaoZ1IC2K5TwjalRP,5QpaGzWp0hwB5faV8dkbAz,15f8Cv8RXUlOOCIf2oaceN,6fR6Z0Vc1K6yQWNUIKjAIR,36jSIOSE72neBbKntCthqw,0YImOCkIJ2PWhCXaURCZnY,4xkOaSrkexMciUUogZKVTS,6Wt5QBzHp9vdSLAFlvdnDQ,0IspqeDVLIw46spUMhOKRL,7DUpuAzGUyJaJB3p9BC3Ms,6UEfyhyfhYQsyipxOd95Ie,0qvlhVNm7L5IWabWF5hlEL,779ooI3rBd0CLqCiiJmtVo,5p0KCAuu5nrHpTuAIhHdLw,3GhuNU58hVUuzKY7LHmFRB,0pLmfgIANOX9FB9uZDU43x,4SnTf4ixVZCfQtxHNhky0T,5fkDD7aQLUmMy1EwzNm0ZB,2zhGnnDewN4kBsVzbqjBtX,0WgLpgUdThEpA5L5K0SKq7,1Q9b6CeMcDuO0uq5OJCrqu,5r29mFrurlVBbqJzjr2XW6,5Y0E3dOeynKuLDAXu0t0Bg,04KTF78FFg8sOHC1BADqbY,59ZTxQo8rBycIXPLUIKvE2,2mKouqwAIdQnMP43zxR89r,6AfLmKXzhEZjwiVPs5jhdV,3oXNIpoUMdk8qGkwCeXqGv,3SCVtAJq8li6HlKfM4M08u,21iEEekDSvQjVARSQ4dpXY,7lVNTXkI3cHFvcXiI8damb,14PbhGTCaHCXDvZzfTWumU,1F1XjwRzMh8KT2BvH6ISkG,6XK173kEu52iupeIqOnp41,2iWyrSHvs6qhFzfpiLAK0z,02jcEwywffn3Tsb48fXmlW,1NRorokmYEtr1koWybvaE4,3jagJCUbdqhDSPuxP8cAqF,563vSy3HB5NHxel1VGQCW6,2VSbEXqs6NbNiZSTcHlIDR,4hrae8atte6cRlSC9a7VCO,6zMUIb4uce1CzpbjR3vMdN,00Mb3DuaIH1kjrwOku9CGU,4gdQ8QShlC3toP9Mkc8DwB,1f2V8U1BiWaC9aJWmpOARe,4rr0gWiMrF4sOIefs3IEvZ,1QhSB9L9M5eZQhW4RNOhXK,2LVxvGhl2U5p2ql2ujc6vZ,5PCJldueshnwqQVjS16543,0eFklulxFnNCypNSrywzSB,4KqTGPPmXowMPEoShSVOta,16DhvbuyvJob4Q9GHNYu2n,4SyadrABZJIjeND1HPJS31,4IEOKcFZGMiKp5NXYjH001,5dpAN1mjFPL38kh9kWsCiw,0kr6d8wHDQPlzuET33NVn6,6lSr3iZTC144PKhvbPFzMp,074v54tSEWLbq3Hu5wf6uh,4RY96Asd9IefaL3X4LOLZ8,5Z01UMMf7V1o0MzF86s6WJ,5IVuqXILoxVWvWEPm82Jxr,4O4dhPrjcw7GSLNafNydmb,0xmjwnQ3FNE6HuWCt2nHdZ,4ZOyH6KjomjlqCz3oFqglr,4bJygwUKrRgq1stlNXcgMg,1n7omixiROWs5q6xpWiQuL,6dK1HEHZcQlh24bSU7pTaZ,3stnrhzN0lzZFskbaZ5sEw,5ljCWsDlSyJ41kwqym2ORw,2D1hlMwWWXpkc3CZJ5U351,4Yf5bqU3NK4kNOypcrLYwU,4O9ICXbrUTAVR5kkx6xANJ,0COqiPhxzoWICwFCS4eZcp,2icpXUdhbKPNXRJD7lPmXX,23ehR4jpFQFMfDADgFdXR7,0M955bMOoilikPXwKLYpoi,0r2Bul2NuCViraT2zX1l5j,6FTJuZtQZvmPPRFmrcno9J,7mS8RbJji2UZAaguRGsOCH,1AWQoqb9bSvzTjaLralEkT,3dPQuX8Gs42Y7b454ybpMR,5TpaWJKnuyA4MjzAbFXSTQ,4WY3HyGXsWqjFRCVD6gnTe,0aULRU35N9kTj6O1xMULRR,7qPiLAs9I8cqUv1BCnmlHN,1AEYT6VxrxXPMoQUxsY0E4,1AjQE5MtP5jHQMyDepbvLI,25Mn17RDbdJHiKL5SEhLnL,1lKS7SZQ7r5vOChLwJurmm,2jGUAB6hKlzK0pZmZpQ02g,0RilVXCOQf4AD6a4uTTs7d,6rpNe6gSkmiYW6BfSFATi5,0iFOG4Ki9aDmJUYUFHQlPG,0l3GEbH3CviUytD6iX4wzg,2BeoIEbdG1kOWYKQhNl4dX,3CZlTOyNnKVMb021IYEY6r,3Gamc2D6VSlXpUcmhPUFYt,41bIQPBE1lFN0mmw6Lmssz,7kAFSrTIOiVZ0gnHBuAH3l,75DjPjiIp2fvJDjtt41Jfs,71NJqORRmwlcZSLk0VsFjU,2fE4MbwX3QGMzNaMjGVhtw,5ojJNnX5ND2gMGojPd3NiO,2VHfyWLlvCvbkIqtS5tqt3,0O5oSZuSSQhLanMLMmQrRd,3OUApyz3jDB3syGUNGqB1d,7Lf7oSEVdzZqTA0kEDSlS5,6pWzCKTrKrwbUPzY8RLCoP,4jacsL77ZYnpInmTtUBaJW,3YuaBvuZqcwN3CEAyyoaei,3OQu3z3okKVmWxSXTTHak5,3kgutGd839IOYRl6ekeq6V,3adnLFXKO5rC1lhUNSeg3N,6HxweNytuEQdmGeVtZPZz3,0FmCLEHfINGqwlyzvklNqy,2iclfHORMqpR3TxuhwVRhD,6Bm6qUCSatPAqkQllFL7oA,5z7mYFfhw6N6f23VwrokJD,0yHConG49418wPs8UfAt44,2md2i5QvelRFnafpnd6LOg,2g2a5kDeZexbUTD8abcvm6,5dWfl2PBpKHpBVdz95wxK1,57Xjny5yNzAcsxnusKmAfA,5rb9QrpfcKFHM1EUbSIurX,2PpruBYCo4H7WOBJ7Q2EwM,3xl7PsO7Hzuig6To9FgDm6,228BxWXUYQPJrJYHDLOHkj,4hfIVhq0F0zFUcrbecsYmo,4nnHlGaBwJHb1rBetqj0Yl,2Ozc0me9PV5vlt8cokwdvI,7bZsx7Zif6FIhrcZrh0LVm,3sckKKIx96cjPXtiqPHCTB,0YGQ3hZcRLC5YX7o0hdmHg,0YUrjFy4qFKOO5NhM9tYdV,4XHQyvbrBsQaaBUW1VvmsL,2yr2HnFYl7XvqJk4fXoQBt,4dvQg9sD8k9y4qiEURuj8v,1xNcBAoUw8Hz6LqK2jt4Ff,3dFwpxh2yH7C7p9BGEKLVB,7uSsHbBFFAnkRQR1rDwP3L,2ndnVdR8si7CW9T8vJRHyW,4MeDnO5yA2Zi6IMlVApRci,3IrkbGQCoEPAkzJ0Tkv8nm,2EM9zpAc7PVeoAydmbfVIL,0cZDC7uxNK8lqQ3GgyvCnD,4Kd0FzFpOgIGxlBl4HXuFn,5NJhMbvK53XATYf7qHEqZL,6n8TMVyFKoUmDc4apxceRD,4L55p6txv9vuCWhpNnY6eY,6cR1U61DMpYbS2TtNTlSvo,0qcjuYtMWhBjXg0Xwt5SzS,2NBQmPrOEEjA8VbeWOQGxO,2o7V26rsF1ukcRI005S0LL,3CcvahnsiArpTHYQEWV2Au,3XTaaGGAL2gVVaAbu0yxQX,2tOZtdbkAMQASWokLvSlzj,4Vqd7MuPVrciqRS3EzhKWb,20I8RduZC2PWMWTDCZuuAN,0jSMveIWvnhDIvzqN74Uc7,1dHJETCn2X1R1YwVlMvSza,4s0o8TJHfX9LLHa0umnOzT,5g1vtHqi9uV7xtYeCcFOBx,4UzVcXufOhGUwF56HT7b8M,3vZfy3cXEYojq7BvSt87Of,3A4cpTBPaIQdtPFb5JxtaX,6nTiIhLmQ3FWhvrGafw2zj,5dxHF4lrDimKqnI3GaZUmC,4mmkhcEm1Ljy1U9nwtsxUo,2T8hXV9LUZMDBKR5RALGEa,6sqNctd7MlJoKDOxPVCAvU,1p5kC161fWMA2QlwV3Vi4W,3NLrRZoMF0Lx6zTlYqeIo4,5SkRLpaGtvYPhw02vZhQQ9,5y8WWi1BaKHXfuln0XoIZs,3rQjc4GGMcrtXwis7vBzaQ,312A8WfROSLvZbMDHBUPDp,6CN3e26iQSj1N5lomh0mfO,3JOVTQ5h8HGFnDdp4VT3MP,7yXibbAYi4to5oQTeO738f,6LGwYMXXgURfaequXipzHx,3LmvfNUQtglbTrydsdIqFU,1PS1QMdUqOal0ai3Gt7sDQ,4TsmezEQVSZNNPv5RJ65Ov,5D2mYZuzcgjpchVY1pmTPh,5GorCbAP4aL0EJ16frG2hd,1bqZ94bPrrHyIpYux7rVj7,3850dYVgOFIXJh5U4BFEWH,4nva9EpKntUTs6CRSGBCn9,4gXdMZkBN1neE9nX6yRALa,4kOTDj4SiZPkW1p96WMDNv,4bz7uB4edifWKJXSDxwHcs,6ndmKwWqMozN2tcZqzCX4K,69bHJ9qs5FrUJbKP8xU8uZ,7xYnUQigPoIDAMPVK79NEq,19JdbdEwQI7bCxefMokZO8,7i7UIbm5E0DD7aSOYvwp2v,7BKi4ZcyMBXeAvJ1OPxhdV,6EfyEbyk4XjCisJz90V8Ki,0rLzyBecRbTpnBWvMtPVFR,5sNESr6pQfIhL3krM8CtZn,2wGSgTmgSF3xjRrHkTc25R,0d28khcov6AiegSCpG5TuT,0reKGVcWLVvl1FzjZ6TACy,2nCmCt4B5vkabS0zeOuc1Z,0Ss50OU9tCozI7JIywkv14,561jH07mF1jHuk7KlaeF0s,5BSclXJTa9B0iURhUjZo50,4Hff1IjRbLGeLgFgxvHflk,07u02f6biDHx5VexfAs41b,2ajhenDRiiAnCHHjsIOHhJ,0UaMYEvWZi0ZqiDOoHU3YI,4faFAhOflLzhfJECveRwva,3B7i9OKRRmIsSBHEbJz58Y,34KUIBsIUiPV7oCIzSdDAU,3zdDxhDo5SycC7XSAPfdjv,4FTOpNYcGxnQdGNWSxIcio,0LzrhCZFXW94Y8nwtTuRlw,0lP4HYLmvowOKdsQ7CVkuq,7jLbTp3qZzah9kMIdW8e5M,470UOQDSTMTBEgkBaeqVN6,41PWz0hAiU9FqsmjR9Wh62,5Y78yINSOCW6xbOfGWNBg4,3jEqrIfwKO0M8ALu3TGilF,7IdfMBufDn3yf2JhS3a5w0,0AKAxdNkwq9ZxRdW1DN9zW,5qrzhg9Fmu8Amg2uMhHfe5,29EkMZmUNz1WsuzaMtVo1i,10NH6nFIKbx8Yee8cQ1gDn,1oNToERLIN71YCPLbRIQGQ,3fMoeGj4mDusrmYOOF60aC,6uYAPqxP69zfpCbsTHXgiz,4NjR63Up0uMkQBlKvlZd1l,7clUVcSOtkNWa58Gw5RfD4,5p9XWUdvbUzmPCukOmwoU3,3xrn9i8zhNZsTtcoWgQEAd,6fzcnVO0X2cpYjsHk19GJo,5lDriBxJd22IhOH9zTcFrV,7G6l2FtQyRhQgYgut2I6i8,3ZFTkvIE7kyPt6Nu3PEa7V,0k2GOhqsrxDTAbFFSdNJjT,0O45fw2L5vsWpdsOdXwNAR,6RX5iL93VZ5fKmyvNXvF1r,4wH4dJgrsxONID6KS2tDQM,0Qn0i8df7Q76ej3RAXAtI2,6yuvC80FcnVJNvC0DbXN9e,6btyEL6NwUa97Nex9cZFvo,2gam98EZKrF9XuOkU13ApN,6WoC2b3CCpyrDQJKkBQZn1,6k8uthjEbttfWXcGaNTQGD,3BxWKCI06eQ5Od8TY2JBeA,3rKCDtV8UcF0RytSiXxypc,0fGh0trRN1xz3s41r7V5ce,3lPr8ghNDBLc2uZovNyLs9,53ETzLQQKFCzykRbqWb1ph,7g7M96UGiA7OR79H86gV4m,6o3s08kk2fQI37vxGZDrJ1,4GIsskMpViPkt0uzPJTJSp,05Sgj1Hx03ZXc57gsV1kfX,4NeOWqHmlrGRuBvsLJC9rL,4Gd9PUEuOTOJtbgd4YxLXM,3YQjgTpUVNWvpYeb2mtTF7,7jRoWfRlLnGYEIEn4t4kbq,0JbZk8LQm3hCecAykIwAPn,423EcxblW9F4nnQkqcqMlK,1Ab6RxeKl3e07zP7Get7CX,0Eu5SrReZzaJX0NLKI8tQS,7M13FwBAKWNa2jqcZeUhL6,5loIRrZU3ez3r102qFzJI2,6Y3WvyUG9iE5bQYg38SPtQ,5YTSbfnyJRqul0H8kmamg3,13xxBnXOuiBxVxJI458B0i,2dxjKgT0li4qBI3QwuN9Ih,7cVmKBwzPsh4Fmb6SplfEm,663Karu2rvKLdnY0eo1n3M,5hF2LnbkpnXCkksMSeWcxZ,2JpUkUR0OsOlUUfm6iS8ic,1bPqAXwNiVcM6zjJU1Z4Cd,0tYPj0NYa7vjlJaqlRSnJb,2Fs18NaCDuluPG1DHGw1XG,2RWxrpsFshOBFwRBRstUlQ,4T4NLIMypdmyUwK54jECk4,0k6HUzaRHpQ3eEWr1C7Esh,0DMRKqrpd0QO4RWiEdMib0,4bVuIlGQBMWS7vIhcx8Ae4,10Nmj3JCNoMeBQ87uw5j8k,13pyGLYmBjYgvOMIEivX2K,6brl7bwOHmGFkNw3MBqssT,40LQiUUUKXVGyNs09lHVjW,4xlEKYv7HmC8zXoJIbpZKM,3ItzRpwvKtkDSNdRSjXu7Z,4bPQs0PHn4xbipzdPfn6du,6gxycjJNMgmAyfzUXBN80P,0qAMjeQFyd1qD0LDiV8gWp,3U5JVgI2x4rDyHGObzJfNf,28euH5Ny1JXxZAt2KjWp62,5fVZC9GiM4e8vu99W0Xf6J,4mnTMsp8Cgf9TNiQMhH11L,5wQnmLuC1W7ATsArWACrgW,7DFnq8FYhHMCylykf6ZCxA,2hns6Dv29Yrg68AVTJiAyA,7wZUrN8oemZfsEd1CGkbXE,2yPoXCs7BSIUrucMdK5PzV,6ic8OlLUNEATToEFU3xmaH,4AniPkv5vgdE1n6VKreiyI,6kopmMZiyLmw7h66uXcXR7,4RCWB3V8V0dignt99LZ8vH,3pD0f7hSJg2XdQ6udw5Tey,66ZcOcouenzZEnzTJvoFmH,2bLqfJjuC5syrsgDsZfGmn,2aI21FnmY7TJVKeMaoQZ0t,4LjfIjS8iweFCPdKxLnEoV,5TmFTHZp7HjBXjjsFvCY6h,2kQuhkFX7uSVepCD3h29g5,36Hwcla06Q5BCr59CL0sBp,06Vw2ZOhalTwEw4PhoGRSX,6WoC2b3CCpyrDQJKkBQZn1,0j2T0R9dR9qdJYsB7ciXhf,2HWWNoWEEEECwZhAiLg7ib,6ajyEEzWZbw8ycDcJAN099,0CXVjQI9wsqaGeIARkkpYc,66TRwr5uJwPt15mfFkzhbi,4JPCdSaqs9dJd7RatFSHww,1iOJQhxKSJ7dg3Dk03yPnl,4Tn2llBm1g0UlWctmgPL8Z,2a03afRiyAbNAleOByVju4,18lR4BzEs7e3qzc0KVkTpU,3wKKkGVn7cVSfgPeYYIiXG,1IYaMVfidzSfvCUZYXhsU1,28IEbk5a7twNTbUEvWslUb,0YkJU6TjjwzsVXUPRIO0DB,4eAwB5pnKFTmsgc3zWoYO0,5rTIpPWeO0IL4HWlGWrz5G,4KTtYhxFtFL7mBwnjkKfLm,0UFDKFqW2oGspYeYqo9wjA,7j31rVgGX9Q2blT92VBEA0,6x2xqg5fQNu9dNCXu83ezE,6CFPFnS9EcLs2I0nWqtWci,234RqTZmnDTnxWlVciXHLD,6PBAPjshd2JfEiWpdf3C2a,6BqWhxll86CGGE6WxgdRqG,1RGIjMFMgJxkZHMDXVYzOJ,68Zq7PMcPIQE8ol1x3gAqw,1D066zixBwqFYqBhKgdPzp,5qhlC4Rzals34zxovrPzKp,1zyqZONW985Cs4osz9wlsu,3Zwu2K0Qa5sT6teCCHPShP,5iyE2d4U3Vc5cqY9mPTlpy,0JJP0IS4w0fJx01EcrfkDe,30FURVTCpbKyykjSEQzGkH,0JfAMd3xTqm7ZYhBmQjYzt,5Yaw45Q7W0irDbTVN5LOVs,53SqGkNJAYLss9AgbduTqQ,1lHXlGlve5Zx8tXLhyjDwM,1oagRT7LfpVlNJN6FSZDGp,6SpLc7EXZIPpy0sVko0aoU,6DbqCKweKwVkHgRv1CI53D,7x8dCjCr0x6x2lXKujYD34,1JwIBogbuZ4Yfb6nssXWa2,3LGeYNY9aWQuBJovOOowqm,3RGyFugqjQjlL8XX0NW8dZ,4wzjNqjKAKDU82e8uMhzmr,7dzUZec5MnWMyQnk5klnKR,5lUTzPuiloBHm1qEaJcJfF,1hGy2eLcmC8eKx7qr1tOqx,1BV0m40U0M4t1SLIsDnwZl,0ZUo4YjG4saFnEJhdWp9Bt,0td1GfBHNxlGephozVmL9k,1tkMs9wDPknQ3ZHcKDw1ES,2elA6JLRaQ6iB7hxiuTKN4,6SmPPtaMnfxgz5duA6t9Cu,37pFLuNVnAJQL9ysRoKTdy,4liGjmhCupa7RP9JaQELYx,56Tl3UgyZTqfZtvFNS31wm,48yZwqAxCZk0t2ssDw2hzH,2aibwv5hGXSgw7Yru8IYTO,3QnEp4rluCxUwgpXT43jmC,0CAfXk7DXMnon4gLudAp7J,005lwxGU1tms6HGELIcUv9,3goSVuTt3fDYDP6kRnFwuL,26NX1wPt1TRCH536yocd6i,2VOomzT6VavJOGBeySqaMc,3aQz0z86zrKjd1mcZlonxE,52K4Nl7eVNqUpUeJeWJlwT,4P7VFiaZb3xrXoqGwZXC3J,5Nr1ZcH9PGTiQdGl9HCCS1,5TRPicyLGbAF2LGBFbHGvO,1oHClQEgDmmbcEx12Kc5nZ,1y4eb6hmAvsqlDOl3fx9kk,1wva1IlWLDNLgwipUWcmjy,1ARJhjuI6TNYZCxYygFQ4F,4fixebDZAVToLbUCuEloa2,0F2BxpbxH8Yc3pLub48hrb,3jlbL2OTD5YmIunYzgQTAN,6ScJMrlpiLfZUGtWp4QIVt,3MldzywZOH4Uci6bq9noyJ,2PTvik6EqPAIYOclAB3SU8,3XCezj8BPm1xGH3qS6SruW,6pTg4H8juKV9iSzrcVUbM3,0aeWFHCKwVoavQdpduyB1Q,3LN41NUdHkyNqQhi9gExMm,3tSuRiNgJmMqmYR23dCqnR,6AdLyvisRKHLAwARaZMGr6,1uigwk5hNV84zRd5YQQRTk,4iz9lGMjU1lXS51oPmUmTe,22UDw8rSfLbUsaAGTXQ4Z8,3pxCXv0NACYfYnLjFcQW5D,6tC2iHfUlzB2W4ntXXL2BH,4yHFxB8kzzeuNvoouR8N0N,0JiY190vktuhSGN6aqJdrt,1kxeWHF9PrCVZHvVskv8lg,3RDcUlLGp3SLp2AmUbUbls,1ixbwbeBi5ufN4noUKmW5a,0uybt73QFXaLCoxuVf6fhm,2aEuXA1KswHlCGPOuPmCOW,1C6eViOmSvwrXz9JTHYaOV,5Hv1QAbRWrUSUHaT0CmnMS,3wkNK8tJZ2stygNJm8RCRD,5liQj4sVRmEEESvvcb64o8,5j0McHPthKpOXRr3fBq8M0,45upEMiYeArj06RERttNFx,2xUjNGHjJOBcpTf7dYx4EY,1gt1fWqUZOUgT2kTArAw4E,0exb0K7vsjf5bXWLJJhAuF,0tp2cUnCAcsR6xL5kw9HKu,1IAzD1muglOxOcPbUHs70R,48s0QHJgmiNsth3WEO6U4M,33vzOPcd9FRirYGlCu32x4,5o4W6yWSJD9e9Ea8YC9WjF,1mea3bSkSGXuIRvnydlB5b,0ntQJM78wzOLVeCUAW7Y45,4ZPdLEztrlZqbJkgHNw54L,3nJjIYchBNkYm7B8XfJf5N,1ZqHjApl3pfzwjweTfMi0g,72by3Re4C3eVEBXvsUo0zV,2VEsmoek0sol9MnJFyoG9e,7dltD9eEX7X1zk8JJ9BS0e,56pHllZT7QOacB0bP56ofx,2iXBZ32Fz5VDCLeE0JIdX5,50xeLNGKmskmYUSINhqvfa,2H1047e0oMSj10dgp7p2VG,5R8dQOPq8haW94K7mgERlO,0uXO2GrNiIb1xHT9LUdxZE,3GpbwCm3YxiWDvy29Uo3vP,1vrd6UOGamcKNGnSHJQlSt,6Rb0ptOEjBjPPQUlQtQGbL,7jk7gqyEonmVVYahZN5zhW,0TcJ7QWpggdSg8t0fHThHm,2UREu1Y8CO4jXkbvqAtP7g,6wOYnPq1hPihRepcDClPUw,4EWCNWgDS8707fNSZ1oaA5,5FEXPoPnzueFJQCPRIrC3c,2x7MyWybabEz6Y6wvHuwGE,2hdy9Wt9qp7M7d0U3ossu2,13plQdOoWSSXPRUSZc5FuM,3IcIIZMMS7UArJJPtEHXG8,3opVsyWVYEAFK9bJAG8Opa,7Hqig8kp32q2Ire3ECQvWM,2igwFfvr1OAGX9SKDCPBwO,5XRHGXut00SrJUFmcn2lQF,4NpDZPwSXmL0cCTaJuVrCw,360ZhWvMnyXKYFG9Mqsm89,6Wx88Mv6b9ofjKMKkdwOJd,6TrNRd98WksT9Kkmx9uj6R,7LR85XLWw2yXqKBSI5brbG,0SiywuOBRcynK0uKGWdCnn,6ddQ5KCkvCggk3j6KdA0zL,7xdmTEHRbgQuLR8KpRLLnn,6ATrsVaZT7XjkCynxM8cTS,3R6dN42VdwivkZTMz03Rci,77FULy278MulVvGWS8BfK7,6WdV6QM8t87dPidhPzdRJW,2q4rjDy9WhaN3o9MvDbO21,4dK00wCxlqWEeN8BoM1BHT,5xeSDlt3eCxPsWKBhfUJTR,426vBhxw4upEf11BqBBgs0,5jzX4dWVQeBTtfBaXnMRt5,7Kpqjspw4Y7HrvItIRcBiW,0JYRNrTwUmeySRX37azvnH,1YaVmBh7EAeR54FIjuFcb5,0KlahhzNb98zyN83Vwae0l,6c0GmyBsE7mQtrVvxJaWc3,67T6l4q3zVjC5nZZPXByU8,7IhsLJMqdxoo7YAZjaSMru,2oENJa1T33GJ0w8dC167G4,5r5cp9IpziiIsR6b93vcnQ,7kMfu3KUydmrFVGEAhjtyl,4QJLKU75Rg4558f4LbDBRi,3kMrazSvILsgcwtidZd1Qd,4VqPOruhp5EdPBeR92t6lQ,06T10fEzN8ZCcqzQZYA184,2ZBNclC5wm4GtiWaeh0DMx,3RBGG1be9aBaSvjnw6ABkh,1NhPKVLsHhFUHIOZ32QnS2,4KAzYqfcijCSZa2P3etHoM,3QLjDkgLh9AOEHlhQtDuhs,5Q0Nhxo0l2bP3pNjpGJwV1,1Nme6K1PYAh7p7uygyuRdf,64yrDBpcdwEdNY9loyEGbX,58FUwmyGUqkt53YPUcm7cJ,3GCL1PydwsLodcpv0Ll1ch,0CwYG1UnRmOx8Q1EzElCIL,1akgiRM3mN2nxu2AX6ACCW,6fvxos1qSHrIgOkKw4dhWS,4Dm32oO01YpIubCHaAtKkN,6JnufVNLIO5F5Lk4sEVLeI,4IoYz8XqqdowINzfRrFnhi,7BqBn9nzAq8spo5e7cZ0dJ,15JINEqzVMv3SvJTAXAKED,2GYHyAoLWpkxLVa4oYTVko,0HPD5WQqrq7wPWR7P7Dw1i,4dTaAiV9xFFCxnPur9c9yL,2ENexcMEMsYk0rVJigVD3i,6KOEK6SeCEZOQkLj5M1PxH,0WCiI0ddWiu5F2kSHgfw5S,5ojIL91nfnWExoXSCkvJ9E,4DvhkX2ic4zWkQeWMwQ2qf,6FbGlkHKGkYqpSCuBgurn3,2DHc2e5bBn4UzY0ENVFrUl,2qugfmw9Hi27DyIo2gite4,1AguHaKOuggrVTebp7cZEI,0oJMv049q8hEkes9w0L1J4,7Ie9W94M7OjPoZVV216Xus,60jzFy6Nn4M0iD1d94oteF,2Q99zPXVqCPN5RaZawvJWZ,1hBM2D1ULT3aeKuddSwPsK,7vWFaMq63AwkFDhS2OAg5u,41KPpw0EZCytxNkmEMJVgr,6wN4nT2qy3MQc098yL3Eu9,4356Typ82hUiFAynbLYbPn,5vlEg2fT4cFWAqU5QptIpQ,6ebkx7Q5tTxrCxKq4GYj0Y,45O0tUN9Bh6LH4eNxQ07AT,03tqyYWC9Um2ZqU0ZN849H,61HQWI1Woxup7CnGwVUsdI,161DnLWsx1i3u1JT05lzqU,2V4bv1fNWfTcyRJKmej6Sj,2rDwdvBma1O1eLzo29p2cr,4AYX69oFP3UOS1CFmV9UfO,360UM2DaiHZPRu0EsrOvMp,7tSO7DrrYpiMXX3zM4b3oM:\n Max Retries, reason: too many 502 error responses",
     "output_type": "error",
     "traceback": [
      "\u001b[1;31m---------------------------------------------------------------------------\u001b[0m",
      "\u001b[1;31mMaxRetryError\u001b[0m                             Traceback (most recent call last)",
      "\u001b[1;32mm:\\Users\\Akshaykumar\\anaconda3\\lib\\site-packages\\requests\\adapters.py\u001b[0m in \u001b[0;36msend\u001b[1;34m(self, request, stream, timeout, verify, cert, proxies)\u001b[0m\n\u001b[0;32m    438\u001b[0m             \u001b[1;32mif\u001b[0m \u001b[1;32mnot\u001b[0m \u001b[0mchunked\u001b[0m\u001b[1;33m:\u001b[0m\u001b[1;33m\u001b[0m\u001b[1;33m\u001b[0m\u001b[0m\n\u001b[1;32m--> 439\u001b[1;33m                 resp = conn.urlopen(\n\u001b[0m\u001b[0;32m    440\u001b[0m                     \u001b[0mmethod\u001b[0m\u001b[1;33m=\u001b[0m\u001b[0mrequest\u001b[0m\u001b[1;33m.\u001b[0m\u001b[0mmethod\u001b[0m\u001b[1;33m,\u001b[0m\u001b[1;33m\u001b[0m\u001b[1;33m\u001b[0m\u001b[0m\n",
      "\u001b[1;32mm:\\Users\\Akshaykumar\\anaconda3\\lib\\site-packages\\urllib3\\connectionpool.py\u001b[0m in \u001b[0;36murlopen\u001b[1;34m(self, method, url, body, headers, retries, redirect, assert_same_host, timeout, pool_timeout, release_conn, chunked, body_pos, **response_kw)\u001b[0m\n\u001b[0;32m    845\u001b[0m             \u001b[0mlog\u001b[0m\u001b[1;33m.\u001b[0m\u001b[0mdebug\u001b[0m\u001b[1;33m(\u001b[0m\u001b[1;34m\"Retry: %s\"\u001b[0m\u001b[1;33m,\u001b[0m \u001b[0murl\u001b[0m\u001b[1;33m)\u001b[0m\u001b[1;33m\u001b[0m\u001b[1;33m\u001b[0m\u001b[0m\n\u001b[1;32m--> 846\u001b[1;33m             return self.urlopen(\n\u001b[0m\u001b[0;32m    847\u001b[0m                 \u001b[0mmethod\u001b[0m\u001b[1;33m,\u001b[0m\u001b[1;33m\u001b[0m\u001b[1;33m\u001b[0m\u001b[0m\n",
      "\u001b[1;32mm:\\Users\\Akshaykumar\\anaconda3\\lib\\site-packages\\urllib3\\connectionpool.py\u001b[0m in \u001b[0;36murlopen\u001b[1;34m(self, method, url, body, headers, retries, redirect, assert_same_host, timeout, pool_timeout, release_conn, chunked, body_pos, **response_kw)\u001b[0m\n\u001b[0;32m    845\u001b[0m             \u001b[0mlog\u001b[0m\u001b[1;33m.\u001b[0m\u001b[0mdebug\u001b[0m\u001b[1;33m(\u001b[0m\u001b[1;34m\"Retry: %s\"\u001b[0m\u001b[1;33m,\u001b[0m \u001b[0murl\u001b[0m\u001b[1;33m)\u001b[0m\u001b[1;33m\u001b[0m\u001b[1;33m\u001b[0m\u001b[0m\n\u001b[1;32m--> 846\u001b[1;33m             return self.urlopen(\n\u001b[0m\u001b[0;32m    847\u001b[0m                 \u001b[0mmethod\u001b[0m\u001b[1;33m,\u001b[0m\u001b[1;33m\u001b[0m\u001b[1;33m\u001b[0m\u001b[0m\n",
      "\u001b[1;32mm:\\Users\\Akshaykumar\\anaconda3\\lib\\site-packages\\urllib3\\connectionpool.py\u001b[0m in \u001b[0;36murlopen\u001b[1;34m(self, method, url, body, headers, retries, redirect, assert_same_host, timeout, pool_timeout, release_conn, chunked, body_pos, **response_kw)\u001b[0m\n\u001b[0;32m    845\u001b[0m             \u001b[0mlog\u001b[0m\u001b[1;33m.\u001b[0m\u001b[0mdebug\u001b[0m\u001b[1;33m(\u001b[0m\u001b[1;34m\"Retry: %s\"\u001b[0m\u001b[1;33m,\u001b[0m \u001b[0murl\u001b[0m\u001b[1;33m)\u001b[0m\u001b[1;33m\u001b[0m\u001b[1;33m\u001b[0m\u001b[0m\n\u001b[1;32m--> 846\u001b[1;33m             return self.urlopen(\n\u001b[0m\u001b[0;32m    847\u001b[0m                 \u001b[0mmethod\u001b[0m\u001b[1;33m,\u001b[0m\u001b[1;33m\u001b[0m\u001b[1;33m\u001b[0m\u001b[0m\n",
      "\u001b[1;32mm:\\Users\\Akshaykumar\\anaconda3\\lib\\site-packages\\urllib3\\connectionpool.py\u001b[0m in \u001b[0;36murlopen\u001b[1;34m(self, method, url, body, headers, retries, redirect, assert_same_host, timeout, pool_timeout, release_conn, chunked, body_pos, **response_kw)\u001b[0m\n\u001b[0;32m    835\u001b[0m             \u001b[1;32mtry\u001b[0m\u001b[1;33m:\u001b[0m\u001b[1;33m\u001b[0m\u001b[1;33m\u001b[0m\u001b[0m\n\u001b[1;32m--> 836\u001b[1;33m                 \u001b[0mretries\u001b[0m \u001b[1;33m=\u001b[0m \u001b[0mretries\u001b[0m\u001b[1;33m.\u001b[0m\u001b[0mincrement\u001b[0m\u001b[1;33m(\u001b[0m\u001b[0mmethod\u001b[0m\u001b[1;33m,\u001b[0m \u001b[0murl\u001b[0m\u001b[1;33m,\u001b[0m \u001b[0mresponse\u001b[0m\u001b[1;33m=\u001b[0m\u001b[0mresponse\u001b[0m\u001b[1;33m,\u001b[0m \u001b[0m_pool\u001b[0m\u001b[1;33m=\u001b[0m\u001b[0mself\u001b[0m\u001b[1;33m)\u001b[0m\u001b[1;33m\u001b[0m\u001b[1;33m\u001b[0m\u001b[0m\n\u001b[0m\u001b[0;32m    837\u001b[0m             \u001b[1;32mexcept\u001b[0m \u001b[0mMaxRetryError\u001b[0m\u001b[1;33m:\u001b[0m\u001b[1;33m\u001b[0m\u001b[1;33m\u001b[0m\u001b[0m\n",
      "\u001b[1;32mm:\\Users\\Akshaykumar\\anaconda3\\lib\\site-packages\\urllib3\\util\\retry.py\u001b[0m in \u001b[0;36mincrement\u001b[1;34m(self, method, url, response, error, _pool, _stacktrace)\u001b[0m\n\u001b[0;32m    573\u001b[0m         \u001b[1;32mif\u001b[0m \u001b[0mnew_retry\u001b[0m\u001b[1;33m.\u001b[0m\u001b[0mis_exhausted\u001b[0m\u001b[1;33m(\u001b[0m\u001b[1;33m)\u001b[0m\u001b[1;33m:\u001b[0m\u001b[1;33m\u001b[0m\u001b[1;33m\u001b[0m\u001b[0m\n\u001b[1;32m--> 574\u001b[1;33m             \u001b[1;32mraise\u001b[0m \u001b[0mMaxRetryError\u001b[0m\u001b[1;33m(\u001b[0m\u001b[0m_pool\u001b[0m\u001b[1;33m,\u001b[0m \u001b[0murl\u001b[0m\u001b[1;33m,\u001b[0m \u001b[0merror\u001b[0m \u001b[1;32mor\u001b[0m \u001b[0mResponseError\u001b[0m\u001b[1;33m(\u001b[0m\u001b[0mcause\u001b[0m\u001b[1;33m)\u001b[0m\u001b[1;33m)\u001b[0m\u001b[1;33m\u001b[0m\u001b[1;33m\u001b[0m\u001b[0m\n\u001b[0m\u001b[0;32m    575\u001b[0m \u001b[1;33m\u001b[0m\u001b[0m\n",
      "\u001b[1;31mMaxRetryError\u001b[0m: HTTPSConnectionPool(host='api.spotify.com', port=443): Max retries exceeded with url: /v1/audio-features/?ids=6naxalmIoLFWR0siv8dnQQ,2m1hi0nfMR9vdGC8UcrnwU,0v1XpBHnsbkCn7iJ9Ucr1l,62bOmKYxYg7dhrC6gH9vFn,5Mmk2ii6laakqfeCT7OnVD,3yfqSUWxFvZELEM4PmlwIR,7H6ev70Weq6DdpZyyTmUXk,49X0LAl6faAusYq02PRAY6,3cqZlRpC4lOnxUE7HE3N5k,2xaFtNhCw5Q4hn1EKsrkLv,79EAVfOpzgfHx3IE2BVFQv,0pMUR7Uvp6vxlbG0qBFvgM,4LwU4Vp6od3Sb08CsP99GC,60a0Rd6pjrkxjPbaKzXjfq,7GHKA8GIMcND6c5nN1sFnD,4Y8q64VnhD0vFYy9g2WFpi,2avKuMN2QXkaG9vvHa2JLt,6Sy9BUbgFse0n0LPA5lwy5,0LWkaEyQRkF0XAms8Bg1fC,4l1MNtoCiTxBwf6yxD7kFd,0AcLrSfAEBQcUnHOTm5pXg,0JcgDliDqDac8iOFFRm7tZ,7m97yKVzPpXV9Z4ezEziOD,5S0cvScXb33JVpjTiY9Ivi,7f1Dmr246cJ9uQYdbplTbh,5jZfGxZDayFA1HzYmyOG3a,7iXF2W9vKmDoGAhlHdpyIa,7mYvtEeBdMqRSyj1Qpv6my,3BsaRV5QIulYz2lV9WWa8T,1rj0XawWJNisX7SGYexowJ,1ak0S3NhwWrUgNlQhJ1412,7JKEA8xYDoFp4q0QBW2PGg,1NNDZc9BHaWe9JqIsPRlNV,1uPrIHgYztXSkkcts9jet8,3w8Mw9GHYepoTWOSdiyosj,0s46SltT4On0Z6kglK1I5c,1RS3LStQYhju50eBdD9Uul,1H5tvpoApNDxvxDexoaAUo,5PMKzsUsTpZZGsCcJBuhP2,0HNXnhNZZtRZFLhP4hfyCP,0Ac0Ge47UpkVceZyPin7IP,0UzsDmdpw0Q14KU4hieQss,4Do68W4FWO2hRAJCzG1lus,64BbK9SFKH2jk86U3dGj2P,0gPQTLaqHDgdupKEok7J2x,3XKIUb7HzIF1Vu9usunMzc,6iiaDMXr1eqnSEH9W4DLYC,1vlTMKVV0FxG6CxGTmSY3t,5s4catxeZsaWFnOrvrXZHf,6ZOBP3NvffbU4SZcrnt1k6,1jRzdY7oUBOhrylNtiMtBD,1sjrDQXqAa9V07FjKIlAQ4,2uZwyxrg6VPvlVsvclIfel,2oncAh9o85pq1aswacLqAz,69XUpOpjzDKcfdxqZebGiI,2AW37v0bDyuOzGP3XnmFuA,7BgUcOjSOlKJXASLgJ6bx1,2dwhMQsFeHr2S787WxqAqW,35o9a4iAfLl5jRmqMX9c1D,0eKyHwckh9vQb8ncZ2DXCs,5OQGeJ1ceykovrykZsGhqL,25FTMokYEbEWHEdss5JLZS,7A0apkTSTvMbSI7yplcmlh,3wMUvT6eIw2L5cZFG1yH9j,3WkibOpDF7cQ5xntM1epyf,3UmaczJpikHgJFyBTAJVoz,7GQqj9jRtDkMp8zByehXQI,2lnzGkdtDj5mtlcOW2yRtG,2hKdd3qO7cWr2Jo0Bcs0MA,4zYTZvtcww7OWKie7fxA9E,0jG92AlXau21qgCQRxGLic,3aw9iWUQ3VrPQltgwvN9Xu,7reoZz80hQYuWtEn0Lsd0p,3IV4swNduIRunHREK80owz,0OSAJEA0ekX6pr2nuiPzX7,769geiA8btidGHda4BBDOJ,1Lhwn4PqeGpM4LTVUowW76,3RmKpob8xzv1pzHEQrMJah,0gmbgwZ8iqyMPmXefof8Yf,0I3q5fE6wg7LIfHGngUTnV,7MLPGQfmCkHpqfAib42qby,7FWuzwapuKHTEyDJIcQOw3,0UrWr7Jnu1heq1o99ZwUd0,6zsk6uF3MxfIeHPlubKBvR,45cVyfWuMAg8RNxmkcpmy9,0oHLi9gb4Gd97OuN6ckMk8,7yMiX7n9SBvadzox8T5jzT,7nWsh14AHpnTzq1Xejz90U,1fgvJXlcZ7uIddMpqsqw0L,2SLZ2rX5773RS16mcqBxG7,595JwfRS0iFbdZyhlBxokI,6j8nh1kHwezw8pkC2eU87F,5z6xHjCZr7a7AIcy8sPBKy,6IFOw9Ck9mWHRQgw6QrPYx,5IweeQZdY5XEzStLzUJG5t,3qzcM6SmbzBnGXSJe6hYdy,5mNV8Mz59bzyuQ53gTw0c0,0rRboI6IRuGx56Dq3UdYY4,4UfupbARPxljVkBmuZlJnY,0tWdRXWDUd1gWLthXgk6Dp,6FLwmdmW77N1Pxb1aWsZmO,61fUmn6wYvU7qS62wNvQFN,41nT1Sp6ChR65FbsdLlFHW,2B1jt2a6zdN4qLiugoEJry,0xikWgPgYN9BEes0ieZ8Co,747tpec1a0Hfqvj2za1pBs,1Jlt67b4oOhCoFW9GQwL9T,16MJqq0vEuW6GRX6faetTm,4Mnw05kNd0j1XDHwtfzofp,5S9810AEDRnVQovixcU2h4,4cNhx6OO1XpvwT6xZnb83B,3Gf5nttwcX9aaSQXRWidEZ,4h5KBcltGefua73AUPYps7,0HKD13PLq2WicViBBhSrOl,1Sm3U3B5XoidYQEZQZrh3i,25CMmGsl22APKhfuj4Tp7j,5zn1hpm9N0ylKB7kOtpCw2,0Uyh92tLyb9JawG8lmWCzJ,0wqOReZDnrefefEsrIGeR4,0ARK753YaiJbpLUk7z5yIM,7lQ8MOhq6IN2w8EYcFNSUk,5xEM5hIgJ1jjgcEBfpkt2F,4w1lzcaoZ1IC2K5TwjalRP,5QpaGzWp0hwB5faV8dkbAz,15f8Cv8RXUlOOCIf2oaceN,6fR6Z0Vc1K6yQWNUIKjAIR,36jSIOSE72neBbKntCthqw,0YImOCkIJ2PWhCXaURCZnY,4xkOaSrkexMciUUogZKVTS,6Wt5QBzHp9vdSLAFlvdnDQ,0IspqeDVLIw46spUMhOKRL,7DUpuAzGUyJaJB3p9BC3Ms,6UEfyhyfhYQsyipxOd95Ie,0qvlhVNm7L5IWabWF5hlEL,779ooI3rBd0CLqCiiJmtVo,5p0KCAuu5nrHpTuAIhHdLw,3GhuNU58hVUuzKY7LHmFRB,0pLmfgIANOX9FB9uZDU43x,4SnTf4ixVZCfQtxHNhky0T,5fkDD7aQLUmMy1EwzNm0ZB,2zhGnnDewN4kBsVzbqjBtX,0WgLpgUdThEpA5L5K0SKq7,1Q9b6CeMcDuO0uq5OJCrqu,5r29mFrurlVBbqJzjr2XW6,5Y0E3dOeynKuLDAXu0t0Bg,04KTF78FFg8sOHC1BADqbY,59ZTxQo8rBycIXPLUIKvE2,2mKouqwAIdQnMP43zxR89r,6AfLmKXzhEZjwiVPs5jhdV,3oXNIpoUMdk8qGkwCeXqGv,3SCVtAJq8li6HlKfM4M08u,21iEEekDSvQjVARSQ4dpXY,7lVNTXkI3cHFvcXiI8damb,14PbhGTCaHCXDvZzfTWumU,1F1XjwRzMh8KT2BvH6ISkG,6XK173kEu52iupeIqOnp41,2iWyrSHvs6qhFzfpiLAK0z,02jcEwywffn3Tsb48fXmlW,1NRorokmYEtr1koWybvaE4,3jagJCUbdqhDSPuxP8cAqF,563vSy3HB5NHxel1VGQCW6,2VSbEXqs6NbNiZSTcHlIDR,4hrae8atte6cRlSC9a7VCO,6zMUIb4uce1CzpbjR3vMdN,00Mb3DuaIH1kjrwOku9CGU,4gdQ8QShlC3toP9Mkc8DwB,1f2V8U1BiWaC9aJWmpOARe,4rr0gWiMrF4sOIefs3IEvZ,1QhSB9L9M5eZQhW4RNOhXK,2LVxvGhl2U5p2ql2ujc6vZ,5PCJldueshnwqQVjS16543,0eFklulxFnNCypNSrywzSB,4KqTGPPmXowMPEoShSVOta,16DhvbuyvJob4Q9GHNYu2n,4SyadrABZJIjeND1HPJS31,4IEOKcFZGMiKp5NXYjH001,5dpAN1mjFPL38kh9kWsCiw,0kr6d8wHDQPlzuET33NVn6,6lSr3iZTC144PKhvbPFzMp,074v54tSEWLbq3Hu5wf6uh,4RY96Asd9IefaL3X4LOLZ8,5Z01UMMf7V1o0MzF86s6WJ,5IVuqXILoxVWvWEPm82Jxr,4O4dhPrjcw7GSLNafNydmb,0xmjwnQ3FNE6HuWCt2nHdZ,4ZOyH6KjomjlqCz3oFqglr,4bJygwUKrRgq1stlNXcgMg,1n7omixiROWs5q6xpWiQuL,6dK1HEHZcQlh24bSU7pTaZ,3stnrhzN0lzZFskbaZ5sEw,5ljCWsDlSyJ41kwqym2ORw,2D1hlMwWWXpkc3CZJ5U351,4Yf5bqU3NK4kNOypcrLYwU,4O9ICXbrUTAVR5kkx6xANJ,0COqiPhxzoWICwFCS4eZcp,2icpXUdhbKPNXRJD7lPmXX,23ehR4jpFQFMfDADgFdXR7,0M955bMOoilikPXwKLYpoi,0r2Bul2NuCViraT2zX1l5j,6FTJuZtQZvmPPRFmrcno9J,7mS8RbJji2UZAaguRGsOCH,1AWQoqb9bSvzTjaLralEkT,3dPQuX8Gs42Y7b454ybpMR,5TpaWJKnuyA4MjzAbFXSTQ,4WY3HyGXsWqjFRCVD6gnTe,0aULRU35N9kTj6O1xMULRR,7qPiLAs9I8cqUv1BCnmlHN,1AEYT6VxrxXPMoQUxsY0E4,1AjQE5MtP5jHQMyDepbvLI,25Mn17RDbdJHiKL5SEhLnL,1lKS7SZQ7r5vOChLwJurmm,2jGUAB6hKlzK0pZmZpQ02g,0RilVXCOQf4AD6a4uTTs7d,6rpNe6gSkmiYW6BfSFATi5,0iFOG4Ki9aDmJUYUFHQlPG,0l3GEbH3CviUytD6iX4wzg,2BeoIEbdG1kOWYKQhNl4dX,3CZlTOyNnKVMb021IYEY6r,3Gamc2D6VSlXpUcmhPUFYt,41bIQPBE1lFN0mmw6Lmssz,7kAFSrTIOiVZ0gnHBuAH3l,75DjPjiIp2fvJDjtt41Jfs,71NJqORRmwlcZSLk0VsFjU,2fE4MbwX3QGMzNaMjGVhtw,5ojJNnX5ND2gMGojPd3NiO,2VHfyWLlvCvbkIqtS5tqt3,0O5oSZuSSQhLanMLMmQrRd,3OUApyz3jDB3syGUNGqB1d,7Lf7oSEVdzZqTA0kEDSlS5,6pWzCKTrKrwbUPzY8RLCoP,4jacsL77ZYnpInmTtUBaJW,3YuaBvuZqcwN3CEAyyoaei,3OQu3z3okKVmWxSXTTHak5,3kgutGd839IOYRl6ekeq6V,3adnLFXKO5rC1lhUNSeg3N,6HxweNytuEQdmGeVtZPZz3,0FmCLEHfINGqwlyzvklNqy,2iclfHORMqpR3TxuhwVRhD,6Bm6qUCSatPAqkQllFL7oA,5z7mYFfhw6N6f23VwrokJD,0yHConG49418wPs8UfAt44,2md2i5QvelRFnafpnd6LOg,2g2a5kDeZexbUTD8abcvm6,5dWfl2PBpKHpBVdz95wxK1,57Xjny5yNzAcsxnusKmAfA,5rb9QrpfcKFHM1EUbSIurX,2PpruBYCo4H7WOBJ7Q2EwM,3xl7PsO7Hzuig6To9FgDm6,228BxWXUYQPJrJYHDLOHkj,4hfIVhq0F0zFUcrbecsYmo,4nnHlGaBwJHb1rBetqj0Yl,2Ozc0me9PV5vlt8cokwdvI,7bZsx7Zif6FIhrcZrh0LVm,3sckKKIx96cjPXtiqPHCTB,0YGQ3hZcRLC5YX7o0hdmHg,0YUrjFy4qFKOO5NhM9tYdV,4XHQyvbrBsQaaBUW1VvmsL,2yr2HnFYl7XvqJk4fXoQBt,4dvQg9sD8k9y4qiEURuj8v,1xNcBAoUw8Hz6LqK2jt4Ff,3dFwpxh2yH7C7p9BGEKLVB,7uSsHbBFFAnkRQR1rDwP3L,2ndnVdR8si7CW9T8vJRHyW,4MeDnO5yA2Zi6IMlVApRci,3IrkbGQCoEPAkzJ0Tkv8nm,2EM9zpAc7PVeoAydmbfVIL,0cZDC7uxNK8lqQ3GgyvCnD,4Kd0FzFpOgIGxlBl4HXuFn,5NJhMbvK53XATYf7qHEqZL,6n8TMVyFKoUmDc4apxceRD,4L55p6txv9vuCWhpNnY6eY,6cR1U61DMpYbS2TtNTlSvo,0qcjuYtMWhBjXg0Xwt5SzS,2NBQmPrOEEjA8VbeWOQGxO,2o7V26rsF1ukcRI005S0LL,3CcvahnsiArpTHYQEWV2Au,3XTaaGGAL2gVVaAbu0yxQX,2tOZtdbkAMQASWokLvSlzj,4Vqd7MuPVrciqRS3EzhKWb,20I8RduZC2PWMWTDCZuuAN,0jSMveIWvnhDIvzqN74Uc7,1dHJETCn2X1R1YwVlMvSza,4s0o8TJHfX9LLHa0umnOzT,5g1vtHqi9uV7xtYeCcFOBx,4UzVcXufOhGUwF56HT7b8M,3vZfy3cXEYojq7BvSt87Of,3A4cpTBPaIQdtPFb5JxtaX,6nTiIhLmQ3FWhvrGafw2zj,5dxHF4lrDimKqnI3GaZUmC,4mmkhcEm1Ljy1U9nwtsxUo,2T8hXV9LUZMDBKR5RALGEa,6sqNctd7MlJoKDOxPVCAvU,1p5kC161fWMA2QlwV3Vi4W,3NLrRZoMF0Lx6zTlYqeIo4,5SkRLpaGtvYPhw02vZhQQ9,5y8WWi1BaKHXfuln0XoIZs,3rQjc4GGMcrtXwis7vBzaQ,312A8WfROSLvZbMDHBUPDp,6CN3e26iQSj1N5lomh0mfO,3JOVTQ5h8HGFnDdp4VT3MP,7yXibbAYi4to5oQTeO738f,6LGwYMXXgURfaequXipzHx,3LmvfNUQtglbTrydsdIqFU,1PS1QMdUqOal0ai3Gt7sDQ,4TsmezEQVSZNNPv5RJ65Ov,5D2mYZuzcgjpchVY1pmTPh,5GorCbAP4aL0EJ16frG2hd,1bqZ94bPrrHyIpYux7rVj7,3850dYVgOFIXJh5U4BFEWH,4nva9EpKntUTs6CRSGBCn9,4gXdMZkBN1neE9nX6yRALa,4kOTDj4SiZPkW1p96WMDNv,4bz7uB4edifWKJXSDxwHcs,6ndmKwWqMozN2tcZqzCX4K,69bHJ9qs5FrUJbKP8xU8uZ,7xYnUQigPoIDAMPVK79NEq,19JdbdEwQI7bCxefMokZO8,7i7UIbm5E0DD7aSOYvwp2v,7BKi4ZcyMBXeAvJ1OPxhdV,6EfyEbyk4XjCisJz90V8Ki,0rLzyBecRbTpnBWvMtPVFR,5sNESr6pQfIhL3krM8CtZn,2wGSgTmgSF3xjRrHkTc25R,0d28khcov6AiegSCpG5TuT,0reKGVcWLVvl1FzjZ6TACy,2nCmCt4B5vkabS0zeOuc1Z,0Ss50OU9tCozI7JIywkv14,561jH07mF1jHuk7KlaeF0s,5BSclXJTa9B0iURhUjZo50,4Hff1IjRbLGeLgFgxvHflk,07u02f6biDHx5VexfAs41b,2ajhenDRiiAnCHHjsIOHhJ,0UaMYEvWZi0ZqiDOoHU3YI,4faFAhOflLzhfJECveRwva,3B7i9OKRRmIsSBHEbJz58Y,34KUIBsIUiPV7oCIzSdDAU,3zdDxhDo5SycC7XSAPfdjv,4FTOpNYcGxnQdGNWSxIcio,0LzrhCZFXW94Y8nwtTuRlw,0lP4HYLmvowOKdsQ7CVkuq,7jLbTp3qZzah9kMIdW8e5M,470UOQDSTMTBEgkBaeqVN6,41PWz0hAiU9FqsmjR9Wh62,5Y78yINSOCW6xbOfGWNBg4,3jEqrIfwKO0M8ALu3TGilF,7IdfMBufDn3yf2JhS3a5w0,0AKAxdNkwq9ZxRdW1DN9zW,5qrzhg9Fmu8Amg2uMhHfe5,29EkMZmUNz1WsuzaMtVo1i,10NH6nFIKbx8Yee8cQ1gDn,1oNToERLIN71YCPLbRIQGQ,3fMoeGj4mDusrmYOOF60aC,6uYAPqxP69zfpCbsTHXgiz,4NjR63Up0uMkQBlKvlZd1l,7clUVcSOtkNWa58Gw5RfD4,5p9XWUdvbUzmPCukOmwoU3,3xrn9i8zhNZsTtcoWgQEAd,6fzcnVO0X2cpYjsHk19GJo,5lDriBxJd22IhOH9zTcFrV,7G6l2FtQyRhQgYgut2I6i8,3ZFTkvIE7kyPt6Nu3PEa7V,0k2GOhqsrxDTAbFFSdNJjT,0O45fw2L5vsWpdsOdXwNAR,6RX5iL93VZ5fKmyvNXvF1r,4wH4dJgrsxONID6KS2tDQM,0Qn0i8df7Q76ej3RAXAtI2,6yuvC80FcnVJNvC0DbXN9e,6btyEL6NwUa97Nex9cZFvo,2gam98EZKrF9XuOkU13ApN,6WoC2b3CCpyrDQJKkBQZn1,6k8uthjEbttfWXcGaNTQGD,3BxWKCI06eQ5Od8TY2JBeA,3rKCDtV8UcF0RytSiXxypc,0fGh0trRN1xz3s41r7V5ce,3lPr8ghNDBLc2uZovNyLs9,53ETzLQQKFCzykRbqWb1ph,7g7M96UGiA7OR79H86gV4m,6o3s08kk2fQI37vxGZDrJ1,4GIsskMpViPkt0uzPJTJSp,05Sgj1Hx03ZXc57gsV1kfX,4NeOWqHmlrGRuBvsLJC9rL,4Gd9PUEuOTOJtbgd4YxLXM,3YQjgTpUVNWvpYeb2mtTF7,7jRoWfRlLnGYEIEn4t4kbq,0JbZk8LQm3hCecAykIwAPn,423EcxblW9F4nnQkqcqMlK,1Ab6RxeKl3e07zP7Get7CX,0Eu5SrReZzaJX0NLKI8tQS,7M13FwBAKWNa2jqcZeUhL6,5loIRrZU3ez3r102qFzJI2,6Y3WvyUG9iE5bQYg38SPtQ,5YTSbfnyJRqul0H8kmamg3,13xxBnXOuiBxVxJI458B0i,2dxjKgT0li4qBI3QwuN9Ih,7cVmKBwzPsh4Fmb6SplfEm,663Karu2rvKLdnY0eo1n3M,5hF2LnbkpnXCkksMSeWcxZ,2JpUkUR0OsOlUUfm6iS8ic,1bPqAXwNiVcM6zjJU1Z4Cd,0tYPj0NYa7vjlJaqlRSnJb,2Fs18NaCDuluPG1DHGw1XG,2RWxrpsFshOBFwRBRstUlQ,4T4NLIMypdmyUwK54jECk4,0k6HUzaRHpQ3eEWr1C7Esh,0DMRKqrpd0QO4RWiEdMib0,4bVuIlGQBMWS7vIhcx8Ae4,10Nmj3JCNoMeBQ87uw5j8k,13pyGLYmBjYgvOMIEivX2K,6brl7bwOHmGFkNw3MBqssT,40LQiUUUKXVGyNs09lHVjW,4xlEKYv7HmC8zXoJIbpZKM,3ItzRpwvKtkDSNdRSjXu7Z,4bPQs0PHn4xbipzdPfn6du,6gxycjJNMgmAyfzUXBN80P,0qAMjeQFyd1qD0LDiV8gWp,3U5JVgI2x4rDyHGObzJfNf,28euH5Ny1JXxZAt2KjWp62,5fVZC9GiM4e8vu99W0Xf6J,4mnTMsp8Cgf9TNiQMhH11L,5wQnmLuC1W7ATsArWACrgW,7DFnq8FYhHMCylykf6ZCxA,2hns6Dv29Yrg68AVTJiAyA,7wZUrN8oemZfsEd1CGkbXE,2yPoXCs7BSIUrucMdK5PzV,6ic8OlLUNEATToEFU3xmaH,4AniPkv5vgdE1n6VKreiyI,6kopmMZiyLmw7h66uXcXR7,4RCWB3V8V0dignt99LZ8vH,3pD0f7hSJg2XdQ6udw5Tey,66ZcOcouenzZEnzTJvoFmH,2bLqfJjuC5syrsgDsZfGmn,2aI21FnmY7TJVKeMaoQZ0t,4LjfIjS8iweFCPdKxLnEoV,5TmFTHZp7HjBXjjsFvCY6h,2kQuhkFX7uSVepCD3h29g5,36Hwcla06Q5BCr59CL0sBp,06Vw2ZOhalTwEw4PhoGRSX,6WoC2b3CCpyrDQJKkBQZn1,0j2T0R9dR9qdJYsB7ciXhf,2HWWNoWEEEECwZhAiLg7ib,6ajyEEzWZbw8ycDcJAN099,0CXVjQI9wsqaGeIARkkpYc,66TRwr5uJwPt15mfFkzhbi,4JPCdSaqs9dJd7RatFSHww,1iOJQhxKSJ7dg3Dk03yPnl,4Tn2llBm1g0UlWctmgPL8Z,2a03afRiyAbNAleOByVju4,18lR4BzEs7e3qzc0KVkTpU,3wKKkGVn7cVSfgPeYYIiXG,1IYaMVfidzSfvCUZYXhsU1,28IEbk5a7twNTbUEvWslUb,0YkJU6TjjwzsVXUPRIO0DB,4eAwB5pnKFTmsgc3zWoYO0,5rTIpPWeO0IL4HWlGWrz5G,4KTtYhxFtFL7mBwnjkKfLm,0UFDKFqW2oGspYeYqo9wjA,7j31rVgGX9Q2blT92VBEA0,6x2xqg5fQNu9dNCXu83ezE,6CFPFnS9EcLs2I0nWqtWci,234RqTZmnDTnxWlVciXHLD,6PBAPjshd2JfEiWpdf3C2a,6BqWhxll86CGGE6WxgdRqG,1RGIjMFMgJxkZHMDXVYzOJ,68Zq7PMcPIQE8ol1x3gAqw,1D066zixBwqFYqBhKgdPzp,5qhlC4Rzals34zxovrPzKp,1zyqZONW985Cs4osz9wlsu,3Zwu2K0Qa5sT6teCCHPShP,5iyE2d4U3Vc5cqY9mPTlpy,0JJP0IS4w0fJx01EcrfkDe,30FURVTCpbKyykjSEQzGkH,0JfAMd3xTqm7ZYhBmQjYzt,5Yaw45Q7W0irDbTVN5LOVs,53SqGkNJAYLss9AgbduTqQ,1lHXlGlve5Zx8tXLhyjDwM,1oagRT7LfpVlNJN6FSZDGp,6SpLc7EXZIPpy0sVko0aoU,6DbqCKweKwVkHgRv1CI53D,7x8dCjCr0x6x2lXKujYD34,1JwIBogbuZ4Yfb6nssXWa2,3LGeYNY9aWQuBJovOOowqm,3RGyFugqjQjlL8XX0NW8dZ,4wzjNqjKAKDU82e8uMhzmr,7dzUZec5MnWMyQnk5klnKR,5lUTzPuiloBHm1qEaJcJfF,1hGy2eLcmC8eKx7qr1tOqx,1BV0m40U0M4t1SLIsDnwZl,0ZUo4YjG4saFnEJhdWp9Bt,0td1GfBHNxlGephozVmL9k,1tkMs9wDPknQ3ZHcKDw1ES,2elA6JLRaQ6iB7hxiuTKN4,6SmPPtaMnfxgz5duA6t9Cu,37pFLuNVnAJQL9ysRoKTdy,4liGjmhCupa7RP9JaQELYx,56Tl3UgyZTqfZtvFNS31wm,48yZwqAxCZk0t2ssDw2hzH,2aibwv5hGXSgw7Yru8IYTO,3QnEp4rluCxUwgpXT43jmC,0CAfXk7DXMnon4gLudAp7J,005lwxGU1tms6HGELIcUv9,3goSVuTt3fDYDP6kRnFwuL,26NX1wPt1TRCH536yocd6i,2VOomzT6VavJOGBeySqaMc,3aQz0z86zrKjd1mcZlonxE,52K4Nl7eVNqUpUeJeWJlwT,4P7VFiaZb3xrXoqGwZXC3J,5Nr1ZcH9PGTiQdGl9HCCS1,5TRPicyLGbAF2LGBFbHGvO,1oHClQEgDmmbcEx12Kc5nZ,1y4eb6hmAvsqlDOl3fx9kk,1wva1IlWLDNLgwipUWcmjy,1ARJhjuI6TNYZCxYygFQ4F,4fixebDZAVToLbUCuEloa2,0F2BxpbxH8Yc3pLub48hrb,3jlbL2OTD5YmIunYzgQTAN,6ScJMrlpiLfZUGtWp4QIVt,3MldzywZOH4Uci6bq9noyJ,2PTvik6EqPAIYOclAB3SU8,3XCezj8BPm1xGH3qS6SruW,6pTg4H8juKV9iSzrcVUbM3,0aeWFHCKwVoavQdpduyB1Q,3LN41NUdHkyNqQhi9gExMm,3tSuRiNgJmMqmYR23dCqnR,6AdLyvisRKHLAwARaZMGr6,1uigwk5hNV84zRd5YQQRTk,4iz9lGMjU1lXS51oPmUmTe,22UDw8rSfLbUsaAGTXQ4Z8,3pxCXv0NACYfYnLjFcQW5D,6tC2iHfUlzB2W4ntXXL2BH,4yHFxB8kzzeuNvoouR8N0N,0JiY190vktuhSGN6aqJdrt,1kxeWHF9PrCVZHvVskv8lg,3RDcUlLGp3SLp2AmUbUbls,1ixbwbeBi5ufN4noUKmW5a,0uybt73QFXaLCoxuVf6fhm,2aEuXA1KswHlCGPOuPmCOW,1C6eViOmSvwrXz9JTHYaOV,5Hv1QAbRWrUSUHaT0CmnMS,3wkNK8tJZ2stygNJm8RCRD,5liQj4sVRmEEESvvcb64o8,5j0McHPthKpOXRr3fBq8M0,45upEMiYeArj06RERttNFx,2xUjNGHjJOBcpTf7dYx4EY,1gt1fWqUZOUgT2kTArAw4E,0exb0K7vsjf5bXWLJJhAuF,0tp2cUnCAcsR6xL5kw9HKu,1IAzD1muglOxOcPbUHs70R,48s0QHJgmiNsth3WEO6U4M,33vzOPcd9FRirYGlCu32x4,5o4W6yWSJD9e9Ea8YC9WjF,1mea3bSkSGXuIRvnydlB5b,0ntQJM78wzOLVeCUAW7Y45,4ZPdLEztrlZqbJkgHNw54L,3nJjIYchBNkYm7B8XfJf5N,1ZqHjApl3pfzwjweTfMi0g,72by3Re4C3eVEBXvsUo0zV,2VEsmoek0sol9MnJFyoG9e,7dltD9eEX7X1zk8JJ9BS0e,56pHllZT7QOacB0bP56ofx,2iXBZ32Fz5VDCLeE0JIdX5,50xeLNGKmskmYUSINhqvfa,2H1047e0oMSj10dgp7p2VG,5R8dQOPq8haW94K7mgERlO,0uXO2GrNiIb1xHT9LUdxZE,3GpbwCm3YxiWDvy29Uo3vP,1vrd6UOGamcKNGnSHJQlSt,6Rb0ptOEjBjPPQUlQtQGbL,7jk7gqyEonmVVYahZN5zhW,0TcJ7QWpggdSg8t0fHThHm,2UREu1Y8CO4jXkbvqAtP7g,6wOYnPq1hPihRepcDClPUw,4EWCNWgDS8707fNSZ1oaA5,5FEXPoPnzueFJQCPRIrC3c,2x7MyWybabEz6Y6wvHuwGE,2hdy9Wt9qp7M7d0U3ossu2,13plQdOoWSSXPRUSZc5FuM,3IcIIZMMS7UArJJPtEHXG8,3opVsyWVYEAFK9bJAG8Opa,7Hqig8kp32q2Ire3ECQvWM,2igwFfvr1OAGX9SKDCPBwO,5XRHGXut00SrJUFmcn2lQF,4NpDZPwSXmL0cCTaJuVrCw,360ZhWvMnyXKYFG9Mqsm89,6Wx88Mv6b9ofjKMKkdwOJd,6TrNRd98WksT9Kkmx9uj6R,7LR85XLWw2yXqKBSI5brbG,0SiywuOBRcynK0uKGWdCnn,6ddQ5KCkvCggk3j6KdA0zL,7xdmTEHRbgQuLR8KpRLLnn,6ATrsVaZT7XjkCynxM8cTS,3R6dN42VdwivkZTMz03Rci,77FULy278MulVvGWS8BfK7,6WdV6QM8t87dPidhPzdRJW,2q4rjDy9WhaN3o9MvDbO21,4dK00wCxlqWEeN8BoM1BHT,5xeSDlt3eCxPsWKBhfUJTR,426vBhxw4upEf11BqBBgs0,5jzX4dWVQeBTtfBaXnMRt5,7Kpqjspw4Y7HrvItIRcBiW,0JYRNrTwUmeySRX37azvnH,1YaVmBh7EAeR54FIjuFcb5,0KlahhzNb98zyN83Vwae0l,6c0GmyBsE7mQtrVvxJaWc3,67T6l4q3zVjC5nZZPXByU8,7IhsLJMqdxoo7YAZjaSMru,2oENJa1T33GJ0w8dC167G4,5r5cp9IpziiIsR6b93vcnQ,7kMfu3KUydmrFVGEAhjtyl,4QJLKU75Rg4558f4LbDBRi,3kMrazSvILsgcwtidZd1Qd,4VqPOruhp5EdPBeR92t6lQ,06T10fEzN8ZCcqzQZYA184,2ZBNclC5wm4GtiWaeh0DMx,3RBGG1be9aBaSvjnw6ABkh,1NhPKVLsHhFUHIOZ32QnS2,4KAzYqfcijCSZa2P3etHoM,3QLjDkgLh9AOEHlhQtDuhs,5Q0Nhxo0l2bP3pNjpGJwV1,1Nme6K1PYAh7p7uygyuRdf,64yrDBpcdwEdNY9loyEGbX,58FUwmyGUqkt53YPUcm7cJ,3GCL1PydwsLodcpv0Ll1ch,0CwYG1UnRmOx8Q1EzElCIL,1akgiRM3mN2nxu2AX6ACCW,6fvxos1qSHrIgOkKw4dhWS,4Dm32oO01YpIubCHaAtKkN,6JnufVNLIO5F5Lk4sEVLeI,4IoYz8XqqdowINzfRrFnhi,7BqBn9nzAq8spo5e7cZ0dJ,15JINEqzVMv3SvJTAXAKED,2GYHyAoLWpkxLVa4oYTVko,0HPD5WQqrq7wPWR7P7Dw1i,4dTaAiV9xFFCxnPur9c9yL,2ENexcMEMsYk0rVJigVD3i,6KOEK6SeCEZOQkLj5M1PxH,0WCiI0ddWiu5F2kSHgfw5S,5ojIL91nfnWExoXSCkvJ9E,4DvhkX2ic4zWkQeWMwQ2qf,6FbGlkHKGkYqpSCuBgurn3,2DHc2e5bBn4UzY0ENVFrUl,2qugfmw9Hi27DyIo2gite4,1AguHaKOuggrVTebp7cZEI,0oJMv049q8hEkes9w0L1J4,7Ie9W94M7OjPoZVV216Xus,60jzFy6Nn4M0iD1d94oteF,2Q99zPXVqCPN5RaZawvJWZ,1hBM2D1ULT3aeKuddSwPsK,7vWFaMq63AwkFDhS2OAg5u,41KPpw0EZCytxNkmEMJVgr,6wN4nT2qy3MQc098yL3Eu9,4356Typ82hUiFAynbLYbPn,5vlEg2fT4cFWAqU5QptIpQ,6ebkx7Q5tTxrCxKq4GYj0Y,45O0tUN9Bh6LH4eNxQ07AT,03tqyYWC9Um2ZqU0ZN849H,61HQWI1Woxup7CnGwVUsdI,161DnLWsx1i3u1JT05lzqU,2V4bv1fNWfTcyRJKmej6Sj,2rDwdvBma1O1eLzo29p2cr,4AYX69oFP3UOS1CFmV9UfO,360UM2DaiHZPRu0EsrOvMp,7tSO7DrrYpiMXX3zM4b3oM (Caused by ResponseError('too many 502 error responses'))",
      "\nDuring handling of the above exception, another exception occurred:\n",
      "\u001b[1;31mRetryError\u001b[0m                                Traceback (most recent call last)",
      "\u001b[1;32mm:\\Users\\Akshaykumar\\anaconda3\\lib\\site-packages\\spotipy\\client.py\u001b[0m in \u001b[0;36m_internal_call\u001b[1;34m(self, method, url, payload, params)\u001b[0m\n\u001b[0;32m    239\u001b[0m         \u001b[1;32mtry\u001b[0m\u001b[1;33m:\u001b[0m\u001b[1;33m\u001b[0m\u001b[1;33m\u001b[0m\u001b[0m\n\u001b[1;32m--> 240\u001b[1;33m             response = self._session.request(\n\u001b[0m\u001b[0;32m    241\u001b[0m                 \u001b[0mmethod\u001b[0m\u001b[1;33m,\u001b[0m \u001b[0murl\u001b[0m\u001b[1;33m,\u001b[0m \u001b[0mheaders\u001b[0m\u001b[1;33m=\u001b[0m\u001b[0mheaders\u001b[0m\u001b[1;33m,\u001b[0m \u001b[0mproxies\u001b[0m\u001b[1;33m=\u001b[0m\u001b[0mself\u001b[0m\u001b[1;33m.\u001b[0m\u001b[0mproxies\u001b[0m\u001b[1;33m,\u001b[0m\u001b[1;33m\u001b[0m\u001b[1;33m\u001b[0m\u001b[0m\n",
      "\u001b[1;32mm:\\Users\\Akshaykumar\\anaconda3\\lib\\site-packages\\requests\\sessions.py\u001b[0m in \u001b[0;36mrequest\u001b[1;34m(self, method, url, params, data, headers, cookies, files, auth, timeout, allow_redirects, proxies, hooks, stream, verify, cert, json)\u001b[0m\n\u001b[0;32m    541\u001b[0m         \u001b[0msend_kwargs\u001b[0m\u001b[1;33m.\u001b[0m\u001b[0mupdate\u001b[0m\u001b[1;33m(\u001b[0m\u001b[0msettings\u001b[0m\u001b[1;33m)\u001b[0m\u001b[1;33m\u001b[0m\u001b[1;33m\u001b[0m\u001b[0m\n\u001b[1;32m--> 542\u001b[1;33m         \u001b[0mresp\u001b[0m \u001b[1;33m=\u001b[0m \u001b[0mself\u001b[0m\u001b[1;33m.\u001b[0m\u001b[0msend\u001b[0m\u001b[1;33m(\u001b[0m\u001b[0mprep\u001b[0m\u001b[1;33m,\u001b[0m \u001b[1;33m**\u001b[0m\u001b[0msend_kwargs\u001b[0m\u001b[1;33m)\u001b[0m\u001b[1;33m\u001b[0m\u001b[1;33m\u001b[0m\u001b[0m\n\u001b[0m\u001b[0;32m    543\u001b[0m \u001b[1;33m\u001b[0m\u001b[0m\n",
      "\u001b[1;32mm:\\Users\\Akshaykumar\\anaconda3\\lib\\site-packages\\requests\\sessions.py\u001b[0m in \u001b[0;36msend\u001b[1;34m(self, request, **kwargs)\u001b[0m\n\u001b[0;32m    654\u001b[0m         \u001b[1;31m# Send the request\u001b[0m\u001b[1;33m\u001b[0m\u001b[1;33m\u001b[0m\u001b[0m\n\u001b[1;32m--> 655\u001b[1;33m         \u001b[0mr\u001b[0m \u001b[1;33m=\u001b[0m \u001b[0madapter\u001b[0m\u001b[1;33m.\u001b[0m\u001b[0msend\u001b[0m\u001b[1;33m(\u001b[0m\u001b[0mrequest\u001b[0m\u001b[1;33m,\u001b[0m \u001b[1;33m**\u001b[0m\u001b[0mkwargs\u001b[0m\u001b[1;33m)\u001b[0m\u001b[1;33m\u001b[0m\u001b[1;33m\u001b[0m\u001b[0m\n\u001b[0m\u001b[0;32m    656\u001b[0m \u001b[1;33m\u001b[0m\u001b[0m\n",
      "\u001b[1;32mm:\\Users\\Akshaykumar\\anaconda3\\lib\\site-packages\\requests\\adapters.py\u001b[0m in \u001b[0;36msend\u001b[1;34m(self, request, stream, timeout, verify, cert, proxies)\u001b[0m\n\u001b[0;32m    506\u001b[0m             \u001b[1;32mif\u001b[0m \u001b[0misinstance\u001b[0m\u001b[1;33m(\u001b[0m\u001b[0me\u001b[0m\u001b[1;33m.\u001b[0m\u001b[0mreason\u001b[0m\u001b[1;33m,\u001b[0m \u001b[0mResponseError\u001b[0m\u001b[1;33m)\u001b[0m\u001b[1;33m:\u001b[0m\u001b[1;33m\u001b[0m\u001b[1;33m\u001b[0m\u001b[0m\n\u001b[1;32m--> 507\u001b[1;33m                 \u001b[1;32mraise\u001b[0m \u001b[0mRetryError\u001b[0m\u001b[1;33m(\u001b[0m\u001b[0me\u001b[0m\u001b[1;33m,\u001b[0m \u001b[0mrequest\u001b[0m\u001b[1;33m=\u001b[0m\u001b[0mrequest\u001b[0m\u001b[1;33m)\u001b[0m\u001b[1;33m\u001b[0m\u001b[1;33m\u001b[0m\u001b[0m\n\u001b[0m\u001b[0;32m    508\u001b[0m \u001b[1;33m\u001b[0m\u001b[0m\n",
      "\u001b[1;31mRetryError\u001b[0m: HTTPSConnectionPool(host='api.spotify.com', port=443): Max retries exceeded with url: /v1/audio-features/?ids=6naxalmIoLFWR0siv8dnQQ,2m1hi0nfMR9vdGC8UcrnwU,0v1XpBHnsbkCn7iJ9Ucr1l,62bOmKYxYg7dhrC6gH9vFn,5Mmk2ii6laakqfeCT7OnVD,3yfqSUWxFvZELEM4PmlwIR,7H6ev70Weq6DdpZyyTmUXk,49X0LAl6faAusYq02PRAY6,3cqZlRpC4lOnxUE7HE3N5k,2xaFtNhCw5Q4hn1EKsrkLv,79EAVfOpzgfHx3IE2BVFQv,0pMUR7Uvp6vxlbG0qBFvgM,4LwU4Vp6od3Sb08CsP99GC,60a0Rd6pjrkxjPbaKzXjfq,7GHKA8GIMcND6c5nN1sFnD,4Y8q64VnhD0vFYy9g2WFpi,2avKuMN2QXkaG9vvHa2JLt,6Sy9BUbgFse0n0LPA5lwy5,0LWkaEyQRkF0XAms8Bg1fC,4l1MNtoCiTxBwf6yxD7kFd,0AcLrSfAEBQcUnHOTm5pXg,0JcgDliDqDac8iOFFRm7tZ,7m97yKVzPpXV9Z4ezEziOD,5S0cvScXb33JVpjTiY9Ivi,7f1Dmr246cJ9uQYdbplTbh,5jZfGxZDayFA1HzYmyOG3a,7iXF2W9vKmDoGAhlHdpyIa,7mYvtEeBdMqRSyj1Qpv6my,3BsaRV5QIulYz2lV9WWa8T,1rj0XawWJNisX7SGYexowJ,1ak0S3NhwWrUgNlQhJ1412,7JKEA8xYDoFp4q0QBW2PGg,1NNDZc9BHaWe9JqIsPRlNV,1uPrIHgYztXSkkcts9jet8,3w8Mw9GHYepoTWOSdiyosj,0s46SltT4On0Z6kglK1I5c,1RS3LStQYhju50eBdD9Uul,1H5tvpoApNDxvxDexoaAUo,5PMKzsUsTpZZGsCcJBuhP2,0HNXnhNZZtRZFLhP4hfyCP,0Ac0Ge47UpkVceZyPin7IP,0UzsDmdpw0Q14KU4hieQss,4Do68W4FWO2hRAJCzG1lus,64BbK9SFKH2jk86U3dGj2P,0gPQTLaqHDgdupKEok7J2x,3XKIUb7HzIF1Vu9usunMzc,6iiaDMXr1eqnSEH9W4DLYC,1vlTMKVV0FxG6CxGTmSY3t,5s4catxeZsaWFnOrvrXZHf,6ZOBP3NvffbU4SZcrnt1k6,1jRzdY7oUBOhrylNtiMtBD,1sjrDQXqAa9V07FjKIlAQ4,2uZwyxrg6VPvlVsvclIfel,2oncAh9o85pq1aswacLqAz,69XUpOpjzDKcfdxqZebGiI,2AW37v0bDyuOzGP3XnmFuA,7BgUcOjSOlKJXASLgJ6bx1,2dwhMQsFeHr2S787WxqAqW,35o9a4iAfLl5jRmqMX9c1D,0eKyHwckh9vQb8ncZ2DXCs,5OQGeJ1ceykovrykZsGhqL,25FTMokYEbEWHEdss5JLZS,7A0apkTSTvMbSI7yplcmlh,3wMUvT6eIw2L5cZFG1yH9j,3WkibOpDF7cQ5xntM1epyf,3UmaczJpikHgJFyBTAJVoz,7GQqj9jRtDkMp8zByehXQI,2lnzGkdtDj5mtlcOW2yRtG,2hKdd3qO7cWr2Jo0Bcs0MA,4zYTZvtcww7OWKie7fxA9E,0jG92AlXau21qgCQRxGLic,3aw9iWUQ3VrPQltgwvN9Xu,7reoZz80hQYuWtEn0Lsd0p,3IV4swNduIRunHREK80owz,0OSAJEA0ekX6pr2nuiPzX7,769geiA8btidGHda4BBDOJ,1Lhwn4PqeGpM4LTVUowW76,3RmKpob8xzv1pzHEQrMJah,0gmbgwZ8iqyMPmXefof8Yf,0I3q5fE6wg7LIfHGngUTnV,7MLPGQfmCkHpqfAib42qby,7FWuzwapuKHTEyDJIcQOw3,0UrWr7Jnu1heq1o99ZwUd0,6zsk6uF3MxfIeHPlubKBvR,45cVyfWuMAg8RNxmkcpmy9,0oHLi9gb4Gd97OuN6ckMk8,7yMiX7n9SBvadzox8T5jzT,7nWsh14AHpnTzq1Xejz90U,1fgvJXlcZ7uIddMpqsqw0L,2SLZ2rX5773RS16mcqBxG7,595JwfRS0iFbdZyhlBxokI,6j8nh1kHwezw8pkC2eU87F,5z6xHjCZr7a7AIcy8sPBKy,6IFOw9Ck9mWHRQgw6QrPYx,5IweeQZdY5XEzStLzUJG5t,3qzcM6SmbzBnGXSJe6hYdy,5mNV8Mz59bzyuQ53gTw0c0,0rRboI6IRuGx56Dq3UdYY4,4UfupbARPxljVkBmuZlJnY,0tWdRXWDUd1gWLthXgk6Dp,6FLwmdmW77N1Pxb1aWsZmO,61fUmn6wYvU7qS62wNvQFN,41nT1Sp6ChR65FbsdLlFHW,2B1jt2a6zdN4qLiugoEJry,0xikWgPgYN9BEes0ieZ8Co,747tpec1a0Hfqvj2za1pBs,1Jlt67b4oOhCoFW9GQwL9T,16MJqq0vEuW6GRX6faetTm,4Mnw05kNd0j1XDHwtfzofp,5S9810AEDRnVQovixcU2h4,4cNhx6OO1XpvwT6xZnb83B,3Gf5nttwcX9aaSQXRWidEZ,4h5KBcltGefua73AUPYps7,0HKD13PLq2WicViBBhSrOl,1Sm3U3B5XoidYQEZQZrh3i,25CMmGsl22APKhfuj4Tp7j,5zn1hpm9N0ylKB7kOtpCw2,0Uyh92tLyb9JawG8lmWCzJ,0wqOReZDnrefefEsrIGeR4,0ARK753YaiJbpLUk7z5yIM,7lQ8MOhq6IN2w8EYcFNSUk,5xEM5hIgJ1jjgcEBfpkt2F,4w1lzcaoZ1IC2K5TwjalRP,5QpaGzWp0hwB5faV8dkbAz,15f8Cv8RXUlOOCIf2oaceN,6fR6Z0Vc1K6yQWNUIKjAIR,36jSIOSE72neBbKntCthqw,0YImOCkIJ2PWhCXaURCZnY,4xkOaSrkexMciUUogZKVTS,6Wt5QBzHp9vdSLAFlvdnDQ,0IspqeDVLIw46spUMhOKRL,7DUpuAzGUyJaJB3p9BC3Ms,6UEfyhyfhYQsyipxOd95Ie,0qvlhVNm7L5IWabWF5hlEL,779ooI3rBd0CLqCiiJmtVo,5p0KCAuu5nrHpTuAIhHdLw,3GhuNU58hVUuzKY7LHmFRB,0pLmfgIANOX9FB9uZDU43x,4SnTf4ixVZCfQtxHNhky0T,5fkDD7aQLUmMy1EwzNm0ZB,2zhGnnDewN4kBsVzbqjBtX,0WgLpgUdThEpA5L5K0SKq7,1Q9b6CeMcDuO0uq5OJCrqu,5r29mFrurlVBbqJzjr2XW6,5Y0E3dOeynKuLDAXu0t0Bg,04KTF78FFg8sOHC1BADqbY,59ZTxQo8rBycIXPLUIKvE2,2mKouqwAIdQnMP43zxR89r,6AfLmKXzhEZjwiVPs5jhdV,3oXNIpoUMdk8qGkwCeXqGv,3SCVtAJq8li6HlKfM4M08u,21iEEekDSvQjVARSQ4dpXY,7lVNTXkI3cHFvcXiI8damb,14PbhGTCaHCXDvZzfTWumU,1F1XjwRzMh8KT2BvH6ISkG,6XK173kEu52iupeIqOnp41,2iWyrSHvs6qhFzfpiLAK0z,02jcEwywffn3Tsb48fXmlW,1NRorokmYEtr1koWybvaE4,3jagJCUbdqhDSPuxP8cAqF,563vSy3HB5NHxel1VGQCW6,2VSbEXqs6NbNiZSTcHlIDR,4hrae8atte6cRlSC9a7VCO,6zMUIb4uce1CzpbjR3vMdN,00Mb3DuaIH1kjrwOku9CGU,4gdQ8QShlC3toP9Mkc8DwB,1f2V8U1BiWaC9aJWmpOARe,4rr0gWiMrF4sOIefs3IEvZ,1QhSB9L9M5eZQhW4RNOhXK,2LVxvGhl2U5p2ql2ujc6vZ,5PCJldueshnwqQVjS16543,0eFklulxFnNCypNSrywzSB,4KqTGPPmXowMPEoShSVOta,16DhvbuyvJob4Q9GHNYu2n,4SyadrABZJIjeND1HPJS31,4IEOKcFZGMiKp5NXYjH001,5dpAN1mjFPL38kh9kWsCiw,0kr6d8wHDQPlzuET33NVn6,6lSr3iZTC144PKhvbPFzMp,074v54tSEWLbq3Hu5wf6uh,4RY96Asd9IefaL3X4LOLZ8,5Z01UMMf7V1o0MzF86s6WJ,5IVuqXILoxVWvWEPm82Jxr,4O4dhPrjcw7GSLNafNydmb,0xmjwnQ3FNE6HuWCt2nHdZ,4ZOyH6KjomjlqCz3oFqglr,4bJygwUKrRgq1stlNXcgMg,1n7omixiROWs5q6xpWiQuL,6dK1HEHZcQlh24bSU7pTaZ,3stnrhzN0lzZFskbaZ5sEw,5ljCWsDlSyJ41kwqym2ORw,2D1hlMwWWXpkc3CZJ5U351,4Yf5bqU3NK4kNOypcrLYwU,4O9ICXbrUTAVR5kkx6xANJ,0COqiPhxzoWICwFCS4eZcp,2icpXUdhbKPNXRJD7lPmXX,23ehR4jpFQFMfDADgFdXR7,0M955bMOoilikPXwKLYpoi,0r2Bul2NuCViraT2zX1l5j,6FTJuZtQZvmPPRFmrcno9J,7mS8RbJji2UZAaguRGsOCH,1AWQoqb9bSvzTjaLralEkT,3dPQuX8Gs42Y7b454ybpMR,5TpaWJKnuyA4MjzAbFXSTQ,4WY3HyGXsWqjFRCVD6gnTe,0aULRU35N9kTj6O1xMULRR,7qPiLAs9I8cqUv1BCnmlHN,1AEYT6VxrxXPMoQUxsY0E4,1AjQE5MtP5jHQMyDepbvLI,25Mn17RDbdJHiKL5SEhLnL,1lKS7SZQ7r5vOChLwJurmm,2jGUAB6hKlzK0pZmZpQ02g,0RilVXCOQf4AD6a4uTTs7d,6rpNe6gSkmiYW6BfSFATi5,0iFOG4Ki9aDmJUYUFHQlPG,0l3GEbH3CviUytD6iX4wzg,2BeoIEbdG1kOWYKQhNl4dX,3CZlTOyNnKVMb021IYEY6r,3Gamc2D6VSlXpUcmhPUFYt,41bIQPBE1lFN0mmw6Lmssz,7kAFSrTIOiVZ0gnHBuAH3l,75DjPjiIp2fvJDjtt41Jfs,71NJqORRmwlcZSLk0VsFjU,2fE4MbwX3QGMzNaMjGVhtw,5ojJNnX5ND2gMGojPd3NiO,2VHfyWLlvCvbkIqtS5tqt3,0O5oSZuSSQhLanMLMmQrRd,3OUApyz3jDB3syGUNGqB1d,7Lf7oSEVdzZqTA0kEDSlS5,6pWzCKTrKrwbUPzY8RLCoP,4jacsL77ZYnpInmTtUBaJW,3YuaBvuZqcwN3CEAyyoaei,3OQu3z3okKVmWxSXTTHak5,3kgutGd839IOYRl6ekeq6V,3adnLFXKO5rC1lhUNSeg3N,6HxweNytuEQdmGeVtZPZz3,0FmCLEHfINGqwlyzvklNqy,2iclfHORMqpR3TxuhwVRhD,6Bm6qUCSatPAqkQllFL7oA,5z7mYFfhw6N6f23VwrokJD,0yHConG49418wPs8UfAt44,2md2i5QvelRFnafpnd6LOg,2g2a5kDeZexbUTD8abcvm6,5dWfl2PBpKHpBVdz95wxK1,57Xjny5yNzAcsxnusKmAfA,5rb9QrpfcKFHM1EUbSIurX,2PpruBYCo4H7WOBJ7Q2EwM,3xl7PsO7Hzuig6To9FgDm6,228BxWXUYQPJrJYHDLOHkj,4hfIVhq0F0zFUcrbecsYmo,4nnHlGaBwJHb1rBetqj0Yl,2Ozc0me9PV5vlt8cokwdvI,7bZsx7Zif6FIhrcZrh0LVm,3sckKKIx96cjPXtiqPHCTB,0YGQ3hZcRLC5YX7o0hdmHg,0YUrjFy4qFKOO5NhM9tYdV,4XHQyvbrBsQaaBUW1VvmsL,2yr2HnFYl7XvqJk4fXoQBt,4dvQg9sD8k9y4qiEURuj8v,1xNcBAoUw8Hz6LqK2jt4Ff,3dFwpxh2yH7C7p9BGEKLVB,7uSsHbBFFAnkRQR1rDwP3L,2ndnVdR8si7CW9T8vJRHyW,4MeDnO5yA2Zi6IMlVApRci,3IrkbGQCoEPAkzJ0Tkv8nm,2EM9zpAc7PVeoAydmbfVIL,0cZDC7uxNK8lqQ3GgyvCnD,4Kd0FzFpOgIGxlBl4HXuFn,5NJhMbvK53XATYf7qHEqZL,6n8TMVyFKoUmDc4apxceRD,4L55p6txv9vuCWhpNnY6eY,6cR1U61DMpYbS2TtNTlSvo,0qcjuYtMWhBjXg0Xwt5SzS,2NBQmPrOEEjA8VbeWOQGxO,2o7V26rsF1ukcRI005S0LL,3CcvahnsiArpTHYQEWV2Au,3XTaaGGAL2gVVaAbu0yxQX,2tOZtdbkAMQASWokLvSlzj,4Vqd7MuPVrciqRS3EzhKWb,20I8RduZC2PWMWTDCZuuAN,0jSMveIWvnhDIvzqN74Uc7,1dHJETCn2X1R1YwVlMvSza,4s0o8TJHfX9LLHa0umnOzT,5g1vtHqi9uV7xtYeCcFOBx,4UzVcXufOhGUwF56HT7b8M,3vZfy3cXEYojq7BvSt87Of,3A4cpTBPaIQdtPFb5JxtaX,6nTiIhLmQ3FWhvrGafw2zj,5dxHF4lrDimKqnI3GaZUmC,4mmkhcEm1Ljy1U9nwtsxUo,2T8hXV9LUZMDBKR5RALGEa,6sqNctd7MlJoKDOxPVCAvU,1p5kC161fWMA2QlwV3Vi4W,3NLrRZoMF0Lx6zTlYqeIo4,5SkRLpaGtvYPhw02vZhQQ9,5y8WWi1BaKHXfuln0XoIZs,3rQjc4GGMcrtXwis7vBzaQ,312A8WfROSLvZbMDHBUPDp,6CN3e26iQSj1N5lomh0mfO,3JOVTQ5h8HGFnDdp4VT3MP,7yXibbAYi4to5oQTeO738f,6LGwYMXXgURfaequXipzHx,3LmvfNUQtglbTrydsdIqFU,1PS1QMdUqOal0ai3Gt7sDQ,4TsmezEQVSZNNPv5RJ65Ov,5D2mYZuzcgjpchVY1pmTPh,5GorCbAP4aL0EJ16frG2hd,1bqZ94bPrrHyIpYux7rVj7,3850dYVgOFIXJh5U4BFEWH,4nva9EpKntUTs6CRSGBCn9,4gXdMZkBN1neE9nX6yRALa,4kOTDj4SiZPkW1p96WMDNv,4bz7uB4edifWKJXSDxwHcs,6ndmKwWqMozN2tcZqzCX4K,69bHJ9qs5FrUJbKP8xU8uZ,7xYnUQigPoIDAMPVK79NEq,19JdbdEwQI7bCxefMokZO8,7i7UIbm5E0DD7aSOYvwp2v,7BKi4ZcyMBXeAvJ1OPxhdV,6EfyEbyk4XjCisJz90V8Ki,0rLzyBecRbTpnBWvMtPVFR,5sNESr6pQfIhL3krM8CtZn,2wGSgTmgSF3xjRrHkTc25R,0d28khcov6AiegSCpG5TuT,0reKGVcWLVvl1FzjZ6TACy,2nCmCt4B5vkabS0zeOuc1Z,0Ss50OU9tCozI7JIywkv14,561jH07mF1jHuk7KlaeF0s,5BSclXJTa9B0iURhUjZo50,4Hff1IjRbLGeLgFgxvHflk,07u02f6biDHx5VexfAs41b,2ajhenDRiiAnCHHjsIOHhJ,0UaMYEvWZi0ZqiDOoHU3YI,4faFAhOflLzhfJECveRwva,3B7i9OKRRmIsSBHEbJz58Y,34KUIBsIUiPV7oCIzSdDAU,3zdDxhDo5SycC7XSAPfdjv,4FTOpNYcGxnQdGNWSxIcio,0LzrhCZFXW94Y8nwtTuRlw,0lP4HYLmvowOKdsQ7CVkuq,7jLbTp3qZzah9kMIdW8e5M,470UOQDSTMTBEgkBaeqVN6,41PWz0hAiU9FqsmjR9Wh62,5Y78yINSOCW6xbOfGWNBg4,3jEqrIfwKO0M8ALu3TGilF,7IdfMBufDn3yf2JhS3a5w0,0AKAxdNkwq9ZxRdW1DN9zW,5qrzhg9Fmu8Amg2uMhHfe5,29EkMZmUNz1WsuzaMtVo1i,10NH6nFIKbx8Yee8cQ1gDn,1oNToERLIN71YCPLbRIQGQ,3fMoeGj4mDusrmYOOF60aC,6uYAPqxP69zfpCbsTHXgiz,4NjR63Up0uMkQBlKvlZd1l,7clUVcSOtkNWa58Gw5RfD4,5p9XWUdvbUzmPCukOmwoU3,3xrn9i8zhNZsTtcoWgQEAd,6fzcnVO0X2cpYjsHk19GJo,5lDriBxJd22IhOH9zTcFrV,7G6l2FtQyRhQgYgut2I6i8,3ZFTkvIE7kyPt6Nu3PEa7V,0k2GOhqsrxDTAbFFSdNJjT,0O45fw2L5vsWpdsOdXwNAR,6RX5iL93VZ5fKmyvNXvF1r,4wH4dJgrsxONID6KS2tDQM,0Qn0i8df7Q76ej3RAXAtI2,6yuvC80FcnVJNvC0DbXN9e,6btyEL6NwUa97Nex9cZFvo,2gam98EZKrF9XuOkU13ApN,6WoC2b3CCpyrDQJKkBQZn1,6k8uthjEbttfWXcGaNTQGD,3BxWKCI06eQ5Od8TY2JBeA,3rKCDtV8UcF0RytSiXxypc,0fGh0trRN1xz3s41r7V5ce,3lPr8ghNDBLc2uZovNyLs9,53ETzLQQKFCzykRbqWb1ph,7g7M96UGiA7OR79H86gV4m,6o3s08kk2fQI37vxGZDrJ1,4GIsskMpViPkt0uzPJTJSp,05Sgj1Hx03ZXc57gsV1kfX,4NeOWqHmlrGRuBvsLJC9rL,4Gd9PUEuOTOJtbgd4YxLXM,3YQjgTpUVNWvpYeb2mtTF7,7jRoWfRlLnGYEIEn4t4kbq,0JbZk8LQm3hCecAykIwAPn,423EcxblW9F4nnQkqcqMlK,1Ab6RxeKl3e07zP7Get7CX,0Eu5SrReZzaJX0NLKI8tQS,7M13FwBAKWNa2jqcZeUhL6,5loIRrZU3ez3r102qFzJI2,6Y3WvyUG9iE5bQYg38SPtQ,5YTSbfnyJRqul0H8kmamg3,13xxBnXOuiBxVxJI458B0i,2dxjKgT0li4qBI3QwuN9Ih,7cVmKBwzPsh4Fmb6SplfEm,663Karu2rvKLdnY0eo1n3M,5hF2LnbkpnXCkksMSeWcxZ,2JpUkUR0OsOlUUfm6iS8ic,1bPqAXwNiVcM6zjJU1Z4Cd,0tYPj0NYa7vjlJaqlRSnJb,2Fs18NaCDuluPG1DHGw1XG,2RWxrpsFshOBFwRBRstUlQ,4T4NLIMypdmyUwK54jECk4,0k6HUzaRHpQ3eEWr1C7Esh,0DMRKqrpd0QO4RWiEdMib0,4bVuIlGQBMWS7vIhcx8Ae4,10Nmj3JCNoMeBQ87uw5j8k,13pyGLYmBjYgvOMIEivX2K,6brl7bwOHmGFkNw3MBqssT,40LQiUUUKXVGyNs09lHVjW,4xlEKYv7HmC8zXoJIbpZKM,3ItzRpwvKtkDSNdRSjXu7Z,4bPQs0PHn4xbipzdPfn6du,6gxycjJNMgmAyfzUXBN80P,0qAMjeQFyd1qD0LDiV8gWp,3U5JVgI2x4rDyHGObzJfNf,28euH5Ny1JXxZAt2KjWp62,5fVZC9GiM4e8vu99W0Xf6J,4mnTMsp8Cgf9TNiQMhH11L,5wQnmLuC1W7ATsArWACrgW,7DFnq8FYhHMCylykf6ZCxA,2hns6Dv29Yrg68AVTJiAyA,7wZUrN8oemZfsEd1CGkbXE,2yPoXCs7BSIUrucMdK5PzV,6ic8OlLUNEATToEFU3xmaH,4AniPkv5vgdE1n6VKreiyI,6kopmMZiyLmw7h66uXcXR7,4RCWB3V8V0dignt99LZ8vH,3pD0f7hSJg2XdQ6udw5Tey,66ZcOcouenzZEnzTJvoFmH,2bLqfJjuC5syrsgDsZfGmn,2aI21FnmY7TJVKeMaoQZ0t,4LjfIjS8iweFCPdKxLnEoV,5TmFTHZp7HjBXjjsFvCY6h,2kQuhkFX7uSVepCD3h29g5,36Hwcla06Q5BCr59CL0sBp,06Vw2ZOhalTwEw4PhoGRSX,6WoC2b3CCpyrDQJKkBQZn1,0j2T0R9dR9qdJYsB7ciXhf,2HWWNoWEEEECwZhAiLg7ib,6ajyEEzWZbw8ycDcJAN099,0CXVjQI9wsqaGeIARkkpYc,66TRwr5uJwPt15mfFkzhbi,4JPCdSaqs9dJd7RatFSHww,1iOJQhxKSJ7dg3Dk03yPnl,4Tn2llBm1g0UlWctmgPL8Z,2a03afRiyAbNAleOByVju4,18lR4BzEs7e3qzc0KVkTpU,3wKKkGVn7cVSfgPeYYIiXG,1IYaMVfidzSfvCUZYXhsU1,28IEbk5a7twNTbUEvWslUb,0YkJU6TjjwzsVXUPRIO0DB,4eAwB5pnKFTmsgc3zWoYO0,5rTIpPWeO0IL4HWlGWrz5G,4KTtYhxFtFL7mBwnjkKfLm,0UFDKFqW2oGspYeYqo9wjA,7j31rVgGX9Q2blT92VBEA0,6x2xqg5fQNu9dNCXu83ezE,6CFPFnS9EcLs2I0nWqtWci,234RqTZmnDTnxWlVciXHLD,6PBAPjshd2JfEiWpdf3C2a,6BqWhxll86CGGE6WxgdRqG,1RGIjMFMgJxkZHMDXVYzOJ,68Zq7PMcPIQE8ol1x3gAqw,1D066zixBwqFYqBhKgdPzp,5qhlC4Rzals34zxovrPzKp,1zyqZONW985Cs4osz9wlsu,3Zwu2K0Qa5sT6teCCHPShP,5iyE2d4U3Vc5cqY9mPTlpy,0JJP0IS4w0fJx01EcrfkDe,30FURVTCpbKyykjSEQzGkH,0JfAMd3xTqm7ZYhBmQjYzt,5Yaw45Q7W0irDbTVN5LOVs,53SqGkNJAYLss9AgbduTqQ,1lHXlGlve5Zx8tXLhyjDwM,1oagRT7LfpVlNJN6FSZDGp,6SpLc7EXZIPpy0sVko0aoU,6DbqCKweKwVkHgRv1CI53D,7x8dCjCr0x6x2lXKujYD34,1JwIBogbuZ4Yfb6nssXWa2,3LGeYNY9aWQuBJovOOowqm,3RGyFugqjQjlL8XX0NW8dZ,4wzjNqjKAKDU82e8uMhzmr,7dzUZec5MnWMyQnk5klnKR,5lUTzPuiloBHm1qEaJcJfF,1hGy2eLcmC8eKx7qr1tOqx,1BV0m40U0M4t1SLIsDnwZl,0ZUo4YjG4saFnEJhdWp9Bt,0td1GfBHNxlGephozVmL9k,1tkMs9wDPknQ3ZHcKDw1ES,2elA6JLRaQ6iB7hxiuTKN4,6SmPPtaMnfxgz5duA6t9Cu,37pFLuNVnAJQL9ysRoKTdy,4liGjmhCupa7RP9JaQELYx,56Tl3UgyZTqfZtvFNS31wm,48yZwqAxCZk0t2ssDw2hzH,2aibwv5hGXSgw7Yru8IYTO,3QnEp4rluCxUwgpXT43jmC,0CAfXk7DXMnon4gLudAp7J,005lwxGU1tms6HGELIcUv9,3goSVuTt3fDYDP6kRnFwuL,26NX1wPt1TRCH536yocd6i,2VOomzT6VavJOGBeySqaMc,3aQz0z86zrKjd1mcZlonxE,52K4Nl7eVNqUpUeJeWJlwT,4P7VFiaZb3xrXoqGwZXC3J,5Nr1ZcH9PGTiQdGl9HCCS1,5TRPicyLGbAF2LGBFbHGvO,1oHClQEgDmmbcEx12Kc5nZ,1y4eb6hmAvsqlDOl3fx9kk,1wva1IlWLDNLgwipUWcmjy,1ARJhjuI6TNYZCxYygFQ4F,4fixebDZAVToLbUCuEloa2,0F2BxpbxH8Yc3pLub48hrb,3jlbL2OTD5YmIunYzgQTAN,6ScJMrlpiLfZUGtWp4QIVt,3MldzywZOH4Uci6bq9noyJ,2PTvik6EqPAIYOclAB3SU8,3XCezj8BPm1xGH3qS6SruW,6pTg4H8juKV9iSzrcVUbM3,0aeWFHCKwVoavQdpduyB1Q,3LN41NUdHkyNqQhi9gExMm,3tSuRiNgJmMqmYR23dCqnR,6AdLyvisRKHLAwARaZMGr6,1uigwk5hNV84zRd5YQQRTk,4iz9lGMjU1lXS51oPmUmTe,22UDw8rSfLbUsaAGTXQ4Z8,3pxCXv0NACYfYnLjFcQW5D,6tC2iHfUlzB2W4ntXXL2BH,4yHFxB8kzzeuNvoouR8N0N,0JiY190vktuhSGN6aqJdrt,1kxeWHF9PrCVZHvVskv8lg,3RDcUlLGp3SLp2AmUbUbls,1ixbwbeBi5ufN4noUKmW5a,0uybt73QFXaLCoxuVf6fhm,2aEuXA1KswHlCGPOuPmCOW,1C6eViOmSvwrXz9JTHYaOV,5Hv1QAbRWrUSUHaT0CmnMS,3wkNK8tJZ2stygNJm8RCRD,5liQj4sVRmEEESvvcb64o8,5j0McHPthKpOXRr3fBq8M0,45upEMiYeArj06RERttNFx,2xUjNGHjJOBcpTf7dYx4EY,1gt1fWqUZOUgT2kTArAw4E,0exb0K7vsjf5bXWLJJhAuF,0tp2cUnCAcsR6xL5kw9HKu,1IAzD1muglOxOcPbUHs70R,48s0QHJgmiNsth3WEO6U4M,33vzOPcd9FRirYGlCu32x4,5o4W6yWSJD9e9Ea8YC9WjF,1mea3bSkSGXuIRvnydlB5b,0ntQJM78wzOLVeCUAW7Y45,4ZPdLEztrlZqbJkgHNw54L,3nJjIYchBNkYm7B8XfJf5N,1ZqHjApl3pfzwjweTfMi0g,72by3Re4C3eVEBXvsUo0zV,2VEsmoek0sol9MnJFyoG9e,7dltD9eEX7X1zk8JJ9BS0e,56pHllZT7QOacB0bP56ofx,2iXBZ32Fz5VDCLeE0JIdX5,50xeLNGKmskmYUSINhqvfa,2H1047e0oMSj10dgp7p2VG,5R8dQOPq8haW94K7mgERlO,0uXO2GrNiIb1xHT9LUdxZE,3GpbwCm3YxiWDvy29Uo3vP,1vrd6UOGamcKNGnSHJQlSt,6Rb0ptOEjBjPPQUlQtQGbL,7jk7gqyEonmVVYahZN5zhW,0TcJ7QWpggdSg8t0fHThHm,2UREu1Y8CO4jXkbvqAtP7g,6wOYnPq1hPihRepcDClPUw,4EWCNWgDS8707fNSZ1oaA5,5FEXPoPnzueFJQCPRIrC3c,2x7MyWybabEz6Y6wvHuwGE,2hdy9Wt9qp7M7d0U3ossu2,13plQdOoWSSXPRUSZc5FuM,3IcIIZMMS7UArJJPtEHXG8,3opVsyWVYEAFK9bJAG8Opa,7Hqig8kp32q2Ire3ECQvWM,2igwFfvr1OAGX9SKDCPBwO,5XRHGXut00SrJUFmcn2lQF,4NpDZPwSXmL0cCTaJuVrCw,360ZhWvMnyXKYFG9Mqsm89,6Wx88Mv6b9ofjKMKkdwOJd,6TrNRd98WksT9Kkmx9uj6R,7LR85XLWw2yXqKBSI5brbG,0SiywuOBRcynK0uKGWdCnn,6ddQ5KCkvCggk3j6KdA0zL,7xdmTEHRbgQuLR8KpRLLnn,6ATrsVaZT7XjkCynxM8cTS,3R6dN42VdwivkZTMz03Rci,77FULy278MulVvGWS8BfK7,6WdV6QM8t87dPidhPzdRJW,2q4rjDy9WhaN3o9MvDbO21,4dK00wCxlqWEeN8BoM1BHT,5xeSDlt3eCxPsWKBhfUJTR,426vBhxw4upEf11BqBBgs0,5jzX4dWVQeBTtfBaXnMRt5,7Kpqjspw4Y7HrvItIRcBiW,0JYRNrTwUmeySRX37azvnH,1YaVmBh7EAeR54FIjuFcb5,0KlahhzNb98zyN83Vwae0l,6c0GmyBsE7mQtrVvxJaWc3,67T6l4q3zVjC5nZZPXByU8,7IhsLJMqdxoo7YAZjaSMru,2oENJa1T33GJ0w8dC167G4,5r5cp9IpziiIsR6b93vcnQ,7kMfu3KUydmrFVGEAhjtyl,4QJLKU75Rg4558f4LbDBRi,3kMrazSvILsgcwtidZd1Qd,4VqPOruhp5EdPBeR92t6lQ,06T10fEzN8ZCcqzQZYA184,2ZBNclC5wm4GtiWaeh0DMx,3RBGG1be9aBaSvjnw6ABkh,1NhPKVLsHhFUHIOZ32QnS2,4KAzYqfcijCSZa2P3etHoM,3QLjDkgLh9AOEHlhQtDuhs,5Q0Nhxo0l2bP3pNjpGJwV1,1Nme6K1PYAh7p7uygyuRdf,64yrDBpcdwEdNY9loyEGbX,58FUwmyGUqkt53YPUcm7cJ,3GCL1PydwsLodcpv0Ll1ch,0CwYG1UnRmOx8Q1EzElCIL,1akgiRM3mN2nxu2AX6ACCW,6fvxos1qSHrIgOkKw4dhWS,4Dm32oO01YpIubCHaAtKkN,6JnufVNLIO5F5Lk4sEVLeI,4IoYz8XqqdowINzfRrFnhi,7BqBn9nzAq8spo5e7cZ0dJ,15JINEqzVMv3SvJTAXAKED,2GYHyAoLWpkxLVa4oYTVko,0HPD5WQqrq7wPWR7P7Dw1i,4dTaAiV9xFFCxnPur9c9yL,2ENexcMEMsYk0rVJigVD3i,6KOEK6SeCEZOQkLj5M1PxH,0WCiI0ddWiu5F2kSHgfw5S,5ojIL91nfnWExoXSCkvJ9E,4DvhkX2ic4zWkQeWMwQ2qf,6FbGlkHKGkYqpSCuBgurn3,2DHc2e5bBn4UzY0ENVFrUl,2qugfmw9Hi27DyIo2gite4,1AguHaKOuggrVTebp7cZEI,0oJMv049q8hEkes9w0L1J4,7Ie9W94M7OjPoZVV216Xus,60jzFy6Nn4M0iD1d94oteF,2Q99zPXVqCPN5RaZawvJWZ,1hBM2D1ULT3aeKuddSwPsK,7vWFaMq63AwkFDhS2OAg5u,41KPpw0EZCytxNkmEMJVgr,6wN4nT2qy3MQc098yL3Eu9,4356Typ82hUiFAynbLYbPn,5vlEg2fT4cFWAqU5QptIpQ,6ebkx7Q5tTxrCxKq4GYj0Y,45O0tUN9Bh6LH4eNxQ07AT,03tqyYWC9Um2ZqU0ZN849H,61HQWI1Woxup7CnGwVUsdI,161DnLWsx1i3u1JT05lzqU,2V4bv1fNWfTcyRJKmej6Sj,2rDwdvBma1O1eLzo29p2cr,4AYX69oFP3UOS1CFmV9UfO,360UM2DaiHZPRu0EsrOvMp,7tSO7DrrYpiMXX3zM4b3oM (Caused by ResponseError('too many 502 error responses'))",
      "\nDuring handling of the above exception, another exception occurred:\n",
      "\u001b[1;31mSpotifyException\u001b[0m                          Traceback (most recent call last)",
      "\u001b[1;32mC:\\Users\\AKSHAY~1\\AppData\\Local\\Temp/ipykernel_10756/3552049149.py\u001b[0m in \u001b[0;36m<module>\u001b[1;34m\u001b[0m\n\u001b[1;32m----> 1\u001b[1;33m \u001b[0mnot_hot1_audio_feat\u001b[0m \u001b[1;33m=\u001b[0m \u001b[0mget_audio_features\u001b[0m\u001b[1;33m(\u001b[0m\u001b[0mnot_hot1\u001b[0m\u001b[1;33m)\u001b[0m\u001b[1;33m\u001b[0m\u001b[1;33m\u001b[0m\u001b[0m\n\u001b[0m\u001b[0;32m      2\u001b[0m \u001b[0mnot_hot1_audio_feat\u001b[0m\u001b[1;33m.\u001b[0m\u001b[0mhead\u001b[0m\u001b[1;33m(\u001b[0m\u001b[1;33m)\u001b[0m\u001b[1;33m\u001b[0m\u001b[1;33m\u001b[0m\u001b[0m\n",
      "\u001b[1;32mC:\\Users\\AKSHAY~1\\AppData\\Local\\Temp/ipykernel_10756/635639810.py\u001b[0m in \u001b[0;36mget_audio_features\u001b[1;34m(df_input)\u001b[0m\n\u001b[0;32m     10\u001b[0m                   'analysis_url': [],'duration_ms': [],'time_signature': []}\n\u001b[0;32m     11\u001b[0m     \u001b[1;32mfor\u001b[0m \u001b[0mi\u001b[0m \u001b[1;32min\u001b[0m \u001b[0mrange\u001b[0m\u001b[1;33m(\u001b[0m\u001b[0mlen\u001b[0m\u001b[1;33m(\u001b[0m\u001b[0mlist_of_songs\u001b[0m\u001b[1;33m)\u001b[0m\u001b[1;33m)\u001b[0m \u001b[1;33m:\u001b[0m\u001b[1;33m\u001b[0m\u001b[1;33m\u001b[0m\u001b[0m\n\u001b[1;32m---> 12\u001b[1;33m         \u001b[0maudio_features_dict\u001b[0m \u001b[1;33m=\u001b[0m \u001b[0msp\u001b[0m\u001b[1;33m.\u001b[0m\u001b[0maudio_features\u001b[0m\u001b[1;33m(\u001b[0m\u001b[0mlist_of_songs\u001b[0m\u001b[1;33m)\u001b[0m\u001b[1;33m[\u001b[0m\u001b[0mi\u001b[0m\u001b[1;33m]\u001b[0m\u001b[1;33m\u001b[0m\u001b[1;33m\u001b[0m\u001b[0m\n\u001b[0m\u001b[0;32m     13\u001b[0m         \u001b[0maudio_features_final\u001b[0m \u001b[1;33m=\u001b[0m \u001b[1;33m{\u001b[0m\u001b[0mkey\u001b[0m \u001b[1;33m:\u001b[0m \u001b[1;33m[\u001b[0m\u001b[0maudio_features_dict\u001b[0m\u001b[1;33m[\u001b[0m\u001b[0mkey\u001b[0m\u001b[1;33m]\u001b[0m\u001b[1;33m]\u001b[0m \u001b[1;32mfor\u001b[0m \u001b[0mkey\u001b[0m \u001b[1;32min\u001b[0m \u001b[0mlist\u001b[0m\u001b[1;33m(\u001b[0m\u001b[0maudio_features_dict\u001b[0m\u001b[1;33m.\u001b[0m\u001b[0mkeys\u001b[0m\u001b[1;33m(\u001b[0m\u001b[1;33m)\u001b[0m\u001b[1;33m)\u001b[0m\u001b[1;33m}\u001b[0m\u001b[1;33m\u001b[0m\u001b[1;33m\u001b[0m\u001b[0m\n\u001b[0;32m     14\u001b[0m         \u001b[1;32mfor\u001b[0m \u001b[0mkey\u001b[0m \u001b[1;32min\u001b[0m \u001b[0mempty_dict\u001b[0m \u001b[1;33m:\u001b[0m\u001b[1;33m\u001b[0m\u001b[1;33m\u001b[0m\u001b[0m\n",
      "\u001b[1;32mm:\\Users\\Akshaykumar\\anaconda3\\lib\\site-packages\\spotipy\\client.py\u001b[0m in \u001b[0;36maudio_features\u001b[1;34m(self, tracks)\u001b[0m\n\u001b[0;32m   1681\u001b[0m         \u001b[1;32melse\u001b[0m\u001b[1;33m:\u001b[0m\u001b[1;33m\u001b[0m\u001b[1;33m\u001b[0m\u001b[0m\n\u001b[0;32m   1682\u001b[0m             \u001b[0mtlist\u001b[0m \u001b[1;33m=\u001b[0m \u001b[1;33m[\u001b[0m\u001b[0mself\u001b[0m\u001b[1;33m.\u001b[0m\u001b[0m_get_id\u001b[0m\u001b[1;33m(\u001b[0m\u001b[1;34m\"track\"\u001b[0m\u001b[1;33m,\u001b[0m \u001b[0mt\u001b[0m\u001b[1;33m)\u001b[0m \u001b[1;32mfor\u001b[0m \u001b[0mt\u001b[0m \u001b[1;32min\u001b[0m \u001b[0mtracks\u001b[0m\u001b[1;33m]\u001b[0m\u001b[1;33m\u001b[0m\u001b[1;33m\u001b[0m\u001b[0m\n\u001b[1;32m-> 1683\u001b[1;33m             \u001b[0mresults\u001b[0m \u001b[1;33m=\u001b[0m \u001b[0mself\u001b[0m\u001b[1;33m.\u001b[0m\u001b[0m_get\u001b[0m\u001b[1;33m(\u001b[0m\u001b[1;34m\"audio-features/?ids=\"\u001b[0m \u001b[1;33m+\u001b[0m \u001b[1;34m\",\"\u001b[0m\u001b[1;33m.\u001b[0m\u001b[0mjoin\u001b[0m\u001b[1;33m(\u001b[0m\u001b[0mtlist\u001b[0m\u001b[1;33m)\u001b[0m\u001b[1;33m)\u001b[0m\u001b[1;33m\u001b[0m\u001b[1;33m\u001b[0m\u001b[0m\n\u001b[0m\u001b[0;32m   1684\u001b[0m         \u001b[1;31m# the response has changed, look for the new style first, and if\u001b[0m\u001b[1;33m\u001b[0m\u001b[1;33m\u001b[0m\u001b[0m\n\u001b[0;32m   1685\u001b[0m         \u001b[1;31m# its not there, fallback on the old style\u001b[0m\u001b[1;33m\u001b[0m\u001b[1;33m\u001b[0m\u001b[0m\n",
      "\u001b[1;32mm:\\Users\\Akshaykumar\\anaconda3\\lib\\site-packages\\spotipy\\client.py\u001b[0m in \u001b[0;36m_get\u001b[1;34m(self, url, args, payload, **kwargs)\u001b[0m\n\u001b[0;32m    295\u001b[0m             \u001b[0mkwargs\u001b[0m\u001b[1;33m.\u001b[0m\u001b[0mupdate\u001b[0m\u001b[1;33m(\u001b[0m\u001b[0margs\u001b[0m\u001b[1;33m)\u001b[0m\u001b[1;33m\u001b[0m\u001b[1;33m\u001b[0m\u001b[0m\n\u001b[0;32m    296\u001b[0m \u001b[1;33m\u001b[0m\u001b[0m\n\u001b[1;32m--> 297\u001b[1;33m         \u001b[1;32mreturn\u001b[0m \u001b[0mself\u001b[0m\u001b[1;33m.\u001b[0m\u001b[0m_internal_call\u001b[0m\u001b[1;33m(\u001b[0m\u001b[1;34m\"GET\"\u001b[0m\u001b[1;33m,\u001b[0m \u001b[0murl\u001b[0m\u001b[1;33m,\u001b[0m \u001b[0mpayload\u001b[0m\u001b[1;33m,\u001b[0m \u001b[0mkwargs\u001b[0m\u001b[1;33m)\u001b[0m\u001b[1;33m\u001b[0m\u001b[1;33m\u001b[0m\u001b[0m\n\u001b[0m\u001b[0;32m    298\u001b[0m \u001b[1;33m\u001b[0m\u001b[0m\n\u001b[0;32m    299\u001b[0m     \u001b[1;32mdef\u001b[0m \u001b[0m_post\u001b[0m\u001b[1;33m(\u001b[0m\u001b[0mself\u001b[0m\u001b[1;33m,\u001b[0m \u001b[0murl\u001b[0m\u001b[1;33m,\u001b[0m \u001b[0margs\u001b[0m\u001b[1;33m=\u001b[0m\u001b[1;32mNone\u001b[0m\u001b[1;33m,\u001b[0m \u001b[0mpayload\u001b[0m\u001b[1;33m=\u001b[0m\u001b[1;32mNone\u001b[0m\u001b[1;33m,\u001b[0m \u001b[1;33m**\u001b[0m\u001b[0mkwargs\u001b[0m\u001b[1;33m)\u001b[0m\u001b[1;33m:\u001b[0m\u001b[1;33m\u001b[0m\u001b[1;33m\u001b[0m\u001b[0m\n",
      "\u001b[1;32mm:\\Users\\Akshaykumar\\anaconda3\\lib\\site-packages\\spotipy\\client.py\u001b[0m in \u001b[0;36m_internal_call\u001b[1;34m(self, method, url, payload, params)\u001b[0m\n\u001b[0;32m    279\u001b[0m             \u001b[1;32mexcept\u001b[0m \u001b[1;33m(\u001b[0m\u001b[0mIndexError\u001b[0m\u001b[1;33m,\u001b[0m \u001b[0mAttributeError\u001b[0m\u001b[1;33m)\u001b[0m\u001b[1;33m:\u001b[0m\u001b[1;33m\u001b[0m\u001b[1;33m\u001b[0m\u001b[0m\n\u001b[0;32m    280\u001b[0m                 \u001b[0mreason\u001b[0m \u001b[1;33m=\u001b[0m \u001b[1;32mNone\u001b[0m\u001b[1;33m\u001b[0m\u001b[1;33m\u001b[0m\u001b[0m\n\u001b[1;32m--> 281\u001b[1;33m             raise SpotifyException(\n\u001b[0m\u001b[0;32m    282\u001b[0m                 \u001b[1;36m429\u001b[0m\u001b[1;33m,\u001b[0m\u001b[1;33m\u001b[0m\u001b[1;33m\u001b[0m\u001b[0m\n\u001b[0;32m    283\u001b[0m                 \u001b[1;33m-\u001b[0m\u001b[1;36m1\u001b[0m\u001b[1;33m,\u001b[0m\u001b[1;33m\u001b[0m\u001b[1;33m\u001b[0m\u001b[0m\n",
      "\u001b[1;31mSpotifyException\u001b[0m: http status: 429, code:-1 - /v1/audio-features/?ids=6naxalmIoLFWR0siv8dnQQ,2m1hi0nfMR9vdGC8UcrnwU,0v1XpBHnsbkCn7iJ9Ucr1l,62bOmKYxYg7dhrC6gH9vFn,5Mmk2ii6laakqfeCT7OnVD,3yfqSUWxFvZELEM4PmlwIR,7H6ev70Weq6DdpZyyTmUXk,49X0LAl6faAusYq02PRAY6,3cqZlRpC4lOnxUE7HE3N5k,2xaFtNhCw5Q4hn1EKsrkLv,79EAVfOpzgfHx3IE2BVFQv,0pMUR7Uvp6vxlbG0qBFvgM,4LwU4Vp6od3Sb08CsP99GC,60a0Rd6pjrkxjPbaKzXjfq,7GHKA8GIMcND6c5nN1sFnD,4Y8q64VnhD0vFYy9g2WFpi,2avKuMN2QXkaG9vvHa2JLt,6Sy9BUbgFse0n0LPA5lwy5,0LWkaEyQRkF0XAms8Bg1fC,4l1MNtoCiTxBwf6yxD7kFd,0AcLrSfAEBQcUnHOTm5pXg,0JcgDliDqDac8iOFFRm7tZ,7m97yKVzPpXV9Z4ezEziOD,5S0cvScXb33JVpjTiY9Ivi,7f1Dmr246cJ9uQYdbplTbh,5jZfGxZDayFA1HzYmyOG3a,7iXF2W9vKmDoGAhlHdpyIa,7mYvtEeBdMqRSyj1Qpv6my,3BsaRV5QIulYz2lV9WWa8T,1rj0XawWJNisX7SGYexowJ,1ak0S3NhwWrUgNlQhJ1412,7JKEA8xYDoFp4q0QBW2PGg,1NNDZc9BHaWe9JqIsPRlNV,1uPrIHgYztXSkkcts9jet8,3w8Mw9GHYepoTWOSdiyosj,0s46SltT4On0Z6kglK1I5c,1RS3LStQYhju50eBdD9Uul,1H5tvpoApNDxvxDexoaAUo,5PMKzsUsTpZZGsCcJBuhP2,0HNXnhNZZtRZFLhP4hfyCP,0Ac0Ge47UpkVceZyPin7IP,0UzsDmdpw0Q14KU4hieQss,4Do68W4FWO2hRAJCzG1lus,64BbK9SFKH2jk86U3dGj2P,0gPQTLaqHDgdupKEok7J2x,3XKIUb7HzIF1Vu9usunMzc,6iiaDMXr1eqnSEH9W4DLYC,1vlTMKVV0FxG6CxGTmSY3t,5s4catxeZsaWFnOrvrXZHf,6ZOBP3NvffbU4SZcrnt1k6,1jRzdY7oUBOhrylNtiMtBD,1sjrDQXqAa9V07FjKIlAQ4,2uZwyxrg6VPvlVsvclIfel,2oncAh9o85pq1aswacLqAz,69XUpOpjzDKcfdxqZebGiI,2AW37v0bDyuOzGP3XnmFuA,7BgUcOjSOlKJXASLgJ6bx1,2dwhMQsFeHr2S787WxqAqW,35o9a4iAfLl5jRmqMX9c1D,0eKyHwckh9vQb8ncZ2DXCs,5OQGeJ1ceykovrykZsGhqL,25FTMokYEbEWHEdss5JLZS,7A0apkTSTvMbSI7yplcmlh,3wMUvT6eIw2L5cZFG1yH9j,3WkibOpDF7cQ5xntM1epyf,3UmaczJpikHgJFyBTAJVoz,7GQqj9jRtDkMp8zByehXQI,2lnzGkdtDj5mtlcOW2yRtG,2hKdd3qO7cWr2Jo0Bcs0MA,4zYTZvtcww7OWKie7fxA9E,0jG92AlXau21qgCQRxGLic,3aw9iWUQ3VrPQltgwvN9Xu,7reoZz80hQYuWtEn0Lsd0p,3IV4swNduIRunHREK80owz,0OSAJEA0ekX6pr2nuiPzX7,769geiA8btidGHda4BBDOJ,1Lhwn4PqeGpM4LTVUowW76,3RmKpob8xzv1pzHEQrMJah,0gmbgwZ8iqyMPmXefof8Yf,0I3q5fE6wg7LIfHGngUTnV,7MLPGQfmCkHpqfAib42qby,7FWuzwapuKHTEyDJIcQOw3,0UrWr7Jnu1heq1o99ZwUd0,6zsk6uF3MxfIeHPlubKBvR,45cVyfWuMAg8RNxmkcpmy9,0oHLi9gb4Gd97OuN6ckMk8,7yMiX7n9SBvadzox8T5jzT,7nWsh14AHpnTzq1Xejz90U,1fgvJXlcZ7uIddMpqsqw0L,2SLZ2rX5773RS16mcqBxG7,595JwfRS0iFbdZyhlBxokI,6j8nh1kHwezw8pkC2eU87F,5z6xHjCZr7a7AIcy8sPBKy,6IFOw9Ck9mWHRQgw6QrPYx,5IweeQZdY5XEzStLzUJG5t,3qzcM6SmbzBnGXSJe6hYdy,5mNV8Mz59bzyuQ53gTw0c0,0rRboI6IRuGx56Dq3UdYY4,4UfupbARPxljVkBmuZlJnY,0tWdRXWDUd1gWLthXgk6Dp,6FLwmdmW77N1Pxb1aWsZmO,61fUmn6wYvU7qS62wNvQFN,41nT1Sp6ChR65FbsdLlFHW,2B1jt2a6zdN4qLiugoEJry,0xikWgPgYN9BEes0ieZ8Co,747tpec1a0Hfqvj2za1pBs,1Jlt67b4oOhCoFW9GQwL9T,16MJqq0vEuW6GRX6faetTm,4Mnw05kNd0j1XDHwtfzofp,5S9810AEDRnVQovixcU2h4,4cNhx6OO1XpvwT6xZnb83B,3Gf5nttwcX9aaSQXRWidEZ,4h5KBcltGefua73AUPYps7,0HKD13PLq2WicViBBhSrOl,1Sm3U3B5XoidYQEZQZrh3i,25CMmGsl22APKhfuj4Tp7j,5zn1hpm9N0ylKB7kOtpCw2,0Uyh92tLyb9JawG8lmWCzJ,0wqOReZDnrefefEsrIGeR4,0ARK753YaiJbpLUk7z5yIM,7lQ8MOhq6IN2w8EYcFNSUk,5xEM5hIgJ1jjgcEBfpkt2F,4w1lzcaoZ1IC2K5TwjalRP,5QpaGzWp0hwB5faV8dkbAz,15f8Cv8RXUlOOCIf2oaceN,6fR6Z0Vc1K6yQWNUIKjAIR,36jSIOSE72neBbKntCthqw,0YImOCkIJ2PWhCXaURCZnY,4xkOaSrkexMciUUogZKVTS,6Wt5QBzHp9vdSLAFlvdnDQ,0IspqeDVLIw46spUMhOKRL,7DUpuAzGUyJaJB3p9BC3Ms,6UEfyhyfhYQsyipxOd95Ie,0qvlhVNm7L5IWabWF5hlEL,779ooI3rBd0CLqCiiJmtVo,5p0KCAuu5nrHpTuAIhHdLw,3GhuNU58hVUuzKY7LHmFRB,0pLmfgIANOX9FB9uZDU43x,4SnTf4ixVZCfQtxHNhky0T,5fkDD7aQLUmMy1EwzNm0ZB,2zhGnnDewN4kBsVzbqjBtX,0WgLpgUdThEpA5L5K0SKq7,1Q9b6CeMcDuO0uq5OJCrqu,5r29mFrurlVBbqJzjr2XW6,5Y0E3dOeynKuLDAXu0t0Bg,04KTF78FFg8sOHC1BADqbY,59ZTxQo8rBycIXPLUIKvE2,2mKouqwAIdQnMP43zxR89r,6AfLmKXzhEZjwiVPs5jhdV,3oXNIpoUMdk8qGkwCeXqGv,3SCVtAJq8li6HlKfM4M08u,21iEEekDSvQjVARSQ4dpXY,7lVNTXkI3cHFvcXiI8damb,14PbhGTCaHCXDvZzfTWumU,1F1XjwRzMh8KT2BvH6ISkG,6XK173kEu52iupeIqOnp41,2iWyrSHvs6qhFzfpiLAK0z,02jcEwywffn3Tsb48fXmlW,1NRorokmYEtr1koWybvaE4,3jagJCUbdqhDSPuxP8cAqF,563vSy3HB5NHxel1VGQCW6,2VSbEXqs6NbNiZSTcHlIDR,4hrae8atte6cRlSC9a7VCO,6zMUIb4uce1CzpbjR3vMdN,00Mb3DuaIH1kjrwOku9CGU,4gdQ8QShlC3toP9Mkc8DwB,1f2V8U1BiWaC9aJWmpOARe,4rr0gWiMrF4sOIefs3IEvZ,1QhSB9L9M5eZQhW4RNOhXK,2LVxvGhl2U5p2ql2ujc6vZ,5PCJldueshnwqQVjS16543,0eFklulxFnNCypNSrywzSB,4KqTGPPmXowMPEoShSVOta,16DhvbuyvJob4Q9GHNYu2n,4SyadrABZJIjeND1HPJS31,4IEOKcFZGMiKp5NXYjH001,5dpAN1mjFPL38kh9kWsCiw,0kr6d8wHDQPlzuET33NVn6,6lSr3iZTC144PKhvbPFzMp,074v54tSEWLbq3Hu5wf6uh,4RY96Asd9IefaL3X4LOLZ8,5Z01UMMf7V1o0MzF86s6WJ,5IVuqXILoxVWvWEPm82Jxr,4O4dhPrjcw7GSLNafNydmb,0xmjwnQ3FNE6HuWCt2nHdZ,4ZOyH6KjomjlqCz3oFqglr,4bJygwUKrRgq1stlNXcgMg,1n7omixiROWs5q6xpWiQuL,6dK1HEHZcQlh24bSU7pTaZ,3stnrhzN0lzZFskbaZ5sEw,5ljCWsDlSyJ41kwqym2ORw,2D1hlMwWWXpkc3CZJ5U351,4Yf5bqU3NK4kNOypcrLYwU,4O9ICXbrUTAVR5kkx6xANJ,0COqiPhxzoWICwFCS4eZcp,2icpXUdhbKPNXRJD7lPmXX,23ehR4jpFQFMfDADgFdXR7,0M955bMOoilikPXwKLYpoi,0r2Bul2NuCViraT2zX1l5j,6FTJuZtQZvmPPRFmrcno9J,7mS8RbJji2UZAaguRGsOCH,1AWQoqb9bSvzTjaLralEkT,3dPQuX8Gs42Y7b454ybpMR,5TpaWJKnuyA4MjzAbFXSTQ,4WY3HyGXsWqjFRCVD6gnTe,0aULRU35N9kTj6O1xMULRR,7qPiLAs9I8cqUv1BCnmlHN,1AEYT6VxrxXPMoQUxsY0E4,1AjQE5MtP5jHQMyDepbvLI,25Mn17RDbdJHiKL5SEhLnL,1lKS7SZQ7r5vOChLwJurmm,2jGUAB6hKlzK0pZmZpQ02g,0RilVXCOQf4AD6a4uTTs7d,6rpNe6gSkmiYW6BfSFATi5,0iFOG4Ki9aDmJUYUFHQlPG,0l3GEbH3CviUytD6iX4wzg,2BeoIEbdG1kOWYKQhNl4dX,3CZlTOyNnKVMb021IYEY6r,3Gamc2D6VSlXpUcmhPUFYt,41bIQPBE1lFN0mmw6Lmssz,7kAFSrTIOiVZ0gnHBuAH3l,75DjPjiIp2fvJDjtt41Jfs,71NJqORRmwlcZSLk0VsFjU,2fE4MbwX3QGMzNaMjGVhtw,5ojJNnX5ND2gMGojPd3NiO,2VHfyWLlvCvbkIqtS5tqt3,0O5oSZuSSQhLanMLMmQrRd,3OUApyz3jDB3syGUNGqB1d,7Lf7oSEVdzZqTA0kEDSlS5,6pWzCKTrKrwbUPzY8RLCoP,4jacsL77ZYnpInmTtUBaJW,3YuaBvuZqcwN3CEAyyoaei,3OQu3z3okKVmWxSXTTHak5,3kgutGd839IOYRl6ekeq6V,3adnLFXKO5rC1lhUNSeg3N,6HxweNytuEQdmGeVtZPZz3,0FmCLEHfINGqwlyzvklNqy,2iclfHORMqpR3TxuhwVRhD,6Bm6qUCSatPAqkQllFL7oA,5z7mYFfhw6N6f23VwrokJD,0yHConG49418wPs8UfAt44,2md2i5QvelRFnafpnd6LOg,2g2a5kDeZexbUTD8abcvm6,5dWfl2PBpKHpBVdz95wxK1,57Xjny5yNzAcsxnusKmAfA,5rb9QrpfcKFHM1EUbSIurX,2PpruBYCo4H7WOBJ7Q2EwM,3xl7PsO7Hzuig6To9FgDm6,228BxWXUYQPJrJYHDLOHkj,4hfIVhq0F0zFUcrbecsYmo,4nnHlGaBwJHb1rBetqj0Yl,2Ozc0me9PV5vlt8cokwdvI,7bZsx7Zif6FIhrcZrh0LVm,3sckKKIx96cjPXtiqPHCTB,0YGQ3hZcRLC5YX7o0hdmHg,0YUrjFy4qFKOO5NhM9tYdV,4XHQyvbrBsQaaBUW1VvmsL,2yr2HnFYl7XvqJk4fXoQBt,4dvQg9sD8k9y4qiEURuj8v,1xNcBAoUw8Hz6LqK2jt4Ff,3dFwpxh2yH7C7p9BGEKLVB,7uSsHbBFFAnkRQR1rDwP3L,2ndnVdR8si7CW9T8vJRHyW,4MeDnO5yA2Zi6IMlVApRci,3IrkbGQCoEPAkzJ0Tkv8nm,2EM9zpAc7PVeoAydmbfVIL,0cZDC7uxNK8lqQ3GgyvCnD,4Kd0FzFpOgIGxlBl4HXuFn,5NJhMbvK53XATYf7qHEqZL,6n8TMVyFKoUmDc4apxceRD,4L55p6txv9vuCWhpNnY6eY,6cR1U61DMpYbS2TtNTlSvo,0qcjuYtMWhBjXg0Xwt5SzS,2NBQmPrOEEjA8VbeWOQGxO,2o7V26rsF1ukcRI005S0LL,3CcvahnsiArpTHYQEWV2Au,3XTaaGGAL2gVVaAbu0yxQX,2tOZtdbkAMQASWokLvSlzj,4Vqd7MuPVrciqRS3EzhKWb,20I8RduZC2PWMWTDCZuuAN,0jSMveIWvnhDIvzqN74Uc7,1dHJETCn2X1R1YwVlMvSza,4s0o8TJHfX9LLHa0umnOzT,5g1vtHqi9uV7xtYeCcFOBx,4UzVcXufOhGUwF56HT7b8M,3vZfy3cXEYojq7BvSt87Of,3A4cpTBPaIQdtPFb5JxtaX,6nTiIhLmQ3FWhvrGafw2zj,5dxHF4lrDimKqnI3GaZUmC,4mmkhcEm1Ljy1U9nwtsxUo,2T8hXV9LUZMDBKR5RALGEa,6sqNctd7MlJoKDOxPVCAvU,1p5kC161fWMA2QlwV3Vi4W,3NLrRZoMF0Lx6zTlYqeIo4,5SkRLpaGtvYPhw02vZhQQ9,5y8WWi1BaKHXfuln0XoIZs,3rQjc4GGMcrtXwis7vBzaQ,312A8WfROSLvZbMDHBUPDp,6CN3e26iQSj1N5lomh0mfO,3JOVTQ5h8HGFnDdp4VT3MP,7yXibbAYi4to5oQTeO738f,6LGwYMXXgURfaequXipzHx,3LmvfNUQtglbTrydsdIqFU,1PS1QMdUqOal0ai3Gt7sDQ,4TsmezEQVSZNNPv5RJ65Ov,5D2mYZuzcgjpchVY1pmTPh,5GorCbAP4aL0EJ16frG2hd,1bqZ94bPrrHyIpYux7rVj7,3850dYVgOFIXJh5U4BFEWH,4nva9EpKntUTs6CRSGBCn9,4gXdMZkBN1neE9nX6yRALa,4kOTDj4SiZPkW1p96WMDNv,4bz7uB4edifWKJXSDxwHcs,6ndmKwWqMozN2tcZqzCX4K,69bHJ9qs5FrUJbKP8xU8uZ,7xYnUQigPoIDAMPVK79NEq,19JdbdEwQI7bCxefMokZO8,7i7UIbm5E0DD7aSOYvwp2v,7BKi4ZcyMBXeAvJ1OPxhdV,6EfyEbyk4XjCisJz90V8Ki,0rLzyBecRbTpnBWvMtPVFR,5sNESr6pQfIhL3krM8CtZn,2wGSgTmgSF3xjRrHkTc25R,0d28khcov6AiegSCpG5TuT,0reKGVcWLVvl1FzjZ6TACy,2nCmCt4B5vkabS0zeOuc1Z,0Ss50OU9tCozI7JIywkv14,561jH07mF1jHuk7KlaeF0s,5BSclXJTa9B0iURhUjZo50,4Hff1IjRbLGeLgFgxvHflk,07u02f6biDHx5VexfAs41b,2ajhenDRiiAnCHHjsIOHhJ,0UaMYEvWZi0ZqiDOoHU3YI,4faFAhOflLzhfJECveRwva,3B7i9OKRRmIsSBHEbJz58Y,34KUIBsIUiPV7oCIzSdDAU,3zdDxhDo5SycC7XSAPfdjv,4FTOpNYcGxnQdGNWSxIcio,0LzrhCZFXW94Y8nwtTuRlw,0lP4HYLmvowOKdsQ7CVkuq,7jLbTp3qZzah9kMIdW8e5M,470UOQDSTMTBEgkBaeqVN6,41PWz0hAiU9FqsmjR9Wh62,5Y78yINSOCW6xbOfGWNBg4,3jEqrIfwKO0M8ALu3TGilF,7IdfMBufDn3yf2JhS3a5w0,0AKAxdNkwq9ZxRdW1DN9zW,5qrzhg9Fmu8Amg2uMhHfe5,29EkMZmUNz1WsuzaMtVo1i,10NH6nFIKbx8Yee8cQ1gDn,1oNToERLIN71YCPLbRIQGQ,3fMoeGj4mDusrmYOOF60aC,6uYAPqxP69zfpCbsTHXgiz,4NjR63Up0uMkQBlKvlZd1l,7clUVcSOtkNWa58Gw5RfD4,5p9XWUdvbUzmPCukOmwoU3,3xrn9i8zhNZsTtcoWgQEAd,6fzcnVO0X2cpYjsHk19GJo,5lDriBxJd22IhOH9zTcFrV,7G6l2FtQyRhQgYgut2I6i8,3ZFTkvIE7kyPt6Nu3PEa7V,0k2GOhqsrxDTAbFFSdNJjT,0O45fw2L5vsWpdsOdXwNAR,6RX5iL93VZ5fKmyvNXvF1r,4wH4dJgrsxONID6KS2tDQM,0Qn0i8df7Q76ej3RAXAtI2,6yuvC80FcnVJNvC0DbXN9e,6btyEL6NwUa97Nex9cZFvo,2gam98EZKrF9XuOkU13ApN,6WoC2b3CCpyrDQJKkBQZn1,6k8uthjEbttfWXcGaNTQGD,3BxWKCI06eQ5Od8TY2JBeA,3rKCDtV8UcF0RytSiXxypc,0fGh0trRN1xz3s41r7V5ce,3lPr8ghNDBLc2uZovNyLs9,53ETzLQQKFCzykRbqWb1ph,7g7M96UGiA7OR79H86gV4m,6o3s08kk2fQI37vxGZDrJ1,4GIsskMpViPkt0uzPJTJSp,05Sgj1Hx03ZXc57gsV1kfX,4NeOWqHmlrGRuBvsLJC9rL,4Gd9PUEuOTOJtbgd4YxLXM,3YQjgTpUVNWvpYeb2mtTF7,7jRoWfRlLnGYEIEn4t4kbq,0JbZk8LQm3hCecAykIwAPn,423EcxblW9F4nnQkqcqMlK,1Ab6RxeKl3e07zP7Get7CX,0Eu5SrReZzaJX0NLKI8tQS,7M13FwBAKWNa2jqcZeUhL6,5loIRrZU3ez3r102qFzJI2,6Y3WvyUG9iE5bQYg38SPtQ,5YTSbfnyJRqul0H8kmamg3,13xxBnXOuiBxVxJI458B0i,2dxjKgT0li4qBI3QwuN9Ih,7cVmKBwzPsh4Fmb6SplfEm,663Karu2rvKLdnY0eo1n3M,5hF2LnbkpnXCkksMSeWcxZ,2JpUkUR0OsOlUUfm6iS8ic,1bPqAXwNiVcM6zjJU1Z4Cd,0tYPj0NYa7vjlJaqlRSnJb,2Fs18NaCDuluPG1DHGw1XG,2RWxrpsFshOBFwRBRstUlQ,4T4NLIMypdmyUwK54jECk4,0k6HUzaRHpQ3eEWr1C7Esh,0DMRKqrpd0QO4RWiEdMib0,4bVuIlGQBMWS7vIhcx8Ae4,10Nmj3JCNoMeBQ87uw5j8k,13pyGLYmBjYgvOMIEivX2K,6brl7bwOHmGFkNw3MBqssT,40LQiUUUKXVGyNs09lHVjW,4xlEKYv7HmC8zXoJIbpZKM,3ItzRpwvKtkDSNdRSjXu7Z,4bPQs0PHn4xbipzdPfn6du,6gxycjJNMgmAyfzUXBN80P,0qAMjeQFyd1qD0LDiV8gWp,3U5JVgI2x4rDyHGObzJfNf,28euH5Ny1JXxZAt2KjWp62,5fVZC9GiM4e8vu99W0Xf6J,4mnTMsp8Cgf9TNiQMhH11L,5wQnmLuC1W7ATsArWACrgW,7DFnq8FYhHMCylykf6ZCxA,2hns6Dv29Yrg68AVTJiAyA,7wZUrN8oemZfsEd1CGkbXE,2yPoXCs7BSIUrucMdK5PzV,6ic8OlLUNEATToEFU3xmaH,4AniPkv5vgdE1n6VKreiyI,6kopmMZiyLmw7h66uXcXR7,4RCWB3V8V0dignt99LZ8vH,3pD0f7hSJg2XdQ6udw5Tey,66ZcOcouenzZEnzTJvoFmH,2bLqfJjuC5syrsgDsZfGmn,2aI21FnmY7TJVKeMaoQZ0t,4LjfIjS8iweFCPdKxLnEoV,5TmFTHZp7HjBXjjsFvCY6h,2kQuhkFX7uSVepCD3h29g5,36Hwcla06Q5BCr59CL0sBp,06Vw2ZOhalTwEw4PhoGRSX,6WoC2b3CCpyrDQJKkBQZn1,0j2T0R9dR9qdJYsB7ciXhf,2HWWNoWEEEECwZhAiLg7ib,6ajyEEzWZbw8ycDcJAN099,0CXVjQI9wsqaGeIARkkpYc,66TRwr5uJwPt15mfFkzhbi,4JPCdSaqs9dJd7RatFSHww,1iOJQhxKSJ7dg3Dk03yPnl,4Tn2llBm1g0UlWctmgPL8Z,2a03afRiyAbNAleOByVju4,18lR4BzEs7e3qzc0KVkTpU,3wKKkGVn7cVSfgPeYYIiXG,1IYaMVfidzSfvCUZYXhsU1,28IEbk5a7twNTbUEvWslUb,0YkJU6TjjwzsVXUPRIO0DB,4eAwB5pnKFTmsgc3zWoYO0,5rTIpPWeO0IL4HWlGWrz5G,4KTtYhxFtFL7mBwnjkKfLm,0UFDKFqW2oGspYeYqo9wjA,7j31rVgGX9Q2blT92VBEA0,6x2xqg5fQNu9dNCXu83ezE,6CFPFnS9EcLs2I0nWqtWci,234RqTZmnDTnxWlVciXHLD,6PBAPjshd2JfEiWpdf3C2a,6BqWhxll86CGGE6WxgdRqG,1RGIjMFMgJxkZHMDXVYzOJ,68Zq7PMcPIQE8ol1x3gAqw,1D066zixBwqFYqBhKgdPzp,5qhlC4Rzals34zxovrPzKp,1zyqZONW985Cs4osz9wlsu,3Zwu2K0Qa5sT6teCCHPShP,5iyE2d4U3Vc5cqY9mPTlpy,0JJP0IS4w0fJx01EcrfkDe,30FURVTCpbKyykjSEQzGkH,0JfAMd3xTqm7ZYhBmQjYzt,5Yaw45Q7W0irDbTVN5LOVs,53SqGkNJAYLss9AgbduTqQ,1lHXlGlve5Zx8tXLhyjDwM,1oagRT7LfpVlNJN6FSZDGp,6SpLc7EXZIPpy0sVko0aoU,6DbqCKweKwVkHgRv1CI53D,7x8dCjCr0x6x2lXKujYD34,1JwIBogbuZ4Yfb6nssXWa2,3LGeYNY9aWQuBJovOOowqm,3RGyFugqjQjlL8XX0NW8dZ,4wzjNqjKAKDU82e8uMhzmr,7dzUZec5MnWMyQnk5klnKR,5lUTzPuiloBHm1qEaJcJfF,1hGy2eLcmC8eKx7qr1tOqx,1BV0m40U0M4t1SLIsDnwZl,0ZUo4YjG4saFnEJhdWp9Bt,0td1GfBHNxlGephozVmL9k,1tkMs9wDPknQ3ZHcKDw1ES,2elA6JLRaQ6iB7hxiuTKN4,6SmPPtaMnfxgz5duA6t9Cu,37pFLuNVnAJQL9ysRoKTdy,4liGjmhCupa7RP9JaQELYx,56Tl3UgyZTqfZtvFNS31wm,48yZwqAxCZk0t2ssDw2hzH,2aibwv5hGXSgw7Yru8IYTO,3QnEp4rluCxUwgpXT43jmC,0CAfXk7DXMnon4gLudAp7J,005lwxGU1tms6HGELIcUv9,3goSVuTt3fDYDP6kRnFwuL,26NX1wPt1TRCH536yocd6i,2VOomzT6VavJOGBeySqaMc,3aQz0z86zrKjd1mcZlonxE,52K4Nl7eVNqUpUeJeWJlwT,4P7VFiaZb3xrXoqGwZXC3J,5Nr1ZcH9PGTiQdGl9HCCS1,5TRPicyLGbAF2LGBFbHGvO,1oHClQEgDmmbcEx12Kc5nZ,1y4eb6hmAvsqlDOl3fx9kk,1wva1IlWLDNLgwipUWcmjy,1ARJhjuI6TNYZCxYygFQ4F,4fixebDZAVToLbUCuEloa2,0F2BxpbxH8Yc3pLub48hrb,3jlbL2OTD5YmIunYzgQTAN,6ScJMrlpiLfZUGtWp4QIVt,3MldzywZOH4Uci6bq9noyJ,2PTvik6EqPAIYOclAB3SU8,3XCezj8BPm1xGH3qS6SruW,6pTg4H8juKV9iSzrcVUbM3,0aeWFHCKwVoavQdpduyB1Q,3LN41NUdHkyNqQhi9gExMm,3tSuRiNgJmMqmYR23dCqnR,6AdLyvisRKHLAwARaZMGr6,1uigwk5hNV84zRd5YQQRTk,4iz9lGMjU1lXS51oPmUmTe,22UDw8rSfLbUsaAGTXQ4Z8,3pxCXv0NACYfYnLjFcQW5D,6tC2iHfUlzB2W4ntXXL2BH,4yHFxB8kzzeuNvoouR8N0N,0JiY190vktuhSGN6aqJdrt,1kxeWHF9PrCVZHvVskv8lg,3RDcUlLGp3SLp2AmUbUbls,1ixbwbeBi5ufN4noUKmW5a,0uybt73QFXaLCoxuVf6fhm,2aEuXA1KswHlCGPOuPmCOW,1C6eViOmSvwrXz9JTHYaOV,5Hv1QAbRWrUSUHaT0CmnMS,3wkNK8tJZ2stygNJm8RCRD,5liQj4sVRmEEESvvcb64o8,5j0McHPthKpOXRr3fBq8M0,45upEMiYeArj06RERttNFx,2xUjNGHjJOBcpTf7dYx4EY,1gt1fWqUZOUgT2kTArAw4E,0exb0K7vsjf5bXWLJJhAuF,0tp2cUnCAcsR6xL5kw9HKu,1IAzD1muglOxOcPbUHs70R,48s0QHJgmiNsth3WEO6U4M,33vzOPcd9FRirYGlCu32x4,5o4W6yWSJD9e9Ea8YC9WjF,1mea3bSkSGXuIRvnydlB5b,0ntQJM78wzOLVeCUAW7Y45,4ZPdLEztrlZqbJkgHNw54L,3nJjIYchBNkYm7B8XfJf5N,1ZqHjApl3pfzwjweTfMi0g,72by3Re4C3eVEBXvsUo0zV,2VEsmoek0sol9MnJFyoG9e,7dltD9eEX7X1zk8JJ9BS0e,56pHllZT7QOacB0bP56ofx,2iXBZ32Fz5VDCLeE0JIdX5,50xeLNGKmskmYUSINhqvfa,2H1047e0oMSj10dgp7p2VG,5R8dQOPq8haW94K7mgERlO,0uXO2GrNiIb1xHT9LUdxZE,3GpbwCm3YxiWDvy29Uo3vP,1vrd6UOGamcKNGnSHJQlSt,6Rb0ptOEjBjPPQUlQtQGbL,7jk7gqyEonmVVYahZN5zhW,0TcJ7QWpggdSg8t0fHThHm,2UREu1Y8CO4jXkbvqAtP7g,6wOYnPq1hPihRepcDClPUw,4EWCNWgDS8707fNSZ1oaA5,5FEXPoPnzueFJQCPRIrC3c,2x7MyWybabEz6Y6wvHuwGE,2hdy9Wt9qp7M7d0U3ossu2,13plQdOoWSSXPRUSZc5FuM,3IcIIZMMS7UArJJPtEHXG8,3opVsyWVYEAFK9bJAG8Opa,7Hqig8kp32q2Ire3ECQvWM,2igwFfvr1OAGX9SKDCPBwO,5XRHGXut00SrJUFmcn2lQF,4NpDZPwSXmL0cCTaJuVrCw,360ZhWvMnyXKYFG9Mqsm89,6Wx88Mv6b9ofjKMKkdwOJd,6TrNRd98WksT9Kkmx9uj6R,7LR85XLWw2yXqKBSI5brbG,0SiywuOBRcynK0uKGWdCnn,6ddQ5KCkvCggk3j6KdA0zL,7xdmTEHRbgQuLR8KpRLLnn,6ATrsVaZT7XjkCynxM8cTS,3R6dN42VdwivkZTMz03Rci,77FULy278MulVvGWS8BfK7,6WdV6QM8t87dPidhPzdRJW,2q4rjDy9WhaN3o9MvDbO21,4dK00wCxlqWEeN8BoM1BHT,5xeSDlt3eCxPsWKBhfUJTR,426vBhxw4upEf11BqBBgs0,5jzX4dWVQeBTtfBaXnMRt5,7Kpqjspw4Y7HrvItIRcBiW,0JYRNrTwUmeySRX37azvnH,1YaVmBh7EAeR54FIjuFcb5,0KlahhzNb98zyN83Vwae0l,6c0GmyBsE7mQtrVvxJaWc3,67T6l4q3zVjC5nZZPXByU8,7IhsLJMqdxoo7YAZjaSMru,2oENJa1T33GJ0w8dC167G4,5r5cp9IpziiIsR6b93vcnQ,7kMfu3KUydmrFVGEAhjtyl,4QJLKU75Rg4558f4LbDBRi,3kMrazSvILsgcwtidZd1Qd,4VqPOruhp5EdPBeR92t6lQ,06T10fEzN8ZCcqzQZYA184,2ZBNclC5wm4GtiWaeh0DMx,3RBGG1be9aBaSvjnw6ABkh,1NhPKVLsHhFUHIOZ32QnS2,4KAzYqfcijCSZa2P3etHoM,3QLjDkgLh9AOEHlhQtDuhs,5Q0Nhxo0l2bP3pNjpGJwV1,1Nme6K1PYAh7p7uygyuRdf,64yrDBpcdwEdNY9loyEGbX,58FUwmyGUqkt53YPUcm7cJ,3GCL1PydwsLodcpv0Ll1ch,0CwYG1UnRmOx8Q1EzElCIL,1akgiRM3mN2nxu2AX6ACCW,6fvxos1qSHrIgOkKw4dhWS,4Dm32oO01YpIubCHaAtKkN,6JnufVNLIO5F5Lk4sEVLeI,4IoYz8XqqdowINzfRrFnhi,7BqBn9nzAq8spo5e7cZ0dJ,15JINEqzVMv3SvJTAXAKED,2GYHyAoLWpkxLVa4oYTVko,0HPD5WQqrq7wPWR7P7Dw1i,4dTaAiV9xFFCxnPur9c9yL,2ENexcMEMsYk0rVJigVD3i,6KOEK6SeCEZOQkLj5M1PxH,0WCiI0ddWiu5F2kSHgfw5S,5ojIL91nfnWExoXSCkvJ9E,4DvhkX2ic4zWkQeWMwQ2qf,6FbGlkHKGkYqpSCuBgurn3,2DHc2e5bBn4UzY0ENVFrUl,2qugfmw9Hi27DyIo2gite4,1AguHaKOuggrVTebp7cZEI,0oJMv049q8hEkes9w0L1J4,7Ie9W94M7OjPoZVV216Xus,60jzFy6Nn4M0iD1d94oteF,2Q99zPXVqCPN5RaZawvJWZ,1hBM2D1ULT3aeKuddSwPsK,7vWFaMq63AwkFDhS2OAg5u,41KPpw0EZCytxNkmEMJVgr,6wN4nT2qy3MQc098yL3Eu9,4356Typ82hUiFAynbLYbPn,5vlEg2fT4cFWAqU5QptIpQ,6ebkx7Q5tTxrCxKq4GYj0Y,45O0tUN9Bh6LH4eNxQ07AT,03tqyYWC9Um2ZqU0ZN849H,61HQWI1Woxup7CnGwVUsdI,161DnLWsx1i3u1JT05lzqU,2V4bv1fNWfTcyRJKmej6Sj,2rDwdvBma1O1eLzo29p2cr,4AYX69oFP3UOS1CFmV9UfO,360UM2DaiHZPRu0EsrOvMp,7tSO7DrrYpiMXX3zM4b3oM:\n Max Retries, reason: too many 502 error responses"
     ]
    }
   ],
   "source": [
    "not_hot1_audio_feat = get_audio_features(not_hot1)\n",
    "not_hot1_audio_feat.head()"
   ]
  },
  {
   "cell_type": "code",
   "execution_count": null,
   "id": "3997b061",
   "metadata": {},
   "outputs": [],
   "source": [
    "not_hot2_audio_feat = get_audio_features(not_hot2)\n",
    "not_hot2_audio_feat.head()"
   ]
  },
  {
   "cell_type": "code",
   "execution_count": null,
   "id": "999e6b30",
   "metadata": {},
   "outputs": [],
   "source": [
    "not_hot3_audio_feat = get_audio_features(not_hot3)\n",
    "not_hot3_audio_feat.head()"
   ]
  },
  {
   "cell_type": "code",
   "execution_count": null,
   "id": "ba47d0e1",
   "metadata": {},
   "outputs": [],
   "source": [
    "not_hot4_audio_feat = get_audio_features(not_hot4)\n",
    "not_hot4_audio_feat.head()"
   ]
  },
  {
   "cell_type": "code",
   "execution_count": null,
   "id": "f4484888",
   "metadata": {},
   "outputs": [],
   "source": [
    "not_hot_audio_feat = pd.concat([not_hot1_audio_feat.reset_index(drop = True), not_hot2_audio_feat.reset_index(drop = True), not_hot3_audio_feat.reset_index(drop = True), not_hot4_audio_feat.reset_index(drop = True)], axis=1)\n",
    "not_hot_audio_feat.shape"
   ]
  },
  {
   "cell_type": "code",
   "execution_count": null,
   "id": "b0db73d8",
   "metadata": {},
   "outputs": [],
   "source": [
    "# Exporting these dataframes as csv :\n",
    "#top_100_audio_feat.to_csv('top_100_audio_feat.csv')\n",
    "#not_hot_subset_audio_feat.to_csv('not_hot_subset_audio_feat.csv')"
   ]
  },
  {
   "cell_type": "code",
   "execution_count": null,
   "id": "b6511be5",
   "metadata": {},
   "outputs": [],
   "source": [
    "not_hot_audio_feat.to_csv('not_hot_audio_feat.csv')"
   ]
  },
  {
   "cell_type": "code",
   "execution_count": null,
   "id": "9468f9a2",
   "metadata": {},
   "outputs": [],
   "source": []
  },
  {
   "cell_type": "code",
   "execution_count": null,
   "id": "f4095660",
   "metadata": {},
   "outputs": [],
   "source": []
  }
 ],
 "metadata": {
  "kernelspec": {
   "display_name": "Python 3 (ipykernel)",
   "language": "python",
   "name": "python3"
  },
  "language_info": {
   "codemirror_mode": {
    "name": "ipython",
    "version": 3
   },
   "file_extension": ".py",
   "mimetype": "text/x-python",
   "name": "python",
   "nbconvert_exporter": "python",
   "pygments_lexer": "ipython3",
   "version": "3.9.7"
  }
 },
 "nbformat": 4,
 "nbformat_minor": 5
}
