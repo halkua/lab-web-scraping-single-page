{
 "cells": [
  {
   "cell_type": "markdown",
   "id": "c4306ac9",
   "metadata": {},
   "source": [
    "# Clustering our music database"
   ]
  },
  {
   "cell_type": "markdown",
   "id": "69950129",
   "metadata": {},
   "source": [
    "First, let's normalize both of our dataframes to be able to cluster our database "
   ]
  },
  {
   "cell_type": "code",
   "execution_count": 1,
   "id": "4f3befd0",
   "metadata": {},
   "outputs": [],
   "source": [
    "# Importing all needeed libraries\n",
    "\n",
    "import pandas as pd\n",
    "import numpy as np\n",
    "\n",
    "from sklearn import datasets # sklearn comes with some toy datasets to practise\n",
    "from sklearn.preprocessing import StandardScaler\n",
    "from sklearn.cluster import KMeans\n",
    "from sklearn.metrics import silhouette_score\n",
    "from sklearn.datasets import make_classification\n",
    "from sklearn.cluster import DBSCAN\n",
    "from sklearn.mixture import GaussianMixture\n",
    "from scipy.spatial import distance_matrix\n",
    "from sklearn.cluster import AgglomerativeClustering\n",
    "from scipy.cluster.hierarchy import dendrogram\n",
    "import matplotlib.pyplot as plt\n",
    "import seaborn as sns\n",
    "%matplotlib inline"
   ]
  },
  {
   "cell_type": "code",
   "execution_count": 2,
   "id": "9c96e1ef",
   "metadata": {},
   "outputs": [
    {
     "data": {
      "text/html": [
       "<div>\n",
       "<style scoped>\n",
       "    .dataframe tbody tr th:only-of-type {\n",
       "        vertical-align: middle;\n",
       "    }\n",
       "\n",
       "    .dataframe tbody tr th {\n",
       "        vertical-align: top;\n",
       "    }\n",
       "\n",
       "    .dataframe thead th {\n",
       "        text-align: right;\n",
       "    }\n",
       "</style>\n",
       "<table border=\"1\" class=\"dataframe\">\n",
       "  <thead>\n",
       "    <tr style=\"text-align: right;\">\n",
       "      <th></th>\n",
       "      <th>Unnamed: 0</th>\n",
       "      <th>Unnamed: 0.1</th>\n",
       "      <th>title</th>\n",
       "      <th>artist</th>\n",
       "      <th>id</th>\n",
       "      <th>danceability</th>\n",
       "      <th>energy</th>\n",
       "      <th>key</th>\n",
       "      <th>loudness</th>\n",
       "      <th>mode</th>\n",
       "      <th>...</th>\n",
       "      <th>liveness</th>\n",
       "      <th>valence</th>\n",
       "      <th>tempo</th>\n",
       "      <th>type</th>\n",
       "      <th>id.1</th>\n",
       "      <th>uri</th>\n",
       "      <th>track_href</th>\n",
       "      <th>analysis_url</th>\n",
       "      <th>duration_ms</th>\n",
       "      <th>time_signature</th>\n",
       "    </tr>\n",
       "  </thead>\n",
       "  <tbody>\n",
       "    <tr>\n",
       "      <th>0</th>\n",
       "      <td>0</td>\n",
       "      <td>0</td>\n",
       "      <td>As It Was</td>\n",
       "      <td>Harry Styles</td>\n",
       "      <td>4LRPiXqCikLlN15c3yImP7</td>\n",
       "      <td>0.520</td>\n",
       "      <td>0.731</td>\n",
       "      <td>6</td>\n",
       "      <td>-5.338</td>\n",
       "      <td>0</td>\n",
       "      <td>...</td>\n",
       "      <td>0.3110</td>\n",
       "      <td>0.662</td>\n",
       "      <td>173.930</td>\n",
       "      <td>audio_features</td>\n",
       "      <td>4LRPiXqCikLlN15c3yImP7</td>\n",
       "      <td>spotify:track:4LRPiXqCikLlN15c3yImP7</td>\n",
       "      <td>https://api.spotify.com/v1/tracks/4LRPiXqCikLl...</td>\n",
       "      <td>https://api.spotify.com/v1/audio-analysis/4LRP...</td>\n",
       "      <td>167303</td>\n",
       "      <td>4</td>\n",
       "    </tr>\n",
       "    <tr>\n",
       "      <th>1</th>\n",
       "      <td>1</td>\n",
       "      <td>1</td>\n",
       "      <td>First Class</td>\n",
       "      <td>Jack Harlow</td>\n",
       "      <td>1rDQ4oMwGJI7B4tovsBOxc</td>\n",
       "      <td>0.905</td>\n",
       "      <td>0.563</td>\n",
       "      <td>8</td>\n",
       "      <td>-6.135</td>\n",
       "      <td>1</td>\n",
       "      <td>...</td>\n",
       "      <td>0.1130</td>\n",
       "      <td>0.324</td>\n",
       "      <td>106.998</td>\n",
       "      <td>audio_features</td>\n",
       "      <td>1rDQ4oMwGJI7B4tovsBOxc</td>\n",
       "      <td>spotify:track:1rDQ4oMwGJI7B4tovsBOxc</td>\n",
       "      <td>https://api.spotify.com/v1/tracks/1rDQ4oMwGJI7...</td>\n",
       "      <td>https://api.spotify.com/v1/audio-analysis/1rDQ...</td>\n",
       "      <td>173948</td>\n",
       "      <td>4</td>\n",
       "    </tr>\n",
       "    <tr>\n",
       "      <th>2</th>\n",
       "      <td>2</td>\n",
       "      <td>2</td>\n",
       "      <td>Wait For U</td>\n",
       "      <td>Future Featuring Drake &amp; Tems</td>\n",
       "      <td>59nOXPmaKlBfGMDeOVGrIK</td>\n",
       "      <td>0.463</td>\n",
       "      <td>0.642</td>\n",
       "      <td>1</td>\n",
       "      <td>-4.474</td>\n",
       "      <td>1</td>\n",
       "      <td>...</td>\n",
       "      <td>0.0686</td>\n",
       "      <td>0.339</td>\n",
       "      <td>83.389</td>\n",
       "      <td>audio_features</td>\n",
       "      <td>59nOXPmaKlBfGMDeOVGrIK</td>\n",
       "      <td>spotify:track:59nOXPmaKlBfGMDeOVGrIK</td>\n",
       "      <td>https://api.spotify.com/v1/tracks/59nOXPmaKlBf...</td>\n",
       "      <td>https://api.spotify.com/v1/audio-analysis/59nO...</td>\n",
       "      <td>189893</td>\n",
       "      <td>4</td>\n",
       "    </tr>\n",
       "    <tr>\n",
       "      <th>3</th>\n",
       "      <td>3</td>\n",
       "      <td>3</td>\n",
       "      <td>Late Night Talking</td>\n",
       "      <td>Harry Styles</td>\n",
       "      <td>1qEmFfgcLObUfQm0j1W2CK</td>\n",
       "      <td>0.714</td>\n",
       "      <td>0.728</td>\n",
       "      <td>10</td>\n",
       "      <td>-4.595</td>\n",
       "      <td>1</td>\n",
       "      <td>...</td>\n",
       "      <td>0.1060</td>\n",
       "      <td>0.901</td>\n",
       "      <td>114.996</td>\n",
       "      <td>audio_features</td>\n",
       "      <td>1qEmFfgcLObUfQm0j1W2CK</td>\n",
       "      <td>spotify:track:1qEmFfgcLObUfQm0j1W2CK</td>\n",
       "      <td>https://api.spotify.com/v1/tracks/1qEmFfgcLObU...</td>\n",
       "      <td>https://api.spotify.com/v1/audio-analysis/1qEm...</td>\n",
       "      <td>177955</td>\n",
       "      <td>4</td>\n",
       "    </tr>\n",
       "    <tr>\n",
       "      <th>4</th>\n",
       "      <td>4</td>\n",
       "      <td>4</td>\n",
       "      <td>About Damn Time</td>\n",
       "      <td>Lizzo</td>\n",
       "      <td>1PckUlxKqWQs3RlWXVBLw3</td>\n",
       "      <td>0.836</td>\n",
       "      <td>0.743</td>\n",
       "      <td>10</td>\n",
       "      <td>-6.305</td>\n",
       "      <td>0</td>\n",
       "      <td>...</td>\n",
       "      <td>0.3350</td>\n",
       "      <td>0.722</td>\n",
       "      <td>108.966</td>\n",
       "      <td>audio_features</td>\n",
       "      <td>1PckUlxKqWQs3RlWXVBLw3</td>\n",
       "      <td>spotify:track:1PckUlxKqWQs3RlWXVBLw3</td>\n",
       "      <td>https://api.spotify.com/v1/tracks/1PckUlxKqWQs...</td>\n",
       "      <td>https://api.spotify.com/v1/audio-analysis/1Pck...</td>\n",
       "      <td>191822</td>\n",
       "      <td>4</td>\n",
       "    </tr>\n",
       "  </tbody>\n",
       "</table>\n",
       "<p>5 rows × 23 columns</p>\n",
       "</div>"
      ],
      "text/plain": [
       "   Unnamed: 0  Unnamed: 0.1               title  \\\n",
       "0           0             0           As It Was   \n",
       "1           1             1         First Class   \n",
       "2           2             2          Wait For U   \n",
       "3           3             3  Late Night Talking   \n",
       "4           4             4     About Damn Time   \n",
       "\n",
       "                          artist                      id  danceability  \\\n",
       "0                   Harry Styles  4LRPiXqCikLlN15c3yImP7         0.520   \n",
       "1                    Jack Harlow  1rDQ4oMwGJI7B4tovsBOxc         0.905   \n",
       "2  Future Featuring Drake & Tems  59nOXPmaKlBfGMDeOVGrIK         0.463   \n",
       "3                   Harry Styles  1qEmFfgcLObUfQm0j1W2CK         0.714   \n",
       "4                          Lizzo  1PckUlxKqWQs3RlWXVBLw3         0.836   \n",
       "\n",
       "   energy  key  loudness  mode  ...  liveness  valence    tempo  \\\n",
       "0   0.731    6    -5.338     0  ...    0.3110    0.662  173.930   \n",
       "1   0.563    8    -6.135     1  ...    0.1130    0.324  106.998   \n",
       "2   0.642    1    -4.474     1  ...    0.0686    0.339   83.389   \n",
       "3   0.728   10    -4.595     1  ...    0.1060    0.901  114.996   \n",
       "4   0.743   10    -6.305     0  ...    0.3350    0.722  108.966   \n",
       "\n",
       "             type                    id.1  \\\n",
       "0  audio_features  4LRPiXqCikLlN15c3yImP7   \n",
       "1  audio_features  1rDQ4oMwGJI7B4tovsBOxc   \n",
       "2  audio_features  59nOXPmaKlBfGMDeOVGrIK   \n",
       "3  audio_features  1qEmFfgcLObUfQm0j1W2CK   \n",
       "4  audio_features  1PckUlxKqWQs3RlWXVBLw3   \n",
       "\n",
       "                                    uri  \\\n",
       "0  spotify:track:4LRPiXqCikLlN15c3yImP7   \n",
       "1  spotify:track:1rDQ4oMwGJI7B4tovsBOxc   \n",
       "2  spotify:track:59nOXPmaKlBfGMDeOVGrIK   \n",
       "3  spotify:track:1qEmFfgcLObUfQm0j1W2CK   \n",
       "4  spotify:track:1PckUlxKqWQs3RlWXVBLw3   \n",
       "\n",
       "                                          track_href  \\\n",
       "0  https://api.spotify.com/v1/tracks/4LRPiXqCikLl...   \n",
       "1  https://api.spotify.com/v1/tracks/1rDQ4oMwGJI7...   \n",
       "2  https://api.spotify.com/v1/tracks/59nOXPmaKlBf...   \n",
       "3  https://api.spotify.com/v1/tracks/1qEmFfgcLObU...   \n",
       "4  https://api.spotify.com/v1/tracks/1PckUlxKqWQs...   \n",
       "\n",
       "                                        analysis_url duration_ms  \\\n",
       "0  https://api.spotify.com/v1/audio-analysis/4LRP...      167303   \n",
       "1  https://api.spotify.com/v1/audio-analysis/1rDQ...      173948   \n",
       "2  https://api.spotify.com/v1/audio-analysis/59nO...      189893   \n",
       "3  https://api.spotify.com/v1/audio-analysis/1qEm...      177955   \n",
       "4  https://api.spotify.com/v1/audio-analysis/1Pck...      191822   \n",
       "\n",
       "  time_signature  \n",
       "0              4  \n",
       "1              4  \n",
       "2              4  \n",
       "3              4  \n",
       "4              4  \n",
       "\n",
       "[5 rows x 23 columns]"
      ]
     },
     "execution_count": 2,
     "metadata": {},
     "output_type": "execute_result"
    }
   ],
   "source": [
    "# importing datasets \n",
    "\n",
    "top_100 = pd.read_csv('top_100_audio_feat.csv')\n",
    "top_100.head()"
   ]
  },
  {
   "cell_type": "code",
   "execution_count": 3,
   "id": "48e82f18",
   "metadata": {},
   "outputs": [
    {
     "data": {
      "text/plain": [
       "(95, 23)"
      ]
     },
     "execution_count": 3,
     "metadata": {},
     "output_type": "execute_result"
    }
   ],
   "source": [
    "top_100.shape"
   ]
  },
  {
   "cell_type": "code",
   "execution_count": 4,
   "id": "12b7f9d1",
   "metadata": {},
   "outputs": [
    {
     "data": {
      "text/plain": [
       "Unnamed: 0          0\n",
       "Unnamed: 0.1        0\n",
       "title               0\n",
       "artist              0\n",
       "id                  0\n",
       "danceability        0\n",
       "energy              0\n",
       "key                 0\n",
       "loudness            0\n",
       "mode                0\n",
       "speechiness         0\n",
       "acousticness        0\n",
       "instrumentalness    0\n",
       "liveness            0\n",
       "valence             0\n",
       "tempo               0\n",
       "type                0\n",
       "id.1                0\n",
       "uri                 0\n",
       "track_href          0\n",
       "analysis_url        0\n",
       "duration_ms         0\n",
       "time_signature      0\n",
       "dtype: int64"
      ]
     },
     "execution_count": 4,
     "metadata": {},
     "output_type": "execute_result"
    }
   ],
   "source": [
    "top_100.isna().sum()"
   ]
  },
  {
   "cell_type": "code",
   "execution_count": 5,
   "id": "9fbe8532",
   "metadata": {},
   "outputs": [
    {
     "data": {
      "text/plain": [
       "(5000, 23)"
      ]
     },
     "execution_count": 5,
     "metadata": {},
     "output_type": "execute_result"
    }
   ],
   "source": [
    "not_hot = pd.read_csv('not_hot_songs_alb.csv')\n",
    "not_hot.shape"
   ]
  },
  {
   "cell_type": "code",
   "execution_count": 6,
   "id": "93d93164",
   "metadata": {},
   "outputs": [
    {
     "data": {
      "text/html": [
       "<div>\n",
       "<style scoped>\n",
       "    .dataframe tbody tr th:only-of-type {\n",
       "        vertical-align: middle;\n",
       "    }\n",
       "\n",
       "    .dataframe tbody tr th {\n",
       "        vertical-align: top;\n",
       "    }\n",
       "\n",
       "    .dataframe thead th {\n",
       "        text-align: right;\n",
       "    }\n",
       "</style>\n",
       "<table border=\"1\" class=\"dataframe\">\n",
       "  <thead>\n",
       "    <tr style=\"text-align: right;\">\n",
       "      <th></th>\n",
       "      <th>Unnamed: 0</th>\n",
       "      <th>Unnamed: 0.1</th>\n",
       "      <th>singer</th>\n",
       "      <th>song</th>\n",
       "      <th>id</th>\n",
       "      <th>danceability</th>\n",
       "      <th>energy</th>\n",
       "      <th>key</th>\n",
       "      <th>loudness</th>\n",
       "      <th>mode</th>\n",
       "      <th>...</th>\n",
       "      <th>liveness</th>\n",
       "      <th>valence</th>\n",
       "      <th>tempo</th>\n",
       "      <th>type</th>\n",
       "      <th>id.1</th>\n",
       "      <th>uri</th>\n",
       "      <th>track_href</th>\n",
       "      <th>analysis_url</th>\n",
       "      <th>duration_ms</th>\n",
       "      <th>time_signature</th>\n",
       "    </tr>\n",
       "  </thead>\n",
       "  <tbody>\n",
       "    <tr>\n",
       "      <th>0</th>\n",
       "      <td>0</td>\n",
       "      <td>0</td>\n",
       "      <td>Su ta gar</td>\n",
       "      <td>Abere izate ukatua</td>\n",
       "      <td>4tMbI2qkOIfc1kzsbw7X64</td>\n",
       "      <td>0.393</td>\n",
       "      <td>0.967</td>\n",
       "      <td>10.0</td>\n",
       "      <td>-5.775</td>\n",
       "      <td>0.0</td>\n",
       "      <td>...</td>\n",
       "      <td>0.147</td>\n",
       "      <td>0.469</td>\n",
       "      <td>98.016</td>\n",
       "      <td>audio_features</td>\n",
       "      <td>4tMbI2qkOIfc1kzsbw7X64</td>\n",
       "      <td>spotify:track:4tMbI2qkOIfc1kzsbw7X64</td>\n",
       "      <td>https://api.spotify.com/v1/tracks/4tMbI2qkOIfc...</td>\n",
       "      <td>https://api.spotify.com/v1/audio-analysis/4tMb...</td>\n",
       "      <td>243973.0</td>\n",
       "      <td>4.0</td>\n",
       "    </tr>\n",
       "    <tr>\n",
       "      <th>1</th>\n",
       "      <td>1</td>\n",
       "      <td>1</td>\n",
       "      <td>Spice Girls</td>\n",
       "      <td>Viva Forever (Tony Rich Remix Instrumental)</td>\n",
       "      <td>1dehm5fgmBVxxur0YnZLMq</td>\n",
       "      <td>0.809</td>\n",
       "      <td>0.478</td>\n",
       "      <td>10.0</td>\n",
       "      <td>-7.371</td>\n",
       "      <td>0.0</td>\n",
       "      <td>...</td>\n",
       "      <td>0.125</td>\n",
       "      <td>0.594</td>\n",
       "      <td>168.897</td>\n",
       "      <td>audio_features</td>\n",
       "      <td>1dehm5fgmBVxxur0YnZLMq</td>\n",
       "      <td>spotify:track:1dehm5fgmBVxxur0YnZLMq</td>\n",
       "      <td>https://api.spotify.com/v1/tracks/1dehm5fgmBVx...</td>\n",
       "      <td>https://api.spotify.com/v1/audio-analysis/1deh...</td>\n",
       "      <td>342733.0</td>\n",
       "      <td>4.0</td>\n",
       "    </tr>\n",
       "    <tr>\n",
       "      <th>2</th>\n",
       "      <td>2</td>\n",
       "      <td>2</td>\n",
       "      <td>Dandy Livingstone</td>\n",
       "      <td>Think About That</td>\n",
       "      <td>5vWscUwJJSsIvKR0YJa8cV</td>\n",
       "      <td>0.759</td>\n",
       "      <td>0.654</td>\n",
       "      <td>0.0</td>\n",
       "      <td>-8.462</td>\n",
       "      <td>1.0</td>\n",
       "      <td>...</td>\n",
       "      <td>0.113</td>\n",
       "      <td>0.664</td>\n",
       "      <td>95.544</td>\n",
       "      <td>audio_features</td>\n",
       "      <td>5vWscUwJJSsIvKR0YJa8cV</td>\n",
       "      <td>spotify:track:5vWscUwJJSsIvKR0YJa8cV</td>\n",
       "      <td>https://api.spotify.com/v1/tracks/5vWscUwJJSsI...</td>\n",
       "      <td>https://api.spotify.com/v1/audio-analysis/5vWs...</td>\n",
       "      <td>172947.0</td>\n",
       "      <td>4.0</td>\n",
       "    </tr>\n",
       "    <tr>\n",
       "      <th>3</th>\n",
       "      <td>3</td>\n",
       "      <td>3</td>\n",
       "      <td>Orquesta Harlow</td>\n",
       "      <td>That Groovy Shingaling</td>\n",
       "      <td>2kTZKa7J0ykBpmzs5TMjWT</td>\n",
       "      <td>0.454</td>\n",
       "      <td>0.481</td>\n",
       "      <td>10.0</td>\n",
       "      <td>-10.895</td>\n",
       "      <td>1.0</td>\n",
       "      <td>...</td>\n",
       "      <td>0.158</td>\n",
       "      <td>0.757</td>\n",
       "      <td>122.281</td>\n",
       "      <td>audio_features</td>\n",
       "      <td>2kTZKa7J0ykBpmzs5TMjWT</td>\n",
       "      <td>spotify:track:2kTZKa7J0ykBpmzs5TMjWT</td>\n",
       "      <td>https://api.spotify.com/v1/tracks/2kTZKa7J0ykB...</td>\n",
       "      <td>https://api.spotify.com/v1/audio-analysis/2kTZ...</td>\n",
       "      <td>135187.0</td>\n",
       "      <td>4.0</td>\n",
       "    </tr>\n",
       "    <tr>\n",
       "      <th>4</th>\n",
       "      <td>4</td>\n",
       "      <td>4</td>\n",
       "      <td>King B.A.V.</td>\n",
       "      <td>Take It Off</td>\n",
       "      <td>77ihANWN9MuLGim3ZtYIti</td>\n",
       "      <td>0.706</td>\n",
       "      <td>0.580</td>\n",
       "      <td>7.0</td>\n",
       "      <td>-3.692</td>\n",
       "      <td>0.0</td>\n",
       "      <td>...</td>\n",
       "      <td>0.256</td>\n",
       "      <td>0.115</td>\n",
       "      <td>75.102</td>\n",
       "      <td>audio_features</td>\n",
       "      <td>77ihANWN9MuLGim3ZtYIti</td>\n",
       "      <td>spotify:track:77ihANWN9MuLGim3ZtYIti</td>\n",
       "      <td>https://api.spotify.com/v1/tracks/77ihANWN9MuL...</td>\n",
       "      <td>https://api.spotify.com/v1/audio-analysis/77ih...</td>\n",
       "      <td>244827.0</td>\n",
       "      <td>4.0</td>\n",
       "    </tr>\n",
       "  </tbody>\n",
       "</table>\n",
       "<p>5 rows × 23 columns</p>\n",
       "</div>"
      ],
      "text/plain": [
       "   Unnamed: 0  Unnamed: 0.1             singer  \\\n",
       "0           0             0          Su ta gar   \n",
       "1           1             1        Spice Girls   \n",
       "2           2             2  Dandy Livingstone   \n",
       "3           3             3    Orquesta Harlow   \n",
       "4           4             4        King B.A.V.   \n",
       "\n",
       "                                          song                      id  \\\n",
       "0                           Abere izate ukatua  4tMbI2qkOIfc1kzsbw7X64   \n",
       "1  Viva Forever (Tony Rich Remix Instrumental)  1dehm5fgmBVxxur0YnZLMq   \n",
       "2                             Think About That  5vWscUwJJSsIvKR0YJa8cV   \n",
       "3                       That Groovy Shingaling  2kTZKa7J0ykBpmzs5TMjWT   \n",
       "4                                  Take It Off  77ihANWN9MuLGim3ZtYIti   \n",
       "\n",
       "   danceability  energy   key  loudness  mode  ...  liveness  valence  \\\n",
       "0         0.393   0.967  10.0    -5.775   0.0  ...     0.147    0.469   \n",
       "1         0.809   0.478  10.0    -7.371   0.0  ...     0.125    0.594   \n",
       "2         0.759   0.654   0.0    -8.462   1.0  ...     0.113    0.664   \n",
       "3         0.454   0.481  10.0   -10.895   1.0  ...     0.158    0.757   \n",
       "4         0.706   0.580   7.0    -3.692   0.0  ...     0.256    0.115   \n",
       "\n",
       "     tempo            type                    id.1  \\\n",
       "0   98.016  audio_features  4tMbI2qkOIfc1kzsbw7X64   \n",
       "1  168.897  audio_features  1dehm5fgmBVxxur0YnZLMq   \n",
       "2   95.544  audio_features  5vWscUwJJSsIvKR0YJa8cV   \n",
       "3  122.281  audio_features  2kTZKa7J0ykBpmzs5TMjWT   \n",
       "4   75.102  audio_features  77ihANWN9MuLGim3ZtYIti   \n",
       "\n",
       "                                    uri  \\\n",
       "0  spotify:track:4tMbI2qkOIfc1kzsbw7X64   \n",
       "1  spotify:track:1dehm5fgmBVxxur0YnZLMq   \n",
       "2  spotify:track:5vWscUwJJSsIvKR0YJa8cV   \n",
       "3  spotify:track:2kTZKa7J0ykBpmzs5TMjWT   \n",
       "4  spotify:track:77ihANWN9MuLGim3ZtYIti   \n",
       "\n",
       "                                          track_href  \\\n",
       "0  https://api.spotify.com/v1/tracks/4tMbI2qkOIfc...   \n",
       "1  https://api.spotify.com/v1/tracks/1dehm5fgmBVx...   \n",
       "2  https://api.spotify.com/v1/tracks/5vWscUwJJSsI...   \n",
       "3  https://api.spotify.com/v1/tracks/2kTZKa7J0ykB...   \n",
       "4  https://api.spotify.com/v1/tracks/77ihANWN9MuL...   \n",
       "\n",
       "                                        analysis_url duration_ms  \\\n",
       "0  https://api.spotify.com/v1/audio-analysis/4tMb...    243973.0   \n",
       "1  https://api.spotify.com/v1/audio-analysis/1deh...    342733.0   \n",
       "2  https://api.spotify.com/v1/audio-analysis/5vWs...    172947.0   \n",
       "3  https://api.spotify.com/v1/audio-analysis/2kTZ...    135187.0   \n",
       "4  https://api.spotify.com/v1/audio-analysis/77ih...    244827.0   \n",
       "\n",
       "  time_signature  \n",
       "0            4.0  \n",
       "1            4.0  \n",
       "2            4.0  \n",
       "3            4.0  \n",
       "4            4.0  \n",
       "\n",
       "[5 rows x 23 columns]"
      ]
     },
     "execution_count": 6,
     "metadata": {},
     "output_type": "execute_result"
    }
   ],
   "source": [
    "not_hot.head()"
   ]
  },
  {
   "cell_type": "code",
   "execution_count": 7,
   "id": "08cf6709",
   "metadata": {},
   "outputs": [
    {
     "data": {
      "text/plain": [
       "Unnamed: 0             0\n",
       "Unnamed: 0.1           0\n",
       "singer                 0\n",
       "song                   0\n",
       "id                  1417\n",
       "danceability        1419\n",
       "energy              1419\n",
       "key                 1419\n",
       "loudness            1419\n",
       "mode                1419\n",
       "speechiness         1419\n",
       "acousticness        1419\n",
       "instrumentalness    1419\n",
       "liveness            1419\n",
       "valence             1419\n",
       "tempo               1419\n",
       "type                1419\n",
       "id.1                1419\n",
       "uri                 1419\n",
       "track_href          1419\n",
       "analysis_url        1419\n",
       "duration_ms         1419\n",
       "time_signature      1419\n",
       "dtype: int64"
      ]
     },
     "execution_count": 7,
     "metadata": {},
     "output_type": "execute_result"
    }
   ],
   "source": [
    "not_hot.isna().sum()"
   ]
  },
  {
   "cell_type": "code",
   "execution_count": 8,
   "id": "5ec920cf",
   "metadata": {},
   "outputs": [],
   "source": [
    "# let's drop NA's rows : \n",
    "not_hot.dropna(inplace=True)"
   ]
  },
  {
   "cell_type": "code",
   "execution_count": 9,
   "id": "bd65818a",
   "metadata": {},
   "outputs": [
    {
     "data": {
      "text/plain": [
       "Unnamed: 0          0\n",
       "Unnamed: 0.1        0\n",
       "singer              0\n",
       "song                0\n",
       "id                  0\n",
       "danceability        0\n",
       "energy              0\n",
       "key                 0\n",
       "loudness            0\n",
       "mode                0\n",
       "speechiness         0\n",
       "acousticness        0\n",
       "instrumentalness    0\n",
       "liveness            0\n",
       "valence             0\n",
       "tempo               0\n",
       "type                0\n",
       "id.1                0\n",
       "uri                 0\n",
       "track_href          0\n",
       "analysis_url        0\n",
       "duration_ms         0\n",
       "time_signature      0\n",
       "dtype: int64"
      ]
     },
     "execution_count": 9,
     "metadata": {},
     "output_type": "execute_result"
    }
   ],
   "source": [
    "not_hot.isna().sum()"
   ]
  },
  {
   "cell_type": "code",
   "execution_count": 10,
   "id": "b578130b",
   "metadata": {},
   "outputs": [
    {
     "data": {
      "text/plain": [
       "(3581, 23)"
      ]
     },
     "execution_count": 10,
     "metadata": {},
     "output_type": "execute_result"
    }
   ],
   "source": [
    "not_hot.shape"
   ]
  },
  {
   "cell_type": "code",
   "execution_count": 11,
   "id": "4dfc5466",
   "metadata": {},
   "outputs": [
    {
     "data": {
      "text/plain": [
       "Index(['Unnamed: 0', 'Unnamed: 0.1', 'singer', 'song', 'id', 'danceability',\n",
       "       'energy', 'key', 'loudness', 'mode', 'speechiness', 'acousticness',\n",
       "       'instrumentalness', 'liveness', 'valence', 'tempo', 'type', 'id.1',\n",
       "       'uri', 'track_href', 'analysis_url', 'duration_ms', 'time_signature'],\n",
       "      dtype='object')"
      ]
     },
     "execution_count": 11,
     "metadata": {},
     "output_type": "execute_result"
    }
   ],
   "source": [
    "# Now let's normalize both dataframes to be able to concat them together :\n",
    "not_hot.columns"
   ]
  },
  {
   "cell_type": "code",
   "execution_count": 12,
   "id": "74d2729b",
   "metadata": {},
   "outputs": [
    {
     "data": {
      "text/plain": [
       "Index(['Unnamed: 0', 'Unnamed: 0.1', 'title', 'artist', 'id', 'danceability',\n",
       "       'energy', 'key', 'loudness', 'mode', 'speechiness', 'acousticness',\n",
       "       'instrumentalness', 'liveness', 'valence', 'tempo', 'type', 'id.1',\n",
       "       'uri', 'track_href', 'analysis_url', 'duration_ms', 'time_signature'],\n",
       "      dtype='object')"
      ]
     },
     "execution_count": 12,
     "metadata": {},
     "output_type": "execute_result"
    }
   ],
   "source": [
    "top_100.columns"
   ]
  },
  {
   "cell_type": "code",
   "execution_count": 13,
   "id": "6c02f154",
   "metadata": {},
   "outputs": [
    {
     "data": {
      "text/plain": [
       "Index(['Unnamed: 0', 'Unnamed: 0.1', 'artist', 'title', 'id', 'danceability',\n",
       "       'energy', 'key', 'loudness', 'mode', 'speechiness', 'acousticness',\n",
       "       'instrumentalness', 'liveness', 'valence', 'tempo', 'type', 'id.1',\n",
       "       'uri', 'track_href', 'analysis_url', 'duration_ms', 'time_signature'],\n",
       "      dtype='object')"
      ]
     },
     "execution_count": 13,
     "metadata": {},
     "output_type": "execute_result"
    }
   ],
   "source": [
    "not_hot.rename(columns = {'singer' : 'artist', 'song' : 'title'}, inplace = True)\n",
    "not_hot.columns"
   ]
  },
  {
   "cell_type": "code",
   "execution_count": 14,
   "id": "e1ae2b72",
   "metadata": {},
   "outputs": [],
   "source": [
    "not_hot = not_hot[['title', 'artist', 'id', 'danceability',\n",
    "       'energy', 'key', 'loudness', 'mode', 'speechiness', 'acousticness',\n",
    "       'instrumentalness', 'liveness', 'valence', 'tempo', 'type', 'id.1',\n",
    "       'uri', 'track_href', 'analysis_url', 'duration_ms', 'time_signature']]"
   ]
  },
  {
   "cell_type": "code",
   "execution_count": 15,
   "id": "4f3ef074",
   "metadata": {},
   "outputs": [],
   "source": [
    "top_100 = top_100[['title', 'artist', 'id', 'danceability',\n",
    "       'energy', 'key', 'loudness', 'mode', 'speechiness', 'acousticness',\n",
    "       'instrumentalness', 'liveness', 'valence', 'tempo', 'type', 'id.1',\n",
    "       'uri', 'track_href', 'analysis_url', 'duration_ms', 'time_signature']]"
   ]
  },
  {
   "cell_type": "code",
   "execution_count": 16,
   "id": "2b046b57",
   "metadata": {},
   "outputs": [],
   "source": [
    "# Let's add a new column to point from which dataframe the rows belong\n",
    "not_hot['original_df'] = \"not_hot\"\n",
    "top_100['original_df'] = \"hot\""
   ]
  },
  {
   "cell_type": "code",
   "execution_count": 17,
   "id": "7d418602",
   "metadata": {},
   "outputs": [
    {
     "data": {
      "text/html": [
       "<div>\n",
       "<style scoped>\n",
       "    .dataframe tbody tr th:only-of-type {\n",
       "        vertical-align: middle;\n",
       "    }\n",
       "\n",
       "    .dataframe tbody tr th {\n",
       "        vertical-align: top;\n",
       "    }\n",
       "\n",
       "    .dataframe thead th {\n",
       "        text-align: right;\n",
       "    }\n",
       "</style>\n",
       "<table border=\"1\" class=\"dataframe\">\n",
       "  <thead>\n",
       "    <tr style=\"text-align: right;\">\n",
       "      <th></th>\n",
       "      <th>title</th>\n",
       "      <th>artist</th>\n",
       "      <th>id</th>\n",
       "      <th>danceability</th>\n",
       "      <th>energy</th>\n",
       "      <th>key</th>\n",
       "      <th>loudness</th>\n",
       "      <th>mode</th>\n",
       "      <th>speechiness</th>\n",
       "      <th>acousticness</th>\n",
       "      <th>...</th>\n",
       "      <th>valence</th>\n",
       "      <th>tempo</th>\n",
       "      <th>type</th>\n",
       "      <th>id.1</th>\n",
       "      <th>uri</th>\n",
       "      <th>track_href</th>\n",
       "      <th>analysis_url</th>\n",
       "      <th>duration_ms</th>\n",
       "      <th>time_signature</th>\n",
       "      <th>original_df</th>\n",
       "    </tr>\n",
       "  </thead>\n",
       "  <tbody>\n",
       "    <tr>\n",
       "      <th>0</th>\n",
       "      <td>Abere izate ukatua</td>\n",
       "      <td>Su ta gar</td>\n",
       "      <td>4tMbI2qkOIfc1kzsbw7X64</td>\n",
       "      <td>0.393</td>\n",
       "      <td>0.967</td>\n",
       "      <td>10.0</td>\n",
       "      <td>-5.775</td>\n",
       "      <td>0.0</td>\n",
       "      <td>0.0511</td>\n",
       "      <td>0.000010</td>\n",
       "      <td>...</td>\n",
       "      <td>0.469</td>\n",
       "      <td>98.016</td>\n",
       "      <td>audio_features</td>\n",
       "      <td>4tMbI2qkOIfc1kzsbw7X64</td>\n",
       "      <td>spotify:track:4tMbI2qkOIfc1kzsbw7X64</td>\n",
       "      <td>https://api.spotify.com/v1/tracks/4tMbI2qkOIfc...</td>\n",
       "      <td>https://api.spotify.com/v1/audio-analysis/4tMb...</td>\n",
       "      <td>243973.0</td>\n",
       "      <td>4.0</td>\n",
       "      <td>not_hot</td>\n",
       "    </tr>\n",
       "    <tr>\n",
       "      <th>1</th>\n",
       "      <td>Viva Forever (Tony Rich Remix Instrumental)</td>\n",
       "      <td>Spice Girls</td>\n",
       "      <td>1dehm5fgmBVxxur0YnZLMq</td>\n",
       "      <td>0.809</td>\n",
       "      <td>0.478</td>\n",
       "      <td>10.0</td>\n",
       "      <td>-7.371</td>\n",
       "      <td>0.0</td>\n",
       "      <td>0.1870</td>\n",
       "      <td>0.010600</td>\n",
       "      <td>...</td>\n",
       "      <td>0.594</td>\n",
       "      <td>168.897</td>\n",
       "      <td>audio_features</td>\n",
       "      <td>1dehm5fgmBVxxur0YnZLMq</td>\n",
       "      <td>spotify:track:1dehm5fgmBVxxur0YnZLMq</td>\n",
       "      <td>https://api.spotify.com/v1/tracks/1dehm5fgmBVx...</td>\n",
       "      <td>https://api.spotify.com/v1/audio-analysis/1deh...</td>\n",
       "      <td>342733.0</td>\n",
       "      <td>4.0</td>\n",
       "      <td>not_hot</td>\n",
       "    </tr>\n",
       "    <tr>\n",
       "      <th>2</th>\n",
       "      <td>Think About That</td>\n",
       "      <td>Dandy Livingstone</td>\n",
       "      <td>5vWscUwJJSsIvKR0YJa8cV</td>\n",
       "      <td>0.759</td>\n",
       "      <td>0.654</td>\n",
       "      <td>0.0</td>\n",
       "      <td>-8.462</td>\n",
       "      <td>1.0</td>\n",
       "      <td>0.0523</td>\n",
       "      <td>0.134000</td>\n",
       "      <td>...</td>\n",
       "      <td>0.664</td>\n",
       "      <td>95.544</td>\n",
       "      <td>audio_features</td>\n",
       "      <td>5vWscUwJJSsIvKR0YJa8cV</td>\n",
       "      <td>spotify:track:5vWscUwJJSsIvKR0YJa8cV</td>\n",
       "      <td>https://api.spotify.com/v1/tracks/5vWscUwJJSsI...</td>\n",
       "      <td>https://api.spotify.com/v1/audio-analysis/5vWs...</td>\n",
       "      <td>172947.0</td>\n",
       "      <td>4.0</td>\n",
       "      <td>not_hot</td>\n",
       "    </tr>\n",
       "    <tr>\n",
       "      <th>3</th>\n",
       "      <td>That Groovy Shingaling</td>\n",
       "      <td>Orquesta Harlow</td>\n",
       "      <td>2kTZKa7J0ykBpmzs5TMjWT</td>\n",
       "      <td>0.454</td>\n",
       "      <td>0.481</td>\n",
       "      <td>10.0</td>\n",
       "      <td>-10.895</td>\n",
       "      <td>1.0</td>\n",
       "      <td>0.0318</td>\n",
       "      <td>0.708000</td>\n",
       "      <td>...</td>\n",
       "      <td>0.757</td>\n",
       "      <td>122.281</td>\n",
       "      <td>audio_features</td>\n",
       "      <td>2kTZKa7J0ykBpmzs5TMjWT</td>\n",
       "      <td>spotify:track:2kTZKa7J0ykBpmzs5TMjWT</td>\n",
       "      <td>https://api.spotify.com/v1/tracks/2kTZKa7J0ykB...</td>\n",
       "      <td>https://api.spotify.com/v1/audio-analysis/2kTZ...</td>\n",
       "      <td>135187.0</td>\n",
       "      <td>4.0</td>\n",
       "      <td>not_hot</td>\n",
       "    </tr>\n",
       "    <tr>\n",
       "      <th>4</th>\n",
       "      <td>Take It Off</td>\n",
       "      <td>King B.A.V.</td>\n",
       "      <td>77ihANWN9MuLGim3ZtYIti</td>\n",
       "      <td>0.706</td>\n",
       "      <td>0.580</td>\n",
       "      <td>7.0</td>\n",
       "      <td>-3.692</td>\n",
       "      <td>0.0</td>\n",
       "      <td>0.0423</td>\n",
       "      <td>0.000473</td>\n",
       "      <td>...</td>\n",
       "      <td>0.115</td>\n",
       "      <td>75.102</td>\n",
       "      <td>audio_features</td>\n",
       "      <td>77ihANWN9MuLGim3ZtYIti</td>\n",
       "      <td>spotify:track:77ihANWN9MuLGim3ZtYIti</td>\n",
       "      <td>https://api.spotify.com/v1/tracks/77ihANWN9MuL...</td>\n",
       "      <td>https://api.spotify.com/v1/audio-analysis/77ih...</td>\n",
       "      <td>244827.0</td>\n",
       "      <td>4.0</td>\n",
       "      <td>not_hot</td>\n",
       "    </tr>\n",
       "  </tbody>\n",
       "</table>\n",
       "<p>5 rows × 22 columns</p>\n",
       "</div>"
      ],
      "text/plain": [
       "                                         title             artist  \\\n",
       "0                           Abere izate ukatua          Su ta gar   \n",
       "1  Viva Forever (Tony Rich Remix Instrumental)        Spice Girls   \n",
       "2                             Think About That  Dandy Livingstone   \n",
       "3                       That Groovy Shingaling    Orquesta Harlow   \n",
       "4                                  Take It Off        King B.A.V.   \n",
       "\n",
       "                       id  danceability  energy   key  loudness  mode  \\\n",
       "0  4tMbI2qkOIfc1kzsbw7X64         0.393   0.967  10.0    -5.775   0.0   \n",
       "1  1dehm5fgmBVxxur0YnZLMq         0.809   0.478  10.0    -7.371   0.0   \n",
       "2  5vWscUwJJSsIvKR0YJa8cV         0.759   0.654   0.0    -8.462   1.0   \n",
       "3  2kTZKa7J0ykBpmzs5TMjWT         0.454   0.481  10.0   -10.895   1.0   \n",
       "4  77ihANWN9MuLGim3ZtYIti         0.706   0.580   7.0    -3.692   0.0   \n",
       "\n",
       "   speechiness  acousticness  ...  valence    tempo            type  \\\n",
       "0       0.0511      0.000010  ...    0.469   98.016  audio_features   \n",
       "1       0.1870      0.010600  ...    0.594  168.897  audio_features   \n",
       "2       0.0523      0.134000  ...    0.664   95.544  audio_features   \n",
       "3       0.0318      0.708000  ...    0.757  122.281  audio_features   \n",
       "4       0.0423      0.000473  ...    0.115   75.102  audio_features   \n",
       "\n",
       "                     id.1                                   uri  \\\n",
       "0  4tMbI2qkOIfc1kzsbw7X64  spotify:track:4tMbI2qkOIfc1kzsbw7X64   \n",
       "1  1dehm5fgmBVxxur0YnZLMq  spotify:track:1dehm5fgmBVxxur0YnZLMq   \n",
       "2  5vWscUwJJSsIvKR0YJa8cV  spotify:track:5vWscUwJJSsIvKR0YJa8cV   \n",
       "3  2kTZKa7J0ykBpmzs5TMjWT  spotify:track:2kTZKa7J0ykBpmzs5TMjWT   \n",
       "4  77ihANWN9MuLGim3ZtYIti  spotify:track:77ihANWN9MuLGim3ZtYIti   \n",
       "\n",
       "                                          track_href  \\\n",
       "0  https://api.spotify.com/v1/tracks/4tMbI2qkOIfc...   \n",
       "1  https://api.spotify.com/v1/tracks/1dehm5fgmBVx...   \n",
       "2  https://api.spotify.com/v1/tracks/5vWscUwJJSsI...   \n",
       "3  https://api.spotify.com/v1/tracks/2kTZKa7J0ykB...   \n",
       "4  https://api.spotify.com/v1/tracks/77ihANWN9MuL...   \n",
       "\n",
       "                                        analysis_url duration_ms  \\\n",
       "0  https://api.spotify.com/v1/audio-analysis/4tMb...    243973.0   \n",
       "1  https://api.spotify.com/v1/audio-analysis/1deh...    342733.0   \n",
       "2  https://api.spotify.com/v1/audio-analysis/5vWs...    172947.0   \n",
       "3  https://api.spotify.com/v1/audio-analysis/2kTZ...    135187.0   \n",
       "4  https://api.spotify.com/v1/audio-analysis/77ih...    244827.0   \n",
       "\n",
       "  time_signature  original_df  \n",
       "0            4.0      not_hot  \n",
       "1            4.0      not_hot  \n",
       "2            4.0      not_hot  \n",
       "3            4.0      not_hot  \n",
       "4            4.0      not_hot  \n",
       "\n",
       "[5 rows x 22 columns]"
      ]
     },
     "metadata": {},
     "output_type": "display_data"
    },
    {
     "data": {
      "text/html": [
       "<div>\n",
       "<style scoped>\n",
       "    .dataframe tbody tr th:only-of-type {\n",
       "        vertical-align: middle;\n",
       "    }\n",
       "\n",
       "    .dataframe tbody tr th {\n",
       "        vertical-align: top;\n",
       "    }\n",
       "\n",
       "    .dataframe thead th {\n",
       "        text-align: right;\n",
       "    }\n",
       "</style>\n",
       "<table border=\"1\" class=\"dataframe\">\n",
       "  <thead>\n",
       "    <tr style=\"text-align: right;\">\n",
       "      <th></th>\n",
       "      <th>title</th>\n",
       "      <th>artist</th>\n",
       "      <th>id</th>\n",
       "      <th>danceability</th>\n",
       "      <th>energy</th>\n",
       "      <th>key</th>\n",
       "      <th>loudness</th>\n",
       "      <th>mode</th>\n",
       "      <th>speechiness</th>\n",
       "      <th>acousticness</th>\n",
       "      <th>...</th>\n",
       "      <th>valence</th>\n",
       "      <th>tempo</th>\n",
       "      <th>type</th>\n",
       "      <th>id.1</th>\n",
       "      <th>uri</th>\n",
       "      <th>track_href</th>\n",
       "      <th>analysis_url</th>\n",
       "      <th>duration_ms</th>\n",
       "      <th>time_signature</th>\n",
       "      <th>original_df</th>\n",
       "    </tr>\n",
       "  </thead>\n",
       "  <tbody>\n",
       "    <tr>\n",
       "      <th>0</th>\n",
       "      <td>As It Was</td>\n",
       "      <td>Harry Styles</td>\n",
       "      <td>4LRPiXqCikLlN15c3yImP7</td>\n",
       "      <td>0.520</td>\n",
       "      <td>0.731</td>\n",
       "      <td>6</td>\n",
       "      <td>-5.338</td>\n",
       "      <td>0</td>\n",
       "      <td>0.0557</td>\n",
       "      <td>0.3420</td>\n",
       "      <td>...</td>\n",
       "      <td>0.662</td>\n",
       "      <td>173.930</td>\n",
       "      <td>audio_features</td>\n",
       "      <td>4LRPiXqCikLlN15c3yImP7</td>\n",
       "      <td>spotify:track:4LRPiXqCikLlN15c3yImP7</td>\n",
       "      <td>https://api.spotify.com/v1/tracks/4LRPiXqCikLl...</td>\n",
       "      <td>https://api.spotify.com/v1/audio-analysis/4LRP...</td>\n",
       "      <td>167303</td>\n",
       "      <td>4</td>\n",
       "      <td>hot</td>\n",
       "    </tr>\n",
       "    <tr>\n",
       "      <th>1</th>\n",
       "      <td>First Class</td>\n",
       "      <td>Jack Harlow</td>\n",
       "      <td>1rDQ4oMwGJI7B4tovsBOxc</td>\n",
       "      <td>0.905</td>\n",
       "      <td>0.563</td>\n",
       "      <td>8</td>\n",
       "      <td>-6.135</td>\n",
       "      <td>1</td>\n",
       "      <td>0.1020</td>\n",
       "      <td>0.0254</td>\n",
       "      <td>...</td>\n",
       "      <td>0.324</td>\n",
       "      <td>106.998</td>\n",
       "      <td>audio_features</td>\n",
       "      <td>1rDQ4oMwGJI7B4tovsBOxc</td>\n",
       "      <td>spotify:track:1rDQ4oMwGJI7B4tovsBOxc</td>\n",
       "      <td>https://api.spotify.com/v1/tracks/1rDQ4oMwGJI7...</td>\n",
       "      <td>https://api.spotify.com/v1/audio-analysis/1rDQ...</td>\n",
       "      <td>173948</td>\n",
       "      <td>4</td>\n",
       "      <td>hot</td>\n",
       "    </tr>\n",
       "    <tr>\n",
       "      <th>2</th>\n",
       "      <td>Wait For U</td>\n",
       "      <td>Future Featuring Drake &amp; Tems</td>\n",
       "      <td>59nOXPmaKlBfGMDeOVGrIK</td>\n",
       "      <td>0.463</td>\n",
       "      <td>0.642</td>\n",
       "      <td>1</td>\n",
       "      <td>-4.474</td>\n",
       "      <td>1</td>\n",
       "      <td>0.3400</td>\n",
       "      <td>0.3140</td>\n",
       "      <td>...</td>\n",
       "      <td>0.339</td>\n",
       "      <td>83.389</td>\n",
       "      <td>audio_features</td>\n",
       "      <td>59nOXPmaKlBfGMDeOVGrIK</td>\n",
       "      <td>spotify:track:59nOXPmaKlBfGMDeOVGrIK</td>\n",
       "      <td>https://api.spotify.com/v1/tracks/59nOXPmaKlBf...</td>\n",
       "      <td>https://api.spotify.com/v1/audio-analysis/59nO...</td>\n",
       "      <td>189893</td>\n",
       "      <td>4</td>\n",
       "      <td>hot</td>\n",
       "    </tr>\n",
       "    <tr>\n",
       "      <th>3</th>\n",
       "      <td>Late Night Talking</td>\n",
       "      <td>Harry Styles</td>\n",
       "      <td>1qEmFfgcLObUfQm0j1W2CK</td>\n",
       "      <td>0.714</td>\n",
       "      <td>0.728</td>\n",
       "      <td>10</td>\n",
       "      <td>-4.595</td>\n",
       "      <td>1</td>\n",
       "      <td>0.0468</td>\n",
       "      <td>0.2980</td>\n",
       "      <td>...</td>\n",
       "      <td>0.901</td>\n",
       "      <td>114.996</td>\n",
       "      <td>audio_features</td>\n",
       "      <td>1qEmFfgcLObUfQm0j1W2CK</td>\n",
       "      <td>spotify:track:1qEmFfgcLObUfQm0j1W2CK</td>\n",
       "      <td>https://api.spotify.com/v1/tracks/1qEmFfgcLObU...</td>\n",
       "      <td>https://api.spotify.com/v1/audio-analysis/1qEm...</td>\n",
       "      <td>177955</td>\n",
       "      <td>4</td>\n",
       "      <td>hot</td>\n",
       "    </tr>\n",
       "    <tr>\n",
       "      <th>4</th>\n",
       "      <td>About Damn Time</td>\n",
       "      <td>Lizzo</td>\n",
       "      <td>1PckUlxKqWQs3RlWXVBLw3</td>\n",
       "      <td>0.836</td>\n",
       "      <td>0.743</td>\n",
       "      <td>10</td>\n",
       "      <td>-6.305</td>\n",
       "      <td>0</td>\n",
       "      <td>0.0656</td>\n",
       "      <td>0.0995</td>\n",
       "      <td>...</td>\n",
       "      <td>0.722</td>\n",
       "      <td>108.966</td>\n",
       "      <td>audio_features</td>\n",
       "      <td>1PckUlxKqWQs3RlWXVBLw3</td>\n",
       "      <td>spotify:track:1PckUlxKqWQs3RlWXVBLw3</td>\n",
       "      <td>https://api.spotify.com/v1/tracks/1PckUlxKqWQs...</td>\n",
       "      <td>https://api.spotify.com/v1/audio-analysis/1Pck...</td>\n",
       "      <td>191822</td>\n",
       "      <td>4</td>\n",
       "      <td>hot</td>\n",
       "    </tr>\n",
       "  </tbody>\n",
       "</table>\n",
       "<p>5 rows × 22 columns</p>\n",
       "</div>"
      ],
      "text/plain": [
       "                title                         artist                      id  \\\n",
       "0           As It Was                   Harry Styles  4LRPiXqCikLlN15c3yImP7   \n",
       "1         First Class                    Jack Harlow  1rDQ4oMwGJI7B4tovsBOxc   \n",
       "2          Wait For U  Future Featuring Drake & Tems  59nOXPmaKlBfGMDeOVGrIK   \n",
       "3  Late Night Talking                   Harry Styles  1qEmFfgcLObUfQm0j1W2CK   \n",
       "4     About Damn Time                          Lizzo  1PckUlxKqWQs3RlWXVBLw3   \n",
       "\n",
       "   danceability  energy  key  loudness  mode  speechiness  acousticness  ...  \\\n",
       "0         0.520   0.731    6    -5.338     0       0.0557        0.3420  ...   \n",
       "1         0.905   0.563    8    -6.135     1       0.1020        0.0254  ...   \n",
       "2         0.463   0.642    1    -4.474     1       0.3400        0.3140  ...   \n",
       "3         0.714   0.728   10    -4.595     1       0.0468        0.2980  ...   \n",
       "4         0.836   0.743   10    -6.305     0       0.0656        0.0995  ...   \n",
       "\n",
       "   valence    tempo            type                    id.1  \\\n",
       "0    0.662  173.930  audio_features  4LRPiXqCikLlN15c3yImP7   \n",
       "1    0.324  106.998  audio_features  1rDQ4oMwGJI7B4tovsBOxc   \n",
       "2    0.339   83.389  audio_features  59nOXPmaKlBfGMDeOVGrIK   \n",
       "3    0.901  114.996  audio_features  1qEmFfgcLObUfQm0j1W2CK   \n",
       "4    0.722  108.966  audio_features  1PckUlxKqWQs3RlWXVBLw3   \n",
       "\n",
       "                                    uri  \\\n",
       "0  spotify:track:4LRPiXqCikLlN15c3yImP7   \n",
       "1  spotify:track:1rDQ4oMwGJI7B4tovsBOxc   \n",
       "2  spotify:track:59nOXPmaKlBfGMDeOVGrIK   \n",
       "3  spotify:track:1qEmFfgcLObUfQm0j1W2CK   \n",
       "4  spotify:track:1PckUlxKqWQs3RlWXVBLw3   \n",
       "\n",
       "                                          track_href  \\\n",
       "0  https://api.spotify.com/v1/tracks/4LRPiXqCikLl...   \n",
       "1  https://api.spotify.com/v1/tracks/1rDQ4oMwGJI7...   \n",
       "2  https://api.spotify.com/v1/tracks/59nOXPmaKlBf...   \n",
       "3  https://api.spotify.com/v1/tracks/1qEmFfgcLObU...   \n",
       "4  https://api.spotify.com/v1/tracks/1PckUlxKqWQs...   \n",
       "\n",
       "                                        analysis_url duration_ms  \\\n",
       "0  https://api.spotify.com/v1/audio-analysis/4LRP...      167303   \n",
       "1  https://api.spotify.com/v1/audio-analysis/1rDQ...      173948   \n",
       "2  https://api.spotify.com/v1/audio-analysis/59nO...      189893   \n",
       "3  https://api.spotify.com/v1/audio-analysis/1qEm...      177955   \n",
       "4  https://api.spotify.com/v1/audio-analysis/1Pck...      191822   \n",
       "\n",
       "  time_signature  original_df  \n",
       "0              4          hot  \n",
       "1              4          hot  \n",
       "2              4          hot  \n",
       "3              4          hot  \n",
       "4              4          hot  \n",
       "\n",
       "[5 rows x 22 columns]"
      ]
     },
     "metadata": {},
     "output_type": "display_data"
    }
   ],
   "source": [
    "display(not_hot.head())\n",
    "display(top_100.head())"
   ]
  },
  {
   "cell_type": "code",
   "execution_count": 18,
   "id": "7c0f3b64",
   "metadata": {},
   "outputs": [
    {
     "data": {
      "text/html": [
       "<div>\n",
       "<style scoped>\n",
       "    .dataframe tbody tr th:only-of-type {\n",
       "        vertical-align: middle;\n",
       "    }\n",
       "\n",
       "    .dataframe tbody tr th {\n",
       "        vertical-align: top;\n",
       "    }\n",
       "\n",
       "    .dataframe thead th {\n",
       "        text-align: right;\n",
       "    }\n",
       "</style>\n",
       "<table border=\"1\" class=\"dataframe\">\n",
       "  <thead>\n",
       "    <tr style=\"text-align: right;\">\n",
       "      <th></th>\n",
       "      <th>title</th>\n",
       "      <th>artist</th>\n",
       "      <th>id</th>\n",
       "      <th>danceability</th>\n",
       "      <th>energy</th>\n",
       "      <th>key</th>\n",
       "      <th>loudness</th>\n",
       "      <th>mode</th>\n",
       "      <th>speechiness</th>\n",
       "      <th>acousticness</th>\n",
       "      <th>...</th>\n",
       "      <th>valence</th>\n",
       "      <th>tempo</th>\n",
       "      <th>type</th>\n",
       "      <th>id.1</th>\n",
       "      <th>uri</th>\n",
       "      <th>track_href</th>\n",
       "      <th>analysis_url</th>\n",
       "      <th>duration_ms</th>\n",
       "      <th>time_signature</th>\n",
       "      <th>original_df</th>\n",
       "    </tr>\n",
       "  </thead>\n",
       "  <tbody>\n",
       "    <tr>\n",
       "      <th>0</th>\n",
       "      <td>Abere izate ukatua</td>\n",
       "      <td>Su ta gar</td>\n",
       "      <td>4tMbI2qkOIfc1kzsbw7X64</td>\n",
       "      <td>0.393</td>\n",
       "      <td>0.967</td>\n",
       "      <td>10.0</td>\n",
       "      <td>-5.775</td>\n",
       "      <td>0.0</td>\n",
       "      <td>0.0511</td>\n",
       "      <td>0.000010</td>\n",
       "      <td>...</td>\n",
       "      <td>0.469</td>\n",
       "      <td>98.016</td>\n",
       "      <td>audio_features</td>\n",
       "      <td>4tMbI2qkOIfc1kzsbw7X64</td>\n",
       "      <td>spotify:track:4tMbI2qkOIfc1kzsbw7X64</td>\n",
       "      <td>https://api.spotify.com/v1/tracks/4tMbI2qkOIfc...</td>\n",
       "      <td>https://api.spotify.com/v1/audio-analysis/4tMb...</td>\n",
       "      <td>243973.0</td>\n",
       "      <td>4.0</td>\n",
       "      <td>not_hot</td>\n",
       "    </tr>\n",
       "    <tr>\n",
       "      <th>1</th>\n",
       "      <td>Viva Forever (Tony Rich Remix Instrumental)</td>\n",
       "      <td>Spice Girls</td>\n",
       "      <td>1dehm5fgmBVxxur0YnZLMq</td>\n",
       "      <td>0.809</td>\n",
       "      <td>0.478</td>\n",
       "      <td>10.0</td>\n",
       "      <td>-7.371</td>\n",
       "      <td>0.0</td>\n",
       "      <td>0.1870</td>\n",
       "      <td>0.010600</td>\n",
       "      <td>...</td>\n",
       "      <td>0.594</td>\n",
       "      <td>168.897</td>\n",
       "      <td>audio_features</td>\n",
       "      <td>1dehm5fgmBVxxur0YnZLMq</td>\n",
       "      <td>spotify:track:1dehm5fgmBVxxur0YnZLMq</td>\n",
       "      <td>https://api.spotify.com/v1/tracks/1dehm5fgmBVx...</td>\n",
       "      <td>https://api.spotify.com/v1/audio-analysis/1deh...</td>\n",
       "      <td>342733.0</td>\n",
       "      <td>4.0</td>\n",
       "      <td>not_hot</td>\n",
       "    </tr>\n",
       "    <tr>\n",
       "      <th>2</th>\n",
       "      <td>Think About That</td>\n",
       "      <td>Dandy Livingstone</td>\n",
       "      <td>5vWscUwJJSsIvKR0YJa8cV</td>\n",
       "      <td>0.759</td>\n",
       "      <td>0.654</td>\n",
       "      <td>0.0</td>\n",
       "      <td>-8.462</td>\n",
       "      <td>1.0</td>\n",
       "      <td>0.0523</td>\n",
       "      <td>0.134000</td>\n",
       "      <td>...</td>\n",
       "      <td>0.664</td>\n",
       "      <td>95.544</td>\n",
       "      <td>audio_features</td>\n",
       "      <td>5vWscUwJJSsIvKR0YJa8cV</td>\n",
       "      <td>spotify:track:5vWscUwJJSsIvKR0YJa8cV</td>\n",
       "      <td>https://api.spotify.com/v1/tracks/5vWscUwJJSsI...</td>\n",
       "      <td>https://api.spotify.com/v1/audio-analysis/5vWs...</td>\n",
       "      <td>172947.0</td>\n",
       "      <td>4.0</td>\n",
       "      <td>not_hot</td>\n",
       "    </tr>\n",
       "    <tr>\n",
       "      <th>3</th>\n",
       "      <td>That Groovy Shingaling</td>\n",
       "      <td>Orquesta Harlow</td>\n",
       "      <td>2kTZKa7J0ykBpmzs5TMjWT</td>\n",
       "      <td>0.454</td>\n",
       "      <td>0.481</td>\n",
       "      <td>10.0</td>\n",
       "      <td>-10.895</td>\n",
       "      <td>1.0</td>\n",
       "      <td>0.0318</td>\n",
       "      <td>0.708000</td>\n",
       "      <td>...</td>\n",
       "      <td>0.757</td>\n",
       "      <td>122.281</td>\n",
       "      <td>audio_features</td>\n",
       "      <td>2kTZKa7J0ykBpmzs5TMjWT</td>\n",
       "      <td>spotify:track:2kTZKa7J0ykBpmzs5TMjWT</td>\n",
       "      <td>https://api.spotify.com/v1/tracks/2kTZKa7J0ykB...</td>\n",
       "      <td>https://api.spotify.com/v1/audio-analysis/2kTZ...</td>\n",
       "      <td>135187.0</td>\n",
       "      <td>4.0</td>\n",
       "      <td>not_hot</td>\n",
       "    </tr>\n",
       "    <tr>\n",
       "      <th>4</th>\n",
       "      <td>Take It Off</td>\n",
       "      <td>King B.A.V.</td>\n",
       "      <td>77ihANWN9MuLGim3ZtYIti</td>\n",
       "      <td>0.706</td>\n",
       "      <td>0.580</td>\n",
       "      <td>7.0</td>\n",
       "      <td>-3.692</td>\n",
       "      <td>0.0</td>\n",
       "      <td>0.0423</td>\n",
       "      <td>0.000473</td>\n",
       "      <td>...</td>\n",
       "      <td>0.115</td>\n",
       "      <td>75.102</td>\n",
       "      <td>audio_features</td>\n",
       "      <td>77ihANWN9MuLGim3ZtYIti</td>\n",
       "      <td>spotify:track:77ihANWN9MuLGim3ZtYIti</td>\n",
       "      <td>https://api.spotify.com/v1/tracks/77ihANWN9MuL...</td>\n",
       "      <td>https://api.spotify.com/v1/audio-analysis/77ih...</td>\n",
       "      <td>244827.0</td>\n",
       "      <td>4.0</td>\n",
       "      <td>not_hot</td>\n",
       "    </tr>\n",
       "  </tbody>\n",
       "</table>\n",
       "<p>5 rows × 22 columns</p>\n",
       "</div>"
      ],
      "text/plain": [
       "                                         title             artist  \\\n",
       "0                           Abere izate ukatua          Su ta gar   \n",
       "1  Viva Forever (Tony Rich Remix Instrumental)        Spice Girls   \n",
       "2                             Think About That  Dandy Livingstone   \n",
       "3                       That Groovy Shingaling    Orquesta Harlow   \n",
       "4                                  Take It Off        King B.A.V.   \n",
       "\n",
       "                       id  danceability  energy   key  loudness  mode  \\\n",
       "0  4tMbI2qkOIfc1kzsbw7X64         0.393   0.967  10.0    -5.775   0.0   \n",
       "1  1dehm5fgmBVxxur0YnZLMq         0.809   0.478  10.0    -7.371   0.0   \n",
       "2  5vWscUwJJSsIvKR0YJa8cV         0.759   0.654   0.0    -8.462   1.0   \n",
       "3  2kTZKa7J0ykBpmzs5TMjWT         0.454   0.481  10.0   -10.895   1.0   \n",
       "4  77ihANWN9MuLGim3ZtYIti         0.706   0.580   7.0    -3.692   0.0   \n",
       "\n",
       "   speechiness  acousticness  ...  valence    tempo            type  \\\n",
       "0       0.0511      0.000010  ...    0.469   98.016  audio_features   \n",
       "1       0.1870      0.010600  ...    0.594  168.897  audio_features   \n",
       "2       0.0523      0.134000  ...    0.664   95.544  audio_features   \n",
       "3       0.0318      0.708000  ...    0.757  122.281  audio_features   \n",
       "4       0.0423      0.000473  ...    0.115   75.102  audio_features   \n",
       "\n",
       "                     id.1                                   uri  \\\n",
       "0  4tMbI2qkOIfc1kzsbw7X64  spotify:track:4tMbI2qkOIfc1kzsbw7X64   \n",
       "1  1dehm5fgmBVxxur0YnZLMq  spotify:track:1dehm5fgmBVxxur0YnZLMq   \n",
       "2  5vWscUwJJSsIvKR0YJa8cV  spotify:track:5vWscUwJJSsIvKR0YJa8cV   \n",
       "3  2kTZKa7J0ykBpmzs5TMjWT  spotify:track:2kTZKa7J0ykBpmzs5TMjWT   \n",
       "4  77ihANWN9MuLGim3ZtYIti  spotify:track:77ihANWN9MuLGim3ZtYIti   \n",
       "\n",
       "                                          track_href  \\\n",
       "0  https://api.spotify.com/v1/tracks/4tMbI2qkOIfc...   \n",
       "1  https://api.spotify.com/v1/tracks/1dehm5fgmBVx...   \n",
       "2  https://api.spotify.com/v1/tracks/5vWscUwJJSsI...   \n",
       "3  https://api.spotify.com/v1/tracks/2kTZKa7J0ykB...   \n",
       "4  https://api.spotify.com/v1/tracks/77ihANWN9MuL...   \n",
       "\n",
       "                                        analysis_url duration_ms  \\\n",
       "0  https://api.spotify.com/v1/audio-analysis/4tMb...    243973.0   \n",
       "1  https://api.spotify.com/v1/audio-analysis/1deh...    342733.0   \n",
       "2  https://api.spotify.com/v1/audio-analysis/5vWs...    172947.0   \n",
       "3  https://api.spotify.com/v1/audio-analysis/2kTZ...    135187.0   \n",
       "4  https://api.spotify.com/v1/audio-analysis/77ih...    244827.0   \n",
       "\n",
       "  time_signature  original_df  \n",
       "0            4.0      not_hot  \n",
       "1            4.0      not_hot  \n",
       "2            4.0      not_hot  \n",
       "3            4.0      not_hot  \n",
       "4            4.0      not_hot  \n",
       "\n",
       "[5 rows x 22 columns]"
      ]
     },
     "execution_count": 18,
     "metadata": {},
     "output_type": "execute_result"
    }
   ],
   "source": [
    "# Now we can concatenate them together, vertically :-) \n",
    "df_songs = pd.concat([not_hot, top_100], axis = 0)\n",
    "df_songs.head()"
   ]
  },
  {
   "cell_type": "code",
   "execution_count": 19,
   "id": "06235ee6",
   "metadata": {},
   "outputs": [
    {
     "data": {
      "text/plain": [
       "(3676, 22)"
      ]
     },
     "execution_count": 19,
     "metadata": {},
     "output_type": "execute_result"
    }
   ],
   "source": [
    "df_songs.shape"
   ]
  },
  {
   "cell_type": "code",
   "execution_count": 20,
   "id": "b7dd34a4",
   "metadata": {},
   "outputs": [],
   "source": [
    "# Dropping columns we don't need for the models :\n",
    "df_songs_for_model = df_songs.drop(['title', 'artist', 'id', 'key', 'mode', 'type', 'id.1', 'uri', 'track_href', \n",
    "                                    'analysis_url', 'duration_ms', 'time_signature', 'original_df'], axis = 1)"
   ]
  },
  {
   "cell_type": "code",
   "execution_count": 22,
   "id": "d26cbdbb",
   "metadata": {},
   "outputs": [
    {
     "data": {
      "text/plain": [
       "Index(['danceability', 'energy', 'loudness', 'speechiness', 'acousticness',\n",
       "       'instrumentalness', 'liveness', 'valence', 'tempo'],\n",
       "      dtype='object')"
      ]
     },
     "execution_count": 22,
     "metadata": {},
     "output_type": "execute_result"
    }
   ],
   "source": [
    "df_songs_for_model.columns"
   ]
  },
  {
   "cell_type": "markdown",
   "id": "0b058651",
   "metadata": {},
   "source": [
    "Now we can start working on our clustering models with this new dataframe"
   ]
  },
  {
   "cell_type": "markdown",
   "id": "b023e4e0",
   "metadata": {},
   "source": [
    "# Scaling Data"
   ]
  },
  {
   "cell_type": "code",
   "execution_count": 24,
   "id": "3c736ddc",
   "metadata": {},
   "outputs": [
    {
     "data": {
      "text/html": [
       "<div>\n",
       "<style scoped>\n",
       "    .dataframe tbody tr th:only-of-type {\n",
       "        vertical-align: middle;\n",
       "    }\n",
       "\n",
       "    .dataframe tbody tr th {\n",
       "        vertical-align: top;\n",
       "    }\n",
       "\n",
       "    .dataframe thead th {\n",
       "        text-align: right;\n",
       "    }\n",
       "</style>\n",
       "<table border=\"1\" class=\"dataframe\">\n",
       "  <thead>\n",
       "    <tr style=\"text-align: right;\">\n",
       "      <th></th>\n",
       "      <th>danceability</th>\n",
       "      <th>energy</th>\n",
       "      <th>loudness</th>\n",
       "      <th>speechiness</th>\n",
       "      <th>acousticness</th>\n",
       "      <th>instrumentalness</th>\n",
       "      <th>liveness</th>\n",
       "      <th>valence</th>\n",
       "      <th>tempo</th>\n",
       "    </tr>\n",
       "  </thead>\n",
       "  <tbody>\n",
       "    <tr>\n",
       "      <th>0</th>\n",
       "      <td>0.393</td>\n",
       "      <td>0.967</td>\n",
       "      <td>-5.775</td>\n",
       "      <td>0.0511</td>\n",
       "      <td>0.000010</td>\n",
       "      <td>0.0013</td>\n",
       "      <td>0.147</td>\n",
       "      <td>0.469</td>\n",
       "      <td>98.016</td>\n",
       "    </tr>\n",
       "    <tr>\n",
       "      <th>1</th>\n",
       "      <td>0.809</td>\n",
       "      <td>0.478</td>\n",
       "      <td>-7.371</td>\n",
       "      <td>0.1870</td>\n",
       "      <td>0.010600</td>\n",
       "      <td>0.8610</td>\n",
       "      <td>0.125</td>\n",
       "      <td>0.594</td>\n",
       "      <td>168.897</td>\n",
       "    </tr>\n",
       "    <tr>\n",
       "      <th>2</th>\n",
       "      <td>0.759</td>\n",
       "      <td>0.654</td>\n",
       "      <td>-8.462</td>\n",
       "      <td>0.0523</td>\n",
       "      <td>0.134000</td>\n",
       "      <td>0.2340</td>\n",
       "      <td>0.113</td>\n",
       "      <td>0.664</td>\n",
       "      <td>95.544</td>\n",
       "    </tr>\n",
       "    <tr>\n",
       "      <th>3</th>\n",
       "      <td>0.454</td>\n",
       "      <td>0.481</td>\n",
       "      <td>-10.895</td>\n",
       "      <td>0.0318</td>\n",
       "      <td>0.708000</td>\n",
       "      <td>0.2540</td>\n",
       "      <td>0.158</td>\n",
       "      <td>0.757</td>\n",
       "      <td>122.281</td>\n",
       "    </tr>\n",
       "    <tr>\n",
       "      <th>4</th>\n",
       "      <td>0.706</td>\n",
       "      <td>0.580</td>\n",
       "      <td>-3.692</td>\n",
       "      <td>0.0423</td>\n",
       "      <td>0.000473</td>\n",
       "      <td>0.0000</td>\n",
       "      <td>0.256</td>\n",
       "      <td>0.115</td>\n",
       "      <td>75.102</td>\n",
       "    </tr>\n",
       "  </tbody>\n",
       "</table>\n",
       "</div>"
      ],
      "text/plain": [
       "   danceability  energy  loudness  speechiness  acousticness  \\\n",
       "0         0.393   0.967    -5.775       0.0511      0.000010   \n",
       "1         0.809   0.478    -7.371       0.1870      0.010600   \n",
       "2         0.759   0.654    -8.462       0.0523      0.134000   \n",
       "3         0.454   0.481   -10.895       0.0318      0.708000   \n",
       "4         0.706   0.580    -3.692       0.0423      0.000473   \n",
       "\n",
       "   instrumentalness  liveness  valence    tempo  \n",
       "0            0.0013     0.147    0.469   98.016  \n",
       "1            0.8610     0.125    0.594  168.897  \n",
       "2            0.2340     0.113    0.664   95.544  \n",
       "3            0.2540     0.158    0.757  122.281  \n",
       "4            0.0000     0.256    0.115   75.102  "
      ]
     },
     "metadata": {},
     "output_type": "display_data"
    },
    {
     "name": "stdout",
     "output_type": "stream",
     "text": [
      "\n"
     ]
    },
    {
     "data": {
      "text/html": [
       "<div>\n",
       "<style scoped>\n",
       "    .dataframe tbody tr th:only-of-type {\n",
       "        vertical-align: middle;\n",
       "    }\n",
       "\n",
       "    .dataframe tbody tr th {\n",
       "        vertical-align: top;\n",
       "    }\n",
       "\n",
       "    .dataframe thead th {\n",
       "        text-align: right;\n",
       "    }\n",
       "</style>\n",
       "<table border=\"1\" class=\"dataframe\">\n",
       "  <thead>\n",
       "    <tr style=\"text-align: right;\">\n",
       "      <th></th>\n",
       "      <th>danceability</th>\n",
       "      <th>energy</th>\n",
       "      <th>loudness</th>\n",
       "      <th>speechiness</th>\n",
       "      <th>acousticness</th>\n",
       "      <th>instrumentalness</th>\n",
       "      <th>liveness</th>\n",
       "      <th>valence</th>\n",
       "      <th>tempo</th>\n",
       "    </tr>\n",
       "  </thead>\n",
       "  <tbody>\n",
       "    <tr>\n",
       "      <th>0</th>\n",
       "      <td>-0.871333</td>\n",
       "      <td>1.364469</td>\n",
       "      <td>0.777323</td>\n",
       "      <td>-0.315499</td>\n",
       "      <td>-0.925261</td>\n",
       "      <td>-0.632742</td>\n",
       "      <td>-0.344534</td>\n",
       "      <td>-0.162416</td>\n",
       "      <td>-0.789471</td>\n",
       "    </tr>\n",
       "    <tr>\n",
       "      <th>1</th>\n",
       "      <td>1.479125</td>\n",
       "      <td>-0.566999</td>\n",
       "      <td>0.441499</td>\n",
       "      <td>0.873749</td>\n",
       "      <td>-0.894034</td>\n",
       "      <td>1.894959</td>\n",
       "      <td>-0.460769</td>\n",
       "      <td>0.309879</td>\n",
       "      <td>1.661844</td>\n",
       "    </tr>\n",
       "    <tr>\n",
       "      <th>2</th>\n",
       "      <td>1.196618</td>\n",
       "      <td>0.128171</td>\n",
       "      <td>0.211935</td>\n",
       "      <td>-0.304998</td>\n",
       "      <td>-0.530161</td>\n",
       "      <td>0.051446</td>\n",
       "      <td>-0.524170</td>\n",
       "      <td>0.574364</td>\n",
       "      <td>-0.874961</td>\n",
       "    </tr>\n",
       "    <tr>\n",
       "      <th>3</th>\n",
       "      <td>-0.526674</td>\n",
       "      <td>-0.555150</td>\n",
       "      <td>-0.300008</td>\n",
       "      <td>-0.484392</td>\n",
       "      <td>1.162409</td>\n",
       "      <td>0.110250</td>\n",
       "      <td>-0.286417</td>\n",
       "      <td>0.925752</td>\n",
       "      <td>0.049698</td>\n",
       "    </tr>\n",
       "    <tr>\n",
       "      <th>4</th>\n",
       "      <td>0.897160</td>\n",
       "      <td>-0.164116</td>\n",
       "      <td>1.215620</td>\n",
       "      <td>-0.392507</td>\n",
       "      <td>-0.923896</td>\n",
       "      <td>-0.636564</td>\n",
       "      <td>0.231358</td>\n",
       "      <td>-1.499955</td>\n",
       "      <td>-1.581918</td>\n",
       "    </tr>\n",
       "  </tbody>\n",
       "</table>\n",
       "</div>"
      ],
      "text/plain": [
       "   danceability    energy  loudness  speechiness  acousticness  \\\n",
       "0     -0.871333  1.364469  0.777323    -0.315499     -0.925261   \n",
       "1      1.479125 -0.566999  0.441499     0.873749     -0.894034   \n",
       "2      1.196618  0.128171  0.211935    -0.304998     -0.530161   \n",
       "3     -0.526674 -0.555150 -0.300008    -0.484392      1.162409   \n",
       "4      0.897160 -0.164116  1.215620    -0.392507     -0.923896   \n",
       "\n",
       "   instrumentalness  liveness   valence     tempo  \n",
       "0         -0.632742 -0.344534 -0.162416 -0.789471  \n",
       "1          1.894959 -0.460769  0.309879  1.661844  \n",
       "2          0.051446 -0.524170  0.574364 -0.874961  \n",
       "3          0.110250 -0.286417  0.925752  0.049698  \n",
       "4         -0.636564  0.231358 -1.499955 -1.581918  "
      ]
     },
     "metadata": {},
     "output_type": "display_data"
    }
   ],
   "source": [
    "# Scaling data with tandardscaler :\n",
    "\n",
    "X = df_songs_for_model\n",
    "\n",
    "scaler = StandardScaler()\n",
    "scaler.fit(X) # fitting with 9 features\n",
    "X_scaled = scaler.transform(X)\n",
    "\n",
    "# saving the scaler in a file \n",
    "#import pickle \n",
    "\n",
    "#filename = \"/Users/macbook/Documents/IronHack/Functions_saved/Models/standardscaler_9_features.pickle\" \n",
    "#with open(filename, \"wb\") as file:\n",
    "        #pickle.dump(scaler,file) \n",
    "\n",
    "# putting our variable X into a dataframe \n",
    "df_scaled = pd.DataFrame(X_scaled, columns = X.columns)\n",
    "display(X.head())\n",
    "print()\n",
    "display(df_scaled.head())"
   ]
  },
  {
   "cell_type": "markdown",
   "id": "1f2d6528",
   "metadata": {},
   "source": [
    "# Clustering with K-Means"
   ]
  },
  {
   "cell_type": "code",
   "execution_count": 25,
   "id": "3df53861",
   "metadata": {},
   "outputs": [
    {
     "data": {
      "text/html": [
       "<style>#sk-container-id-1 {color: black;background-color: white;}#sk-container-id-1 pre{padding: 0;}#sk-container-id-1 div.sk-toggleable {background-color: white;}#sk-container-id-1 label.sk-toggleable__label {cursor: pointer;display: block;width: 100%;margin-bottom: 0;padding: 0.3em;box-sizing: border-box;text-align: center;}#sk-container-id-1 label.sk-toggleable__label-arrow:before {content: \"▸\";float: left;margin-right: 0.25em;color: #696969;}#sk-container-id-1 label.sk-toggleable__label-arrow:hover:before {color: black;}#sk-container-id-1 div.sk-estimator:hover label.sk-toggleable__label-arrow:before {color: black;}#sk-container-id-1 div.sk-toggleable__content {max-height: 0;max-width: 0;overflow: hidden;text-align: left;background-color: #f0f8ff;}#sk-container-id-1 div.sk-toggleable__content pre {margin: 0.2em;color: black;border-radius: 0.25em;background-color: #f0f8ff;}#sk-container-id-1 input.sk-toggleable__control:checked~div.sk-toggleable__content {max-height: 200px;max-width: 100%;overflow: auto;}#sk-container-id-1 input.sk-toggleable__control:checked~label.sk-toggleable__label-arrow:before {content: \"▾\";}#sk-container-id-1 div.sk-estimator input.sk-toggleable__control:checked~label.sk-toggleable__label {background-color: #d4ebff;}#sk-container-id-1 div.sk-label input.sk-toggleable__control:checked~label.sk-toggleable__label {background-color: #d4ebff;}#sk-container-id-1 input.sk-hidden--visually {border: 0;clip: rect(1px 1px 1px 1px);clip: rect(1px, 1px, 1px, 1px);height: 1px;margin: -1px;overflow: hidden;padding: 0;position: absolute;width: 1px;}#sk-container-id-1 div.sk-estimator {font-family: monospace;background-color: #f0f8ff;border: 1px dotted black;border-radius: 0.25em;box-sizing: border-box;margin-bottom: 0.5em;}#sk-container-id-1 div.sk-estimator:hover {background-color: #d4ebff;}#sk-container-id-1 div.sk-parallel-item::after {content: \"\";width: 100%;border-bottom: 1px solid gray;flex-grow: 1;}#sk-container-id-1 div.sk-label:hover label.sk-toggleable__label {background-color: #d4ebff;}#sk-container-id-1 div.sk-serial::before {content: \"\";position: absolute;border-left: 1px solid gray;box-sizing: border-box;top: 0;bottom: 0;left: 50%;z-index: 0;}#sk-container-id-1 div.sk-serial {display: flex;flex-direction: column;align-items: center;background-color: white;padding-right: 0.2em;padding-left: 0.2em;position: relative;}#sk-container-id-1 div.sk-item {position: relative;z-index: 1;}#sk-container-id-1 div.sk-parallel {display: flex;align-items: stretch;justify-content: center;background-color: white;position: relative;}#sk-container-id-1 div.sk-item::before, #sk-container-id-1 div.sk-parallel-item::before {content: \"\";position: absolute;border-left: 1px solid gray;box-sizing: border-box;top: 0;bottom: 0;left: 50%;z-index: -1;}#sk-container-id-1 div.sk-parallel-item {display: flex;flex-direction: column;z-index: 1;position: relative;background-color: white;}#sk-container-id-1 div.sk-parallel-item:first-child::after {align-self: flex-end;width: 50%;}#sk-container-id-1 div.sk-parallel-item:last-child::after {align-self: flex-start;width: 50%;}#sk-container-id-1 div.sk-parallel-item:only-child::after {width: 0;}#sk-container-id-1 div.sk-dashed-wrapped {border: 1px dashed gray;margin: 0 0.4em 0.5em 0.4em;box-sizing: border-box;padding-bottom: 0.4em;background-color: white;}#sk-container-id-1 div.sk-label label {font-family: monospace;font-weight: bold;display: inline-block;line-height: 1.2em;}#sk-container-id-1 div.sk-label-container {text-align: center;}#sk-container-id-1 div.sk-container {/* jupyter's `normalize.less` sets `[hidden] { display: none; }` but bootstrap.min.css set `[hidden] { display: none !important; }` so we also need the `!important` here to be able to override the default hidden behavior on the sphinx rendered scikit-learn.org. See: https://github.com/scikit-learn/scikit-learn/issues/21755 */display: inline-block !important;position: relative;}#sk-container-id-1 div.sk-text-repr-fallback {display: none;}</style><div id=\"sk-container-id-1\" class=\"sk-top-container\"><div class=\"sk-text-repr-fallback\"><pre>KMeans(n_clusters=30, random_state=12)</pre><b>In a Jupyter environment, please rerun this cell to show the HTML representation or trust the notebook. <br />On GitHub, the HTML representation is unable to render, please try loading this page with nbviewer.org.</b></div><div class=\"sk-container\" hidden><div class=\"sk-item\"><div class=\"sk-estimator sk-toggleable\"><input class=\"sk-toggleable__control sk-hidden--visually\" id=\"sk-estimator-id-1\" type=\"checkbox\" checked><label for=\"sk-estimator-id-1\" class=\"sk-toggleable__label sk-toggleable__label-arrow\">KMeans</label><div class=\"sk-toggleable__content\"><pre>KMeans(n_clusters=30, random_state=12)</pre></div></div></div></div></div>"
      ],
      "text/plain": [
       "KMeans(n_clusters=30, random_state=12)"
      ]
     },
     "execution_count": 25,
     "metadata": {},
     "output_type": "execute_result"
    }
   ],
   "source": [
    "# iterating on the numbers of clusters to see how k_means react\n",
    "kmeans = KMeans(n_clusters=30, random_state=12)\n",
    "kmeans.fit(df_scaled)"
   ]
  },
  {
   "cell_type": "code",
   "execution_count": 26,
   "id": "2224172d",
   "metadata": {},
   "outputs": [
    {
     "data": {
      "text/plain": [
       "0      36\n",
       "1     221\n",
       "2     161\n",
       "3     144\n",
       "4     226\n",
       "5      55\n",
       "6     187\n",
       "7      77\n",
       "8     144\n",
       "9      79\n",
       "10    105\n",
       "11     83\n",
       "12    156\n",
       "13    161\n",
       "14    175\n",
       "15    169\n",
       "16     33\n",
       "17     73\n",
       "18    191\n",
       "19     74\n",
       "20    137\n",
       "21    203\n",
       "22    156\n",
       "23     87\n",
       "24    135\n",
       "25     66\n",
       "26     48\n",
       "27     66\n",
       "28    104\n",
       "29    124\n",
       "dtype: int64"
      ]
     },
     "execution_count": 26,
     "metadata": {},
     "output_type": "execute_result"
    }
   ],
   "source": [
    "# checking clusters\n",
    "clusters = kmeans.predict(df_scaled)\n",
    "pd.Series(clusters).value_counts().sort_index()"
   ]
  },
  {
   "cell_type": "code",
   "execution_count": 27,
   "id": "3f4b9d96",
   "metadata": {},
   "outputs": [
    {
     "data": {
      "text/plain": [
       "9785.176628035644"
      ]
     },
     "execution_count": 27,
     "metadata": {},
     "output_type": "execute_result"
    }
   ],
   "source": [
    "# computing inertia to check the performance :\n",
    "kmeans.inertia_"
   ]
  },
  {
   "cell_type": "raw",
   "id": "daf81667",
   "metadata": {},
   "source": [
    "I tried many numbers of clusters, the more clusters we create, the lower inertia is... Let's use a plot method to choose the best k for our model !"
   ]
  },
  {
   "cell_type": "code",
   "execution_count": 28,
   "id": "bdb5e9fe",
   "metadata": {},
   "outputs": [
    {
     "name": "stdout",
     "output_type": "stream",
     "text": [
      "Training a K-Means model with 2 neighbours! \n",
      "\n",
      "\n",
      "Training a K-Means model with 3 neighbours! \n",
      "\n",
      "\n",
      "Training a K-Means model with 4 neighbours! \n",
      "\n",
      "\n",
      "Training a K-Means model with 5 neighbours! \n",
      "\n",
      "\n",
      "Training a K-Means model with 6 neighbours! \n",
      "\n",
      "\n",
      "Training a K-Means model with 7 neighbours! \n",
      "\n",
      "\n",
      "Training a K-Means model with 8 neighbours! \n",
      "\n",
      "\n",
      "Training a K-Means model with 9 neighbours! \n",
      "\n",
      "\n",
      "Training a K-Means model with 10 neighbours! \n",
      "\n",
      "\n",
      "Training a K-Means model with 11 neighbours! \n",
      "\n",
      "\n",
      "Training a K-Means model with 12 neighbours! \n",
      "\n",
      "\n",
      "Training a K-Means model with 13 neighbours! \n",
      "\n",
      "\n",
      "Training a K-Means model with 14 neighbours! \n",
      "\n",
      "\n",
      "Training a K-Means model with 15 neighbours! \n",
      "\n",
      "\n",
      "Training a K-Means model with 16 neighbours! \n",
      "\n",
      "\n",
      "Training a K-Means model with 17 neighbours! \n",
      "\n",
      "\n",
      "Training a K-Means model with 18 neighbours! \n",
      "\n",
      "\n",
      "Training a K-Means model with 19 neighbours! \n",
      "\n",
      "\n",
      "Training a K-Means model with 20 neighbours! \n",
      "\n",
      "\n",
      "Training a K-Means model with 21 neighbours! \n",
      "\n",
      "\n",
      "Training a K-Means model with 22 neighbours! \n",
      "\n",
      "\n",
      "Training a K-Means model with 23 neighbours! \n",
      "\n",
      "\n",
      "Training a K-Means model with 24 neighbours! \n",
      "\n",
      "\n",
      "Training a K-Means model with 25 neighbours! \n",
      "\n",
      "\n",
      "Training a K-Means model with 26 neighbours! \n",
      "\n",
      "\n",
      "Training a K-Means model with 27 neighbours! \n",
      "\n",
      "\n",
      "Training a K-Means model with 28 neighbours! \n",
      "\n",
      "\n",
      "Training a K-Means model with 29 neighbours! \n",
      "\n",
      "\n"
     ]
    },
    {
     "data": {
      "text/plain": [
       "Text(0.5, 1.0, 'Silhouette Method showing the optimal k')"
      ]
     },
     "execution_count": 28,
     "metadata": {},
     "output_type": "execute_result"
    },
    {
     "data": {
      "image/png": "[encoded data removed]",
      "text/plain": [
       "<Figure size 1152x576 with 2 Axes>"
      ]
     },
     "metadata": {
      "needs_background": "light"
     },
     "output_type": "display_data"
    }
   ],
   "source": [
    "# Choosing the best k\n",
    "K = range(2, 30)\n",
    "inertia = []\n",
    "silhouette = []\n",
    "\n",
    "for k in K:\n",
    "    print(\"Training a K-Means model with {} neighbours! \".format(k))\n",
    "    print()\n",
    "    kmeans = KMeans(n_clusters=k,\n",
    "                    random_state=12)  \n",
    "    kmeans.fit(df_scaled)\n",
    "    \n",
    "    #filename = \"/Users/macbook/Documents/IronHack/Functions_saved/Models/k_means/kmeans_\" + str(k) + \".pickle\" # Path with filename\n",
    "    #with open(filename, \"wb\") as file:\n",
    "        #pickle.dump(kmeans,file)\n",
    "    inertia.append(kmeans.inertia_)\n",
    "    silhouette.append(silhouette_score(df_scaled, kmeans.predict(df_scaled)))\n",
    "    print()\n",
    "\n",
    "\n",
    "import numpy as np\n",
    "import matplotlib.pyplot as plt\n",
    "%matplotlib inline\n",
    "\n",
    "fig, ax = plt.subplots(1,2,figsize=(16,8))\n",
    "ax[0].plot(K, inertia, 'bx-')\n",
    "ax[0].set_xlabel('k')\n",
    "ax[0].set_ylabel('inertia')\n",
    "ax[0].set_xticks(np.arange(min(K), max(K)+1, 1.0))\n",
    "ax[0].set_title('Elbow Method showing the optimal k')\n",
    "ax[1].plot(K, silhouette, 'bx-')\n",
    "ax[1].set_xlabel('k')\n",
    "ax[1].set_ylabel('silhouette score')\n",
    "ax[1].set_xticks(np.arange(min(K), max(K)+1, 1.0))\n",
    "ax[1].set_title('Silhouette Method showing the optimal k')"
   ]
  },
  {
   "cell_type": "raw",
   "id": "2e9d97e0",
   "metadata": {},
   "source": [
    "On the elbow method, it seems to be an elbow for k=6, k = 11, k=20, k=22 and k=26\n",
    "In the silhouette method : k = 3 or k=6, k=11, k=21, k=26"
   ]
  },
  {
   "cell_type": "code",
   "execution_count": 93,
   "id": "0fdf1be9",
   "metadata": {},
   "outputs": [
    {
     "data": {
      "text/html": [
       "<style>#sk-container-id-9 {color: black;background-color: white;}#sk-container-id-9 pre{padding: 0;}#sk-container-id-9 div.sk-toggleable {background-color: white;}#sk-container-id-9 label.sk-toggleable__label {cursor: pointer;display: block;width: 100%;margin-bottom: 0;padding: 0.3em;box-sizing: border-box;text-align: center;}#sk-container-id-9 label.sk-toggleable__label-arrow:before {content: \"▸\";float: left;margin-right: 0.25em;color: #696969;}#sk-container-id-9 label.sk-toggleable__label-arrow:hover:before {color: black;}#sk-container-id-9 div.sk-estimator:hover label.sk-toggleable__label-arrow:before {color: black;}#sk-container-id-9 div.sk-toggleable__content {max-height: 0;max-width: 0;overflow: hidden;text-align: left;background-color: #f0f8ff;}#sk-container-id-9 div.sk-toggleable__content pre {margin: 0.2em;color: black;border-radius: 0.25em;background-color: #f0f8ff;}#sk-container-id-9 input.sk-toggleable__control:checked~div.sk-toggleable__content {max-height: 200px;max-width: 100%;overflow: auto;}#sk-container-id-9 input.sk-toggleable__control:checked~label.sk-toggleable__label-arrow:before {content: \"▾\";}#sk-container-id-9 div.sk-estimator input.sk-toggleable__control:checked~label.sk-toggleable__label {background-color: #d4ebff;}#sk-container-id-9 div.sk-label input.sk-toggleable__control:checked~label.sk-toggleable__label {background-color: #d4ebff;}#sk-container-id-9 input.sk-hidden--visually {border: 0;clip: rect(1px 1px 1px 1px);clip: rect(1px, 1px, 1px, 1px);height: 1px;margin: -1px;overflow: hidden;padding: 0;position: absolute;width: 1px;}#sk-container-id-9 div.sk-estimator {font-family: monospace;background-color: #f0f8ff;border: 1px dotted black;border-radius: 0.25em;box-sizing: border-box;margin-bottom: 0.5em;}#sk-container-id-9 div.sk-estimator:hover {background-color: #d4ebff;}#sk-container-id-9 div.sk-parallel-item::after {content: \"\";width: 100%;border-bottom: 1px solid gray;flex-grow: 1;}#sk-container-id-9 div.sk-label:hover label.sk-toggleable__label {background-color: #d4ebff;}#sk-container-id-9 div.sk-serial::before {content: \"\";position: absolute;border-left: 1px solid gray;box-sizing: border-box;top: 0;bottom: 0;left: 50%;z-index: 0;}#sk-container-id-9 div.sk-serial {display: flex;flex-direction: column;align-items: center;background-color: white;padding-right: 0.2em;padding-left: 0.2em;position: relative;}#sk-container-id-9 div.sk-item {position: relative;z-index: 1;}#sk-container-id-9 div.sk-parallel {display: flex;align-items: stretch;justify-content: center;background-color: white;position: relative;}#sk-container-id-9 div.sk-item::before, #sk-container-id-9 div.sk-parallel-item::before {content: \"\";position: absolute;border-left: 1px solid gray;box-sizing: border-box;top: 0;bottom: 0;left: 50%;z-index: -1;}#sk-container-id-9 div.sk-parallel-item {display: flex;flex-direction: column;z-index: 1;position: relative;background-color: white;}#sk-container-id-9 div.sk-parallel-item:first-child::after {align-self: flex-end;width: 50%;}#sk-container-id-9 div.sk-parallel-item:last-child::after {align-self: flex-start;width: 50%;}#sk-container-id-9 div.sk-parallel-item:only-child::after {width: 0;}#sk-container-id-9 div.sk-dashed-wrapped {border: 1px dashed gray;margin: 0 0.4em 0.5em 0.4em;box-sizing: border-box;padding-bottom: 0.4em;background-color: white;}#sk-container-id-9 div.sk-label label {font-family: monospace;font-weight: bold;display: inline-block;line-height: 1.2em;}#sk-container-id-9 div.sk-label-container {text-align: center;}#sk-container-id-9 div.sk-container {/* jupyter's `normalize.less` sets `[hidden] { display: none; }` but bootstrap.min.css set `[hidden] { display: none !important; }` so we also need the `!important` here to be able to override the default hidden behavior on the sphinx rendered scikit-learn.org. See: https://github.com/scikit-learn/scikit-learn/issues/21755 */display: inline-block !important;position: relative;}#sk-container-id-9 div.sk-text-repr-fallback {display: none;}</style><div id=\"sk-container-id-9\" class=\"sk-top-container\"><div class=\"sk-text-repr-fallback\"><pre>KMeans(n_clusters=14, random_state=12)</pre><b>In a Jupyter environment, please rerun this cell to show the HTML representation or trust the notebook. <br />On GitHub, the HTML representation is unable to render, please try loading this page with nbviewer.org.</b></div><div class=\"sk-container\" hidden><div class=\"sk-item\"><div class=\"sk-estimator sk-toggleable\"><input class=\"sk-toggleable__control sk-hidden--visually\" id=\"sk-estimator-id-9\" type=\"checkbox\" checked><label for=\"sk-estimator-id-9\" class=\"sk-toggleable__label sk-toggleable__label-arrow\">KMeans</label><div class=\"sk-toggleable__content\"><pre>KMeans(n_clusters=14, random_state=12)</pre></div></div></div></div></div>"
      ],
      "text/plain": [
       "KMeans(n_clusters=14, random_state=12)"
      ]
     },
     "execution_count": 93,
     "metadata": {},
     "output_type": "execute_result"
    }
   ],
   "source": [
    "kmeans = KMeans(n_clusters=14, random_state=12)\n",
    "kmeans.fit(df_scaled)"
   ]
  },
  {
   "cell_type": "code",
   "execution_count": 94,
   "id": "054039df",
   "metadata": {},
   "outputs": [
    {
     "data": {
      "text/plain": [
       "0     211\n",
       "1     458\n",
       "2     295\n",
       "3     420\n",
       "4     109\n",
       "5     398\n",
       "6     343\n",
       "7     300\n",
       "8     203\n",
       "9      51\n",
       "10    181\n",
       "11    226\n",
       "12    224\n",
       "13    257\n",
       "dtype: int64"
      ]
     },
     "execution_count": 94,
     "metadata": {},
     "output_type": "execute_result"
    }
   ],
   "source": [
    "clusters1 = kmeans.predict(df_scaled)\n",
    "pd.Series(clusters1).value_counts().sort_index()"
   ]
  },
  {
   "cell_type": "code",
   "execution_count": 95,
   "id": "946e5da5",
   "metadata": {},
   "outputs": [
    {
     "data": {
      "text/plain": [
       "12867.648136412969"
      ]
     },
     "execution_count": 95,
     "metadata": {},
     "output_type": "execute_result"
    }
   ],
   "source": [
    "kmeans.inertia_"
   ]
  },
  {
   "cell_type": "code",
   "execution_count": 96,
   "id": "033554d0",
   "metadata": {},
   "outputs": [
    {
     "data": {
      "text/plain": [
       "0.14687919528913057"
      ]
     },
     "execution_count": 96,
     "metadata": {},
     "output_type": "execute_result"
    }
   ],
   "source": [
    "silhouette_score(df_scaled, kmeans.predict(df_scaled))"
   ]
  },
  {
   "cell_type": "code",
   "execution_count": 98,
   "id": "335c20bd",
   "metadata": {},
   "outputs": [
    {
     "data": {
      "text/plain": [
       "array([ 1,  6,  3,  2,  7, 10,  5, 13,  0, 11,  8,  9,  4, 12],\n",
       "      dtype=int32)"
      ]
     },
     "execution_count": 98,
     "metadata": {},
     "output_type": "execute_result"
    }
   ],
   "source": [
    "# Creating a column in my dataframe with the # of the cluster\n",
    "\n",
    "df_songs[\"kmean_cluster\"] = clusters1\n",
    "df_songs[\"kmean_cluster\"].unique()"
   ]
  },
  {
   "cell_type": "markdown",
   "id": "3edb8ce3",
   "metadata": {},
   "source": [
    "# Clustering with DBSCAN"
   ]
  },
  {
   "cell_type": "code",
   "execution_count": 75,
   "id": "03fbf217",
   "metadata": {},
   "outputs": [],
   "source": [
    "# FIRST TRY - We have 9 features --> min points = 18\n",
    "model = DBSCAN(eps=0.92, min_samples=18)  \n",
    "yhat = model.fit_predict(X)"
   ]
  },
  {
   "cell_type": "code",
   "execution_count": 76,
   "id": "acaf177c",
   "metadata": {},
   "outputs": [
    {
     "data": {
      "text/plain": [
       "array([-1,  0,  1])"
      ]
     },
     "execution_count": 76,
     "metadata": {},
     "output_type": "execute_result"
    }
   ],
   "source": [
    "clusters2 = np.unique(yhat)\n",
    "clusters2"
   ]
  },
  {
   "cell_type": "code",
   "execution_count": 40,
   "id": "972c9597",
   "metadata": {},
   "outputs": [
    {
     "name": "stdout",
     "output_type": "stream",
     "text": [
      "[[ 0.         70.90732916  3.69783221 ... 32.05542069 38.99226027\n",
      "  15.95431831]\n",
      " [70.90732916  0.         73.36428225 ... 38.85856128 32.10627997\n",
      "  86.8455749 ]\n",
      " [ 3.69783221 73.36428225  0.         ... 34.56907093 41.65126178\n",
      "  13.81117603]\n",
      " ...\n",
      " [32.05542069 38.85856128 34.56907093 ...  0.          7.31924665\n",
      "  47.99357908]\n",
      " [38.99226027 32.10627997 41.65126178 ...  7.31924665  0.\n",
      "  54.9052794 ]\n",
      " [15.95431831 86.8455749  13.81117603 ... 47.99357908 54.9052794\n",
      "   0.        ]]\n"
     ]
    }
   ],
   "source": [
    "# Finding the best epsilon :\n",
    "d = distance_matrix(X,X)\n",
    "print(d)"
   ]
  },
  {
   "cell_type": "code",
   "execution_count": 41,
   "id": "47b0eba7",
   "metadata": {},
   "outputs": [
    {
     "name": "stdout",
     "output_type": "stream",
     "text": [
      "[[  0.32986174   0.45782982   0.52233535 ... 115.66114299 117.07673411\n",
      "  121.58865564]\n",
      " [  0.86699826   0.90775813   1.062164   ... 169.02579333 169.10924864\n",
      "  169.65897964]\n",
      " [  0.33356962   0.40022927   0.42740211 ... 118.0525201  119.48001597\n",
      "  123.47107871]\n",
      " ...\n",
      " [  0.39223906   0.41263331   0.50872124 ... 130.26557231 130.39194318\n",
      "  131.14728805]\n",
      " [  0.70286217   0.85956981   0.97470609 ... 137.30827504 137.46231337\n",
      "  138.30958658]\n",
      " [  0.44127901   0.56904763   0.65870807 ... 131.59778756 133.01098341\n",
      "  137.26214571]]\n"
     ]
    }
   ],
   "source": [
    "d2 = np.sort(d)[:,1:]\n",
    "print(d2)"
   ]
  },
  {
   "cell_type": "code",
   "execution_count": 42,
   "id": "209cbf25",
   "metadata": {},
   "outputs": [
    {
     "name": "stdout",
     "output_type": "stream",
     "text": [
      "[0.58321511 1.24058128 0.440208   ... 0.52364411 1.06711981 0.83530772]\n"
     ]
    }
   ],
   "source": [
    "f = d2[:,3]\n",
    "print(f)"
   ]
  },
  {
   "cell_type": "code",
   "execution_count": 43,
   "id": "52308f11",
   "metadata": {},
   "outputs": [
    {
     "name": "stdout",
     "output_type": "stream",
     "text": [
      "\n",
      "[20.4365115  15.73565381 14.97631509 ...  0.4518197   0.44931331\n",
      "  0.440208  ]\n"
     ]
    }
   ],
   "source": [
    "f_final = np.sort(f)[::-1]\n",
    "print()\n",
    "print(f_final)"
   ]
  },
  {
   "cell_type": "code",
   "execution_count": 44,
   "id": "512e15be",
   "metadata": {},
   "outputs": [
    {
     "data": {
      "image/png": "[encoded data removed]",
      "text/plain": [
       "<Figure size 1152x576 with 1 Axes>"
      ]
     },
     "metadata": {
      "needs_background": "light"
     },
     "output_type": "display_data"
    }
   ],
   "source": [
    "# Plot distances\n",
    "plt.figure(figsize=(16,8))\n",
    "plt.scatter(range(1,len(f_final)+1), f_final)\n",
    "plt.xlabel(\"Points\")\n",
    "plt.ylabel(\"Distance\")\n",
    "# Current selected settings for DBSCAN\n",
    "xnew = 18\n",
    "ynew = f_final[18]\n",
    "plt.axvline(xnew, color='red', linewidth=0.5)\n",
    "plt.axhline(ynew, color='red', linewidth=0.5)\n",
    "plt.grid(b=True)\n",
    "plt.show()"
   ]
  },
  {
   "cell_type": "code",
   "execution_count": 45,
   "id": "6fdbef8c",
   "metadata": {},
   "outputs": [
    {
     "data": {
      "text/plain": [
       "7.356410405897705"
      ]
     },
     "execution_count": 45,
     "metadata": {},
     "output_type": "execute_result"
    }
   ],
   "source": [
    "ynew"
   ]
  },
  {
   "cell_type": "code",
   "execution_count": 128,
   "id": "d492dc06",
   "metadata": {},
   "outputs": [],
   "source": [
    "# trying with the right epsilon\n",
    "model = DBSCAN(eps=2.1, min_samples=18)  \n",
    "yhat = model.fit_predict(X)\n",
    "\n",
    "import pickle\n",
    "filename = \"/Users/macbook/Documents/IronHack/Functions_saved/Models/dbscan.pickle\" # Path with filename\n",
    "with open(filename, \"wb\") as file:\n",
    "    pickle.dump(model,file)"
   ]
  },
  {
   "cell_type": "code",
   "execution_count": 120,
   "id": "af6c6653",
   "metadata": {},
   "outputs": [
    {
     "data": {
      "text/plain": [
       "array([-1,  0,  1,  2,  3])"
      ]
     },
     "execution_count": 120,
     "metadata": {},
     "output_type": "execute_result"
    }
   ],
   "source": [
    "clusters2 = np.unique(yhat)\n",
    "clusters2"
   ]
  },
  {
   "cell_type": "code",
   "execution_count": 121,
   "id": "2e52ec7a",
   "metadata": {},
   "outputs": [
    {
     "data": {
      "text/plain": [
       "0.16228578255691867"
      ]
     },
     "execution_count": 121,
     "metadata": {},
     "output_type": "execute_result"
    }
   ],
   "source": [
    "silhouette_score(X, yhat)"
   ]
  },
  {
   "cell_type": "code",
   "execution_count": 125,
   "id": "b4408390",
   "metadata": {},
   "outputs": [
    {
     "data": {
      "text/plain": [
       "array([ 0,  1, -1,  2,  3])"
      ]
     },
     "execution_count": 125,
     "metadata": {},
     "output_type": "execute_result"
    }
   ],
   "source": [
    "# Creating a column in my dataframe with the # of the cluster\n",
    "\n",
    "df_songs[\"db_cluster\"] = yhat\n",
    "df_songs[\"db_cluster\"].unique()"
   ]
  },
  {
   "cell_type": "markdown",
   "id": "60ed232d",
   "metadata": {},
   "source": [
    "# Clustering with agglomerative clustering"
   ]
  },
  {
   "cell_type": "code",
   "execution_count": 130,
   "id": "d55e6cc1",
   "metadata": {},
   "outputs": [
    {
     "data": {
      "text/plain": [
       "array([3222, 2106, 2039, ...,    2,    1,    0])"
      ]
     },
     "execution_count": 130,
     "metadata": {},
     "output_type": "execute_result"
    }
   ],
   "source": [
    "aglo = AgglomerativeClustering(distance_threshold=0, n_clusters=None)\n",
    "clusters3 = aglo.fit_predict(df_scaled)\n",
    "clusters3"
   ]
  },
  {
   "cell_type": "code",
   "execution_count": 82,
   "id": "0a4f8249",
   "metadata": {},
   "outputs": [],
   "source": [
    "# plotting the model with dendrogram :\n",
    "def plot_dendrogram(model, **kwargs):\n",
    "    counts = np.zeros(model.children_.shape[0])\n",
    "    n_samples = len(model.labels_)\n",
    "    for i, merge in enumerate(model.children_):\n",
    "        current_count = 0\n",
    "        for child_idx in merge:\n",
    "            if child_idx < n_samples:\n",
    "                current_count += 1 \n",
    "            else:\n",
    "                current_count += counts[child_idx - n_samples]\n",
    "        counts[i] = current_count\n",
    "\n",
    "    linkage_matrix = np.column_stack(\n",
    "        [model.children_, model.distances_, counts]\n",
    "    ).astype(float)\n",
    "\n",
    "    dendrogram(linkage_matrix, **kwargs)"
   ]
  },
  {
   "cell_type": "code",
   "execution_count": 122,
   "id": "25a42805",
   "metadata": {},
   "outputs": [
    {
     "data": {
      "image/png": "[encoded data removed]",
      "text/plain": [
       "<Figure size 432x288 with 1 Axes>"
      ]
     },
     "metadata": {
      "needs_background": "light"
     },
     "output_type": "display_data"
    }
   ],
   "source": [
    "plt.title(\"Hierarchical Clustering Dendrogram\")\n",
    "plot_dendrogram(aglo, truncate_mode=\"level\", p=4)\n",
    "plt.xlabel(\"Number of points in node (or index of point if no parenthesis).\")\n",
    "plt.show()"
   ]
  },
  {
   "cell_type": "code",
   "execution_count": 129,
   "id": "754dc177",
   "metadata": {},
   "outputs": [],
   "source": [
    "df_songs.to_csv('final_df_songs.csv')"
   ]
  },
  {
   "cell_type": "code",
   "execution_count": null,
   "id": "d8aaa4f7",
   "metadata": {},
   "outputs": [],
   "source": []
  }
 ],
 "metadata": {
  "kernelspec": {
   "display_name": "Python 3 (ipykernel)",
   "language": "python",
   "name": "python3"
  },
  "language_info": {
   "codemirror_mode": {
    "name": "ipython",
    "version": 3
   },
   "file_extension": ".py",
   "mimetype": "text/x-python",
   "name": "python",
   "nbconvert_exporter": "python",
   "pygments_lexer": "ipython3",
   "version": "3.9.7"
  }
 },
 "nbformat": 4,
 "nbformat_minor": 5
}
